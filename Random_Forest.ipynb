{
 "cells": [
  {
   "cell_type": "code",
   "execution_count": 18,
   "id": "9a5dcec2",
   "metadata": {},
   "outputs": [],
   "source": [
    "import pandas as pd\n",
    "import numpy as np\n",
    "import matplotlib.pyplot as plt\n",
    "import seaborn as sns\n",
    "from sklearn.model_selection import train_test_split\n",
    "from sklearn.metrics import accuracy_score\n",
    "from sklearn.ensemble import RandomForestClassifier\n",
    "from sklearn.preprocessing import StandardScaler\n",
    "from sklearn.impute import SimpleImputer\n",
    "\n"
   ]
  },
  {
   "cell_type": "code",
   "execution_count": 36,
   "id": "20732f28",
   "metadata": {},
   "outputs": [
    {
     "name": "stderr",
     "output_type": "stream",
     "text": [
      "/tmp/ipykernel_7252/717276794.py:9: SettingWithCopyWarning: \n",
      "A value is trying to be set on a copy of a slice from a DataFrame\n",
      "\n",
      "See the caveats in the documentation: https://pandas.pydata.org/pandas-docs/stable/user_guide/indexing.html#returning-a-view-versus-a-copy\n",
      "  train.drop(['Artist Name','Track Name','Class'], axis=1, inplace=True)\n",
      "/tmp/ipykernel_7252/717276794.py:10: SettingWithCopyWarning: \n",
      "A value is trying to be set on a copy of a slice from a DataFrame\n",
      "\n",
      "See the caveats in the documentation: https://pandas.pydata.org/pandas-docs/stable/user_guide/indexing.html#returning-a-view-versus-a-copy\n",
      "  test.drop(['Artist Name','Track Name', 'Class'], axis=1, inplace=True)\n"
     ]
    },
    {
     "data": {
      "text/plain": [
       "RandomForestClassifier(max_depth=10, min_samples_leaf=3, min_samples_split=5,\n",
       "                       n_estimators=500)"
      ]
     },
     "execution_count": 36,
     "metadata": {},
     "output_type": "execute_result"
    }
   ],
   "source": [
    "file_path = \"/home/bnarayanan/Group024-Wi23/Music-Genre_Data/train.csv\"\n",
    "df = pd.read_csv(file_path)\n",
    "\n",
    "train, test = train_test_split(df, test_size=0.2, random_state=1000)\n",
    "\n",
    "train_targets = train['Class']\n",
    "test_targets = test['Class']\n",
    "\n",
    "train.drop(['Artist Name','Track Name','Class'], axis=1, inplace=True)\n",
    "test.drop(['Artist Name','Track Name', 'Class'], axis=1, inplace=True)\n",
    "\n",
    "imputer = SimpleImputer(strategy='mean')\n",
    "train = imputer.fit_transform(train)\n",
    "test = imputer.fit_transform(test)\n",
    "\n",
    "scaler = StandardScaler()\n",
    "scaler.fit(train)\n",
    "train = scaler.transform(train)\n",
    "test = scaler.transform(test)\n",
    "\n",
    "\n",
    "rf = RandomForestClassifier(n_estimators=500, max_depth=10, min_samples_split=5, min_samples_leaf=3, max_features='auto')\n",
    "rf.fit(train, train_targets)\n"
   ]
  },
  {
   "cell_type": "code",
   "execution_count": 37,
   "id": "586652c7",
   "metadata": {},
   "outputs": [
    {
     "data": {
      "text/plain": [
       "0.5227777777777778"
      ]
     },
     "execution_count": 37,
     "metadata": {},
     "output_type": "execute_result"
    }
   ],
   "source": [
    "\n",
    "y_pred = rf.predict(test)\n",
    "accuracy_score(test_targets, y_pred)"
   ]
  },
  {
   "cell_type": "code",
   "execution_count": 17,
   "id": "5406f225",
   "metadata": {},
   "outputs": [],
   "source": [
    "# Handling imbalanced classes: If your dataset has imbalanced classes, where some classes \n",
    "# have much fewer samples than others, \n",
    "# you may need to adjust your random forest model to handle this. \n",
    "# You can try techniques like oversampling or undersampling, \n",
    "# or use class weights to give more importance to the minority classes."
   ]
  },
  {
   "cell_type": "code",
   "execution_count": null,
   "id": "dfb884fb",
   "metadata": {},
   "outputs": [],
   "source": []
  },
  {
   "cell_type": "code",
   "execution_count": 19,
   "id": "d1987624",
   "metadata": {},
   "outputs": [],
   "source": [
    "# train_file_path = \"/home/bnarayanan/Group024-Wi23/Music-Genre_Data/train.csv\"\n",
    "# train = pd.read_csv(train_file_path)\n",
    "# train = train.fillna(0)\n",
    "# train.head()\n",
    "\n",
    "# test_file_path = \"/home/bnarayanan/Group024-Wi23/Music-Genre_Data/test.csv\"\n",
    "# test = pd.read_csv(test_file_path)\n",
    "# test = test.fillna(0)\n",
    "# test.head()\n",
    "\n",
    "# train_targets = train['Class']\n",
    "# test_targets = train['Class']\n",
    "\n",
    "# train.isna().sum()\n",
    "\n",
    "# train['Class'].value_counts()\n",
    "\n",
    "# scaler = StandardScaler()\n",
    "\n",
    "# train.drop(['Artist Name','Track Name','Class'], axis=1, inplace=True)\n",
    "# test.drop(['Artist Name','Track Name'], axis=1, inplace=True)\n",
    "\n",
    "# train.isna().sum()\n",
    "\n",
    "# train.shape, train_targets.shape, test_targets.shape, test.shape\n",
    "\n",
    "\n",
    "# scaler.fit(train)\n",
    "# train = scaler.transform(train)\n",
    "# test = scaler.transform(test)\n",
    "\n",
    "# rf = RandomForestClassifier()\n",
    "# rf.fit(train, train_targets)\n",
    "#random_state = 2022, n_jobs = -1, n_estimators = 1000, verbose=1\n",
    "\n",
    "# y_pred = rf.predict(test)\n",
    "# accuracy_score(test_targets, y_pred)\n"
   ]
  },
  {
   "cell_type": "code",
   "execution_count": null,
   "id": "52152b81",
   "metadata": {},
   "outputs": [],
   "source": []
  },
  {
   "cell_type": "code",
   "execution_count": 29,
   "id": "0f6c3f32",
   "metadata": {},
   "outputs": [],
   "source": [
    "# corrmat= train.corr()\n",
    "# plt.figure(figsize=(12,12))  \n",
    "\n",
    "# cmap = sns.diverging_palette(250, 10, s=80, l=55, n=9, as_cmap=True)\n",
    "\n",
    "# sns.heatmap(corrmat,annot=True, cmap=cmap, center=0)"
   ]
  },
  {
   "cell_type": "code",
   "execution_count": 30,
   "id": "e7eb795e",
   "metadata": {},
   "outputs": [],
   "source": [
    "# X_train, X_test, y_train, y_test = train_test_split(X, y, test_size=0.25, random_state=42)\n",
    "# scaler = StandardScaler()\n",
    "\n",
    "# imputer = SimpleImputer(missing_values=np.nan, strategy='mean')\n",
    "# rf = RandomForestClassifier()\n",
    "\n",
    "\n",
    "# pipe = Pipeline(steps=[(\"scaler\", scaler), (\"imputer\", imputer), (\"rf\", rf)])\n",
    "# pipe.fit(X_train, y_train)\n",
    "# y_pred = pipe.predict(X_test)"
   ]
  },
  {
   "cell_type": "code",
   "execution_count": 31,
   "id": "e63af1e6",
   "metadata": {},
   "outputs": [],
   "source": [
    "# X_train = np.asarray(df.loc[:, ~df.columns.isin(['Class', 'Artist Name', 'Track Name'])])\n",
    "# y_train = np.asarray(df['Class'])"
   ]
  },
  {
   "cell_type": "code",
   "execution_count": null,
   "id": "71b6f32e",
   "metadata": {},
   "outputs": [],
   "source": []
  }
 ],
 "metadata": {
  "kernelspec": {
   "display_name": "Python 3 (ipykernel)",
   "language": "python",
   "name": "python3"
  },
  "language_info": {
   "codemirror_mode": {
    "name": "ipython",
    "version": 3
   },
   "file_extension": ".py",
   "mimetype": "text/x-python",
   "name": "python",
   "nbconvert_exporter": "python",
   "pygments_lexer": "ipython3",
   "version": "3.9.5"
  }
 },
 "nbformat": 4,
 "nbformat_minor": 5
}
