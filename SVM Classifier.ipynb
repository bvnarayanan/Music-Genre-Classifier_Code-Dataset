{
 "cells": [
  {
   "cell_type": "code",
   "execution_count": 3,
   "id": "751ced16",
   "metadata": {},
   "outputs": [],
   "source": [
    "import pandas as pd\n",
    "import numpy as np\n",
    "from matplotlib import pyplot as plt"
   ]
  },
  {
   "cell_type": "code",
   "execution_count": 4,
   "id": "5ad2e967",
   "metadata": {},
   "outputs": [],
   "source": [
    "path = '/home/atorok/private/cogs118afinal/train.csv'\n",
    "df = pd.read_csv(path)\n",
    "\n",
    "# df = dfpre.dropna()"
   ]
  },
  {
   "cell_type": "code",
   "execution_count": 5,
   "id": "6998b5f1",
   "metadata": {},
   "outputs": [
    {
     "data": {
      "text/plain": [
       "10    4949\n",
       "6     2587\n",
       "9     2524\n",
       "8     1854\n",
       "5     1447\n",
       "1     1373\n",
       "2     1272\n",
       "0      625\n",
       "7      576\n",
       "3      402\n",
       "4      387\n",
       "Name: Class, dtype: int64"
      ]
     },
     "execution_count": 5,
     "metadata": {},
     "output_type": "execute_result"
    }
   ],
   "source": [
    "df['Class'].value_counts()"
   ]
  },
  {
   "cell_type": "code",
   "execution_count": 6,
   "id": "9a14e8e5",
   "metadata": {},
   "outputs": [
    {
     "name": "stdout",
     "output_type": "stream",
     "text": [
      "(17996, 17)\n"
     ]
    }
   ],
   "source": [
    "print(df.shape)"
   ]
  },
  {
   "cell_type": "code",
   "execution_count": 7,
   "id": "fbdcabe5",
   "metadata": {},
   "outputs": [],
   "source": [
    "# fig = plt.figure(figsize = (16,12))\n",
    "# ax = fig.gca()\n",
    "# df.hist(ax = ax)\n",
    "# plt.tight_layout();"
   ]
  },
  {
   "cell_type": "code",
   "execution_count": 8,
   "id": "0ee84cb1",
   "metadata": {},
   "outputs": [
    {
     "data": {
      "text/html": [
       "<div>\n",
       "<style scoped>\n",
       "    .dataframe tbody tr th:only-of-type {\n",
       "        vertical-align: middle;\n",
       "    }\n",
       "\n",
       "    .dataframe tbody tr th {\n",
       "        vertical-align: top;\n",
       "    }\n",
       "\n",
       "    .dataframe thead th {\n",
       "        text-align: right;\n",
       "    }\n",
       "</style>\n",
       "<table border=\"1\" class=\"dataframe\">\n",
       "  <thead>\n",
       "    <tr style=\"text-align: right;\">\n",
       "      <th></th>\n",
       "      <th>Artist Name</th>\n",
       "      <th>Track Name</th>\n",
       "      <th>Popularity</th>\n",
       "      <th>danceability</th>\n",
       "      <th>energy</th>\n",
       "      <th>key</th>\n",
       "      <th>loudness</th>\n",
       "      <th>mode</th>\n",
       "      <th>acousticness</th>\n",
       "      <th>liveness</th>\n",
       "      <th>valence</th>\n",
       "      <th>tempo</th>\n",
       "      <th>duration_in min/ms</th>\n",
       "      <th>time_signature</th>\n",
       "      <th>Class</th>\n",
       "      <th>log-instrumentalness</th>\n",
       "      <th>log-speechiness</th>\n",
       "    </tr>\n",
       "  </thead>\n",
       "  <tbody>\n",
       "    <tr>\n",
       "      <th>0</th>\n",
       "      <td>Bruno Mars</td>\n",
       "      <td>That's What I Like (feat. Gucci Mane)</td>\n",
       "      <td>60.0</td>\n",
       "      <td>0.854</td>\n",
       "      <td>0.564</td>\n",
       "      <td>1.0</td>\n",
       "      <td>-4.964</td>\n",
       "      <td>1</td>\n",
       "      <td>0.017100</td>\n",
       "      <td>0.0849</td>\n",
       "      <td>0.8990</td>\n",
       "      <td>134.071</td>\n",
       "      <td>234596.0</td>\n",
       "      <td>4</td>\n",
       "      <td>5</td>\n",
       "      <td>NaN</td>\n",
       "      <td>-3.026191</td>\n",
       "    </tr>\n",
       "    <tr>\n",
       "      <th>1</th>\n",
       "      <td>Boston</td>\n",
       "      <td>Hitch a Ride</td>\n",
       "      <td>54.0</td>\n",
       "      <td>0.382</td>\n",
       "      <td>0.814</td>\n",
       "      <td>3.0</td>\n",
       "      <td>-7.230</td>\n",
       "      <td>1</td>\n",
       "      <td>0.001100</td>\n",
       "      <td>0.1010</td>\n",
       "      <td>0.5690</td>\n",
       "      <td>116.454</td>\n",
       "      <td>251733.0</td>\n",
       "      <td>4</td>\n",
       "      <td>10</td>\n",
       "      <td>-5.518964</td>\n",
       "      <td>-3.203987</td>\n",
       "    </tr>\n",
       "    <tr>\n",
       "      <th>2</th>\n",
       "      <td>The Raincoats</td>\n",
       "      <td>No Side to Fall In</td>\n",
       "      <td>35.0</td>\n",
       "      <td>0.434</td>\n",
       "      <td>0.614</td>\n",
       "      <td>6.0</td>\n",
       "      <td>-8.334</td>\n",
       "      <td>1</td>\n",
       "      <td>0.486000</td>\n",
       "      <td>0.3940</td>\n",
       "      <td>0.7870</td>\n",
       "      <td>147.681</td>\n",
       "      <td>109667.0</td>\n",
       "      <td>4</td>\n",
       "      <td>6</td>\n",
       "      <td>-8.537396</td>\n",
       "      <td>-2.946942</td>\n",
       "    </tr>\n",
       "    <tr>\n",
       "      <th>3</th>\n",
       "      <td>Deno</td>\n",
       "      <td>Lingo (feat. J.I &amp; Chunkz)</td>\n",
       "      <td>66.0</td>\n",
       "      <td>0.853</td>\n",
       "      <td>0.597</td>\n",
       "      <td>10.0</td>\n",
       "      <td>-6.528</td>\n",
       "      <td>0</td>\n",
       "      <td>0.021200</td>\n",
       "      <td>0.1220</td>\n",
       "      <td>0.5690</td>\n",
       "      <td>107.033</td>\n",
       "      <td>173968.0</td>\n",
       "      <td>4</td>\n",
       "      <td>5</td>\n",
       "      <td>NaN</td>\n",
       "      <td>-2.891372</td>\n",
       "    </tr>\n",
       "    <tr>\n",
       "      <th>4</th>\n",
       "      <td>Red Hot Chili Peppers</td>\n",
       "      <td>Nobody Weird Like Me - Remastered</td>\n",
       "      <td>53.0</td>\n",
       "      <td>0.167</td>\n",
       "      <td>0.975</td>\n",
       "      <td>2.0</td>\n",
       "      <td>-4.279</td>\n",
       "      <td>1</td>\n",
       "      <td>0.000169</td>\n",
       "      <td>0.1720</td>\n",
       "      <td>0.0918</td>\n",
       "      <td>199.060</td>\n",
       "      <td>229960.0</td>\n",
       "      <td>4</td>\n",
       "      <td>10</td>\n",
       "      <td>-4.128936</td>\n",
       "      <td>-1.532477</td>\n",
       "    </tr>\n",
       "  </tbody>\n",
       "</table>\n",
       "</div>"
      ],
      "text/plain": [
       "             Artist Name                             Track Name  Popularity  \\\n",
       "0             Bruno Mars  That's What I Like (feat. Gucci Mane)        60.0   \n",
       "1                 Boston                           Hitch a Ride        54.0   \n",
       "2          The Raincoats                     No Side to Fall In        35.0   \n",
       "3                   Deno             Lingo (feat. J.I & Chunkz)        66.0   \n",
       "4  Red Hot Chili Peppers      Nobody Weird Like Me - Remastered        53.0   \n",
       "\n",
       "   danceability  energy   key  loudness  mode  acousticness  liveness  \\\n",
       "0         0.854   0.564   1.0    -4.964     1      0.017100    0.0849   \n",
       "1         0.382   0.814   3.0    -7.230     1      0.001100    0.1010   \n",
       "2         0.434   0.614   6.0    -8.334     1      0.486000    0.3940   \n",
       "3         0.853   0.597  10.0    -6.528     0      0.021200    0.1220   \n",
       "4         0.167   0.975   2.0    -4.279     1      0.000169    0.1720   \n",
       "\n",
       "   valence    tempo  duration_in min/ms  time_signature  Class  \\\n",
       "0   0.8990  134.071            234596.0               4      5   \n",
       "1   0.5690  116.454            251733.0               4     10   \n",
       "2   0.7870  147.681            109667.0               4      6   \n",
       "3   0.5690  107.033            173968.0               4      5   \n",
       "4   0.0918  199.060            229960.0               4     10   \n",
       "\n",
       "   log-instrumentalness  log-speechiness  \n",
       "0                   NaN        -3.026191  \n",
       "1             -5.518964        -3.203987  \n",
       "2             -8.537396        -2.946942  \n",
       "3                   NaN        -2.891372  \n",
       "4             -4.128936        -1.532477  "
      ]
     },
     "execution_count": 8,
     "metadata": {},
     "output_type": "execute_result"
    }
   ],
   "source": [
    "df['log-instrumentalness'] = np.log(df['instrumentalness'])\n",
    "df['log-speechiness'] = np.log(df['speechiness'])\n",
    "df.drop(columns = ['instrumentalness','speechiness'], inplace = True)\n",
    "df.head()"
   ]
  },
  {
   "cell_type": "code",
   "execution_count": 9,
   "id": "e256b320",
   "metadata": {},
   "outputs": [
    {
     "data": {
      "text/plain": [
       "(17996,)"
      ]
     },
     "execution_count": 9,
     "metadata": {},
     "output_type": "execute_result"
    }
   ],
   "source": [
    "y = np.asarray(df['Class'])\n",
    "y.shape"
   ]
  },
  {
   "cell_type": "code",
   "execution_count": 10,
   "id": "725b57ee",
   "metadata": {},
   "outputs": [
    {
     "name": "stdout",
     "output_type": "stream",
     "text": [
      "Index(['Popularity', 'danceability', 'energy', 'loudness', 'mode',\n",
      "       'acousticness', 'liveness', 'valence', 'tempo', 'duration_in min/ms',\n",
      "       'log-instrumentalness', 'log-speechiness'],\n",
      "      dtype='object')\n"
     ]
    }
   ],
   "source": [
    "print(df.loc[:, ~df.columns.isin(['Class', 'Artist Name', 'Track Name','time_signature','key'])].columns)"
   ]
  },
  {
   "cell_type": "code",
   "execution_count": 11,
   "id": "cf8d11a5",
   "metadata": {},
   "outputs": [],
   "source": [
    "from sklearn.preprocessing import StandardScaler, OneHotEncoder\n",
    "## need this to maintain data as a dataframe or we need to dropna before the processing so that we retain correct labels\n",
    "\n",
    "\n",
    "col_to_encode = ['time_signature','key']\n",
    "col_to_scale = df.loc[:, ~df.columns.isin(['Class', 'Artist Name', 'Track Name','time_signature','key'])].columns\n",
    "\n",
    "scaler = StandardScaler()\n",
    "ohe    = OneHotEncoder(sparse=False)\n",
    "\n",
    "scaled_columns  = scaler.fit_transform(df[col_to_scale]) \n",
    "encoded_columns =    ohe.fit_transform(df[col_to_encode])\n",
    "\n",
    "X = np.concatenate([scaled_columns, encoded_columns], axis=1)"
   ]
  },
  {
   "cell_type": "code",
   "execution_count": 29,
   "id": "ed2f6f68",
   "metadata": {},
   "outputs": [
    {
     "data": {
      "text/plain": [
       "(17996, 28)"
      ]
     },
     "execution_count": 29,
     "metadata": {},
     "output_type": "execute_result"
    }
   ],
   "source": [
    "X.shape"
   ]
  },
  {
   "cell_type": "code",
   "execution_count": 13,
   "id": "e5bccd19",
   "metadata": {},
   "outputs": [],
   "source": [
    "from sklearn.pipeline import Pipeline\n",
    "from sklearn.preprocessing import StandardScaler\n",
    "from sklearn.metrics import f1_score, balanced_accuracy_score, confusion_matrix, ConfusionMatrixDisplay\n",
    "from sklearn.svm import SVC\n",
    "from sklearn.model_selection import train_test_split, GridSearchCV\n",
    "from sklearn.impute import SimpleImputer\n",
    "\n"
   ]
  },
  {
   "cell_type": "code",
   "execution_count": 14,
   "id": "6f1dbb3b",
   "metadata": {},
   "outputs": [],
   "source": [
    "X_train, X_test, y_train, y_test = train_test_split(X, y, test_size=0.2, random_state=42)"
   ]
  },
  {
   "cell_type": "code",
   "execution_count": 56,
   "id": "ec75e0cd",
   "metadata": {},
   "outputs": [
    {
     "name": "stdout",
     "output_type": "stream",
     "text": [
      "Fitting 5 folds for each of 144 candidates, totalling 720 fits\n"
     ]
    },
    {
     "name": "stderr",
     "output_type": "stream",
     "text": [
      "/opt/conda/lib/python3.9/site-packages/sklearn/svm/_base.py:255: ConvergenceWarning: Solver terminated early (max_iter=1000).  Consider pre-processing your data with StandardScaler or MinMaxScaler.\n",
      "  warnings.warn('Solver terminated early (max_iter=%i).'\n"
     ]
    },
    {
     "name": "stdout",
     "output_type": "stream",
     "text": [
      "[CV 1/5] END imputer__strategy=mean, svc__C=0.1, svc__class_weight=None, svc__kernel=linear, svc__max_iter=1000;, score=0.474 total time=   8.4s\n"
     ]
    },
    {
     "name": "stderr",
     "output_type": "stream",
     "text": [
      "/opt/conda/lib/python3.9/site-packages/sklearn/svm/_base.py:255: ConvergenceWarning: Solver terminated early (max_iter=1000).  Consider pre-processing your data with StandardScaler or MinMaxScaler.\n",
      "  warnings.warn('Solver terminated early (max_iter=%i).'\n"
     ]
    },
    {
     "name": "stdout",
     "output_type": "stream",
     "text": [
      "[CV 2/5] END imputer__strategy=mean, svc__C=0.1, svc__class_weight=None, svc__kernel=linear, svc__max_iter=1000;, score=0.478 total time=   8.6s\n"
     ]
    },
    {
     "name": "stderr",
     "output_type": "stream",
     "text": [
      "/opt/conda/lib/python3.9/site-packages/sklearn/svm/_base.py:255: ConvergenceWarning: Solver terminated early (max_iter=1000).  Consider pre-processing your data with StandardScaler or MinMaxScaler.\n",
      "  warnings.warn('Solver terminated early (max_iter=%i).'\n"
     ]
    },
    {
     "name": "stdout",
     "output_type": "stream",
     "text": [
      "[CV 3/5] END imputer__strategy=mean, svc__C=0.1, svc__class_weight=None, svc__kernel=linear, svc__max_iter=1000;, score=0.470 total time=   8.2s\n"
     ]
    },
    {
     "name": "stderr",
     "output_type": "stream",
     "text": [
      "/opt/conda/lib/python3.9/site-packages/sklearn/svm/_base.py:255: ConvergenceWarning: Solver terminated early (max_iter=1000).  Consider pre-processing your data with StandardScaler or MinMaxScaler.\n",
      "  warnings.warn('Solver terminated early (max_iter=%i).'\n"
     ]
    },
    {
     "name": "stdout",
     "output_type": "stream",
     "text": [
      "[CV 4/5] END imputer__strategy=mean, svc__C=0.1, svc__class_weight=None, svc__kernel=linear, svc__max_iter=1000;, score=0.483 total time=   9.8s\n"
     ]
    },
    {
     "name": "stderr",
     "output_type": "stream",
     "text": [
      "/opt/conda/lib/python3.9/site-packages/sklearn/svm/_base.py:255: ConvergenceWarning: Solver terminated early (max_iter=1000).  Consider pre-processing your data with StandardScaler or MinMaxScaler.\n",
      "  warnings.warn('Solver terminated early (max_iter=%i).'\n"
     ]
    },
    {
     "name": "stdout",
     "output_type": "stream",
     "text": [
      "[CV 5/5] END imputer__strategy=mean, svc__C=0.1, svc__class_weight=None, svc__kernel=linear, svc__max_iter=1000;, score=0.476 total time=   8.0s\n",
      "[CV 1/5] END imputer__strategy=mean, svc__C=0.1, svc__class_weight=None, svc__kernel=linear, svc__max_iter=10000;, score=0.505 total time=   8.0s\n",
      "[CV 2/5] END imputer__strategy=mean, svc__C=0.1, svc__class_weight=None, svc__kernel=linear, svc__max_iter=10000;, score=0.502 total time=   9.1s\n",
      "[CV 3/5] END imputer__strategy=mean, svc__C=0.1, svc__class_weight=None, svc__kernel=linear, svc__max_iter=10000;, score=0.491 total time=  10.5s\n",
      "[CV 4/5] END imputer__strategy=mean, svc__C=0.1, svc__class_weight=None, svc__kernel=linear, svc__max_iter=10000;, score=0.504 total time=   9.4s\n",
      "[CV 5/5] END imputer__strategy=mean, svc__C=0.1, svc__class_weight=None, svc__kernel=linear, svc__max_iter=10000;, score=0.506 total time=   7.0s\n"
     ]
    },
    {
     "name": "stderr",
     "output_type": "stream",
     "text": [
      "/opt/conda/lib/python3.9/site-packages/sklearn/svm/_base.py:255: ConvergenceWarning: Solver terminated early (max_iter=1000).  Consider pre-processing your data with StandardScaler or MinMaxScaler.\n",
      "  warnings.warn('Solver terminated early (max_iter=%i).'\n"
     ]
    },
    {
     "name": "stdout",
     "output_type": "stream",
     "text": [
      "[CV 1/5] END imputer__strategy=mean, svc__C=0.1, svc__class_weight=None, svc__kernel=rbf, svc__max_iter=1000;, score=0.481 total time=  11.9s\n"
     ]
    },
    {
     "name": "stderr",
     "output_type": "stream",
     "text": [
      "/opt/conda/lib/python3.9/site-packages/sklearn/svm/_base.py:255: ConvergenceWarning: Solver terminated early (max_iter=1000).  Consider pre-processing your data with StandardScaler or MinMaxScaler.\n",
      "  warnings.warn('Solver terminated early (max_iter=%i).'\n"
     ]
    },
    {
     "name": "stdout",
     "output_type": "stream",
     "text": [
      "[CV 2/5] END imputer__strategy=mean, svc__C=0.1, svc__class_weight=None, svc__kernel=rbf, svc__max_iter=1000;, score=0.488 total time=  11.0s\n"
     ]
    },
    {
     "name": "stderr",
     "output_type": "stream",
     "text": [
      "/opt/conda/lib/python3.9/site-packages/sklearn/svm/_base.py:255: ConvergenceWarning: Solver terminated early (max_iter=1000).  Consider pre-processing your data with StandardScaler or MinMaxScaler.\n",
      "  warnings.warn('Solver terminated early (max_iter=%i).'\n"
     ]
    },
    {
     "name": "stdout",
     "output_type": "stream",
     "text": [
      "[CV 3/5] END imputer__strategy=mean, svc__C=0.1, svc__class_weight=None, svc__kernel=rbf, svc__max_iter=1000;, score=0.476 total time=  13.1s\n"
     ]
    },
    {
     "name": "stderr",
     "output_type": "stream",
     "text": [
      "/opt/conda/lib/python3.9/site-packages/sklearn/svm/_base.py:255: ConvergenceWarning: Solver terminated early (max_iter=1000).  Consider pre-processing your data with StandardScaler or MinMaxScaler.\n",
      "  warnings.warn('Solver terminated early (max_iter=%i).'\n"
     ]
    },
    {
     "name": "stdout",
     "output_type": "stream",
     "text": [
      "[CV 4/5] END imputer__strategy=mean, svc__C=0.1, svc__class_weight=None, svc__kernel=rbf, svc__max_iter=1000;, score=0.482 total time=  10.7s\n"
     ]
    },
    {
     "name": "stderr",
     "output_type": "stream",
     "text": [
      "/opt/conda/lib/python3.9/site-packages/sklearn/svm/_base.py:255: ConvergenceWarning: Solver terminated early (max_iter=1000).  Consider pre-processing your data with StandardScaler or MinMaxScaler.\n",
      "  warnings.warn('Solver terminated early (max_iter=%i).'\n"
     ]
    },
    {
     "name": "stdout",
     "output_type": "stream",
     "text": [
      "[CV 5/5] END imputer__strategy=mean, svc__C=0.1, svc__class_weight=None, svc__kernel=rbf, svc__max_iter=1000;, score=0.475 total time=  10.4s\n",
      "[CV 1/5] END imputer__strategy=mean, svc__C=0.1, svc__class_weight=None, svc__kernel=rbf, svc__max_iter=10000;, score=0.506 total time=  12.4s\n",
      "[CV 2/5] END imputer__strategy=mean, svc__C=0.1, svc__class_weight=None, svc__kernel=rbf, svc__max_iter=10000;, score=0.506 total time=  11.8s\n",
      "[CV 3/5] END imputer__strategy=mean, svc__C=0.1, svc__class_weight=None, svc__kernel=rbf, svc__max_iter=10000;, score=0.502 total time=  11.5s\n",
      "[CV 4/5] END imputer__strategy=mean, svc__C=0.1, svc__class_weight=None, svc__kernel=rbf, svc__max_iter=10000;, score=0.515 total time=  12.6s\n",
      "[CV 5/5] END imputer__strategy=mean, svc__C=0.1, svc__class_weight=None, svc__kernel=rbf, svc__max_iter=10000;, score=0.507 total time=  14.0s\n"
     ]
    },
    {
     "name": "stderr",
     "output_type": "stream",
     "text": [
      "/opt/conda/lib/python3.9/site-packages/sklearn/svm/_base.py:255: ConvergenceWarning: Solver terminated early (max_iter=1000).  Consider pre-processing your data with StandardScaler or MinMaxScaler.\n",
      "  warnings.warn('Solver terminated early (max_iter=%i).'\n"
     ]
    },
    {
     "name": "stdout",
     "output_type": "stream",
     "text": [
      "[CV 1/5] END imputer__strategy=mean, svc__C=0.1, svc__class_weight=None, svc__kernel=poly, svc__max_iter=1000;, score=0.445 total time=   9.5s\n"
     ]
    },
    {
     "name": "stderr",
     "output_type": "stream",
     "text": [
      "/opt/conda/lib/python3.9/site-packages/sklearn/svm/_base.py:255: ConvergenceWarning: Solver terminated early (max_iter=1000).  Consider pre-processing your data with StandardScaler or MinMaxScaler.\n",
      "  warnings.warn('Solver terminated early (max_iter=%i).'\n"
     ]
    },
    {
     "name": "stdout",
     "output_type": "stream",
     "text": [
      "[CV 2/5] END imputer__strategy=mean, svc__C=0.1, svc__class_weight=None, svc__kernel=poly, svc__max_iter=1000;, score=0.443 total time=  10.1s\n"
     ]
    },
    {
     "name": "stderr",
     "output_type": "stream",
     "text": [
      "/opt/conda/lib/python3.9/site-packages/sklearn/svm/_base.py:255: ConvergenceWarning: Solver terminated early (max_iter=1000).  Consider pre-processing your data with StandardScaler or MinMaxScaler.\n",
      "  warnings.warn('Solver terminated early (max_iter=%i).'\n"
     ]
    },
    {
     "name": "stdout",
     "output_type": "stream",
     "text": [
      "[CV 3/5] END imputer__strategy=mean, svc__C=0.1, svc__class_weight=None, svc__kernel=poly, svc__max_iter=1000;, score=0.425 total time=   9.7s\n"
     ]
    },
    {
     "name": "stderr",
     "output_type": "stream",
     "text": [
      "/opt/conda/lib/python3.9/site-packages/sklearn/svm/_base.py:255: ConvergenceWarning: Solver terminated early (max_iter=1000).  Consider pre-processing your data with StandardScaler or MinMaxScaler.\n",
      "  warnings.warn('Solver terminated early (max_iter=%i).'\n"
     ]
    },
    {
     "name": "stdout",
     "output_type": "stream",
     "text": [
      "[CV 4/5] END imputer__strategy=mean, svc__C=0.1, svc__class_weight=None, svc__kernel=poly, svc__max_iter=1000;, score=0.430 total time=   9.2s\n"
     ]
    },
    {
     "name": "stderr",
     "output_type": "stream",
     "text": [
      "/opt/conda/lib/python3.9/site-packages/sklearn/svm/_base.py:255: ConvergenceWarning: Solver terminated early (max_iter=1000).  Consider pre-processing your data with StandardScaler or MinMaxScaler.\n",
      "  warnings.warn('Solver terminated early (max_iter=%i).'\n"
     ]
    },
    {
     "name": "stdout",
     "output_type": "stream",
     "text": [
      "[CV 5/5] END imputer__strategy=mean, svc__C=0.1, svc__class_weight=None, svc__kernel=poly, svc__max_iter=1000;, score=0.410 total time=   7.8s\n",
      "[CV 1/5] END imputer__strategy=mean, svc__C=0.1, svc__class_weight=None, svc__kernel=poly, svc__max_iter=10000;, score=0.473 total time=   9.5s\n",
      "[CV 2/5] END imputer__strategy=mean, svc__C=0.1, svc__class_weight=None, svc__kernel=poly, svc__max_iter=10000;, score=0.474 total time=   9.0s\n",
      "[CV 3/5] END imputer__strategy=mean, svc__C=0.1, svc__class_weight=None, svc__kernel=poly, svc__max_iter=10000;, score=0.473 total time=  10.5s\n",
      "[CV 4/5] END imputer__strategy=mean, svc__C=0.1, svc__class_weight=None, svc__kernel=poly, svc__max_iter=10000;, score=0.472 total time=   9.3s\n",
      "[CV 5/5] END imputer__strategy=mean, svc__C=0.1, svc__class_weight=None, svc__kernel=poly, svc__max_iter=10000;, score=0.466 total time=  11.1s\n"
     ]
    },
    {
     "name": "stderr",
     "output_type": "stream",
     "text": [
      "/opt/conda/lib/python3.9/site-packages/sklearn/svm/_base.py:255: ConvergenceWarning: Solver terminated early (max_iter=1000).  Consider pre-processing your data with StandardScaler or MinMaxScaler.\n",
      "  warnings.warn('Solver terminated early (max_iter=%i).'\n"
     ]
    },
    {
     "name": "stdout",
     "output_type": "stream",
     "text": [
      "[CV 1/5] END imputer__strategy=mean, svc__C=0.1, svc__class_weight=None, svc__kernel=sigmoid, svc__max_iter=1000;, score=0.423 total time=  14.6s\n"
     ]
    },
    {
     "name": "stderr",
     "output_type": "stream",
     "text": [
      "/opt/conda/lib/python3.9/site-packages/sklearn/svm/_base.py:255: ConvergenceWarning: Solver terminated early (max_iter=1000).  Consider pre-processing your data with StandardScaler or MinMaxScaler.\n",
      "  warnings.warn('Solver terminated early (max_iter=%i).'\n"
     ]
    },
    {
     "name": "stdout",
     "output_type": "stream",
     "text": [
      "[CV 2/5] END imputer__strategy=mean, svc__C=0.1, svc__class_weight=None, svc__kernel=sigmoid, svc__max_iter=1000;, score=0.414 total time=  12.8s\n"
     ]
    },
    {
     "name": "stderr",
     "output_type": "stream",
     "text": [
      "/opt/conda/lib/python3.9/site-packages/sklearn/svm/_base.py:255: ConvergenceWarning: Solver terminated early (max_iter=1000).  Consider pre-processing your data with StandardScaler or MinMaxScaler.\n",
      "  warnings.warn('Solver terminated early (max_iter=%i).'\n"
     ]
    },
    {
     "name": "stdout",
     "output_type": "stream",
     "text": [
      "[CV 3/5] END imputer__strategy=mean, svc__C=0.1, svc__class_weight=None, svc__kernel=sigmoid, svc__max_iter=1000;, score=0.402 total time=  13.9s\n"
     ]
    },
    {
     "name": "stderr",
     "output_type": "stream",
     "text": [
      "/opt/conda/lib/python3.9/site-packages/sklearn/svm/_base.py:255: ConvergenceWarning: Solver terminated early (max_iter=1000).  Consider pre-processing your data with StandardScaler or MinMaxScaler.\n",
      "  warnings.warn('Solver terminated early (max_iter=%i).'\n"
     ]
    },
    {
     "name": "stdout",
     "output_type": "stream",
     "text": [
      "[CV 4/5] END imputer__strategy=mean, svc__C=0.1, svc__class_weight=None, svc__kernel=sigmoid, svc__max_iter=1000;, score=0.398 total time=  14.6s\n"
     ]
    },
    {
     "name": "stderr",
     "output_type": "stream",
     "text": [
      "/opt/conda/lib/python3.9/site-packages/sklearn/svm/_base.py:255: ConvergenceWarning: Solver terminated early (max_iter=1000).  Consider pre-processing your data with StandardScaler or MinMaxScaler.\n",
      "  warnings.warn('Solver terminated early (max_iter=%i).'\n"
     ]
    },
    {
     "name": "stdout",
     "output_type": "stream",
     "text": [
      "[CV 5/5] END imputer__strategy=mean, svc__C=0.1, svc__class_weight=None, svc__kernel=sigmoid, svc__max_iter=1000;, score=0.406 total time=  16.5s\n",
      "[CV 1/5] END imputer__strategy=mean, svc__C=0.1, svc__class_weight=None, svc__kernel=sigmoid, svc__max_iter=10000;, score=0.444 total time=  14.1s\n",
      "[CV 2/5] END imputer__strategy=mean, svc__C=0.1, svc__class_weight=None, svc__kernel=sigmoid, svc__max_iter=10000;, score=0.435 total time=  13.9s\n",
      "[CV 3/5] END imputer__strategy=mean, svc__C=0.1, svc__class_weight=None, svc__kernel=sigmoid, svc__max_iter=10000;, score=0.418 total time=  13.5s\n",
      "[CV 4/5] END imputer__strategy=mean, svc__C=0.1, svc__class_weight=None, svc__kernel=sigmoid, svc__max_iter=10000;, score=0.422 total time=  13.5s\n",
      "[CV 5/5] END imputer__strategy=mean, svc__C=0.1, svc__class_weight=None, svc__kernel=sigmoid, svc__max_iter=10000;, score=0.435 total time=  13.5s\n"
     ]
    },
    {
     "name": "stderr",
     "output_type": "stream",
     "text": [
      "/opt/conda/lib/python3.9/site-packages/sklearn/svm/_base.py:255: ConvergenceWarning: Solver terminated early (max_iter=1000).  Consider pre-processing your data with StandardScaler or MinMaxScaler.\n",
      "  warnings.warn('Solver terminated early (max_iter=%i).'\n"
     ]
    },
    {
     "name": "stdout",
     "output_type": "stream",
     "text": [
      "[CV 1/5] END imputer__strategy=mean, svc__C=0.1, svc__class_weight=balanced, svc__kernel=linear, svc__max_iter=1000;, score=0.353 total time=   5.8s\n"
     ]
    },
    {
     "name": "stderr",
     "output_type": "stream",
     "text": [
      "/opt/conda/lib/python3.9/site-packages/sklearn/svm/_base.py:255: ConvergenceWarning: Solver terminated early (max_iter=1000).  Consider pre-processing your data with StandardScaler or MinMaxScaler.\n",
      "  warnings.warn('Solver terminated early (max_iter=%i).'\n"
     ]
    },
    {
     "name": "stdout",
     "output_type": "stream",
     "text": [
      "[CV 2/5] END imputer__strategy=mean, svc__C=0.1, svc__class_weight=balanced, svc__kernel=linear, svc__max_iter=1000;, score=0.364 total time=   5.1s\n"
     ]
    },
    {
     "name": "stderr",
     "output_type": "stream",
     "text": [
      "/opt/conda/lib/python3.9/site-packages/sklearn/svm/_base.py:255: ConvergenceWarning: Solver terminated early (max_iter=1000).  Consider pre-processing your data with StandardScaler or MinMaxScaler.\n",
      "  warnings.warn('Solver terminated early (max_iter=%i).'\n"
     ]
    },
    {
     "name": "stdout",
     "output_type": "stream",
     "text": [
      "[CV 3/5] END imputer__strategy=mean, svc__C=0.1, svc__class_weight=balanced, svc__kernel=linear, svc__max_iter=1000;, score=0.358 total time=   5.7s\n"
     ]
    },
    {
     "name": "stderr",
     "output_type": "stream",
     "text": [
      "/opt/conda/lib/python3.9/site-packages/sklearn/svm/_base.py:255: ConvergenceWarning: Solver terminated early (max_iter=1000).  Consider pre-processing your data with StandardScaler or MinMaxScaler.\n",
      "  warnings.warn('Solver terminated early (max_iter=%i).'\n"
     ]
    },
    {
     "name": "stdout",
     "output_type": "stream",
     "text": [
      "[CV 4/5] END imputer__strategy=mean, svc__C=0.1, svc__class_weight=balanced, svc__kernel=linear, svc__max_iter=1000;, score=0.341 total time=   6.8s\n"
     ]
    },
    {
     "name": "stderr",
     "output_type": "stream",
     "text": [
      "/opt/conda/lib/python3.9/site-packages/sklearn/svm/_base.py:255: ConvergenceWarning: Solver terminated early (max_iter=1000).  Consider pre-processing your data with StandardScaler or MinMaxScaler.\n",
      "  warnings.warn('Solver terminated early (max_iter=%i).'\n"
     ]
    },
    {
     "name": "stdout",
     "output_type": "stream",
     "text": [
      "[CV 5/5] END imputer__strategy=mean, svc__C=0.1, svc__class_weight=balanced, svc__kernel=linear, svc__max_iter=1000;, score=0.365 total time=   5.2s\n",
      "[CV 1/5] END imputer__strategy=mean, svc__C=0.1, svc__class_weight=balanced, svc__kernel=linear, svc__max_iter=10000;, score=0.441 total time=  12.0s\n",
      "[CV 2/5] END imputer__strategy=mean, svc__C=0.1, svc__class_weight=balanced, svc__kernel=linear, svc__max_iter=10000;, score=0.448 total time=  11.8s\n",
      "[CV 3/5] END imputer__strategy=mean, svc__C=0.1, svc__class_weight=balanced, svc__kernel=linear, svc__max_iter=10000;, score=0.444 total time=  12.1s\n",
      "[CV 4/5] END imputer__strategy=mean, svc__C=0.1, svc__class_weight=balanced, svc__kernel=linear, svc__max_iter=10000;, score=0.442 total time=  11.6s\n",
      "[CV 5/5] END imputer__strategy=mean, svc__C=0.1, svc__class_weight=balanced, svc__kernel=linear, svc__max_iter=10000;, score=0.466 total time=  11.2s\n"
     ]
    },
    {
     "name": "stderr",
     "output_type": "stream",
     "text": [
      "/opt/conda/lib/python3.9/site-packages/sklearn/svm/_base.py:255: ConvergenceWarning: Solver terminated early (max_iter=1000).  Consider pre-processing your data with StandardScaler or MinMaxScaler.\n",
      "  warnings.warn('Solver terminated early (max_iter=%i).'\n"
     ]
    },
    {
     "name": "stdout",
     "output_type": "stream",
     "text": [
      "[CV 1/5] END imputer__strategy=mean, svc__C=0.1, svc__class_weight=balanced, svc__kernel=rbf, svc__max_iter=1000;, score=0.380 total time=  10.5s\n"
     ]
    },
    {
     "name": "stderr",
     "output_type": "stream",
     "text": [
      "/opt/conda/lib/python3.9/site-packages/sklearn/svm/_base.py:255: ConvergenceWarning: Solver terminated early (max_iter=1000).  Consider pre-processing your data with StandardScaler or MinMaxScaler.\n",
      "  warnings.warn('Solver terminated early (max_iter=%i).'\n"
     ]
    },
    {
     "name": "stdout",
     "output_type": "stream",
     "text": [
      "[CV 2/5] END imputer__strategy=mean, svc__C=0.1, svc__class_weight=balanced, svc__kernel=rbf, svc__max_iter=1000;, score=0.371 total time=  12.2s\n"
     ]
    },
    {
     "name": "stderr",
     "output_type": "stream",
     "text": [
      "/opt/conda/lib/python3.9/site-packages/sklearn/svm/_base.py:255: ConvergenceWarning: Solver terminated early (max_iter=1000).  Consider pre-processing your data with StandardScaler or MinMaxScaler.\n",
      "  warnings.warn('Solver terminated early (max_iter=%i).'\n"
     ]
    },
    {
     "name": "stdout",
     "output_type": "stream",
     "text": [
      "[CV 3/5] END imputer__strategy=mean, svc__C=0.1, svc__class_weight=balanced, svc__kernel=rbf, svc__max_iter=1000;, score=0.370 total time=  13.0s\n"
     ]
    },
    {
     "name": "stderr",
     "output_type": "stream",
     "text": [
      "/opt/conda/lib/python3.9/site-packages/sklearn/svm/_base.py:255: ConvergenceWarning: Solver terminated early (max_iter=1000).  Consider pre-processing your data with StandardScaler or MinMaxScaler.\n",
      "  warnings.warn('Solver terminated early (max_iter=%i).'\n"
     ]
    },
    {
     "name": "stdout",
     "output_type": "stream",
     "text": [
      "[CV 4/5] END imputer__strategy=mean, svc__C=0.1, svc__class_weight=balanced, svc__kernel=rbf, svc__max_iter=1000;, score=0.398 total time=  12.9s\n"
     ]
    },
    {
     "name": "stderr",
     "output_type": "stream",
     "text": [
      "/opt/conda/lib/python3.9/site-packages/sklearn/svm/_base.py:255: ConvergenceWarning: Solver terminated early (max_iter=1000).  Consider pre-processing your data with StandardScaler or MinMaxScaler.\n",
      "  warnings.warn('Solver terminated early (max_iter=%i).'\n"
     ]
    },
    {
     "name": "stdout",
     "output_type": "stream",
     "text": [
      "[CV 5/5] END imputer__strategy=mean, svc__C=0.1, svc__class_weight=balanced, svc__kernel=rbf, svc__max_iter=1000;, score=0.366 total time=  13.2s\n",
      "[CV 1/5] END imputer__strategy=mean, svc__C=0.1, svc__class_weight=balanced, svc__kernel=rbf, svc__max_iter=10000;, score=0.449 total time=  20.5s\n",
      "[CV 2/5] END imputer__strategy=mean, svc__C=0.1, svc__class_weight=balanced, svc__kernel=rbf, svc__max_iter=10000;, score=0.455 total time=  18.8s\n",
      "[CV 3/5] END imputer__strategy=mean, svc__C=0.1, svc__class_weight=balanced, svc__kernel=rbf, svc__max_iter=10000;, score=0.464 total time=  19.8s\n",
      "[CV 4/5] END imputer__strategy=mean, svc__C=0.1, svc__class_weight=balanced, svc__kernel=rbf, svc__max_iter=10000;, score=0.440 total time=  19.2s\n",
      "[CV 5/5] END imputer__strategy=mean, svc__C=0.1, svc__class_weight=balanced, svc__kernel=rbf, svc__max_iter=10000;, score=0.474 total time=  18.9s\n"
     ]
    },
    {
     "name": "stderr",
     "output_type": "stream",
     "text": [
      "/opt/conda/lib/python3.9/site-packages/sklearn/svm/_base.py:255: ConvergenceWarning: Solver terminated early (max_iter=1000).  Consider pre-processing your data with StandardScaler or MinMaxScaler.\n",
      "  warnings.warn('Solver terminated early (max_iter=%i).'\n"
     ]
    },
    {
     "name": "stdout",
     "output_type": "stream",
     "text": [
      "[CV 1/5] END imputer__strategy=mean, svc__C=0.1, svc__class_weight=balanced, svc__kernel=poly, svc__max_iter=1000;, score=0.277 total time=   8.8s\n"
     ]
    },
    {
     "name": "stderr",
     "output_type": "stream",
     "text": [
      "/opt/conda/lib/python3.9/site-packages/sklearn/svm/_base.py:255: ConvergenceWarning: Solver terminated early (max_iter=1000).  Consider pre-processing your data with StandardScaler or MinMaxScaler.\n",
      "  warnings.warn('Solver terminated early (max_iter=%i).'\n"
     ]
    },
    {
     "name": "stdout",
     "output_type": "stream",
     "text": [
      "[CV 2/5] END imputer__strategy=mean, svc__C=0.1, svc__class_weight=balanced, svc__kernel=poly, svc__max_iter=1000;, score=0.292 total time=   9.5s\n"
     ]
    },
    {
     "name": "stderr",
     "output_type": "stream",
     "text": [
      "/opt/conda/lib/python3.9/site-packages/sklearn/svm/_base.py:255: ConvergenceWarning: Solver terminated early (max_iter=1000).  Consider pre-processing your data with StandardScaler or MinMaxScaler.\n",
      "  warnings.warn('Solver terminated early (max_iter=%i).'\n"
     ]
    },
    {
     "name": "stdout",
     "output_type": "stream",
     "text": [
      "[CV 3/5] END imputer__strategy=mean, svc__C=0.1, svc__class_weight=balanced, svc__kernel=poly, svc__max_iter=1000;, score=0.279 total time=   9.7s\n"
     ]
    },
    {
     "name": "stderr",
     "output_type": "stream",
     "text": [
      "/opt/conda/lib/python3.9/site-packages/sklearn/svm/_base.py:255: ConvergenceWarning: Solver terminated early (max_iter=1000).  Consider pre-processing your data with StandardScaler or MinMaxScaler.\n",
      "  warnings.warn('Solver terminated early (max_iter=%i).'\n"
     ]
    },
    {
     "name": "stdout",
     "output_type": "stream",
     "text": [
      "[CV 4/5] END imputer__strategy=mean, svc__C=0.1, svc__class_weight=balanced, svc__kernel=poly, svc__max_iter=1000;, score=0.281 total time=   9.7s\n"
     ]
    },
    {
     "name": "stderr",
     "output_type": "stream",
     "text": [
      "/opt/conda/lib/python3.9/site-packages/sklearn/svm/_base.py:255: ConvergenceWarning: Solver terminated early (max_iter=1000).  Consider pre-processing your data with StandardScaler or MinMaxScaler.\n",
      "  warnings.warn('Solver terminated early (max_iter=%i).'\n"
     ]
    },
    {
     "name": "stdout",
     "output_type": "stream",
     "text": [
      "[CV 5/5] END imputer__strategy=mean, svc__C=0.1, svc__class_weight=balanced, svc__kernel=poly, svc__max_iter=1000;, score=0.287 total time=   9.6s\n",
      "[CV 1/5] END imputer__strategy=mean, svc__C=0.1, svc__class_weight=balanced, svc__kernel=poly, svc__max_iter=10000;, score=0.480 total time=  17.2s\n",
      "[CV 2/5] END imputer__strategy=mean, svc__C=0.1, svc__class_weight=balanced, svc__kernel=poly, svc__max_iter=10000;, score=0.473 total time=  17.6s\n",
      "[CV 3/5] END imputer__strategy=mean, svc__C=0.1, svc__class_weight=balanced, svc__kernel=poly, svc__max_iter=10000;, score=0.465 total time=  18.2s\n",
      "[CV 4/5] END imputer__strategy=mean, svc__C=0.1, svc__class_weight=balanced, svc__kernel=poly, svc__max_iter=10000;, score=0.472 total time=  17.4s\n",
      "[CV 5/5] END imputer__strategy=mean, svc__C=0.1, svc__class_weight=balanced, svc__kernel=poly, svc__max_iter=10000;, score=0.477 total time=  17.9s\n"
     ]
    },
    {
     "name": "stderr",
     "output_type": "stream",
     "text": [
      "/opt/conda/lib/python3.9/site-packages/sklearn/svm/_base.py:255: ConvergenceWarning: Solver terminated early (max_iter=1000).  Consider pre-processing your data with StandardScaler or MinMaxScaler.\n",
      "  warnings.warn('Solver terminated early (max_iter=%i).'\n"
     ]
    },
    {
     "name": "stdout",
     "output_type": "stream",
     "text": [
      "[CV 1/5] END imputer__strategy=mean, svc__C=0.1, svc__class_weight=balanced, svc__kernel=sigmoid, svc__max_iter=1000;, score=0.361 total time=  14.9s\n"
     ]
    },
    {
     "name": "stderr",
     "output_type": "stream",
     "text": [
      "/opt/conda/lib/python3.9/site-packages/sklearn/svm/_base.py:255: ConvergenceWarning: Solver terminated early (max_iter=1000).  Consider pre-processing your data with StandardScaler or MinMaxScaler.\n",
      "  warnings.warn('Solver terminated early (max_iter=%i).'\n"
     ]
    },
    {
     "name": "stdout",
     "output_type": "stream",
     "text": [
      "[CV 2/5] END imputer__strategy=mean, svc__C=0.1, svc__class_weight=balanced, svc__kernel=sigmoid, svc__max_iter=1000;, score=0.361 total time=  15.3s\n"
     ]
    },
    {
     "name": "stderr",
     "output_type": "stream",
     "text": [
      "/opt/conda/lib/python3.9/site-packages/sklearn/svm/_base.py:255: ConvergenceWarning: Solver terminated early (max_iter=1000).  Consider pre-processing your data with StandardScaler or MinMaxScaler.\n",
      "  warnings.warn('Solver terminated early (max_iter=%i).'\n"
     ]
    },
    {
     "name": "stdout",
     "output_type": "stream",
     "text": [
      "[CV 3/5] END imputer__strategy=mean, svc__C=0.1, svc__class_weight=balanced, svc__kernel=sigmoid, svc__max_iter=1000;, score=0.352 total time=  15.4s\n"
     ]
    },
    {
     "name": "stderr",
     "output_type": "stream",
     "text": [
      "/opt/conda/lib/python3.9/site-packages/sklearn/svm/_base.py:255: ConvergenceWarning: Solver terminated early (max_iter=1000).  Consider pre-processing your data with StandardScaler or MinMaxScaler.\n",
      "  warnings.warn('Solver terminated early (max_iter=%i).'\n"
     ]
    },
    {
     "name": "stdout",
     "output_type": "stream",
     "text": [
      "[CV 4/5] END imputer__strategy=mean, svc__C=0.1, svc__class_weight=balanced, svc__kernel=sigmoid, svc__max_iter=1000;, score=0.353 total time=  15.1s\n"
     ]
    },
    {
     "name": "stderr",
     "output_type": "stream",
     "text": [
      "/opt/conda/lib/python3.9/site-packages/sklearn/svm/_base.py:255: ConvergenceWarning: Solver terminated early (max_iter=1000).  Consider pre-processing your data with StandardScaler or MinMaxScaler.\n",
      "  warnings.warn('Solver terminated early (max_iter=%i).'\n"
     ]
    },
    {
     "name": "stdout",
     "output_type": "stream",
     "text": [
      "[CV 5/5] END imputer__strategy=mean, svc__C=0.1, svc__class_weight=balanced, svc__kernel=sigmoid, svc__max_iter=1000;, score=0.358 total time=  15.4s\n",
      "[CV 1/5] END imputer__strategy=mean, svc__C=0.1, svc__class_weight=balanced, svc__kernel=sigmoid, svc__max_iter=10000;, score=0.379 total time=  25.8s\n",
      "[CV 2/5] END imputer__strategy=mean, svc__C=0.1, svc__class_weight=balanced, svc__kernel=sigmoid, svc__max_iter=10000;, score=0.379 total time=  25.6s\n",
      "[CV 3/5] END imputer__strategy=mean, svc__C=0.1, svc__class_weight=balanced, svc__kernel=sigmoid, svc__max_iter=10000;, score=0.378 total time=  25.7s\n",
      "[CV 4/5] END imputer__strategy=mean, svc__C=0.1, svc__class_weight=balanced, svc__kernel=sigmoid, svc__max_iter=10000;, score=0.376 total time=  25.2s\n",
      "[CV 5/5] END imputer__strategy=mean, svc__C=0.1, svc__class_weight=balanced, svc__kernel=sigmoid, svc__max_iter=10000;, score=0.400 total time=  25.0s\n"
     ]
    },
    {
     "name": "stderr",
     "output_type": "stream",
     "text": [
      "/opt/conda/lib/python3.9/site-packages/sklearn/svm/_base.py:255: ConvergenceWarning: Solver terminated early (max_iter=1000).  Consider pre-processing your data with StandardScaler or MinMaxScaler.\n",
      "  warnings.warn('Solver terminated early (max_iter=%i).'\n"
     ]
    },
    {
     "name": "stdout",
     "output_type": "stream",
     "text": [
      "[CV 1/5] END imputer__strategy=mean, svc__C=1, svc__class_weight=None, svc__kernel=linear, svc__max_iter=1000;, score=0.372 total time=   7.2s\n"
     ]
    },
    {
     "name": "stderr",
     "output_type": "stream",
     "text": [
      "/opt/conda/lib/python3.9/site-packages/sklearn/svm/_base.py:255: ConvergenceWarning: Solver terminated early (max_iter=1000).  Consider pre-processing your data with StandardScaler or MinMaxScaler.\n",
      "  warnings.warn('Solver terminated early (max_iter=%i).'\n"
     ]
    },
    {
     "name": "stdout",
     "output_type": "stream",
     "text": [
      "[CV 2/5] END imputer__strategy=mean, svc__C=1, svc__class_weight=None, svc__kernel=linear, svc__max_iter=1000;, score=0.414 total time=   6.7s\n"
     ]
    },
    {
     "name": "stderr",
     "output_type": "stream",
     "text": [
      "/opt/conda/lib/python3.9/site-packages/sklearn/svm/_base.py:255: ConvergenceWarning: Solver terminated early (max_iter=1000).  Consider pre-processing your data with StandardScaler or MinMaxScaler.\n",
      "  warnings.warn('Solver terminated early (max_iter=%i).'\n"
     ]
    },
    {
     "name": "stdout",
     "output_type": "stream",
     "text": [
      "[CV 3/5] END imputer__strategy=mean, svc__C=1, svc__class_weight=None, svc__kernel=linear, svc__max_iter=1000;, score=0.387 total time=   6.9s\n"
     ]
    },
    {
     "name": "stderr",
     "output_type": "stream",
     "text": [
      "/opt/conda/lib/python3.9/site-packages/sklearn/svm/_base.py:255: ConvergenceWarning: Solver terminated early (max_iter=1000).  Consider pre-processing your data with StandardScaler or MinMaxScaler.\n",
      "  warnings.warn('Solver terminated early (max_iter=%i).'\n"
     ]
    },
    {
     "name": "stdout",
     "output_type": "stream",
     "text": [
      "[CV 4/5] END imputer__strategy=mean, svc__C=1, svc__class_weight=None, svc__kernel=linear, svc__max_iter=1000;, score=0.409 total time=   6.8s\n"
     ]
    },
    {
     "name": "stderr",
     "output_type": "stream",
     "text": [
      "/opt/conda/lib/python3.9/site-packages/sklearn/svm/_base.py:255: ConvergenceWarning: Solver terminated early (max_iter=1000).  Consider pre-processing your data with StandardScaler or MinMaxScaler.\n",
      "  warnings.warn('Solver terminated early (max_iter=%i).'\n"
     ]
    },
    {
     "name": "stdout",
     "output_type": "stream",
     "text": [
      "[CV 5/5] END imputer__strategy=mean, svc__C=1, svc__class_weight=None, svc__kernel=linear, svc__max_iter=1000;, score=0.420 total time=   6.7s\n"
     ]
    },
    {
     "name": "stderr",
     "output_type": "stream",
     "text": [
      "/opt/conda/lib/python3.9/site-packages/sklearn/svm/_base.py:255: ConvergenceWarning: Solver terminated early (max_iter=10000).  Consider pre-processing your data with StandardScaler or MinMaxScaler.\n",
      "  warnings.warn('Solver terminated early (max_iter=%i).'\n"
     ]
    },
    {
     "name": "stdout",
     "output_type": "stream",
     "text": [
      "[CV 1/5] END imputer__strategy=mean, svc__C=1, svc__class_weight=None, svc__kernel=linear, svc__max_iter=10000;, score=0.505 total time=  12.9s\n"
     ]
    },
    {
     "name": "stderr",
     "output_type": "stream",
     "text": [
      "/opt/conda/lib/python3.9/site-packages/sklearn/svm/_base.py:255: ConvergenceWarning: Solver terminated early (max_iter=10000).  Consider pre-processing your data with StandardScaler or MinMaxScaler.\n",
      "  warnings.warn('Solver terminated early (max_iter=%i).'\n"
     ]
    },
    {
     "name": "stdout",
     "output_type": "stream",
     "text": [
      "[CV 2/5] END imputer__strategy=mean, svc__C=1, svc__class_weight=None, svc__kernel=linear, svc__max_iter=10000;, score=0.504 total time=  13.2s\n"
     ]
    },
    {
     "name": "stderr",
     "output_type": "stream",
     "text": [
      "/opt/conda/lib/python3.9/site-packages/sklearn/svm/_base.py:255: ConvergenceWarning: Solver terminated early (max_iter=10000).  Consider pre-processing your data with StandardScaler or MinMaxScaler.\n",
      "  warnings.warn('Solver terminated early (max_iter=%i).'\n"
     ]
    },
    {
     "name": "stdout",
     "output_type": "stream",
     "text": [
      "[CV 3/5] END imputer__strategy=mean, svc__C=1, svc__class_weight=None, svc__kernel=linear, svc__max_iter=10000;, score=0.489 total time=  12.6s\n"
     ]
    },
    {
     "name": "stderr",
     "output_type": "stream",
     "text": [
      "/opt/conda/lib/python3.9/site-packages/sklearn/svm/_base.py:255: ConvergenceWarning: Solver terminated early (max_iter=10000).  Consider pre-processing your data with StandardScaler or MinMaxScaler.\n",
      "  warnings.warn('Solver terminated early (max_iter=%i).'\n"
     ]
    },
    {
     "name": "stdout",
     "output_type": "stream",
     "text": [
      "[CV 4/5] END imputer__strategy=mean, svc__C=1, svc__class_weight=None, svc__kernel=linear, svc__max_iter=10000;, score=0.504 total time=  12.6s\n"
     ]
    },
    {
     "name": "stderr",
     "output_type": "stream",
     "text": [
      "/opt/conda/lib/python3.9/site-packages/sklearn/svm/_base.py:255: ConvergenceWarning: Solver terminated early (max_iter=10000).  Consider pre-processing your data with StandardScaler or MinMaxScaler.\n",
      "  warnings.warn('Solver terminated early (max_iter=%i).'\n"
     ]
    },
    {
     "name": "stdout",
     "output_type": "stream",
     "text": [
      "[CV 5/5] END imputer__strategy=mean, svc__C=1, svc__class_weight=None, svc__kernel=linear, svc__max_iter=10000;, score=0.507 total time=  12.8s\n"
     ]
    },
    {
     "name": "stderr",
     "output_type": "stream",
     "text": [
      "/opt/conda/lib/python3.9/site-packages/sklearn/svm/_base.py:255: ConvergenceWarning: Solver terminated early (max_iter=1000).  Consider pre-processing your data with StandardScaler or MinMaxScaler.\n",
      "  warnings.warn('Solver terminated early (max_iter=%i).'\n"
     ]
    },
    {
     "name": "stdout",
     "output_type": "stream",
     "text": [
      "[CV 1/5] END imputer__strategy=mean, svc__C=1, svc__class_weight=None, svc__kernel=rbf, svc__max_iter=1000;, score=0.525 total time=  13.0s\n"
     ]
    },
    {
     "name": "stderr",
     "output_type": "stream",
     "text": [
      "/opt/conda/lib/python3.9/site-packages/sklearn/svm/_base.py:255: ConvergenceWarning: Solver terminated early (max_iter=1000).  Consider pre-processing your data with StandardScaler or MinMaxScaler.\n",
      "  warnings.warn('Solver terminated early (max_iter=%i).'\n"
     ]
    },
    {
     "name": "stdout",
     "output_type": "stream",
     "text": [
      "[CV 2/5] END imputer__strategy=mean, svc__C=1, svc__class_weight=None, svc__kernel=rbf, svc__max_iter=1000;, score=0.514 total time=  12.5s\n"
     ]
    },
    {
     "name": "stderr",
     "output_type": "stream",
     "text": [
      "/opt/conda/lib/python3.9/site-packages/sklearn/svm/_base.py:255: ConvergenceWarning: Solver terminated early (max_iter=1000).  Consider pre-processing your data with StandardScaler or MinMaxScaler.\n",
      "  warnings.warn('Solver terminated early (max_iter=%i).'\n"
     ]
    },
    {
     "name": "stdout",
     "output_type": "stream",
     "text": [
      "[CV 3/5] END imputer__strategy=mean, svc__C=1, svc__class_weight=None, svc__kernel=rbf, svc__max_iter=1000;, score=0.517 total time=  12.4s\n"
     ]
    },
    {
     "name": "stderr",
     "output_type": "stream",
     "text": [
      "/opt/conda/lib/python3.9/site-packages/sklearn/svm/_base.py:255: ConvergenceWarning: Solver terminated early (max_iter=1000).  Consider pre-processing your data with StandardScaler or MinMaxScaler.\n",
      "  warnings.warn('Solver terminated early (max_iter=%i).'\n"
     ]
    },
    {
     "name": "stdout",
     "output_type": "stream",
     "text": [
      "[CV 4/5] END imputer__strategy=mean, svc__C=1, svc__class_weight=None, svc__kernel=rbf, svc__max_iter=1000;, score=0.529 total time=  12.4s\n"
     ]
    },
    {
     "name": "stderr",
     "output_type": "stream",
     "text": [
      "/opt/conda/lib/python3.9/site-packages/sklearn/svm/_base.py:255: ConvergenceWarning: Solver terminated early (max_iter=1000).  Consider pre-processing your data with StandardScaler or MinMaxScaler.\n",
      "  warnings.warn('Solver terminated early (max_iter=%i).'\n"
     ]
    },
    {
     "name": "stdout",
     "output_type": "stream",
     "text": [
      "[CV 5/5] END imputer__strategy=mean, svc__C=1, svc__class_weight=None, svc__kernel=rbf, svc__max_iter=1000;, score=0.526 total time=  12.5s\n",
      "[CV 1/5] END imputer__strategy=mean, svc__C=1, svc__class_weight=None, svc__kernel=rbf, svc__max_iter=10000;, score=0.528 total time=  15.0s\n",
      "[CV 2/5] END imputer__strategy=mean, svc__C=1, svc__class_weight=None, svc__kernel=rbf, svc__max_iter=10000;, score=0.529 total time=  14.6s\n",
      "[CV 3/5] END imputer__strategy=mean, svc__C=1, svc__class_weight=None, svc__kernel=rbf, svc__max_iter=10000;, score=0.525 total time=  15.8s\n",
      "[CV 4/5] END imputer__strategy=mean, svc__C=1, svc__class_weight=None, svc__kernel=rbf, svc__max_iter=10000;, score=0.538 total time=  16.1s\n",
      "[CV 5/5] END imputer__strategy=mean, svc__C=1, svc__class_weight=None, svc__kernel=rbf, svc__max_iter=10000;, score=0.536 total time=  14.9s\n"
     ]
    },
    {
     "name": "stderr",
     "output_type": "stream",
     "text": [
      "/opt/conda/lib/python3.9/site-packages/sklearn/svm/_base.py:255: ConvergenceWarning: Solver terminated early (max_iter=1000).  Consider pre-processing your data with StandardScaler or MinMaxScaler.\n",
      "  warnings.warn('Solver terminated early (max_iter=%i).'\n"
     ]
    },
    {
     "name": "stdout",
     "output_type": "stream",
     "text": [
      "[CV 1/5] END imputer__strategy=mean, svc__C=1, svc__class_weight=None, svc__kernel=poly, svc__max_iter=1000;, score=0.480 total time=   9.5s\n"
     ]
    },
    {
     "name": "stderr",
     "output_type": "stream",
     "text": [
      "/opt/conda/lib/python3.9/site-packages/sklearn/svm/_base.py:255: ConvergenceWarning: Solver terminated early (max_iter=1000).  Consider pre-processing your data with StandardScaler or MinMaxScaler.\n",
      "  warnings.warn('Solver terminated early (max_iter=%i).'\n"
     ]
    },
    {
     "name": "stdout",
     "output_type": "stream",
     "text": [
      "[CV 2/5] END imputer__strategy=mean, svc__C=1, svc__class_weight=None, svc__kernel=poly, svc__max_iter=1000;, score=0.480 total time=  10.2s\n"
     ]
    },
    {
     "name": "stderr",
     "output_type": "stream",
     "text": [
      "/opt/conda/lib/python3.9/site-packages/sklearn/svm/_base.py:255: ConvergenceWarning: Solver terminated early (max_iter=1000).  Consider pre-processing your data with StandardScaler or MinMaxScaler.\n",
      "  warnings.warn('Solver terminated early (max_iter=%i).'\n"
     ]
    },
    {
     "name": "stdout",
     "output_type": "stream",
     "text": [
      "[CV 3/5] END imputer__strategy=mean, svc__C=1, svc__class_weight=None, svc__kernel=poly, svc__max_iter=1000;, score=0.487 total time=   9.4s\n"
     ]
    },
    {
     "name": "stderr",
     "output_type": "stream",
     "text": [
      "/opt/conda/lib/python3.9/site-packages/sklearn/svm/_base.py:255: ConvergenceWarning: Solver terminated early (max_iter=1000).  Consider pre-processing your data with StandardScaler or MinMaxScaler.\n",
      "  warnings.warn('Solver terminated early (max_iter=%i).'\n"
     ]
    },
    {
     "name": "stdout",
     "output_type": "stream",
     "text": [
      "[CV 4/5] END imputer__strategy=mean, svc__C=1, svc__class_weight=None, svc__kernel=poly, svc__max_iter=1000;, score=0.488 total time=   9.6s\n"
     ]
    },
    {
     "name": "stderr",
     "output_type": "stream",
     "text": [
      "/opt/conda/lib/python3.9/site-packages/sklearn/svm/_base.py:255: ConvergenceWarning: Solver terminated early (max_iter=1000).  Consider pre-processing your data with StandardScaler or MinMaxScaler.\n",
      "  warnings.warn('Solver terminated early (max_iter=%i).'\n"
     ]
    },
    {
     "name": "stdout",
     "output_type": "stream",
     "text": [
      "[CV 5/5] END imputer__strategy=mean, svc__C=1, svc__class_weight=None, svc__kernel=poly, svc__max_iter=1000;, score=0.478 total time=   9.9s\n"
     ]
    },
    {
     "name": "stderr",
     "output_type": "stream",
     "text": [
      "/opt/conda/lib/python3.9/site-packages/sklearn/svm/_base.py:255: ConvergenceWarning: Solver terminated early (max_iter=10000).  Consider pre-processing your data with StandardScaler or MinMaxScaler.\n",
      "  warnings.warn('Solver terminated early (max_iter=%i).'\n"
     ]
    },
    {
     "name": "stdout",
     "output_type": "stream",
     "text": [
      "[CV 1/5] END imputer__strategy=mean, svc__C=1, svc__class_weight=None, svc__kernel=poly, svc__max_iter=10000;, score=0.523 total time=  12.2s\n"
     ]
    },
    {
     "name": "stderr",
     "output_type": "stream",
     "text": [
      "/opt/conda/lib/python3.9/site-packages/sklearn/svm/_base.py:255: ConvergenceWarning: Solver terminated early (max_iter=10000).  Consider pre-processing your data with StandardScaler or MinMaxScaler.\n",
      "  warnings.warn('Solver terminated early (max_iter=%i).'\n"
     ]
    },
    {
     "name": "stdout",
     "output_type": "stream",
     "text": [
      "[CV 2/5] END imputer__strategy=mean, svc__C=1, svc__class_weight=None, svc__kernel=poly, svc__max_iter=10000;, score=0.519 total time=  11.8s\n",
      "[CV 3/5] END imputer__strategy=mean, svc__C=1, svc__class_weight=None, svc__kernel=poly, svc__max_iter=10000;, score=0.516 total time=  12.0s\n",
      "[CV 4/5] END imputer__strategy=mean, svc__C=1, svc__class_weight=None, svc__kernel=poly, svc__max_iter=10000;, score=0.527 total time=  12.1s\n",
      "[CV 5/5] END imputer__strategy=mean, svc__C=1, svc__class_weight=None, svc__kernel=poly, svc__max_iter=10000;, score=0.519 total time=  11.9s\n"
     ]
    },
    {
     "name": "stderr",
     "output_type": "stream",
     "text": [
      "/opt/conda/lib/python3.9/site-packages/sklearn/svm/_base.py:255: ConvergenceWarning: Solver terminated early (max_iter=1000).  Consider pre-processing your data with StandardScaler or MinMaxScaler.\n",
      "  warnings.warn('Solver terminated early (max_iter=%i).'\n"
     ]
    },
    {
     "name": "stdout",
     "output_type": "stream",
     "text": [
      "[CV 1/5] END imputer__strategy=mean, svc__C=1, svc__class_weight=None, svc__kernel=sigmoid, svc__max_iter=1000;, score=0.355 total time=  12.8s\n"
     ]
    },
    {
     "name": "stderr",
     "output_type": "stream",
     "text": [
      "/opt/conda/lib/python3.9/site-packages/sklearn/svm/_base.py:255: ConvergenceWarning: Solver terminated early (max_iter=1000).  Consider pre-processing your data with StandardScaler or MinMaxScaler.\n",
      "  warnings.warn('Solver terminated early (max_iter=%i).'\n"
     ]
    },
    {
     "name": "stdout",
     "output_type": "stream",
     "text": [
      "[CV 2/5] END imputer__strategy=mean, svc__C=1, svc__class_weight=None, svc__kernel=sigmoid, svc__max_iter=1000;, score=0.368 total time=  13.5s\n"
     ]
    },
    {
     "name": "stderr",
     "output_type": "stream",
     "text": [
      "/opt/conda/lib/python3.9/site-packages/sklearn/svm/_base.py:255: ConvergenceWarning: Solver terminated early (max_iter=1000).  Consider pre-processing your data with StandardScaler or MinMaxScaler.\n",
      "  warnings.warn('Solver terminated early (max_iter=%i).'\n"
     ]
    },
    {
     "name": "stdout",
     "output_type": "stream",
     "text": [
      "[CV 3/5] END imputer__strategy=mean, svc__C=1, svc__class_weight=None, svc__kernel=sigmoid, svc__max_iter=1000;, score=0.334 total time=  13.5s\n"
     ]
    },
    {
     "name": "stderr",
     "output_type": "stream",
     "text": [
      "/opt/conda/lib/python3.9/site-packages/sklearn/svm/_base.py:255: ConvergenceWarning: Solver terminated early (max_iter=1000).  Consider pre-processing your data with StandardScaler or MinMaxScaler.\n",
      "  warnings.warn('Solver terminated early (max_iter=%i).'\n"
     ]
    },
    {
     "name": "stdout",
     "output_type": "stream",
     "text": [
      "[CV 4/5] END imputer__strategy=mean, svc__C=1, svc__class_weight=None, svc__kernel=sigmoid, svc__max_iter=1000;, score=0.350 total time=  13.4s\n"
     ]
    },
    {
     "name": "stderr",
     "output_type": "stream",
     "text": [
      "/opt/conda/lib/python3.9/site-packages/sklearn/svm/_base.py:255: ConvergenceWarning: Solver terminated early (max_iter=1000).  Consider pre-processing your data with StandardScaler or MinMaxScaler.\n",
      "  warnings.warn('Solver terminated early (max_iter=%i).'\n"
     ]
    },
    {
     "name": "stdout",
     "output_type": "stream",
     "text": [
      "[CV 5/5] END imputer__strategy=mean, svc__C=1, svc__class_weight=None, svc__kernel=sigmoid, svc__max_iter=1000;, score=0.352 total time=  13.5s\n",
      "[CV 1/5] END imputer__strategy=mean, svc__C=1, svc__class_weight=None, svc__kernel=sigmoid, svc__max_iter=10000;, score=0.353 total time=  13.9s\n",
      "[CV 2/5] END imputer__strategy=mean, svc__C=1, svc__class_weight=None, svc__kernel=sigmoid, svc__max_iter=10000;, score=0.362 total time=  14.2s\n",
      "[CV 3/5] END imputer__strategy=mean, svc__C=1, svc__class_weight=None, svc__kernel=sigmoid, svc__max_iter=10000;, score=0.342 total time=  14.3s\n",
      "[CV 4/5] END imputer__strategy=mean, svc__C=1, svc__class_weight=None, svc__kernel=sigmoid, svc__max_iter=10000;, score=0.349 total time=  14.2s\n",
      "[CV 5/5] END imputer__strategy=mean, svc__C=1, svc__class_weight=None, svc__kernel=sigmoid, svc__max_iter=10000;, score=0.349 total time=  14.2s\n"
     ]
    },
    {
     "name": "stderr",
     "output_type": "stream",
     "text": [
      "/opt/conda/lib/python3.9/site-packages/sklearn/svm/_base.py:255: ConvergenceWarning: Solver terminated early (max_iter=1000).  Consider pre-processing your data with StandardScaler or MinMaxScaler.\n",
      "  warnings.warn('Solver terminated early (max_iter=%i).'\n"
     ]
    },
    {
     "name": "stdout",
     "output_type": "stream",
     "text": [
      "[CV 1/5] END imputer__strategy=mean, svc__C=1, svc__class_weight=balanced, svc__kernel=linear, svc__max_iter=1000;, score=0.346 total time=   7.7s\n"
     ]
    },
    {
     "name": "stderr",
     "output_type": "stream",
     "text": [
      "/opt/conda/lib/python3.9/site-packages/sklearn/svm/_base.py:255: ConvergenceWarning: Solver terminated early (max_iter=1000).  Consider pre-processing your data with StandardScaler or MinMaxScaler.\n",
      "  warnings.warn('Solver terminated early (max_iter=%i).'\n"
     ]
    },
    {
     "name": "stdout",
     "output_type": "stream",
     "text": [
      "[CV 2/5] END imputer__strategy=mean, svc__C=1, svc__class_weight=balanced, svc__kernel=linear, svc__max_iter=1000;, score=0.358 total time=   7.5s\n"
     ]
    },
    {
     "name": "stderr",
     "output_type": "stream",
     "text": [
      "/opt/conda/lib/python3.9/site-packages/sklearn/svm/_base.py:255: ConvergenceWarning: Solver terminated early (max_iter=1000).  Consider pre-processing your data with StandardScaler or MinMaxScaler.\n",
      "  warnings.warn('Solver terminated early (max_iter=%i).'\n"
     ]
    },
    {
     "name": "stdout",
     "output_type": "stream",
     "text": [
      "[CV 3/5] END imputer__strategy=mean, svc__C=1, svc__class_weight=balanced, svc__kernel=linear, svc__max_iter=1000;, score=0.349 total time=   7.6s\n"
     ]
    },
    {
     "name": "stderr",
     "output_type": "stream",
     "text": [
      "/opt/conda/lib/python3.9/site-packages/sklearn/svm/_base.py:255: ConvergenceWarning: Solver terminated early (max_iter=1000).  Consider pre-processing your data with StandardScaler or MinMaxScaler.\n",
      "  warnings.warn('Solver terminated early (max_iter=%i).'\n"
     ]
    },
    {
     "name": "stdout",
     "output_type": "stream",
     "text": [
      "[CV 4/5] END imputer__strategy=mean, svc__C=1, svc__class_weight=balanced, svc__kernel=linear, svc__max_iter=1000;, score=0.351 total time=   7.6s\n"
     ]
    },
    {
     "name": "stderr",
     "output_type": "stream",
     "text": [
      "/opt/conda/lib/python3.9/site-packages/sklearn/svm/_base.py:255: ConvergenceWarning: Solver terminated early (max_iter=1000).  Consider pre-processing your data with StandardScaler or MinMaxScaler.\n",
      "  warnings.warn('Solver terminated early (max_iter=%i).'\n"
     ]
    },
    {
     "name": "stdout",
     "output_type": "stream",
     "text": [
      "[CV 5/5] END imputer__strategy=mean, svc__C=1, svc__class_weight=balanced, svc__kernel=linear, svc__max_iter=1000;, score=0.395 total time=   7.6s\n"
     ]
    },
    {
     "name": "stderr",
     "output_type": "stream",
     "text": [
      "/opt/conda/lib/python3.9/site-packages/sklearn/svm/_base.py:255: ConvergenceWarning: Solver terminated early (max_iter=10000).  Consider pre-processing your data with StandardScaler or MinMaxScaler.\n",
      "  warnings.warn('Solver terminated early (max_iter=%i).'\n"
     ]
    },
    {
     "name": "stdout",
     "output_type": "stream",
     "text": [
      "[CV 1/5] END imputer__strategy=mean, svc__C=1, svc__class_weight=balanced, svc__kernel=linear, svc__max_iter=10000;, score=0.439 total time=  14.6s\n"
     ]
    },
    {
     "name": "stderr",
     "output_type": "stream",
     "text": [
      "/opt/conda/lib/python3.9/site-packages/sklearn/svm/_base.py:255: ConvergenceWarning: Solver terminated early (max_iter=10000).  Consider pre-processing your data with StandardScaler or MinMaxScaler.\n",
      "  warnings.warn('Solver terminated early (max_iter=%i).'\n"
     ]
    },
    {
     "name": "stdout",
     "output_type": "stream",
     "text": [
      "[CV 2/5] END imputer__strategy=mean, svc__C=1, svc__class_weight=balanced, svc__kernel=linear, svc__max_iter=10000;, score=0.445 total time=  14.6s\n"
     ]
    },
    {
     "name": "stderr",
     "output_type": "stream",
     "text": [
      "/opt/conda/lib/python3.9/site-packages/sklearn/svm/_base.py:255: ConvergenceWarning: Solver terminated early (max_iter=10000).  Consider pre-processing your data with StandardScaler or MinMaxScaler.\n",
      "  warnings.warn('Solver terminated early (max_iter=%i).'\n"
     ]
    },
    {
     "name": "stdout",
     "output_type": "stream",
     "text": [
      "[CV 3/5] END imputer__strategy=mean, svc__C=1, svc__class_weight=balanced, svc__kernel=linear, svc__max_iter=10000;, score=0.441 total time=  14.6s\n"
     ]
    },
    {
     "name": "stderr",
     "output_type": "stream",
     "text": [
      "/opt/conda/lib/python3.9/site-packages/sklearn/svm/_base.py:255: ConvergenceWarning: Solver terminated early (max_iter=10000).  Consider pre-processing your data with StandardScaler or MinMaxScaler.\n",
      "  warnings.warn('Solver terminated early (max_iter=%i).'\n"
     ]
    },
    {
     "name": "stdout",
     "output_type": "stream",
     "text": [
      "[CV 4/5] END imputer__strategy=mean, svc__C=1, svc__class_weight=balanced, svc__kernel=linear, svc__max_iter=10000;, score=0.441 total time=  14.7s\n"
     ]
    },
    {
     "name": "stderr",
     "output_type": "stream",
     "text": [
      "/opt/conda/lib/python3.9/site-packages/sklearn/svm/_base.py:255: ConvergenceWarning: Solver terminated early (max_iter=10000).  Consider pre-processing your data with StandardScaler or MinMaxScaler.\n",
      "  warnings.warn('Solver terminated early (max_iter=%i).'\n"
     ]
    },
    {
     "name": "stdout",
     "output_type": "stream",
     "text": [
      "[CV 5/5] END imputer__strategy=mean, svc__C=1, svc__class_weight=balanced, svc__kernel=linear, svc__max_iter=10000;, score=0.459 total time=  14.9s\n"
     ]
    },
    {
     "name": "stderr",
     "output_type": "stream",
     "text": [
      "/opt/conda/lib/python3.9/site-packages/sklearn/svm/_base.py:255: ConvergenceWarning: Solver terminated early (max_iter=1000).  Consider pre-processing your data with StandardScaler or MinMaxScaler.\n",
      "  warnings.warn('Solver terminated early (max_iter=%i).'\n"
     ]
    },
    {
     "name": "stdout",
     "output_type": "stream",
     "text": [
      "[CV 1/5] END imputer__strategy=mean, svc__C=1, svc__class_weight=balanced, svc__kernel=rbf, svc__max_iter=1000;, score=0.368 total time=  12.6s\n"
     ]
    },
    {
     "name": "stderr",
     "output_type": "stream",
     "text": [
      "/opt/conda/lib/python3.9/site-packages/sklearn/svm/_base.py:255: ConvergenceWarning: Solver terminated early (max_iter=1000).  Consider pre-processing your data with StandardScaler or MinMaxScaler.\n",
      "  warnings.warn('Solver terminated early (max_iter=%i).'\n"
     ]
    },
    {
     "name": "stdout",
     "output_type": "stream",
     "text": [
      "[CV 2/5] END imputer__strategy=mean, svc__C=1, svc__class_weight=balanced, svc__kernel=rbf, svc__max_iter=1000;, score=0.374 total time=  12.6s\n"
     ]
    },
    {
     "name": "stderr",
     "output_type": "stream",
     "text": [
      "/opt/conda/lib/python3.9/site-packages/sklearn/svm/_base.py:255: ConvergenceWarning: Solver terminated early (max_iter=1000).  Consider pre-processing your data with StandardScaler or MinMaxScaler.\n",
      "  warnings.warn('Solver terminated early (max_iter=%i).'\n"
     ]
    },
    {
     "name": "stdout",
     "output_type": "stream",
     "text": [
      "[CV 3/5] END imputer__strategy=mean, svc__C=1, svc__class_weight=balanced, svc__kernel=rbf, svc__max_iter=1000;, score=0.365 total time=  12.4s\n"
     ]
    },
    {
     "name": "stderr",
     "output_type": "stream",
     "text": [
      "/opt/conda/lib/python3.9/site-packages/sklearn/svm/_base.py:255: ConvergenceWarning: Solver terminated early (max_iter=1000).  Consider pre-processing your data with StandardScaler or MinMaxScaler.\n",
      "  warnings.warn('Solver terminated early (max_iter=%i).'\n"
     ]
    },
    {
     "name": "stdout",
     "output_type": "stream",
     "text": [
      "[CV 4/5] END imputer__strategy=mean, svc__C=1, svc__class_weight=balanced, svc__kernel=rbf, svc__max_iter=1000;, score=0.365 total time=  12.6s\n"
     ]
    },
    {
     "name": "stderr",
     "output_type": "stream",
     "text": [
      "/opt/conda/lib/python3.9/site-packages/sklearn/svm/_base.py:255: ConvergenceWarning: Solver terminated early (max_iter=1000).  Consider pre-processing your data with StandardScaler or MinMaxScaler.\n",
      "  warnings.warn('Solver terminated early (max_iter=%i).'\n"
     ]
    },
    {
     "name": "stdout",
     "output_type": "stream",
     "text": [
      "[CV 5/5] END imputer__strategy=mean, svc__C=1, svc__class_weight=balanced, svc__kernel=rbf, svc__max_iter=1000;, score=0.371 total time=  12.5s\n",
      "[CV 1/5] END imputer__strategy=mean, svc__C=1, svc__class_weight=balanced, svc__kernel=rbf, svc__max_iter=10000;, score=0.455 total time=  18.3s\n",
      "[CV 2/5] END imputer__strategy=mean, svc__C=1, svc__class_weight=balanced, svc__kernel=rbf, svc__max_iter=10000;, score=0.465 total time=  18.4s\n",
      "[CV 3/5] END imputer__strategy=mean, svc__C=1, svc__class_weight=balanced, svc__kernel=rbf, svc__max_iter=10000;, score=0.476 total time=  18.4s\n",
      "[CV 4/5] END imputer__strategy=mean, svc__C=1, svc__class_weight=balanced, svc__kernel=rbf, svc__max_iter=10000;, score=0.457 total time=  18.3s\n",
      "[CV 5/5] END imputer__strategy=mean, svc__C=1, svc__class_weight=balanced, svc__kernel=rbf, svc__max_iter=10000;, score=0.484 total time=  18.5s\n"
     ]
    },
    {
     "name": "stderr",
     "output_type": "stream",
     "text": [
      "/opt/conda/lib/python3.9/site-packages/sklearn/svm/_base.py:255: ConvergenceWarning: Solver terminated early (max_iter=1000).  Consider pre-processing your data with StandardScaler or MinMaxScaler.\n",
      "  warnings.warn('Solver terminated early (max_iter=%i).'\n"
     ]
    },
    {
     "name": "stdout",
     "output_type": "stream",
     "text": [
      "[CV 1/5] END imputer__strategy=mean, svc__C=1, svc__class_weight=balanced, svc__kernel=poly, svc__max_iter=1000;, score=0.369 total time=   9.3s\n"
     ]
    },
    {
     "name": "stderr",
     "output_type": "stream",
     "text": [
      "/opt/conda/lib/python3.9/site-packages/sklearn/svm/_base.py:255: ConvergenceWarning: Solver terminated early (max_iter=1000).  Consider pre-processing your data with StandardScaler or MinMaxScaler.\n",
      "  warnings.warn('Solver terminated early (max_iter=%i).'\n"
     ]
    },
    {
     "name": "stdout",
     "output_type": "stream",
     "text": [
      "[CV 2/5] END imputer__strategy=mean, svc__C=1, svc__class_weight=balanced, svc__kernel=poly, svc__max_iter=1000;, score=0.369 total time=   9.4s\n"
     ]
    },
    {
     "name": "stderr",
     "output_type": "stream",
     "text": [
      "/opt/conda/lib/python3.9/site-packages/sklearn/svm/_base.py:255: ConvergenceWarning: Solver terminated early (max_iter=1000).  Consider pre-processing your data with StandardScaler or MinMaxScaler.\n",
      "  warnings.warn('Solver terminated early (max_iter=%i).'\n"
     ]
    },
    {
     "name": "stdout",
     "output_type": "stream",
     "text": [
      "[CV 3/5] END imputer__strategy=mean, svc__C=1, svc__class_weight=balanced, svc__kernel=poly, svc__max_iter=1000;, score=0.371 total time=   9.3s\n"
     ]
    },
    {
     "name": "stderr",
     "output_type": "stream",
     "text": [
      "/opt/conda/lib/python3.9/site-packages/sklearn/svm/_base.py:255: ConvergenceWarning: Solver terminated early (max_iter=1000).  Consider pre-processing your data with StandardScaler or MinMaxScaler.\n",
      "  warnings.warn('Solver terminated early (max_iter=%i).'\n"
     ]
    },
    {
     "name": "stdout",
     "output_type": "stream",
     "text": [
      "[CV 4/5] END imputer__strategy=mean, svc__C=1, svc__class_weight=balanced, svc__kernel=poly, svc__max_iter=1000;, score=0.366 total time=   9.2s\n"
     ]
    },
    {
     "name": "stderr",
     "output_type": "stream",
     "text": [
      "/opt/conda/lib/python3.9/site-packages/sklearn/svm/_base.py:255: ConvergenceWarning: Solver terminated early (max_iter=1000).  Consider pre-processing your data with StandardScaler or MinMaxScaler.\n",
      "  warnings.warn('Solver terminated early (max_iter=%i).'\n"
     ]
    },
    {
     "name": "stdout",
     "output_type": "stream",
     "text": [
      "[CV 5/5] END imputer__strategy=mean, svc__C=1, svc__class_weight=balanced, svc__kernel=poly, svc__max_iter=1000;, score=0.365 total time=   9.4s\n",
      "[CV 1/5] END imputer__strategy=mean, svc__C=1, svc__class_weight=balanced, svc__kernel=poly, svc__max_iter=10000;, score=0.458 total time=  15.1s\n",
      "[CV 2/5] END imputer__strategy=mean, svc__C=1, svc__class_weight=balanced, svc__kernel=poly, svc__max_iter=10000;, score=0.458 total time=  15.0s\n",
      "[CV 3/5] END imputer__strategy=mean, svc__C=1, svc__class_weight=balanced, svc__kernel=poly, svc__max_iter=10000;, score=0.461 total time=  15.0s\n",
      "[CV 4/5] END imputer__strategy=mean, svc__C=1, svc__class_weight=balanced, svc__kernel=poly, svc__max_iter=10000;, score=0.460 total time=  14.6s\n",
      "[CV 5/5] END imputer__strategy=mean, svc__C=1, svc__class_weight=balanced, svc__kernel=poly, svc__max_iter=10000;, score=0.478 total time=  14.9s\n"
     ]
    },
    {
     "name": "stderr",
     "output_type": "stream",
     "text": [
      "/opt/conda/lib/python3.9/site-packages/sklearn/svm/_base.py:255: ConvergenceWarning: Solver terminated early (max_iter=1000).  Consider pre-processing your data with StandardScaler or MinMaxScaler.\n",
      "  warnings.warn('Solver terminated early (max_iter=%i).'\n"
     ]
    },
    {
     "name": "stdout",
     "output_type": "stream",
     "text": [
      "[CV 1/5] END imputer__strategy=mean, svc__C=1, svc__class_weight=balanced, svc__kernel=sigmoid, svc__max_iter=1000;, score=0.341 total time=  12.5s\n"
     ]
    },
    {
     "name": "stderr",
     "output_type": "stream",
     "text": [
      "/opt/conda/lib/python3.9/site-packages/sklearn/svm/_base.py:255: ConvergenceWarning: Solver terminated early (max_iter=1000).  Consider pre-processing your data with StandardScaler or MinMaxScaler.\n",
      "  warnings.warn('Solver terminated early (max_iter=%i).'\n"
     ]
    },
    {
     "name": "stdout",
     "output_type": "stream",
     "text": [
      "[CV 2/5] END imputer__strategy=mean, svc__C=1, svc__class_weight=balanced, svc__kernel=sigmoid, svc__max_iter=1000;, score=0.345 total time=  12.3s\n"
     ]
    },
    {
     "name": "stderr",
     "output_type": "stream",
     "text": [
      "/opt/conda/lib/python3.9/site-packages/sklearn/svm/_base.py:255: ConvergenceWarning: Solver terminated early (max_iter=1000).  Consider pre-processing your data with StandardScaler or MinMaxScaler.\n",
      "  warnings.warn('Solver terminated early (max_iter=%i).'\n"
     ]
    },
    {
     "name": "stdout",
     "output_type": "stream",
     "text": [
      "[CV 3/5] END imputer__strategy=mean, svc__C=1, svc__class_weight=balanced, svc__kernel=sigmoid, svc__max_iter=1000;, score=0.332 total time=  12.2s\n"
     ]
    },
    {
     "name": "stderr",
     "output_type": "stream",
     "text": [
      "/opt/conda/lib/python3.9/site-packages/sklearn/svm/_base.py:255: ConvergenceWarning: Solver terminated early (max_iter=1000).  Consider pre-processing your data with StandardScaler or MinMaxScaler.\n",
      "  warnings.warn('Solver terminated early (max_iter=%i).'\n"
     ]
    },
    {
     "name": "stdout",
     "output_type": "stream",
     "text": [
      "[CV 4/5] END imputer__strategy=mean, svc__C=1, svc__class_weight=balanced, svc__kernel=sigmoid, svc__max_iter=1000;, score=0.333 total time=  12.2s\n"
     ]
    },
    {
     "name": "stderr",
     "output_type": "stream",
     "text": [
      "/opt/conda/lib/python3.9/site-packages/sklearn/svm/_base.py:255: ConvergenceWarning: Solver terminated early (max_iter=1000).  Consider pre-processing your data with StandardScaler or MinMaxScaler.\n",
      "  warnings.warn('Solver terminated early (max_iter=%i).'\n"
     ]
    },
    {
     "name": "stdout",
     "output_type": "stream",
     "text": [
      "[CV 5/5] END imputer__strategy=mean, svc__C=1, svc__class_weight=balanced, svc__kernel=sigmoid, svc__max_iter=1000;, score=0.342 total time=  12.5s\n",
      "[CV 1/5] END imputer__strategy=mean, svc__C=1, svc__class_weight=balanced, svc__kernel=sigmoid, svc__max_iter=10000;, score=0.301 total time=  18.1s\n",
      "[CV 2/5] END imputer__strategy=mean, svc__C=1, svc__class_weight=balanced, svc__kernel=sigmoid, svc__max_iter=10000;, score=0.320 total time=  17.8s\n",
      "[CV 3/5] END imputer__strategy=mean, svc__C=1, svc__class_weight=balanced, svc__kernel=sigmoid, svc__max_iter=10000;, score=0.321 total time=  17.3s\n",
      "[CV 4/5] END imputer__strategy=mean, svc__C=1, svc__class_weight=balanced, svc__kernel=sigmoid, svc__max_iter=10000;, score=0.315 total time=  17.3s\n",
      "[CV 5/5] END imputer__strategy=mean, svc__C=1, svc__class_weight=balanced, svc__kernel=sigmoid, svc__max_iter=10000;, score=0.323 total time=  17.2s\n"
     ]
    },
    {
     "name": "stderr",
     "output_type": "stream",
     "text": [
      "/opt/conda/lib/python3.9/site-packages/sklearn/svm/_base.py:255: ConvergenceWarning: Solver terminated early (max_iter=1000).  Consider pre-processing your data with StandardScaler or MinMaxScaler.\n",
      "  warnings.warn('Solver terminated early (max_iter=%i).'\n"
     ]
    },
    {
     "name": "stdout",
     "output_type": "stream",
     "text": [
      "[CV 1/5] END imputer__strategy=mean, svc__C=10, svc__class_weight=None, svc__kernel=linear, svc__max_iter=1000;, score=0.343 total time=   6.3s\n"
     ]
    },
    {
     "name": "stderr",
     "output_type": "stream",
     "text": [
      "/opt/conda/lib/python3.9/site-packages/sklearn/svm/_base.py:255: ConvergenceWarning: Solver terminated early (max_iter=1000).  Consider pre-processing your data with StandardScaler or MinMaxScaler.\n",
      "  warnings.warn('Solver terminated early (max_iter=%i).'\n"
     ]
    },
    {
     "name": "stdout",
     "output_type": "stream",
     "text": [
      "[CV 2/5] END imputer__strategy=mean, svc__C=10, svc__class_weight=None, svc__kernel=linear, svc__max_iter=1000;, score=0.290 total time=   6.2s\n"
     ]
    },
    {
     "name": "stderr",
     "output_type": "stream",
     "text": [
      "/opt/conda/lib/python3.9/site-packages/sklearn/svm/_base.py:255: ConvergenceWarning: Solver terminated early (max_iter=1000).  Consider pre-processing your data with StandardScaler or MinMaxScaler.\n",
      "  warnings.warn('Solver terminated early (max_iter=%i).'\n"
     ]
    },
    {
     "name": "stdout",
     "output_type": "stream",
     "text": [
      "[CV 3/5] END imputer__strategy=mean, svc__C=10, svc__class_weight=None, svc__kernel=linear, svc__max_iter=1000;, score=0.240 total time=   6.4s\n"
     ]
    },
    {
     "name": "stderr",
     "output_type": "stream",
     "text": [
      "/opt/conda/lib/python3.9/site-packages/sklearn/svm/_base.py:255: ConvergenceWarning: Solver terminated early (max_iter=1000).  Consider pre-processing your data with StandardScaler or MinMaxScaler.\n",
      "  warnings.warn('Solver terminated early (max_iter=%i).'\n"
     ]
    },
    {
     "name": "stdout",
     "output_type": "stream",
     "text": [
      "[CV 4/5] END imputer__strategy=mean, svc__C=10, svc__class_weight=None, svc__kernel=linear, svc__max_iter=1000;, score=0.255 total time=   6.2s\n"
     ]
    },
    {
     "name": "stderr",
     "output_type": "stream",
     "text": [
      "/opt/conda/lib/python3.9/site-packages/sklearn/svm/_base.py:255: ConvergenceWarning: Solver terminated early (max_iter=1000).  Consider pre-processing your data with StandardScaler or MinMaxScaler.\n",
      "  warnings.warn('Solver terminated early (max_iter=%i).'\n"
     ]
    },
    {
     "name": "stdout",
     "output_type": "stream",
     "text": [
      "[CV 5/5] END imputer__strategy=mean, svc__C=10, svc__class_weight=None, svc__kernel=linear, svc__max_iter=1000;, score=0.296 total time=   6.3s\n"
     ]
    },
    {
     "name": "stderr",
     "output_type": "stream",
     "text": [
      "/opt/conda/lib/python3.9/site-packages/sklearn/svm/_base.py:255: ConvergenceWarning: Solver terminated early (max_iter=10000).  Consider pre-processing your data with StandardScaler or MinMaxScaler.\n",
      "  warnings.warn('Solver terminated early (max_iter=%i).'\n"
     ]
    },
    {
     "name": "stdout",
     "output_type": "stream",
     "text": [
      "[CV 1/5] END imputer__strategy=mean, svc__C=10, svc__class_weight=None, svc__kernel=linear, svc__max_iter=10000;, score=0.428 total time=  17.2s\n"
     ]
    },
    {
     "name": "stderr",
     "output_type": "stream",
     "text": [
      "/opt/conda/lib/python3.9/site-packages/sklearn/svm/_base.py:255: ConvergenceWarning: Solver terminated early (max_iter=10000).  Consider pre-processing your data with StandardScaler or MinMaxScaler.\n",
      "  warnings.warn('Solver terminated early (max_iter=%i).'\n"
     ]
    },
    {
     "name": "stdout",
     "output_type": "stream",
     "text": [
      "[CV 2/5] END imputer__strategy=mean, svc__C=10, svc__class_weight=None, svc__kernel=linear, svc__max_iter=10000;, score=0.394 total time=  17.2s\n"
     ]
    },
    {
     "name": "stderr",
     "output_type": "stream",
     "text": [
      "/opt/conda/lib/python3.9/site-packages/sklearn/svm/_base.py:255: ConvergenceWarning: Solver terminated early (max_iter=10000).  Consider pre-processing your data with StandardScaler or MinMaxScaler.\n",
      "  warnings.warn('Solver terminated early (max_iter=%i).'\n"
     ]
    },
    {
     "name": "stdout",
     "output_type": "stream",
     "text": [
      "[CV 3/5] END imputer__strategy=mean, svc__C=10, svc__class_weight=None, svc__kernel=linear, svc__max_iter=10000;, score=0.425 total time=  16.8s\n"
     ]
    },
    {
     "name": "stderr",
     "output_type": "stream",
     "text": [
      "/opt/conda/lib/python3.9/site-packages/sklearn/svm/_base.py:255: ConvergenceWarning: Solver terminated early (max_iter=10000).  Consider pre-processing your data with StandardScaler or MinMaxScaler.\n",
      "  warnings.warn('Solver terminated early (max_iter=%i).'\n"
     ]
    },
    {
     "name": "stdout",
     "output_type": "stream",
     "text": [
      "[CV 4/5] END imputer__strategy=mean, svc__C=10, svc__class_weight=None, svc__kernel=linear, svc__max_iter=10000;, score=0.444 total time=  16.5s\n"
     ]
    },
    {
     "name": "stderr",
     "output_type": "stream",
     "text": [
      "/opt/conda/lib/python3.9/site-packages/sklearn/svm/_base.py:255: ConvergenceWarning: Solver terminated early (max_iter=10000).  Consider pre-processing your data with StandardScaler or MinMaxScaler.\n",
      "  warnings.warn('Solver terminated early (max_iter=%i).'\n"
     ]
    },
    {
     "name": "stdout",
     "output_type": "stream",
     "text": [
      "[CV 5/5] END imputer__strategy=mean, svc__C=10, svc__class_weight=None, svc__kernel=linear, svc__max_iter=10000;, score=0.416 total time=  16.8s\n"
     ]
    },
    {
     "name": "stderr",
     "output_type": "stream",
     "text": [
      "/opt/conda/lib/python3.9/site-packages/sklearn/svm/_base.py:255: ConvergenceWarning: Solver terminated early (max_iter=1000).  Consider pre-processing your data with StandardScaler or MinMaxScaler.\n",
      "  warnings.warn('Solver terminated early (max_iter=%i).'\n"
     ]
    },
    {
     "name": "stdout",
     "output_type": "stream",
     "text": [
      "[CV 1/5] END imputer__strategy=mean, svc__C=10, svc__class_weight=None, svc__kernel=rbf, svc__max_iter=1000;, score=0.461 total time=  11.0s\n"
     ]
    },
    {
     "name": "stderr",
     "output_type": "stream",
     "text": [
      "/opt/conda/lib/python3.9/site-packages/sklearn/svm/_base.py:255: ConvergenceWarning: Solver terminated early (max_iter=1000).  Consider pre-processing your data with StandardScaler or MinMaxScaler.\n",
      "  warnings.warn('Solver terminated early (max_iter=%i).'\n"
     ]
    },
    {
     "name": "stdout",
     "output_type": "stream",
     "text": [
      "[CV 2/5] END imputer__strategy=mean, svc__C=10, svc__class_weight=None, svc__kernel=rbf, svc__max_iter=1000;, score=0.436 total time=  11.4s\n"
     ]
    },
    {
     "name": "stderr",
     "output_type": "stream",
     "text": [
      "/opt/conda/lib/python3.9/site-packages/sklearn/svm/_base.py:255: ConvergenceWarning: Solver terminated early (max_iter=1000).  Consider pre-processing your data with StandardScaler or MinMaxScaler.\n",
      "  warnings.warn('Solver terminated early (max_iter=%i).'\n"
     ]
    },
    {
     "name": "stdout",
     "output_type": "stream",
     "text": [
      "[CV 3/5] END imputer__strategy=mean, svc__C=10, svc__class_weight=None, svc__kernel=rbf, svc__max_iter=1000;, score=0.433 total time=  11.0s\n"
     ]
    },
    {
     "name": "stderr",
     "output_type": "stream",
     "text": [
      "/opt/conda/lib/python3.9/site-packages/sklearn/svm/_base.py:255: ConvergenceWarning: Solver terminated early (max_iter=1000).  Consider pre-processing your data with StandardScaler or MinMaxScaler.\n",
      "  warnings.warn('Solver terminated early (max_iter=%i).'\n"
     ]
    },
    {
     "name": "stdout",
     "output_type": "stream",
     "text": [
      "[CV 4/5] END imputer__strategy=mean, svc__C=10, svc__class_weight=None, svc__kernel=rbf, svc__max_iter=1000;, score=0.455 total time=  11.4s\n"
     ]
    },
    {
     "name": "stderr",
     "output_type": "stream",
     "text": [
      "/opt/conda/lib/python3.9/site-packages/sklearn/svm/_base.py:255: ConvergenceWarning: Solver terminated early (max_iter=1000).  Consider pre-processing your data with StandardScaler or MinMaxScaler.\n",
      "  warnings.warn('Solver terminated early (max_iter=%i).'\n"
     ]
    },
    {
     "name": "stdout",
     "output_type": "stream",
     "text": [
      "[CV 5/5] END imputer__strategy=mean, svc__C=10, svc__class_weight=None, svc__kernel=rbf, svc__max_iter=1000;, score=0.449 total time=  11.3s\n"
     ]
    },
    {
     "name": "stderr",
     "output_type": "stream",
     "text": [
      "/opt/conda/lib/python3.9/site-packages/sklearn/svm/_base.py:255: ConvergenceWarning: Solver terminated early (max_iter=10000).  Consider pre-processing your data with StandardScaler or MinMaxScaler.\n",
      "  warnings.warn('Solver terminated early (max_iter=%i).'\n"
     ]
    },
    {
     "name": "stdout",
     "output_type": "stream",
     "text": [
      "[CV 1/5] END imputer__strategy=mean, svc__C=10, svc__class_weight=None, svc__kernel=rbf, svc__max_iter=10000;, score=0.503 total time=  16.9s\n"
     ]
    },
    {
     "name": "stderr",
     "output_type": "stream",
     "text": [
      "/opt/conda/lib/python3.9/site-packages/sklearn/svm/_base.py:255: ConvergenceWarning: Solver terminated early (max_iter=10000).  Consider pre-processing your data with StandardScaler or MinMaxScaler.\n",
      "  warnings.warn('Solver terminated early (max_iter=%i).'\n"
     ]
    },
    {
     "name": "stdout",
     "output_type": "stream",
     "text": [
      "[CV 2/5] END imputer__strategy=mean, svc__C=10, svc__class_weight=None, svc__kernel=rbf, svc__max_iter=10000;, score=0.502 total time=  16.7s\n"
     ]
    },
    {
     "name": "stderr",
     "output_type": "stream",
     "text": [
      "/opt/conda/lib/python3.9/site-packages/sklearn/svm/_base.py:255: ConvergenceWarning: Solver terminated early (max_iter=10000).  Consider pre-processing your data with StandardScaler or MinMaxScaler.\n",
      "  warnings.warn('Solver terminated early (max_iter=%i).'\n"
     ]
    },
    {
     "name": "stdout",
     "output_type": "stream",
     "text": [
      "[CV 3/5] END imputer__strategy=mean, svc__C=10, svc__class_weight=None, svc__kernel=rbf, svc__max_iter=10000;, score=0.508 total time=  16.8s\n"
     ]
    },
    {
     "name": "stderr",
     "output_type": "stream",
     "text": [
      "/opt/conda/lib/python3.9/site-packages/sklearn/svm/_base.py:255: ConvergenceWarning: Solver terminated early (max_iter=10000).  Consider pre-processing your data with StandardScaler or MinMaxScaler.\n",
      "  warnings.warn('Solver terminated early (max_iter=%i).'\n"
     ]
    },
    {
     "name": "stdout",
     "output_type": "stream",
     "text": [
      "[CV 4/5] END imputer__strategy=mean, svc__C=10, svc__class_weight=None, svc__kernel=rbf, svc__max_iter=10000;, score=0.511 total time=  16.7s\n"
     ]
    },
    {
     "name": "stderr",
     "output_type": "stream",
     "text": [
      "/opt/conda/lib/python3.9/site-packages/sklearn/svm/_base.py:255: ConvergenceWarning: Solver terminated early (max_iter=10000).  Consider pre-processing your data with StandardScaler or MinMaxScaler.\n",
      "  warnings.warn('Solver terminated early (max_iter=%i).'\n"
     ]
    },
    {
     "name": "stdout",
     "output_type": "stream",
     "text": [
      "[CV 5/5] END imputer__strategy=mean, svc__C=10, svc__class_weight=None, svc__kernel=rbf, svc__max_iter=10000;, score=0.513 total time=  16.5s\n"
     ]
    },
    {
     "name": "stderr",
     "output_type": "stream",
     "text": [
      "/opt/conda/lib/python3.9/site-packages/sklearn/svm/_base.py:255: ConvergenceWarning: Solver terminated early (max_iter=1000).  Consider pre-processing your data with StandardScaler or MinMaxScaler.\n",
      "  warnings.warn('Solver terminated early (max_iter=%i).'\n"
     ]
    },
    {
     "name": "stdout",
     "output_type": "stream",
     "text": [
      "[CV 1/5] END imputer__strategy=mean, svc__C=10, svc__class_weight=None, svc__kernel=poly, svc__max_iter=1000;, score=0.435 total time=   8.6s\n"
     ]
    },
    {
     "name": "stderr",
     "output_type": "stream",
     "text": [
      "/opt/conda/lib/python3.9/site-packages/sklearn/svm/_base.py:255: ConvergenceWarning: Solver terminated early (max_iter=1000).  Consider pre-processing your data with StandardScaler or MinMaxScaler.\n",
      "  warnings.warn('Solver terminated early (max_iter=%i).'\n"
     ]
    },
    {
     "name": "stdout",
     "output_type": "stream",
     "text": [
      "[CV 2/5] END imputer__strategy=mean, svc__C=10, svc__class_weight=None, svc__kernel=poly, svc__max_iter=1000;, score=0.438 total time=   8.5s\n"
     ]
    },
    {
     "name": "stderr",
     "output_type": "stream",
     "text": [
      "/opt/conda/lib/python3.9/site-packages/sklearn/svm/_base.py:255: ConvergenceWarning: Solver terminated early (max_iter=1000).  Consider pre-processing your data with StandardScaler or MinMaxScaler.\n",
      "  warnings.warn('Solver terminated early (max_iter=%i).'\n"
     ]
    },
    {
     "name": "stdout",
     "output_type": "stream",
     "text": [
      "[CV 3/5] END imputer__strategy=mean, svc__C=10, svc__class_weight=None, svc__kernel=poly, svc__max_iter=1000;, score=0.456 total time=   8.5s\n"
     ]
    },
    {
     "name": "stderr",
     "output_type": "stream",
     "text": [
      "/opt/conda/lib/python3.9/site-packages/sklearn/svm/_base.py:255: ConvergenceWarning: Solver terminated early (max_iter=1000).  Consider pre-processing your data with StandardScaler or MinMaxScaler.\n",
      "  warnings.warn('Solver terminated early (max_iter=%i).'\n"
     ]
    },
    {
     "name": "stdout",
     "output_type": "stream",
     "text": [
      "[CV 4/5] END imputer__strategy=mean, svc__C=10, svc__class_weight=None, svc__kernel=poly, svc__max_iter=1000;, score=0.435 total time=   8.5s\n"
     ]
    },
    {
     "name": "stderr",
     "output_type": "stream",
     "text": [
      "/opt/conda/lib/python3.9/site-packages/sklearn/svm/_base.py:255: ConvergenceWarning: Solver terminated early (max_iter=1000).  Consider pre-processing your data with StandardScaler or MinMaxScaler.\n",
      "  warnings.warn('Solver terminated early (max_iter=%i).'\n"
     ]
    },
    {
     "name": "stdout",
     "output_type": "stream",
     "text": [
      "[CV 5/5] END imputer__strategy=mean, svc__C=10, svc__class_weight=None, svc__kernel=poly, svc__max_iter=1000;, score=0.449 total time=   8.4s\n"
     ]
    },
    {
     "name": "stderr",
     "output_type": "stream",
     "text": [
      "/opt/conda/lib/python3.9/site-packages/sklearn/svm/_base.py:255: ConvergenceWarning: Solver terminated early (max_iter=10000).  Consider pre-processing your data with StandardScaler or MinMaxScaler.\n",
      "  warnings.warn('Solver terminated early (max_iter=%i).'\n"
     ]
    },
    {
     "name": "stdout",
     "output_type": "stream",
     "text": [
      "[CV 1/5] END imputer__strategy=mean, svc__C=10, svc__class_weight=None, svc__kernel=poly, svc__max_iter=10000;, score=0.491 total time=  13.2s\n"
     ]
    },
    {
     "name": "stderr",
     "output_type": "stream",
     "text": [
      "/opt/conda/lib/python3.9/site-packages/sklearn/svm/_base.py:255: ConvergenceWarning: Solver terminated early (max_iter=10000).  Consider pre-processing your data with StandardScaler or MinMaxScaler.\n",
      "  warnings.warn('Solver terminated early (max_iter=%i).'\n"
     ]
    },
    {
     "name": "stdout",
     "output_type": "stream",
     "text": [
      "[CV 2/5] END imputer__strategy=mean, svc__C=10, svc__class_weight=None, svc__kernel=poly, svc__max_iter=10000;, score=0.487 total time=  13.8s\n"
     ]
    },
    {
     "name": "stderr",
     "output_type": "stream",
     "text": [
      "/opt/conda/lib/python3.9/site-packages/sklearn/svm/_base.py:255: ConvergenceWarning: Solver terminated early (max_iter=10000).  Consider pre-processing your data with StandardScaler or MinMaxScaler.\n",
      "  warnings.warn('Solver terminated early (max_iter=%i).'\n"
     ]
    },
    {
     "name": "stdout",
     "output_type": "stream",
     "text": [
      "[CV 3/5] END imputer__strategy=mean, svc__C=10, svc__class_weight=None, svc__kernel=poly, svc__max_iter=10000;, score=0.490 total time=  13.5s\n"
     ]
    },
    {
     "name": "stderr",
     "output_type": "stream",
     "text": [
      "/opt/conda/lib/python3.9/site-packages/sklearn/svm/_base.py:255: ConvergenceWarning: Solver terminated early (max_iter=10000).  Consider pre-processing your data with StandardScaler or MinMaxScaler.\n",
      "  warnings.warn('Solver terminated early (max_iter=%i).'\n"
     ]
    },
    {
     "name": "stdout",
     "output_type": "stream",
     "text": [
      "[CV 4/5] END imputer__strategy=mean, svc__C=10, svc__class_weight=None, svc__kernel=poly, svc__max_iter=10000;, score=0.504 total time=  13.7s\n"
     ]
    },
    {
     "name": "stderr",
     "output_type": "stream",
     "text": [
      "/opt/conda/lib/python3.9/site-packages/sklearn/svm/_base.py:255: ConvergenceWarning: Solver terminated early (max_iter=10000).  Consider pre-processing your data with StandardScaler or MinMaxScaler.\n",
      "  warnings.warn('Solver terminated early (max_iter=%i).'\n"
     ]
    },
    {
     "name": "stdout",
     "output_type": "stream",
     "text": [
      "[CV 5/5] END imputer__strategy=mean, svc__C=10, svc__class_weight=None, svc__kernel=poly, svc__max_iter=10000;, score=0.499 total time=  13.3s\n"
     ]
    },
    {
     "name": "stderr",
     "output_type": "stream",
     "text": [
      "/opt/conda/lib/python3.9/site-packages/sklearn/svm/_base.py:255: ConvergenceWarning: Solver terminated early (max_iter=1000).  Consider pre-processing your data with StandardScaler or MinMaxScaler.\n",
      "  warnings.warn('Solver terminated early (max_iter=%i).'\n"
     ]
    },
    {
     "name": "stdout",
     "output_type": "stream",
     "text": [
      "[CV 1/5] END imputer__strategy=mean, svc__C=10, svc__class_weight=None, svc__kernel=sigmoid, svc__max_iter=1000;, score=0.339 total time=  11.3s\n"
     ]
    },
    {
     "name": "stderr",
     "output_type": "stream",
     "text": [
      "/opt/conda/lib/python3.9/site-packages/sklearn/svm/_base.py:255: ConvergenceWarning: Solver terminated early (max_iter=1000).  Consider pre-processing your data with StandardScaler or MinMaxScaler.\n",
      "  warnings.warn('Solver terminated early (max_iter=%i).'\n"
     ]
    },
    {
     "name": "stdout",
     "output_type": "stream",
     "text": [
      "[CV 2/5] END imputer__strategy=mean, svc__C=10, svc__class_weight=None, svc__kernel=sigmoid, svc__max_iter=1000;, score=0.344 total time=  11.9s\n"
     ]
    },
    {
     "name": "stderr",
     "output_type": "stream",
     "text": [
      "/opt/conda/lib/python3.9/site-packages/sklearn/svm/_base.py:255: ConvergenceWarning: Solver terminated early (max_iter=1000).  Consider pre-processing your data with StandardScaler or MinMaxScaler.\n",
      "  warnings.warn('Solver terminated early (max_iter=%i).'\n"
     ]
    },
    {
     "name": "stdout",
     "output_type": "stream",
     "text": [
      "[CV 3/5] END imputer__strategy=mean, svc__C=10, svc__class_weight=None, svc__kernel=sigmoid, svc__max_iter=1000;, score=0.316 total time=  11.6s\n"
     ]
    },
    {
     "name": "stderr",
     "output_type": "stream",
     "text": [
      "/opt/conda/lib/python3.9/site-packages/sklearn/svm/_base.py:255: ConvergenceWarning: Solver terminated early (max_iter=1000).  Consider pre-processing your data with StandardScaler or MinMaxScaler.\n",
      "  warnings.warn('Solver terminated early (max_iter=%i).'\n"
     ]
    },
    {
     "name": "stdout",
     "output_type": "stream",
     "text": [
      "[CV 4/5] END imputer__strategy=mean, svc__C=10, svc__class_weight=None, svc__kernel=sigmoid, svc__max_iter=1000;, score=0.325 total time=  11.7s\n"
     ]
    },
    {
     "name": "stderr",
     "output_type": "stream",
     "text": [
      "/opt/conda/lib/python3.9/site-packages/sklearn/svm/_base.py:255: ConvergenceWarning: Solver terminated early (max_iter=1000).  Consider pre-processing your data with StandardScaler or MinMaxScaler.\n",
      "  warnings.warn('Solver terminated early (max_iter=%i).'\n"
     ]
    },
    {
     "name": "stdout",
     "output_type": "stream",
     "text": [
      "[CV 5/5] END imputer__strategy=mean, svc__C=10, svc__class_weight=None, svc__kernel=sigmoid, svc__max_iter=1000;, score=0.339 total time=  11.7s\n",
      "[CV 1/5] END imputer__strategy=mean, svc__C=10, svc__class_weight=None, svc__kernel=sigmoid, svc__max_iter=10000;, score=0.336 total time=  11.8s\n",
      "[CV 2/5] END imputer__strategy=mean, svc__C=10, svc__class_weight=None, svc__kernel=sigmoid, svc__max_iter=10000;, score=0.342 total time=  12.3s\n",
      "[CV 3/5] END imputer__strategy=mean, svc__C=10, svc__class_weight=None, svc__kernel=sigmoid, svc__max_iter=10000;, score=0.325 total time=  12.7s\n",
      "[CV 4/5] END imputer__strategy=mean, svc__C=10, svc__class_weight=None, svc__kernel=sigmoid, svc__max_iter=10000;, score=0.330 total time=  12.5s\n",
      "[CV 5/5] END imputer__strategy=mean, svc__C=10, svc__class_weight=None, svc__kernel=sigmoid, svc__max_iter=10000;, score=0.337 total time=  12.2s\n"
     ]
    },
    {
     "name": "stderr",
     "output_type": "stream",
     "text": [
      "/opt/conda/lib/python3.9/site-packages/sklearn/svm/_base.py:255: ConvergenceWarning: Solver terminated early (max_iter=1000).  Consider pre-processing your data with StandardScaler or MinMaxScaler.\n",
      "  warnings.warn('Solver terminated early (max_iter=%i).'\n"
     ]
    },
    {
     "name": "stdout",
     "output_type": "stream",
     "text": [
      "[CV 1/5] END imputer__strategy=mean, svc__C=10, svc__class_weight=balanced, svc__kernel=linear, svc__max_iter=1000;, score=0.284 total time=   6.1s\n"
     ]
    },
    {
     "name": "stderr",
     "output_type": "stream",
     "text": [
      "/opt/conda/lib/python3.9/site-packages/sklearn/svm/_base.py:255: ConvergenceWarning: Solver terminated early (max_iter=1000).  Consider pre-processing your data with StandardScaler or MinMaxScaler.\n",
      "  warnings.warn('Solver terminated early (max_iter=%i).'\n"
     ]
    },
    {
     "name": "stdout",
     "output_type": "stream",
     "text": [
      "[CV 2/5] END imputer__strategy=mean, svc__C=10, svc__class_weight=balanced, svc__kernel=linear, svc__max_iter=1000;, score=0.288 total time=   6.2s\n"
     ]
    },
    {
     "name": "stderr",
     "output_type": "stream",
     "text": [
      "/opt/conda/lib/python3.9/site-packages/sklearn/svm/_base.py:255: ConvergenceWarning: Solver terminated early (max_iter=1000).  Consider pre-processing your data with StandardScaler or MinMaxScaler.\n",
      "  warnings.warn('Solver terminated early (max_iter=%i).'\n"
     ]
    },
    {
     "name": "stdout",
     "output_type": "stream",
     "text": [
      "[CV 3/5] END imputer__strategy=mean, svc__C=10, svc__class_weight=balanced, svc__kernel=linear, svc__max_iter=1000;, score=0.281 total time=   5.9s\n"
     ]
    },
    {
     "name": "stderr",
     "output_type": "stream",
     "text": [
      "/opt/conda/lib/python3.9/site-packages/sklearn/svm/_base.py:255: ConvergenceWarning: Solver terminated early (max_iter=1000).  Consider pre-processing your data with StandardScaler or MinMaxScaler.\n",
      "  warnings.warn('Solver terminated early (max_iter=%i).'\n"
     ]
    },
    {
     "name": "stdout",
     "output_type": "stream",
     "text": [
      "[CV 4/5] END imputer__strategy=mean, svc__C=10, svc__class_weight=balanced, svc__kernel=linear, svc__max_iter=1000;, score=0.332 total time=   5.9s\n"
     ]
    },
    {
     "name": "stderr",
     "output_type": "stream",
     "text": [
      "/opt/conda/lib/python3.9/site-packages/sklearn/svm/_base.py:255: ConvergenceWarning: Solver terminated early (max_iter=1000).  Consider pre-processing your data with StandardScaler or MinMaxScaler.\n",
      "  warnings.warn('Solver terminated early (max_iter=%i).'\n"
     ]
    },
    {
     "name": "stdout",
     "output_type": "stream",
     "text": [
      "[CV 5/5] END imputer__strategy=mean, svc__C=10, svc__class_weight=balanced, svc__kernel=linear, svc__max_iter=1000;, score=0.312 total time=   5.8s\n"
     ]
    },
    {
     "name": "stderr",
     "output_type": "stream",
     "text": [
      "/opt/conda/lib/python3.9/site-packages/sklearn/svm/_base.py:255: ConvergenceWarning: Solver terminated early (max_iter=10000).  Consider pre-processing your data with StandardScaler or MinMaxScaler.\n",
      "  warnings.warn('Solver terminated early (max_iter=%i).'\n"
     ]
    },
    {
     "name": "stdout",
     "output_type": "stream",
     "text": [
      "[CV 1/5] END imputer__strategy=mean, svc__C=10, svc__class_weight=balanced, svc__kernel=linear, svc__max_iter=10000;, score=0.409 total time=  17.3s\n"
     ]
    },
    {
     "name": "stderr",
     "output_type": "stream",
     "text": [
      "/opt/conda/lib/python3.9/site-packages/sklearn/svm/_base.py:255: ConvergenceWarning: Solver terminated early (max_iter=10000).  Consider pre-processing your data with StandardScaler or MinMaxScaler.\n",
      "  warnings.warn('Solver terminated early (max_iter=%i).'\n"
     ]
    },
    {
     "name": "stdout",
     "output_type": "stream",
     "text": [
      "[CV 2/5] END imputer__strategy=mean, svc__C=10, svc__class_weight=balanced, svc__kernel=linear, svc__max_iter=10000;, score=0.412 total time=  17.5s\n"
     ]
    },
    {
     "name": "stderr",
     "output_type": "stream",
     "text": [
      "/opt/conda/lib/python3.9/site-packages/sklearn/svm/_base.py:255: ConvergenceWarning: Solver terminated early (max_iter=10000).  Consider pre-processing your data with StandardScaler or MinMaxScaler.\n",
      "  warnings.warn('Solver terminated early (max_iter=%i).'\n"
     ]
    },
    {
     "name": "stdout",
     "output_type": "stream",
     "text": [
      "[CV 3/5] END imputer__strategy=mean, svc__C=10, svc__class_weight=balanced, svc__kernel=linear, svc__max_iter=10000;, score=0.416 total time=  17.3s\n"
     ]
    },
    {
     "name": "stderr",
     "output_type": "stream",
     "text": [
      "/opt/conda/lib/python3.9/site-packages/sklearn/svm/_base.py:255: ConvergenceWarning: Solver terminated early (max_iter=10000).  Consider pre-processing your data with StandardScaler or MinMaxScaler.\n",
      "  warnings.warn('Solver terminated early (max_iter=%i).'\n"
     ]
    },
    {
     "name": "stdout",
     "output_type": "stream",
     "text": [
      "[CV 4/5] END imputer__strategy=mean, svc__C=10, svc__class_weight=balanced, svc__kernel=linear, svc__max_iter=10000;, score=0.420 total time=  17.3s\n"
     ]
    },
    {
     "name": "stderr",
     "output_type": "stream",
     "text": [
      "/opt/conda/lib/python3.9/site-packages/sklearn/svm/_base.py:255: ConvergenceWarning: Solver terminated early (max_iter=10000).  Consider pre-processing your data with StandardScaler or MinMaxScaler.\n",
      "  warnings.warn('Solver terminated early (max_iter=%i).'\n"
     ]
    },
    {
     "name": "stdout",
     "output_type": "stream",
     "text": [
      "[CV 5/5] END imputer__strategy=mean, svc__C=10, svc__class_weight=balanced, svc__kernel=linear, svc__max_iter=10000;, score=0.407 total time=  16.6s\n"
     ]
    },
    {
     "name": "stderr",
     "output_type": "stream",
     "text": [
      "/opt/conda/lib/python3.9/site-packages/sklearn/svm/_base.py:255: ConvergenceWarning: Solver terminated early (max_iter=1000).  Consider pre-processing your data with StandardScaler or MinMaxScaler.\n",
      "  warnings.warn('Solver terminated early (max_iter=%i).'\n"
     ]
    },
    {
     "name": "stdout",
     "output_type": "stream",
     "text": [
      "[CV 1/5] END imputer__strategy=mean, svc__C=10, svc__class_weight=balanced, svc__kernel=rbf, svc__max_iter=1000;, score=0.377 total time=  11.5s\n"
     ]
    },
    {
     "name": "stderr",
     "output_type": "stream",
     "text": [
      "/opt/conda/lib/python3.9/site-packages/sklearn/svm/_base.py:255: ConvergenceWarning: Solver terminated early (max_iter=1000).  Consider pre-processing your data with StandardScaler or MinMaxScaler.\n",
      "  warnings.warn('Solver terminated early (max_iter=%i).'\n"
     ]
    },
    {
     "name": "stdout",
     "output_type": "stream",
     "text": [
      "[CV 2/5] END imputer__strategy=mean, svc__C=10, svc__class_weight=balanced, svc__kernel=rbf, svc__max_iter=1000;, score=0.372 total time=  11.5s\n"
     ]
    },
    {
     "name": "stderr",
     "output_type": "stream",
     "text": [
      "/opt/conda/lib/python3.9/site-packages/sklearn/svm/_base.py:255: ConvergenceWarning: Solver terminated early (max_iter=1000).  Consider pre-processing your data with StandardScaler or MinMaxScaler.\n",
      "  warnings.warn('Solver terminated early (max_iter=%i).'\n"
     ]
    },
    {
     "name": "stdout",
     "output_type": "stream",
     "text": [
      "[CV 3/5] END imputer__strategy=mean, svc__C=10, svc__class_weight=balanced, svc__kernel=rbf, svc__max_iter=1000;, score=0.381 total time=  11.3s\n"
     ]
    },
    {
     "name": "stderr",
     "output_type": "stream",
     "text": [
      "/opt/conda/lib/python3.9/site-packages/sklearn/svm/_base.py:255: ConvergenceWarning: Solver terminated early (max_iter=1000).  Consider pre-processing your data with StandardScaler or MinMaxScaler.\n",
      "  warnings.warn('Solver terminated early (max_iter=%i).'\n"
     ]
    },
    {
     "name": "stdout",
     "output_type": "stream",
     "text": [
      "[CV 4/5] END imputer__strategy=mean, svc__C=10, svc__class_weight=balanced, svc__kernel=rbf, svc__max_iter=1000;, score=0.388 total time=  10.8s\n"
     ]
    },
    {
     "name": "stderr",
     "output_type": "stream",
     "text": [
      "/opt/conda/lib/python3.9/site-packages/sklearn/svm/_base.py:255: ConvergenceWarning: Solver terminated early (max_iter=1000).  Consider pre-processing your data with StandardScaler or MinMaxScaler.\n",
      "  warnings.warn('Solver terminated early (max_iter=%i).'\n"
     ]
    },
    {
     "name": "stdout",
     "output_type": "stream",
     "text": [
      "[CV 5/5] END imputer__strategy=mean, svc__C=10, svc__class_weight=balanced, svc__kernel=rbf, svc__max_iter=1000;, score=0.384 total time=  11.2s\n"
     ]
    },
    {
     "name": "stderr",
     "output_type": "stream",
     "text": [
      "/opt/conda/lib/python3.9/site-packages/sklearn/svm/_base.py:255: ConvergenceWarning: Solver terminated early (max_iter=10000).  Consider pre-processing your data with StandardScaler or MinMaxScaler.\n",
      "  warnings.warn('Solver terminated early (max_iter=%i).'\n"
     ]
    },
    {
     "name": "stdout",
     "output_type": "stream",
     "text": [
      "[CV 1/5] END imputer__strategy=mean, svc__C=10, svc__class_weight=balanced, svc__kernel=rbf, svc__max_iter=10000;, score=0.438 total time=  16.7s\n"
     ]
    },
    {
     "name": "stderr",
     "output_type": "stream",
     "text": [
      "/opt/conda/lib/python3.9/site-packages/sklearn/svm/_base.py:255: ConvergenceWarning: Solver terminated early (max_iter=10000).  Consider pre-processing your data with StandardScaler or MinMaxScaler.\n",
      "  warnings.warn('Solver terminated early (max_iter=%i).'\n"
     ]
    },
    {
     "name": "stdout",
     "output_type": "stream",
     "text": [
      "[CV 2/5] END imputer__strategy=mean, svc__C=10, svc__class_weight=balanced, svc__kernel=rbf, svc__max_iter=10000;, score=0.453 total time=  16.7s\n"
     ]
    },
    {
     "name": "stderr",
     "output_type": "stream",
     "text": [
      "/opt/conda/lib/python3.9/site-packages/sklearn/svm/_base.py:255: ConvergenceWarning: Solver terminated early (max_iter=10000).  Consider pre-processing your data with StandardScaler or MinMaxScaler.\n",
      "  warnings.warn('Solver terminated early (max_iter=%i).'\n"
     ]
    },
    {
     "name": "stdout",
     "output_type": "stream",
     "text": [
      "[CV 3/5] END imputer__strategy=mean, svc__C=10, svc__class_weight=balanced, svc__kernel=rbf, svc__max_iter=10000;, score=0.458 total time=  16.4s\n"
     ]
    },
    {
     "name": "stderr",
     "output_type": "stream",
     "text": [
      "/opt/conda/lib/python3.9/site-packages/sklearn/svm/_base.py:255: ConvergenceWarning: Solver terminated early (max_iter=10000).  Consider pre-processing your data with StandardScaler or MinMaxScaler.\n",
      "  warnings.warn('Solver terminated early (max_iter=%i).'\n"
     ]
    },
    {
     "name": "stdout",
     "output_type": "stream",
     "text": [
      "[CV 4/5] END imputer__strategy=mean, svc__C=10, svc__class_weight=balanced, svc__kernel=rbf, svc__max_iter=10000;, score=0.454 total time=  16.4s\n"
     ]
    },
    {
     "name": "stderr",
     "output_type": "stream",
     "text": [
      "/opt/conda/lib/python3.9/site-packages/sklearn/svm/_base.py:255: ConvergenceWarning: Solver terminated early (max_iter=10000).  Consider pre-processing your data with StandardScaler or MinMaxScaler.\n",
      "  warnings.warn('Solver terminated early (max_iter=%i).'\n"
     ]
    },
    {
     "name": "stdout",
     "output_type": "stream",
     "text": [
      "[CV 5/5] END imputer__strategy=mean, svc__C=10, svc__class_weight=balanced, svc__kernel=rbf, svc__max_iter=10000;, score=0.466 total time=  16.3s\n"
     ]
    },
    {
     "name": "stderr",
     "output_type": "stream",
     "text": [
      "/opt/conda/lib/python3.9/site-packages/sklearn/svm/_base.py:255: ConvergenceWarning: Solver terminated early (max_iter=1000).  Consider pre-processing your data with StandardScaler or MinMaxScaler.\n",
      "  warnings.warn('Solver terminated early (max_iter=%i).'\n"
     ]
    },
    {
     "name": "stdout",
     "output_type": "stream",
     "text": [
      "[CV 1/5] END imputer__strategy=mean, svc__C=10, svc__class_weight=balanced, svc__kernel=poly, svc__max_iter=1000;, score=0.413 total time=   8.3s\n"
     ]
    },
    {
     "name": "stderr",
     "output_type": "stream",
     "text": [
      "/opt/conda/lib/python3.9/site-packages/sklearn/svm/_base.py:255: ConvergenceWarning: Solver terminated early (max_iter=1000).  Consider pre-processing your data with StandardScaler or MinMaxScaler.\n",
      "  warnings.warn('Solver terminated early (max_iter=%i).'\n"
     ]
    },
    {
     "name": "stdout",
     "output_type": "stream",
     "text": [
      "[CV 2/5] END imputer__strategy=mean, svc__C=10, svc__class_weight=balanced, svc__kernel=poly, svc__max_iter=1000;, score=0.407 total time=   8.0s\n"
     ]
    },
    {
     "name": "stderr",
     "output_type": "stream",
     "text": [
      "/opt/conda/lib/python3.9/site-packages/sklearn/svm/_base.py:255: ConvergenceWarning: Solver terminated early (max_iter=1000).  Consider pre-processing your data with StandardScaler or MinMaxScaler.\n",
      "  warnings.warn('Solver terminated early (max_iter=%i).'\n"
     ]
    },
    {
     "name": "stdout",
     "output_type": "stream",
     "text": [
      "[CV 3/5] END imputer__strategy=mean, svc__C=10, svc__class_weight=balanced, svc__kernel=poly, svc__max_iter=1000;, score=0.425 total time=   7.6s\n"
     ]
    },
    {
     "name": "stderr",
     "output_type": "stream",
     "text": [
      "/opt/conda/lib/python3.9/site-packages/sklearn/svm/_base.py:255: ConvergenceWarning: Solver terminated early (max_iter=1000).  Consider pre-processing your data with StandardScaler or MinMaxScaler.\n",
      "  warnings.warn('Solver terminated early (max_iter=%i).'\n"
     ]
    },
    {
     "name": "stdout",
     "output_type": "stream",
     "text": [
      "[CV 4/5] END imputer__strategy=mean, svc__C=10, svc__class_weight=balanced, svc__kernel=poly, svc__max_iter=1000;, score=0.412 total time=   8.2s\n"
     ]
    },
    {
     "name": "stderr",
     "output_type": "stream",
     "text": [
      "/opt/conda/lib/python3.9/site-packages/sklearn/svm/_base.py:255: ConvergenceWarning: Solver terminated early (max_iter=1000).  Consider pre-processing your data with StandardScaler or MinMaxScaler.\n",
      "  warnings.warn('Solver terminated early (max_iter=%i).'\n"
     ]
    },
    {
     "name": "stdout",
     "output_type": "stream",
     "text": [
      "[CV 5/5] END imputer__strategy=mean, svc__C=10, svc__class_weight=balanced, svc__kernel=poly, svc__max_iter=1000;, score=0.422 total time=   8.0s\n"
     ]
    },
    {
     "name": "stderr",
     "output_type": "stream",
     "text": [
      "/opt/conda/lib/python3.9/site-packages/sklearn/svm/_base.py:255: ConvergenceWarning: Solver terminated early (max_iter=10000).  Consider pre-processing your data with StandardScaler or MinMaxScaler.\n",
      "  warnings.warn('Solver terminated early (max_iter=%i).'\n"
     ]
    },
    {
     "name": "stdout",
     "output_type": "stream",
     "text": [
      "[CV 1/5] END imputer__strategy=mean, svc__C=10, svc__class_weight=balanced, svc__kernel=poly, svc__max_iter=10000;, score=0.434 total time=  13.5s\n"
     ]
    },
    {
     "name": "stderr",
     "output_type": "stream",
     "text": [
      "/opt/conda/lib/python3.9/site-packages/sklearn/svm/_base.py:255: ConvergenceWarning: Solver terminated early (max_iter=10000).  Consider pre-processing your data with StandardScaler or MinMaxScaler.\n",
      "  warnings.warn('Solver terminated early (max_iter=%i).'\n"
     ]
    },
    {
     "name": "stdout",
     "output_type": "stream",
     "text": [
      "[CV 2/5] END imputer__strategy=mean, svc__C=10, svc__class_weight=balanced, svc__kernel=poly, svc__max_iter=10000;, score=0.439 total time=  13.4s\n"
     ]
    },
    {
     "name": "stderr",
     "output_type": "stream",
     "text": [
      "/opt/conda/lib/python3.9/site-packages/sklearn/svm/_base.py:255: ConvergenceWarning: Solver terminated early (max_iter=10000).  Consider pre-processing your data with StandardScaler or MinMaxScaler.\n",
      "  warnings.warn('Solver terminated early (max_iter=%i).'\n"
     ]
    },
    {
     "name": "stdout",
     "output_type": "stream",
     "text": [
      "[CV 3/5] END imputer__strategy=mean, svc__C=10, svc__class_weight=balanced, svc__kernel=poly, svc__max_iter=10000;, score=0.445 total time=  13.4s\n"
     ]
    },
    {
     "name": "stderr",
     "output_type": "stream",
     "text": [
      "/opt/conda/lib/python3.9/site-packages/sklearn/svm/_base.py:255: ConvergenceWarning: Solver terminated early (max_iter=10000).  Consider pre-processing your data with StandardScaler or MinMaxScaler.\n",
      "  warnings.warn('Solver terminated early (max_iter=%i).'\n"
     ]
    },
    {
     "name": "stdout",
     "output_type": "stream",
     "text": [
      "[CV 4/5] END imputer__strategy=mean, svc__C=10, svc__class_weight=balanced, svc__kernel=poly, svc__max_iter=10000;, score=0.438 total time=  13.0s\n"
     ]
    },
    {
     "name": "stderr",
     "output_type": "stream",
     "text": [
      "/opt/conda/lib/python3.9/site-packages/sklearn/svm/_base.py:255: ConvergenceWarning: Solver terminated early (max_iter=10000).  Consider pre-processing your data with StandardScaler or MinMaxScaler.\n",
      "  warnings.warn('Solver terminated early (max_iter=%i).'\n"
     ]
    },
    {
     "name": "stdout",
     "output_type": "stream",
     "text": [
      "[CV 5/5] END imputer__strategy=mean, svc__C=10, svc__class_weight=balanced, svc__kernel=poly, svc__max_iter=10000;, score=0.452 total time=  13.4s\n"
     ]
    },
    {
     "name": "stderr",
     "output_type": "stream",
     "text": [
      "/opt/conda/lib/python3.9/site-packages/sklearn/svm/_base.py:255: ConvergenceWarning: Solver terminated early (max_iter=1000).  Consider pre-processing your data with StandardScaler or MinMaxScaler.\n",
      "  warnings.warn('Solver terminated early (max_iter=%i).'\n"
     ]
    },
    {
     "name": "stdout",
     "output_type": "stream",
     "text": [
      "[CV 1/5] END imputer__strategy=mean, svc__C=10, svc__class_weight=balanced, svc__kernel=sigmoid, svc__max_iter=1000;, score=0.317 total time=   9.5s\n"
     ]
    },
    {
     "name": "stderr",
     "output_type": "stream",
     "text": [
      "/opt/conda/lib/python3.9/site-packages/sklearn/svm/_base.py:255: ConvergenceWarning: Solver terminated early (max_iter=1000).  Consider pre-processing your data with StandardScaler or MinMaxScaler.\n",
      "  warnings.warn('Solver terminated early (max_iter=%i).'\n"
     ]
    },
    {
     "name": "stdout",
     "output_type": "stream",
     "text": [
      "[CV 2/5] END imputer__strategy=mean, svc__C=10, svc__class_weight=balanced, svc__kernel=sigmoid, svc__max_iter=1000;, score=0.322 total time=   9.6s\n"
     ]
    },
    {
     "name": "stderr",
     "output_type": "stream",
     "text": [
      "/opt/conda/lib/python3.9/site-packages/sklearn/svm/_base.py:255: ConvergenceWarning: Solver terminated early (max_iter=1000).  Consider pre-processing your data with StandardScaler or MinMaxScaler.\n",
      "  warnings.warn('Solver terminated early (max_iter=%i).'\n"
     ]
    },
    {
     "name": "stdout",
     "output_type": "stream",
     "text": [
      "[CV 3/5] END imputer__strategy=mean, svc__C=10, svc__class_weight=balanced, svc__kernel=sigmoid, svc__max_iter=1000;, score=0.299 total time=   9.8s\n"
     ]
    },
    {
     "name": "stderr",
     "output_type": "stream",
     "text": [
      "/opt/conda/lib/python3.9/site-packages/sklearn/svm/_base.py:255: ConvergenceWarning: Solver terminated early (max_iter=1000).  Consider pre-processing your data with StandardScaler or MinMaxScaler.\n",
      "  warnings.warn('Solver terminated early (max_iter=%i).'\n"
     ]
    },
    {
     "name": "stdout",
     "output_type": "stream",
     "text": [
      "[CV 4/5] END imputer__strategy=mean, svc__C=10, svc__class_weight=balanced, svc__kernel=sigmoid, svc__max_iter=1000;, score=0.311 total time=   9.6s\n"
     ]
    },
    {
     "name": "stderr",
     "output_type": "stream",
     "text": [
      "/opt/conda/lib/python3.9/site-packages/sklearn/svm/_base.py:255: ConvergenceWarning: Solver terminated early (max_iter=1000).  Consider pre-processing your data with StandardScaler or MinMaxScaler.\n",
      "  warnings.warn('Solver terminated early (max_iter=%i).'\n"
     ]
    },
    {
     "name": "stdout",
     "output_type": "stream",
     "text": [
      "[CV 5/5] END imputer__strategy=mean, svc__C=10, svc__class_weight=balanced, svc__kernel=sigmoid, svc__max_iter=1000;, score=0.330 total time=  10.0s\n",
      "[CV 1/5] END imputer__strategy=mean, svc__C=10, svc__class_weight=balanced, svc__kernel=sigmoid, svc__max_iter=10000;, score=0.287 total time=  13.8s\n",
      "[CV 2/5] END imputer__strategy=mean, svc__C=10, svc__class_weight=balanced, svc__kernel=sigmoid, svc__max_iter=10000;, score=0.304 total time=  14.4s\n",
      "[CV 3/5] END imputer__strategy=mean, svc__C=10, svc__class_weight=balanced, svc__kernel=sigmoid, svc__max_iter=10000;, score=0.297 total time=  13.8s\n",
      "[CV 4/5] END imputer__strategy=mean, svc__C=10, svc__class_weight=balanced, svc__kernel=sigmoid, svc__max_iter=10000;, score=0.290 total time=  13.7s\n",
      "[CV 5/5] END imputer__strategy=mean, svc__C=10, svc__class_weight=balanced, svc__kernel=sigmoid, svc__max_iter=10000;, score=0.314 total time=  12.6s\n"
     ]
    },
    {
     "name": "stderr",
     "output_type": "stream",
     "text": [
      "/opt/conda/lib/python3.9/site-packages/sklearn/svm/_base.py:255: ConvergenceWarning: Solver terminated early (max_iter=1000).  Consider pre-processing your data with StandardScaler or MinMaxScaler.\n",
      "  warnings.warn('Solver terminated early (max_iter=%i).'\n"
     ]
    },
    {
     "name": "stdout",
     "output_type": "stream",
     "text": [
      "[CV 1/5] END imputer__strategy=median, svc__C=0.1, svc__class_weight=None, svc__kernel=linear, svc__max_iter=1000;, score=0.478 total time=   7.7s\n"
     ]
    },
    {
     "name": "stderr",
     "output_type": "stream",
     "text": [
      "/opt/conda/lib/python3.9/site-packages/sklearn/svm/_base.py:255: ConvergenceWarning: Solver terminated early (max_iter=1000).  Consider pre-processing your data with StandardScaler or MinMaxScaler.\n",
      "  warnings.warn('Solver terminated early (max_iter=%i).'\n"
     ]
    },
    {
     "name": "stdout",
     "output_type": "stream",
     "text": [
      "[CV 2/5] END imputer__strategy=median, svc__C=0.1, svc__class_weight=None, svc__kernel=linear, svc__max_iter=1000;, score=0.475 total time=   6.6s\n"
     ]
    },
    {
     "name": "stderr",
     "output_type": "stream",
     "text": [
      "/opt/conda/lib/python3.9/site-packages/sklearn/svm/_base.py:255: ConvergenceWarning: Solver terminated early (max_iter=1000).  Consider pre-processing your data with StandardScaler or MinMaxScaler.\n",
      "  warnings.warn('Solver terminated early (max_iter=%i).'\n"
     ]
    },
    {
     "name": "stdout",
     "output_type": "stream",
     "text": [
      "[CV 3/5] END imputer__strategy=median, svc__C=0.1, svc__class_weight=None, svc__kernel=linear, svc__max_iter=1000;, score=0.479 total time=   7.7s\n"
     ]
    },
    {
     "name": "stderr",
     "output_type": "stream",
     "text": [
      "/opt/conda/lib/python3.9/site-packages/sklearn/svm/_base.py:255: ConvergenceWarning: Solver terminated early (max_iter=1000).  Consider pre-processing your data with StandardScaler or MinMaxScaler.\n",
      "  warnings.warn('Solver terminated early (max_iter=%i).'\n"
     ]
    },
    {
     "name": "stdout",
     "output_type": "stream",
     "text": [
      "[CV 4/5] END imputer__strategy=median, svc__C=0.1, svc__class_weight=None, svc__kernel=linear, svc__max_iter=1000;, score=0.477 total time=   8.5s\n"
     ]
    },
    {
     "name": "stderr",
     "output_type": "stream",
     "text": [
      "/opt/conda/lib/python3.9/site-packages/sklearn/svm/_base.py:255: ConvergenceWarning: Solver terminated early (max_iter=1000).  Consider pre-processing your data with StandardScaler or MinMaxScaler.\n",
      "  warnings.warn('Solver terminated early (max_iter=%i).'\n"
     ]
    },
    {
     "name": "stdout",
     "output_type": "stream",
     "text": [
      "[CV 5/5] END imputer__strategy=median, svc__C=0.1, svc__class_weight=None, svc__kernel=linear, svc__max_iter=1000;, score=0.463 total time=   8.0s\n",
      "[CV 1/5] END imputer__strategy=median, svc__C=0.1, svc__class_weight=None, svc__kernel=linear, svc__max_iter=10000;, score=0.505 total time=   7.1s\n",
      "[CV 2/5] END imputer__strategy=median, svc__C=0.1, svc__class_weight=None, svc__kernel=linear, svc__max_iter=10000;, score=0.501 total time=   7.9s\n",
      "[CV 3/5] END imputer__strategy=median, svc__C=0.1, svc__class_weight=None, svc__kernel=linear, svc__max_iter=10000;, score=0.491 total time=   8.5s\n",
      "[CV 4/5] END imputer__strategy=median, svc__C=0.1, svc__class_weight=None, svc__kernel=linear, svc__max_iter=10000;, score=0.505 total time=   8.6s\n",
      "[CV 5/5] END imputer__strategy=median, svc__C=0.1, svc__class_weight=None, svc__kernel=linear, svc__max_iter=10000;, score=0.506 total time=   8.3s\n"
     ]
    },
    {
     "name": "stderr",
     "output_type": "stream",
     "text": [
      "/opt/conda/lib/python3.9/site-packages/sklearn/svm/_base.py:255: ConvergenceWarning: Solver terminated early (max_iter=1000).  Consider pre-processing your data with StandardScaler or MinMaxScaler.\n",
      "  warnings.warn('Solver terminated early (max_iter=%i).'\n"
     ]
    },
    {
     "name": "stdout",
     "output_type": "stream",
     "text": [
      "[CV 1/5] END imputer__strategy=median, svc__C=0.1, svc__class_weight=None, svc__kernel=rbf, svc__max_iter=1000;, score=0.482 total time=  11.0s\n"
     ]
    },
    {
     "name": "stderr",
     "output_type": "stream",
     "text": [
      "/opt/conda/lib/python3.9/site-packages/sklearn/svm/_base.py:255: ConvergenceWarning: Solver terminated early (max_iter=1000).  Consider pre-processing your data with StandardScaler or MinMaxScaler.\n",
      "  warnings.warn('Solver terminated early (max_iter=%i).'\n"
     ]
    },
    {
     "name": "stdout",
     "output_type": "stream",
     "text": [
      "[CV 2/5] END imputer__strategy=median, svc__C=0.1, svc__class_weight=None, svc__kernel=rbf, svc__max_iter=1000;, score=0.489 total time=  12.0s\n"
     ]
    },
    {
     "name": "stderr",
     "output_type": "stream",
     "text": [
      "/opt/conda/lib/python3.9/site-packages/sklearn/svm/_base.py:255: ConvergenceWarning: Solver terminated early (max_iter=1000).  Consider pre-processing your data with StandardScaler or MinMaxScaler.\n",
      "  warnings.warn('Solver terminated early (max_iter=%i).'\n"
     ]
    },
    {
     "name": "stdout",
     "output_type": "stream",
     "text": [
      "[CV 3/5] END imputer__strategy=median, svc__C=0.1, svc__class_weight=None, svc__kernel=rbf, svc__max_iter=1000;, score=0.472 total time=  10.7s\n"
     ]
    },
    {
     "name": "stderr",
     "output_type": "stream",
     "text": [
      "/opt/conda/lib/python3.9/site-packages/sklearn/svm/_base.py:255: ConvergenceWarning: Solver terminated early (max_iter=1000).  Consider pre-processing your data with StandardScaler or MinMaxScaler.\n",
      "  warnings.warn('Solver terminated early (max_iter=%i).'\n"
     ]
    },
    {
     "name": "stdout",
     "output_type": "stream",
     "text": [
      "[CV 4/5] END imputer__strategy=median, svc__C=0.1, svc__class_weight=None, svc__kernel=rbf, svc__max_iter=1000;, score=0.473 total time=  10.3s\n"
     ]
    },
    {
     "name": "stderr",
     "output_type": "stream",
     "text": [
      "/opt/conda/lib/python3.9/site-packages/sklearn/svm/_base.py:255: ConvergenceWarning: Solver terminated early (max_iter=1000).  Consider pre-processing your data with StandardScaler or MinMaxScaler.\n",
      "  warnings.warn('Solver terminated early (max_iter=%i).'\n"
     ]
    },
    {
     "name": "stdout",
     "output_type": "stream",
     "text": [
      "[CV 5/5] END imputer__strategy=median, svc__C=0.1, svc__class_weight=None, svc__kernel=rbf, svc__max_iter=1000;, score=0.480 total time=  10.0s\n",
      "[CV 1/5] END imputer__strategy=median, svc__C=0.1, svc__class_weight=None, svc__kernel=rbf, svc__max_iter=10000;, score=0.506 total time=  13.3s\n",
      "[CV 2/5] END imputer__strategy=median, svc__C=0.1, svc__class_weight=None, svc__kernel=rbf, svc__max_iter=10000;, score=0.505 total time=  14.4s\n",
      "[CV 3/5] END imputer__strategy=median, svc__C=0.1, svc__class_weight=None, svc__kernel=rbf, svc__max_iter=10000;, score=0.501 total time=  14.6s\n",
      "[CV 4/5] END imputer__strategy=median, svc__C=0.1, svc__class_weight=None, svc__kernel=rbf, svc__max_iter=10000;, score=0.515 total time=  14.3s\n",
      "[CV 5/5] END imputer__strategy=median, svc__C=0.1, svc__class_weight=None, svc__kernel=rbf, svc__max_iter=10000;, score=0.507 total time=  11.4s\n"
     ]
    },
    {
     "name": "stderr",
     "output_type": "stream",
     "text": [
      "/opt/conda/lib/python3.9/site-packages/sklearn/svm/_base.py:255: ConvergenceWarning: Solver terminated early (max_iter=1000).  Consider pre-processing your data with StandardScaler or MinMaxScaler.\n",
      "  warnings.warn('Solver terminated early (max_iter=%i).'\n"
     ]
    },
    {
     "name": "stdout",
     "output_type": "stream",
     "text": [
      "[CV 1/5] END imputer__strategy=median, svc__C=0.1, svc__class_weight=None, svc__kernel=poly, svc__max_iter=1000;, score=0.437 total time=   9.7s\n"
     ]
    },
    {
     "name": "stderr",
     "output_type": "stream",
     "text": [
      "/opt/conda/lib/python3.9/site-packages/sklearn/svm/_base.py:255: ConvergenceWarning: Solver terminated early (max_iter=1000).  Consider pre-processing your data with StandardScaler or MinMaxScaler.\n",
      "  warnings.warn('Solver terminated early (max_iter=%i).'\n"
     ]
    },
    {
     "name": "stdout",
     "output_type": "stream",
     "text": [
      "[CV 2/5] END imputer__strategy=median, svc__C=0.1, svc__class_weight=None, svc__kernel=poly, svc__max_iter=1000;, score=0.419 total time=   9.5s\n"
     ]
    },
    {
     "name": "stderr",
     "output_type": "stream",
     "text": [
      "/opt/conda/lib/python3.9/site-packages/sklearn/svm/_base.py:255: ConvergenceWarning: Solver terminated early (max_iter=1000).  Consider pre-processing your data with StandardScaler or MinMaxScaler.\n",
      "  warnings.warn('Solver terminated early (max_iter=%i).'\n"
     ]
    },
    {
     "name": "stdout",
     "output_type": "stream",
     "text": [
      "[CV 3/5] END imputer__strategy=median, svc__C=0.1, svc__class_weight=None, svc__kernel=poly, svc__max_iter=1000;, score=0.421 total time=  10.0s\n"
     ]
    },
    {
     "name": "stderr",
     "output_type": "stream",
     "text": [
      "/opt/conda/lib/python3.9/site-packages/sklearn/svm/_base.py:255: ConvergenceWarning: Solver terminated early (max_iter=1000).  Consider pre-processing your data with StandardScaler or MinMaxScaler.\n",
      "  warnings.warn('Solver terminated early (max_iter=%i).'\n"
     ]
    },
    {
     "name": "stdout",
     "output_type": "stream",
     "text": [
      "[CV 4/5] END imputer__strategy=median, svc__C=0.1, svc__class_weight=None, svc__kernel=poly, svc__max_iter=1000;, score=0.431 total time=   8.9s\n"
     ]
    },
    {
     "name": "stderr",
     "output_type": "stream",
     "text": [
      "/opt/conda/lib/python3.9/site-packages/sklearn/svm/_base.py:255: ConvergenceWarning: Solver terminated early (max_iter=1000).  Consider pre-processing your data with StandardScaler or MinMaxScaler.\n",
      "  warnings.warn('Solver terminated early (max_iter=%i).'\n"
     ]
    },
    {
     "name": "stdout",
     "output_type": "stream",
     "text": [
      "[CV 5/5] END imputer__strategy=median, svc__C=0.1, svc__class_weight=None, svc__kernel=poly, svc__max_iter=1000;, score=0.409 total time=   8.2s\n",
      "[CV 1/5] END imputer__strategy=median, svc__C=0.1, svc__class_weight=None, svc__kernel=poly, svc__max_iter=10000;, score=0.471 total time=   9.9s\n",
      "[CV 2/5] END imputer__strategy=median, svc__C=0.1, svc__class_weight=None, svc__kernel=poly, svc__max_iter=10000;, score=0.473 total time=  11.0s\n",
      "[CV 3/5] END imputer__strategy=median, svc__C=0.1, svc__class_weight=None, svc__kernel=poly, svc__max_iter=10000;, score=0.473 total time=  11.8s\n",
      "[CV 4/5] END imputer__strategy=median, svc__C=0.1, svc__class_weight=None, svc__kernel=poly, svc__max_iter=10000;, score=0.472 total time=  10.7s\n",
      "[CV 5/5] END imputer__strategy=median, svc__C=0.1, svc__class_weight=None, svc__kernel=poly, svc__max_iter=10000;, score=0.466 total time=  11.1s\n"
     ]
    },
    {
     "name": "stderr",
     "output_type": "stream",
     "text": [
      "/opt/conda/lib/python3.9/site-packages/sklearn/svm/_base.py:255: ConvergenceWarning: Solver terminated early (max_iter=1000).  Consider pre-processing your data with StandardScaler or MinMaxScaler.\n",
      "  warnings.warn('Solver terminated early (max_iter=%i).'\n"
     ]
    },
    {
     "name": "stdout",
     "output_type": "stream",
     "text": [
      "[CV 1/5] END imputer__strategy=median, svc__C=0.1, svc__class_weight=None, svc__kernel=sigmoid, svc__max_iter=1000;, score=0.423 total time=  15.7s\n"
     ]
    },
    {
     "name": "stderr",
     "output_type": "stream",
     "text": [
      "/opt/conda/lib/python3.9/site-packages/sklearn/svm/_base.py:255: ConvergenceWarning: Solver terminated early (max_iter=1000).  Consider pre-processing your data with StandardScaler or MinMaxScaler.\n",
      "  warnings.warn('Solver terminated early (max_iter=%i).'\n"
     ]
    },
    {
     "name": "stdout",
     "output_type": "stream",
     "text": [
      "[CV 2/5] END imputer__strategy=median, svc__C=0.1, svc__class_weight=None, svc__kernel=sigmoid, svc__max_iter=1000;, score=0.413 total time=  11.7s\n"
     ]
    },
    {
     "name": "stderr",
     "output_type": "stream",
     "text": [
      "/opt/conda/lib/python3.9/site-packages/sklearn/svm/_base.py:255: ConvergenceWarning: Solver terminated early (max_iter=1000).  Consider pre-processing your data with StandardScaler or MinMaxScaler.\n",
      "  warnings.warn('Solver terminated early (max_iter=%i).'\n"
     ]
    },
    {
     "name": "stdout",
     "output_type": "stream",
     "text": [
      "[CV 3/5] END imputer__strategy=median, svc__C=0.1, svc__class_weight=None, svc__kernel=sigmoid, svc__max_iter=1000;, score=0.405 total time=  12.6s\n"
     ]
    },
    {
     "name": "stderr",
     "output_type": "stream",
     "text": [
      "/opt/conda/lib/python3.9/site-packages/sklearn/svm/_base.py:255: ConvergenceWarning: Solver terminated early (max_iter=1000).  Consider pre-processing your data with StandardScaler or MinMaxScaler.\n",
      "  warnings.warn('Solver terminated early (max_iter=%i).'\n"
     ]
    },
    {
     "name": "stdout",
     "output_type": "stream",
     "text": [
      "[CV 4/5] END imputer__strategy=median, svc__C=0.1, svc__class_weight=None, svc__kernel=sigmoid, svc__max_iter=1000;, score=0.399 total time=  15.8s\n"
     ]
    },
    {
     "name": "stderr",
     "output_type": "stream",
     "text": [
      "/opt/conda/lib/python3.9/site-packages/sklearn/svm/_base.py:255: ConvergenceWarning: Solver terminated early (max_iter=1000).  Consider pre-processing your data with StandardScaler or MinMaxScaler.\n",
      "  warnings.warn('Solver terminated early (max_iter=%i).'\n"
     ]
    },
    {
     "name": "stdout",
     "output_type": "stream",
     "text": [
      "[CV 5/5] END imputer__strategy=median, svc__C=0.1, svc__class_weight=None, svc__kernel=sigmoid, svc__max_iter=1000;, score=0.405 total time=  14.7s\n",
      "[CV 1/5] END imputer__strategy=median, svc__C=0.1, svc__class_weight=None, svc__kernel=sigmoid, svc__max_iter=10000;, score=0.445 total time=  16.3s\n",
      "[CV 2/5] END imputer__strategy=median, svc__C=0.1, svc__class_weight=None, svc__kernel=sigmoid, svc__max_iter=10000;, score=0.436 total time=  14.6s\n",
      "[CV 3/5] END imputer__strategy=median, svc__C=0.1, svc__class_weight=None, svc__kernel=sigmoid, svc__max_iter=10000;, score=0.417 total time=  13.4s\n",
      "[CV 4/5] END imputer__strategy=median, svc__C=0.1, svc__class_weight=None, svc__kernel=sigmoid, svc__max_iter=10000;, score=0.420 total time=  14.5s\n",
      "[CV 5/5] END imputer__strategy=median, svc__C=0.1, svc__class_weight=None, svc__kernel=sigmoid, svc__max_iter=10000;, score=0.436 total time=  14.8s\n"
     ]
    },
    {
     "name": "stderr",
     "output_type": "stream",
     "text": [
      "/opt/conda/lib/python3.9/site-packages/sklearn/svm/_base.py:255: ConvergenceWarning: Solver terminated early (max_iter=1000).  Consider pre-processing your data with StandardScaler or MinMaxScaler.\n",
      "  warnings.warn('Solver terminated early (max_iter=%i).'\n"
     ]
    },
    {
     "name": "stdout",
     "output_type": "stream",
     "text": [
      "[CV 1/5] END imputer__strategy=median, svc__C=0.1, svc__class_weight=balanced, svc__kernel=linear, svc__max_iter=1000;, score=0.359 total time=   5.3s\n"
     ]
    },
    {
     "name": "stderr",
     "output_type": "stream",
     "text": [
      "/opt/conda/lib/python3.9/site-packages/sklearn/svm/_base.py:255: ConvergenceWarning: Solver terminated early (max_iter=1000).  Consider pre-processing your data with StandardScaler or MinMaxScaler.\n",
      "  warnings.warn('Solver terminated early (max_iter=%i).'\n"
     ]
    },
    {
     "name": "stdout",
     "output_type": "stream",
     "text": [
      "[CV 2/5] END imputer__strategy=median, svc__C=0.1, svc__class_weight=balanced, svc__kernel=linear, svc__max_iter=1000;, score=0.359 total time=   6.4s\n"
     ]
    },
    {
     "name": "stderr",
     "output_type": "stream",
     "text": [
      "/opt/conda/lib/python3.9/site-packages/sklearn/svm/_base.py:255: ConvergenceWarning: Solver terminated early (max_iter=1000).  Consider pre-processing your data with StandardScaler or MinMaxScaler.\n",
      "  warnings.warn('Solver terminated early (max_iter=%i).'\n"
     ]
    },
    {
     "name": "stdout",
     "output_type": "stream",
     "text": [
      "[CV 3/5] END imputer__strategy=median, svc__C=0.1, svc__class_weight=balanced, svc__kernel=linear, svc__max_iter=1000;, score=0.370 total time=   6.3s\n"
     ]
    },
    {
     "name": "stderr",
     "output_type": "stream",
     "text": [
      "/opt/conda/lib/python3.9/site-packages/sklearn/svm/_base.py:255: ConvergenceWarning: Solver terminated early (max_iter=1000).  Consider pre-processing your data with StandardScaler or MinMaxScaler.\n",
      "  warnings.warn('Solver terminated early (max_iter=%i).'\n"
     ]
    },
    {
     "name": "stdout",
     "output_type": "stream",
     "text": [
      "[CV 4/5] END imputer__strategy=median, svc__C=0.1, svc__class_weight=balanced, svc__kernel=linear, svc__max_iter=1000;, score=0.349 total time=   6.4s\n"
     ]
    },
    {
     "name": "stderr",
     "output_type": "stream",
     "text": [
      "/opt/conda/lib/python3.9/site-packages/sklearn/svm/_base.py:255: ConvergenceWarning: Solver terminated early (max_iter=1000).  Consider pre-processing your data with StandardScaler or MinMaxScaler.\n",
      "  warnings.warn('Solver terminated early (max_iter=%i).'\n"
     ]
    },
    {
     "name": "stdout",
     "output_type": "stream",
     "text": [
      "[CV 5/5] END imputer__strategy=median, svc__C=0.1, svc__class_weight=balanced, svc__kernel=linear, svc__max_iter=1000;, score=0.368 total time=   5.1s\n",
      "[CV 1/5] END imputer__strategy=median, svc__C=0.1, svc__class_weight=balanced, svc__kernel=linear, svc__max_iter=10000;, score=0.440 total time=  10.3s\n",
      "[CV 2/5] END imputer__strategy=median, svc__C=0.1, svc__class_weight=balanced, svc__kernel=linear, svc__max_iter=10000;, score=0.449 total time=  10.5s\n",
      "[CV 3/5] END imputer__strategy=median, svc__C=0.1, svc__class_weight=balanced, svc__kernel=linear, svc__max_iter=10000;, score=0.443 total time=   8.2s\n",
      "[CV 4/5] END imputer__strategy=median, svc__C=0.1, svc__class_weight=balanced, svc__kernel=linear, svc__max_iter=10000;, score=0.441 total time=   8.1s\n",
      "[CV 5/5] END imputer__strategy=median, svc__C=0.1, svc__class_weight=balanced, svc__kernel=linear, svc__max_iter=10000;, score=0.464 total time=   8.2s\n"
     ]
    },
    {
     "name": "stderr",
     "output_type": "stream",
     "text": [
      "/opt/conda/lib/python3.9/site-packages/sklearn/svm/_base.py:255: ConvergenceWarning: Solver terminated early (max_iter=1000).  Consider pre-processing your data with StandardScaler or MinMaxScaler.\n",
      "  warnings.warn('Solver terminated early (max_iter=%i).'\n"
     ]
    },
    {
     "name": "stdout",
     "output_type": "stream",
     "text": [
      "[CV 1/5] END imputer__strategy=median, svc__C=0.1, svc__class_weight=balanced, svc__kernel=rbf, svc__max_iter=1000;, score=0.378 total time=   9.0s\n"
     ]
    },
    {
     "name": "stderr",
     "output_type": "stream",
     "text": [
      "/opt/conda/lib/python3.9/site-packages/sklearn/svm/_base.py:255: ConvergenceWarning: Solver terminated early (max_iter=1000).  Consider pre-processing your data with StandardScaler or MinMaxScaler.\n",
      "  warnings.warn('Solver terminated early (max_iter=%i).'\n"
     ]
    },
    {
     "name": "stdout",
     "output_type": "stream",
     "text": [
      "[CV 2/5] END imputer__strategy=median, svc__C=0.1, svc__class_weight=balanced, svc__kernel=rbf, svc__max_iter=1000;, score=0.387 total time=  10.1s\n"
     ]
    },
    {
     "name": "stderr",
     "output_type": "stream",
     "text": [
      "/opt/conda/lib/python3.9/site-packages/sklearn/svm/_base.py:255: ConvergenceWarning: Solver terminated early (max_iter=1000).  Consider pre-processing your data with StandardScaler or MinMaxScaler.\n",
      "  warnings.warn('Solver terminated early (max_iter=%i).'\n"
     ]
    },
    {
     "name": "stdout",
     "output_type": "stream",
     "text": [
      "[CV 3/5] END imputer__strategy=median, svc__C=0.1, svc__class_weight=balanced, svc__kernel=rbf, svc__max_iter=1000;, score=0.366 total time=   9.3s\n"
     ]
    },
    {
     "name": "stderr",
     "output_type": "stream",
     "text": [
      "/opt/conda/lib/python3.9/site-packages/sklearn/svm/_base.py:255: ConvergenceWarning: Solver terminated early (max_iter=1000).  Consider pre-processing your data with StandardScaler or MinMaxScaler.\n",
      "  warnings.warn('Solver terminated early (max_iter=%i).'\n"
     ]
    },
    {
     "name": "stdout",
     "output_type": "stream",
     "text": [
      "[CV 4/5] END imputer__strategy=median, svc__C=0.1, svc__class_weight=balanced, svc__kernel=rbf, svc__max_iter=1000;, score=0.380 total time=  11.6s\n"
     ]
    },
    {
     "name": "stderr",
     "output_type": "stream",
     "text": [
      "/opt/conda/lib/python3.9/site-packages/sklearn/svm/_base.py:255: ConvergenceWarning: Solver terminated early (max_iter=1000).  Consider pre-processing your data with StandardScaler or MinMaxScaler.\n",
      "  warnings.warn('Solver terminated early (max_iter=%i).'\n"
     ]
    },
    {
     "name": "stdout",
     "output_type": "stream",
     "text": [
      "[CV 5/5] END imputer__strategy=median, svc__C=0.1, svc__class_weight=balanced, svc__kernel=rbf, svc__max_iter=1000;, score=0.380 total time=   9.6s\n",
      "[CV 1/5] END imputer__strategy=median, svc__C=0.1, svc__class_weight=balanced, svc__kernel=rbf, svc__max_iter=10000;, score=0.448 total time=  15.6s\n",
      "[CV 2/5] END imputer__strategy=median, svc__C=0.1, svc__class_weight=balanced, svc__kernel=rbf, svc__max_iter=10000;, score=0.456 total time=  15.4s\n",
      "[CV 3/5] END imputer__strategy=median, svc__C=0.1, svc__class_weight=balanced, svc__kernel=rbf, svc__max_iter=10000;, score=0.464 total time=  15.2s\n",
      "[CV 4/5] END imputer__strategy=median, svc__C=0.1, svc__class_weight=balanced, svc__kernel=rbf, svc__max_iter=10000;, score=0.439 total time=  13.8s\n",
      "[CV 5/5] END imputer__strategy=median, svc__C=0.1, svc__class_weight=balanced, svc__kernel=rbf, svc__max_iter=10000;, score=0.471 total time=  13.7s\n"
     ]
    },
    {
     "name": "stderr",
     "output_type": "stream",
     "text": [
      "/opt/conda/lib/python3.9/site-packages/sklearn/svm/_base.py:255: ConvergenceWarning: Solver terminated early (max_iter=1000).  Consider pre-processing your data with StandardScaler or MinMaxScaler.\n",
      "  warnings.warn('Solver terminated early (max_iter=%i).'\n"
     ]
    },
    {
     "name": "stdout",
     "output_type": "stream",
     "text": [
      "[CV 1/5] END imputer__strategy=median, svc__C=0.1, svc__class_weight=balanced, svc__kernel=poly, svc__max_iter=1000;, score=0.287 total time=   6.9s\n"
     ]
    },
    {
     "name": "stderr",
     "output_type": "stream",
     "text": [
      "/opt/conda/lib/python3.9/site-packages/sklearn/svm/_base.py:255: ConvergenceWarning: Solver terminated early (max_iter=1000).  Consider pre-processing your data with StandardScaler or MinMaxScaler.\n",
      "  warnings.warn('Solver terminated early (max_iter=%i).'\n"
     ]
    },
    {
     "name": "stdout",
     "output_type": "stream",
     "text": [
      "[CV 2/5] END imputer__strategy=median, svc__C=0.1, svc__class_weight=balanced, svc__kernel=poly, svc__max_iter=1000;, score=0.291 total time=   6.7s\n"
     ]
    },
    {
     "name": "stderr",
     "output_type": "stream",
     "text": [
      "/opt/conda/lib/python3.9/site-packages/sklearn/svm/_base.py:255: ConvergenceWarning: Solver terminated early (max_iter=1000).  Consider pre-processing your data with StandardScaler or MinMaxScaler.\n",
      "  warnings.warn('Solver terminated early (max_iter=%i).'\n"
     ]
    },
    {
     "name": "stdout",
     "output_type": "stream",
     "text": [
      "[CV 3/5] END imputer__strategy=median, svc__C=0.1, svc__class_weight=balanced, svc__kernel=poly, svc__max_iter=1000;, score=0.283 total time=   7.4s\n"
     ]
    },
    {
     "name": "stderr",
     "output_type": "stream",
     "text": [
      "/opt/conda/lib/python3.9/site-packages/sklearn/svm/_base.py:255: ConvergenceWarning: Solver terminated early (max_iter=1000).  Consider pre-processing your data with StandardScaler or MinMaxScaler.\n",
      "  warnings.warn('Solver terminated early (max_iter=%i).'\n"
     ]
    },
    {
     "name": "stdout",
     "output_type": "stream",
     "text": [
      "[CV 4/5] END imputer__strategy=median, svc__C=0.1, svc__class_weight=balanced, svc__kernel=poly, svc__max_iter=1000;, score=0.294 total time=   7.3s\n"
     ]
    },
    {
     "name": "stderr",
     "output_type": "stream",
     "text": [
      "/opt/conda/lib/python3.9/site-packages/sklearn/svm/_base.py:255: ConvergenceWarning: Solver terminated early (max_iter=1000).  Consider pre-processing your data with StandardScaler or MinMaxScaler.\n",
      "  warnings.warn('Solver terminated early (max_iter=%i).'\n"
     ]
    },
    {
     "name": "stdout",
     "output_type": "stream",
     "text": [
      "[CV 5/5] END imputer__strategy=median, svc__C=0.1, svc__class_weight=balanced, svc__kernel=poly, svc__max_iter=1000;, score=0.286 total time=   8.1s\n",
      "[CV 1/5] END imputer__strategy=median, svc__C=0.1, svc__class_weight=balanced, svc__kernel=poly, svc__max_iter=10000;, score=0.480 total time=  13.0s\n",
      "[CV 2/5] END imputer__strategy=median, svc__C=0.1, svc__class_weight=balanced, svc__kernel=poly, svc__max_iter=10000;, score=0.472 total time=  12.7s\n",
      "[CV 3/5] END imputer__strategy=median, svc__C=0.1, svc__class_weight=balanced, svc__kernel=poly, svc__max_iter=10000;, score=0.465 total time=  12.4s\n",
      "[CV 4/5] END imputer__strategy=median, svc__C=0.1, svc__class_weight=balanced, svc__kernel=poly, svc__max_iter=10000;, score=0.472 total time=  11.1s\n",
      "[CV 5/5] END imputer__strategy=median, svc__C=0.1, svc__class_weight=balanced, svc__kernel=poly, svc__max_iter=10000;, score=0.477 total time=  12.1s\n"
     ]
    },
    {
     "name": "stderr",
     "output_type": "stream",
     "text": [
      "/opt/conda/lib/python3.9/site-packages/sklearn/svm/_base.py:255: ConvergenceWarning: Solver terminated early (max_iter=1000).  Consider pre-processing your data with StandardScaler or MinMaxScaler.\n",
      "  warnings.warn('Solver terminated early (max_iter=%i).'\n"
     ]
    },
    {
     "name": "stdout",
     "output_type": "stream",
     "text": [
      "[CV 1/5] END imputer__strategy=median, svc__C=0.1, svc__class_weight=balanced, svc__kernel=sigmoid, svc__max_iter=1000;, score=0.362 total time=  14.9s\n"
     ]
    },
    {
     "name": "stderr",
     "output_type": "stream",
     "text": [
      "/opt/conda/lib/python3.9/site-packages/sklearn/svm/_base.py:255: ConvergenceWarning: Solver terminated early (max_iter=1000).  Consider pre-processing your data with StandardScaler or MinMaxScaler.\n",
      "  warnings.warn('Solver terminated early (max_iter=%i).'\n"
     ]
    },
    {
     "name": "stdout",
     "output_type": "stream",
     "text": [
      "[CV 2/5] END imputer__strategy=median, svc__C=0.1, svc__class_weight=balanced, svc__kernel=sigmoid, svc__max_iter=1000;, score=0.361 total time=  11.6s\n"
     ]
    },
    {
     "name": "stderr",
     "output_type": "stream",
     "text": [
      "/opt/conda/lib/python3.9/site-packages/sklearn/svm/_base.py:255: ConvergenceWarning: Solver terminated early (max_iter=1000).  Consider pre-processing your data with StandardScaler or MinMaxScaler.\n",
      "  warnings.warn('Solver terminated early (max_iter=%i).'\n"
     ]
    },
    {
     "name": "stdout",
     "output_type": "stream",
     "text": [
      "[CV 3/5] END imputer__strategy=median, svc__C=0.1, svc__class_weight=balanced, svc__kernel=sigmoid, svc__max_iter=1000;, score=0.350 total time=  12.2s\n"
     ]
    },
    {
     "name": "stderr",
     "output_type": "stream",
     "text": [
      "/opt/conda/lib/python3.9/site-packages/sklearn/svm/_base.py:255: ConvergenceWarning: Solver terminated early (max_iter=1000).  Consider pre-processing your data with StandardScaler or MinMaxScaler.\n",
      "  warnings.warn('Solver terminated early (max_iter=%i).'\n"
     ]
    },
    {
     "name": "stdout",
     "output_type": "stream",
     "text": [
      "[CV 4/5] END imputer__strategy=median, svc__C=0.1, svc__class_weight=balanced, svc__kernel=sigmoid, svc__max_iter=1000;, score=0.354 total time=  12.9s\n"
     ]
    },
    {
     "name": "stderr",
     "output_type": "stream",
     "text": [
      "/opt/conda/lib/python3.9/site-packages/sklearn/svm/_base.py:255: ConvergenceWarning: Solver terminated early (max_iter=1000).  Consider pre-processing your data with StandardScaler or MinMaxScaler.\n",
      "  warnings.warn('Solver terminated early (max_iter=%i).'\n"
     ]
    },
    {
     "name": "stdout",
     "output_type": "stream",
     "text": [
      "[CV 5/5] END imputer__strategy=median, svc__C=0.1, svc__class_weight=balanced, svc__kernel=sigmoid, svc__max_iter=1000;, score=0.357 total time=  11.6s\n",
      "[CV 1/5] END imputer__strategy=median, svc__C=0.1, svc__class_weight=balanced, svc__kernel=sigmoid, svc__max_iter=10000;, score=0.378 total time=  16.6s\n",
      "[CV 2/5] END imputer__strategy=median, svc__C=0.1, svc__class_weight=balanced, svc__kernel=sigmoid, svc__max_iter=10000;, score=0.380 total time=  16.2s\n",
      "[CV 3/5] END imputer__strategy=median, svc__C=0.1, svc__class_weight=balanced, svc__kernel=sigmoid, svc__max_iter=10000;, score=0.378 total time=  19.4s\n",
      "[CV 4/5] END imputer__strategy=median, svc__C=0.1, svc__class_weight=balanced, svc__kernel=sigmoid, svc__max_iter=10000;, score=0.374 total time=  20.6s\n",
      "[CV 5/5] END imputer__strategy=median, svc__C=0.1, svc__class_weight=balanced, svc__kernel=sigmoid, svc__max_iter=10000;, score=0.399 total time=  17.5s\n"
     ]
    },
    {
     "name": "stderr",
     "output_type": "stream",
     "text": [
      "/opt/conda/lib/python3.9/site-packages/sklearn/svm/_base.py:255: ConvergenceWarning: Solver terminated early (max_iter=1000).  Consider pre-processing your data with StandardScaler or MinMaxScaler.\n",
      "  warnings.warn('Solver terminated early (max_iter=%i).'\n"
     ]
    },
    {
     "name": "stdout",
     "output_type": "stream",
     "text": [
      "[CV 1/5] END imputer__strategy=median, svc__C=1, svc__class_weight=None, svc__kernel=linear, svc__max_iter=1000;, score=0.400 total time=   4.6s\n"
     ]
    },
    {
     "name": "stderr",
     "output_type": "stream",
     "text": [
      "/opt/conda/lib/python3.9/site-packages/sklearn/svm/_base.py:255: ConvergenceWarning: Solver terminated early (max_iter=1000).  Consider pre-processing your data with StandardScaler or MinMaxScaler.\n",
      "  warnings.warn('Solver terminated early (max_iter=%i).'\n"
     ]
    },
    {
     "name": "stdout",
     "output_type": "stream",
     "text": [
      "[CV 2/5] END imputer__strategy=median, svc__C=1, svc__class_weight=None, svc__kernel=linear, svc__max_iter=1000;, score=0.374 total time=   4.7s\n"
     ]
    },
    {
     "name": "stderr",
     "output_type": "stream",
     "text": [
      "/opt/conda/lib/python3.9/site-packages/sklearn/svm/_base.py:255: ConvergenceWarning: Solver terminated early (max_iter=1000).  Consider pre-processing your data with StandardScaler or MinMaxScaler.\n",
      "  warnings.warn('Solver terminated early (max_iter=%i).'\n"
     ]
    },
    {
     "name": "stdout",
     "output_type": "stream",
     "text": [
      "[CV 3/5] END imputer__strategy=median, svc__C=1, svc__class_weight=None, svc__kernel=linear, svc__max_iter=1000;, score=0.398 total time=   5.2s\n"
     ]
    },
    {
     "name": "stderr",
     "output_type": "stream",
     "text": [
      "/opt/conda/lib/python3.9/site-packages/sklearn/svm/_base.py:255: ConvergenceWarning: Solver terminated early (max_iter=1000).  Consider pre-processing your data with StandardScaler or MinMaxScaler.\n",
      "  warnings.warn('Solver terminated early (max_iter=%i).'\n"
     ]
    },
    {
     "name": "stdout",
     "output_type": "stream",
     "text": [
      "[CV 4/5] END imputer__strategy=median, svc__C=1, svc__class_weight=None, svc__kernel=linear, svc__max_iter=1000;, score=0.362 total time=   5.5s\n"
     ]
    },
    {
     "name": "stderr",
     "output_type": "stream",
     "text": [
      "/opt/conda/lib/python3.9/site-packages/sklearn/svm/_base.py:255: ConvergenceWarning: Solver terminated early (max_iter=1000).  Consider pre-processing your data with StandardScaler or MinMaxScaler.\n",
      "  warnings.warn('Solver terminated early (max_iter=%i).'\n"
     ]
    },
    {
     "name": "stdout",
     "output_type": "stream",
     "text": [
      "[CV 5/5] END imputer__strategy=median, svc__C=1, svc__class_weight=None, svc__kernel=linear, svc__max_iter=1000;, score=0.364 total time=   6.5s\n"
     ]
    },
    {
     "name": "stderr",
     "output_type": "stream",
     "text": [
      "/opt/conda/lib/python3.9/site-packages/sklearn/svm/_base.py:255: ConvergenceWarning: Solver terminated early (max_iter=10000).  Consider pre-processing your data with StandardScaler or MinMaxScaler.\n",
      "  warnings.warn('Solver terminated early (max_iter=%i).'\n"
     ]
    },
    {
     "name": "stdout",
     "output_type": "stream",
     "text": [
      "[CV 1/5] END imputer__strategy=median, svc__C=1, svc__class_weight=None, svc__kernel=linear, svc__max_iter=10000;, score=0.500 total time=   9.3s\n"
     ]
    },
    {
     "name": "stderr",
     "output_type": "stream",
     "text": [
      "/opt/conda/lib/python3.9/site-packages/sklearn/svm/_base.py:255: ConvergenceWarning: Solver terminated early (max_iter=10000).  Consider pre-processing your data with StandardScaler or MinMaxScaler.\n",
      "  warnings.warn('Solver terminated early (max_iter=%i).'\n"
     ]
    },
    {
     "name": "stdout",
     "output_type": "stream",
     "text": [
      "[CV 2/5] END imputer__strategy=median, svc__C=1, svc__class_weight=None, svc__kernel=linear, svc__max_iter=10000;, score=0.505 total time=   9.2s\n"
     ]
    },
    {
     "name": "stderr",
     "output_type": "stream",
     "text": [
      "/opt/conda/lib/python3.9/site-packages/sklearn/svm/_base.py:255: ConvergenceWarning: Solver terminated early (max_iter=10000).  Consider pre-processing your data with StandardScaler or MinMaxScaler.\n",
      "  warnings.warn('Solver terminated early (max_iter=%i).'\n"
     ]
    },
    {
     "name": "stdout",
     "output_type": "stream",
     "text": [
      "[CV 3/5] END imputer__strategy=median, svc__C=1, svc__class_weight=None, svc__kernel=linear, svc__max_iter=10000;, score=0.491 total time=   9.5s\n"
     ]
    },
    {
     "name": "stderr",
     "output_type": "stream",
     "text": [
      "/opt/conda/lib/python3.9/site-packages/sklearn/svm/_base.py:255: ConvergenceWarning: Solver terminated early (max_iter=10000).  Consider pre-processing your data with StandardScaler or MinMaxScaler.\n",
      "  warnings.warn('Solver terminated early (max_iter=%i).'\n"
     ]
    },
    {
     "name": "stdout",
     "output_type": "stream",
     "text": [
      "[CV 4/5] END imputer__strategy=median, svc__C=1, svc__class_weight=None, svc__kernel=linear, svc__max_iter=10000;, score=0.507 total time=  12.5s\n"
     ]
    },
    {
     "name": "stderr",
     "output_type": "stream",
     "text": [
      "/opt/conda/lib/python3.9/site-packages/sklearn/svm/_base.py:255: ConvergenceWarning: Solver terminated early (max_iter=10000).  Consider pre-processing your data with StandardScaler or MinMaxScaler.\n",
      "  warnings.warn('Solver terminated early (max_iter=%i).'\n"
     ]
    },
    {
     "name": "stdout",
     "output_type": "stream",
     "text": [
      "[CV 5/5] END imputer__strategy=median, svc__C=1, svc__class_weight=None, svc__kernel=linear, svc__max_iter=10000;, score=0.507 total time=   9.0s\n"
     ]
    },
    {
     "name": "stderr",
     "output_type": "stream",
     "text": [
      "/opt/conda/lib/python3.9/site-packages/sklearn/svm/_base.py:255: ConvergenceWarning: Solver terminated early (max_iter=1000).  Consider pre-processing your data with StandardScaler or MinMaxScaler.\n",
      "  warnings.warn('Solver terminated early (max_iter=%i).'\n"
     ]
    },
    {
     "name": "stdout",
     "output_type": "stream",
     "text": [
      "[CV 1/5] END imputer__strategy=median, svc__C=1, svc__class_weight=None, svc__kernel=rbf, svc__max_iter=1000;, score=0.526 total time=  13.2s\n"
     ]
    },
    {
     "name": "stderr",
     "output_type": "stream",
     "text": [
      "/opt/conda/lib/python3.9/site-packages/sklearn/svm/_base.py:255: ConvergenceWarning: Solver terminated early (max_iter=1000).  Consider pre-processing your data with StandardScaler or MinMaxScaler.\n",
      "  warnings.warn('Solver terminated early (max_iter=%i).'\n"
     ]
    },
    {
     "name": "stdout",
     "output_type": "stream",
     "text": [
      "[CV 2/5] END imputer__strategy=median, svc__C=1, svc__class_weight=None, svc__kernel=rbf, svc__max_iter=1000;, score=0.518 total time=  12.2s\n"
     ]
    },
    {
     "name": "stderr",
     "output_type": "stream",
     "text": [
      "/opt/conda/lib/python3.9/site-packages/sklearn/svm/_base.py:255: ConvergenceWarning: Solver terminated early (max_iter=1000).  Consider pre-processing your data with StandardScaler or MinMaxScaler.\n",
      "  warnings.warn('Solver terminated early (max_iter=%i).'\n"
     ]
    },
    {
     "name": "stdout",
     "output_type": "stream",
     "text": [
      "[CV 3/5] END imputer__strategy=median, svc__C=1, svc__class_weight=None, svc__kernel=rbf, svc__max_iter=1000;, score=0.521 total time=  10.5s\n"
     ]
    },
    {
     "name": "stderr",
     "output_type": "stream",
     "text": [
      "/opt/conda/lib/python3.9/site-packages/sklearn/svm/_base.py:255: ConvergenceWarning: Solver terminated early (max_iter=1000).  Consider pre-processing your data with StandardScaler or MinMaxScaler.\n",
      "  warnings.warn('Solver terminated early (max_iter=%i).'\n"
     ]
    },
    {
     "name": "stdout",
     "output_type": "stream",
     "text": [
      "[CV 4/5] END imputer__strategy=median, svc__C=1, svc__class_weight=None, svc__kernel=rbf, svc__max_iter=1000;, score=0.532 total time=  11.3s\n"
     ]
    },
    {
     "name": "stderr",
     "output_type": "stream",
     "text": [
      "/opt/conda/lib/python3.9/site-packages/sklearn/svm/_base.py:255: ConvergenceWarning: Solver terminated early (max_iter=1000).  Consider pre-processing your data with StandardScaler or MinMaxScaler.\n",
      "  warnings.warn('Solver terminated early (max_iter=%i).'\n"
     ]
    },
    {
     "name": "stdout",
     "output_type": "stream",
     "text": [
      "[CV 5/5] END imputer__strategy=median, svc__C=1, svc__class_weight=None, svc__kernel=rbf, svc__max_iter=1000;, score=0.534 total time=   8.6s\n",
      "[CV 1/5] END imputer__strategy=median, svc__C=1, svc__class_weight=None, svc__kernel=rbf, svc__max_iter=10000;, score=0.528 total time=  10.0s\n",
      "[CV 2/5] END imputer__strategy=median, svc__C=1, svc__class_weight=None, svc__kernel=rbf, svc__max_iter=10000;, score=0.527 total time=  12.0s\n",
      "[CV 3/5] END imputer__strategy=median, svc__C=1, svc__class_weight=None, svc__kernel=rbf, svc__max_iter=10000;, score=0.524 total time=  12.5s\n",
      "[CV 4/5] END imputer__strategy=median, svc__C=1, svc__class_weight=None, svc__kernel=rbf, svc__max_iter=10000;, score=0.539 total time=   9.8s\n",
      "[CV 5/5] END imputer__strategy=median, svc__C=1, svc__class_weight=None, svc__kernel=rbf, svc__max_iter=10000;, score=0.536 total time=   9.8s\n"
     ]
    },
    {
     "name": "stderr",
     "output_type": "stream",
     "text": [
      "/opt/conda/lib/python3.9/site-packages/sklearn/svm/_base.py:255: ConvergenceWarning: Solver terminated early (max_iter=1000).  Consider pre-processing your data with StandardScaler or MinMaxScaler.\n",
      "  warnings.warn('Solver terminated early (max_iter=%i).'\n"
     ]
    },
    {
     "name": "stdout",
     "output_type": "stream",
     "text": [
      "[CV 1/5] END imputer__strategy=median, svc__C=1, svc__class_weight=None, svc__kernel=poly, svc__max_iter=1000;, score=0.477 total time=   6.3s\n"
     ]
    },
    {
     "name": "stderr",
     "output_type": "stream",
     "text": [
      "/opt/conda/lib/python3.9/site-packages/sklearn/svm/_base.py:255: ConvergenceWarning: Solver terminated early (max_iter=1000).  Consider pre-processing your data with StandardScaler or MinMaxScaler.\n",
      "  warnings.warn('Solver terminated early (max_iter=%i).'\n"
     ]
    },
    {
     "name": "stdout",
     "output_type": "stream",
     "text": [
      "[CV 2/5] END imputer__strategy=median, svc__C=1, svc__class_weight=None, svc__kernel=poly, svc__max_iter=1000;, score=0.482 total time=   6.4s\n"
     ]
    },
    {
     "name": "stderr",
     "output_type": "stream",
     "text": [
      "/opt/conda/lib/python3.9/site-packages/sklearn/svm/_base.py:255: ConvergenceWarning: Solver terminated early (max_iter=1000).  Consider pre-processing your data with StandardScaler or MinMaxScaler.\n",
      "  warnings.warn('Solver terminated early (max_iter=%i).'\n"
     ]
    },
    {
     "name": "stdout",
     "output_type": "stream",
     "text": [
      "[CV 3/5] END imputer__strategy=median, svc__C=1, svc__class_weight=None, svc__kernel=poly, svc__max_iter=1000;, score=0.487 total time=   6.4s\n"
     ]
    },
    {
     "name": "stderr",
     "output_type": "stream",
     "text": [
      "/opt/conda/lib/python3.9/site-packages/sklearn/svm/_base.py:255: ConvergenceWarning: Solver terminated early (max_iter=1000).  Consider pre-processing your data with StandardScaler or MinMaxScaler.\n",
      "  warnings.warn('Solver terminated early (max_iter=%i).'\n"
     ]
    },
    {
     "name": "stdout",
     "output_type": "stream",
     "text": [
      "[CV 4/5] END imputer__strategy=median, svc__C=1, svc__class_weight=None, svc__kernel=poly, svc__max_iter=1000;, score=0.483 total time=   7.1s\n"
     ]
    },
    {
     "name": "stderr",
     "output_type": "stream",
     "text": [
      "/opt/conda/lib/python3.9/site-packages/sklearn/svm/_base.py:255: ConvergenceWarning: Solver terminated early (max_iter=1000).  Consider pre-processing your data with StandardScaler or MinMaxScaler.\n",
      "  warnings.warn('Solver terminated early (max_iter=%i).'\n"
     ]
    },
    {
     "name": "stdout",
     "output_type": "stream",
     "text": [
      "[CV 5/5] END imputer__strategy=median, svc__C=1, svc__class_weight=None, svc__kernel=poly, svc__max_iter=1000;, score=0.477 total time=   7.9s\n"
     ]
    },
    {
     "name": "stderr",
     "output_type": "stream",
     "text": [
      "/opt/conda/lib/python3.9/site-packages/sklearn/svm/_base.py:255: ConvergenceWarning: Solver terminated early (max_iter=10000).  Consider pre-processing your data with StandardScaler or MinMaxScaler.\n",
      "  warnings.warn('Solver terminated early (max_iter=%i).'\n"
     ]
    },
    {
     "name": "stdout",
     "output_type": "stream",
     "text": [
      "[CV 1/5] END imputer__strategy=median, svc__C=1, svc__class_weight=None, svc__kernel=poly, svc__max_iter=10000;, score=0.525 total time=   8.1s\n"
     ]
    },
    {
     "name": "stderr",
     "output_type": "stream",
     "text": [
      "/opt/conda/lib/python3.9/site-packages/sklearn/svm/_base.py:255: ConvergenceWarning: Solver terminated early (max_iter=10000).  Consider pre-processing your data with StandardScaler or MinMaxScaler.\n",
      "  warnings.warn('Solver terminated early (max_iter=%i).'\n"
     ]
    },
    {
     "name": "stdout",
     "output_type": "stream",
     "text": [
      "[CV 2/5] END imputer__strategy=median, svc__C=1, svc__class_weight=None, svc__kernel=poly, svc__max_iter=10000;, score=0.519 total time=   9.6s\n",
      "[CV 3/5] END imputer__strategy=median, svc__C=1, svc__class_weight=None, svc__kernel=poly, svc__max_iter=10000;, score=0.516 total time=   9.7s\n",
      "[CV 4/5] END imputer__strategy=median, svc__C=1, svc__class_weight=None, svc__kernel=poly, svc__max_iter=10000;, score=0.527 total time=   9.8s\n",
      "[CV 5/5] END imputer__strategy=median, svc__C=1, svc__class_weight=None, svc__kernel=poly, svc__max_iter=10000;, score=0.518 total time=  10.1s\n"
     ]
    },
    {
     "name": "stderr",
     "output_type": "stream",
     "text": [
      "/opt/conda/lib/python3.9/site-packages/sklearn/svm/_base.py:255: ConvergenceWarning: Solver terminated early (max_iter=1000).  Consider pre-processing your data with StandardScaler or MinMaxScaler.\n",
      "  warnings.warn('Solver terminated early (max_iter=%i).'\n"
     ]
    },
    {
     "name": "stdout",
     "output_type": "stream",
     "text": [
      "[CV 1/5] END imputer__strategy=median, svc__C=1, svc__class_weight=None, svc__kernel=sigmoid, svc__max_iter=1000;, score=0.355 total time=   9.3s\n"
     ]
    },
    {
     "name": "stderr",
     "output_type": "stream",
     "text": [
      "/opt/conda/lib/python3.9/site-packages/sklearn/svm/_base.py:255: ConvergenceWarning: Solver terminated early (max_iter=1000).  Consider pre-processing your data with StandardScaler or MinMaxScaler.\n",
      "  warnings.warn('Solver terminated early (max_iter=%i).'\n"
     ]
    },
    {
     "name": "stdout",
     "output_type": "stream",
     "text": [
      "[CV 2/5] END imputer__strategy=median, svc__C=1, svc__class_weight=None, svc__kernel=sigmoid, svc__max_iter=1000;, score=0.370 total time=   9.0s\n"
     ]
    },
    {
     "name": "stderr",
     "output_type": "stream",
     "text": [
      "/opt/conda/lib/python3.9/site-packages/sklearn/svm/_base.py:255: ConvergenceWarning: Solver terminated early (max_iter=1000).  Consider pre-processing your data with StandardScaler or MinMaxScaler.\n",
      "  warnings.warn('Solver terminated early (max_iter=%i).'\n"
     ]
    },
    {
     "name": "stdout",
     "output_type": "stream",
     "text": [
      "[CV 3/5] END imputer__strategy=median, svc__C=1, svc__class_weight=None, svc__kernel=sigmoid, svc__max_iter=1000;, score=0.329 total time=   8.9s\n"
     ]
    },
    {
     "name": "stderr",
     "output_type": "stream",
     "text": [
      "/opt/conda/lib/python3.9/site-packages/sklearn/svm/_base.py:255: ConvergenceWarning: Solver terminated early (max_iter=1000).  Consider pre-processing your data with StandardScaler or MinMaxScaler.\n",
      "  warnings.warn('Solver terminated early (max_iter=%i).'\n"
     ]
    },
    {
     "name": "stdout",
     "output_type": "stream",
     "text": [
      "[CV 4/5] END imputer__strategy=median, svc__C=1, svc__class_weight=None, svc__kernel=sigmoid, svc__max_iter=1000;, score=0.344 total time=   9.0s\n"
     ]
    },
    {
     "name": "stderr",
     "output_type": "stream",
     "text": [
      "/opt/conda/lib/python3.9/site-packages/sklearn/svm/_base.py:255: ConvergenceWarning: Solver terminated early (max_iter=1000).  Consider pre-processing your data with StandardScaler or MinMaxScaler.\n",
      "  warnings.warn('Solver terminated early (max_iter=%i).'\n"
     ]
    },
    {
     "name": "stdout",
     "output_type": "stream",
     "text": [
      "[CV 5/5] END imputer__strategy=median, svc__C=1, svc__class_weight=None, svc__kernel=sigmoid, svc__max_iter=1000;, score=0.349 total time=   8.9s\n",
      "[CV 1/5] END imputer__strategy=median, svc__C=1, svc__class_weight=None, svc__kernel=sigmoid, svc__max_iter=10000;, score=0.354 total time=   9.3s\n",
      "[CV 2/5] END imputer__strategy=median, svc__C=1, svc__class_weight=None, svc__kernel=sigmoid, svc__max_iter=10000;, score=0.365 total time=   9.6s\n",
      "[CV 3/5] END imputer__strategy=median, svc__C=1, svc__class_weight=None, svc__kernel=sigmoid, svc__max_iter=10000;, score=0.340 total time=   9.9s\n",
      "[CV 4/5] END imputer__strategy=median, svc__C=1, svc__class_weight=None, svc__kernel=sigmoid, svc__max_iter=10000;, score=0.345 total time=   9.5s\n",
      "[CV 5/5] END imputer__strategy=median, svc__C=1, svc__class_weight=None, svc__kernel=sigmoid, svc__max_iter=10000;, score=0.348 total time=   9.6s\n"
     ]
    },
    {
     "name": "stderr",
     "output_type": "stream",
     "text": [
      "/opt/conda/lib/python3.9/site-packages/sklearn/svm/_base.py:255: ConvergenceWarning: Solver terminated early (max_iter=1000).  Consider pre-processing your data with StandardScaler or MinMaxScaler.\n",
      "  warnings.warn('Solver terminated early (max_iter=%i).'\n"
     ]
    },
    {
     "name": "stdout",
     "output_type": "stream",
     "text": [
      "[CV 1/5] END imputer__strategy=median, svc__C=1, svc__class_weight=balanced, svc__kernel=linear, svc__max_iter=1000;, score=0.363 total time=   4.9s\n"
     ]
    },
    {
     "name": "stderr",
     "output_type": "stream",
     "text": [
      "/opt/conda/lib/python3.9/site-packages/sklearn/svm/_base.py:255: ConvergenceWarning: Solver terminated early (max_iter=1000).  Consider pre-processing your data with StandardScaler or MinMaxScaler.\n",
      "  warnings.warn('Solver terminated early (max_iter=%i).'\n"
     ]
    },
    {
     "name": "stdout",
     "output_type": "stream",
     "text": [
      "[CV 2/5] END imputer__strategy=median, svc__C=1, svc__class_weight=balanced, svc__kernel=linear, svc__max_iter=1000;, score=0.378 total time=   4.8s\n"
     ]
    },
    {
     "name": "stderr",
     "output_type": "stream",
     "text": [
      "/opt/conda/lib/python3.9/site-packages/sklearn/svm/_base.py:255: ConvergenceWarning: Solver terminated early (max_iter=1000).  Consider pre-processing your data with StandardScaler or MinMaxScaler.\n",
      "  warnings.warn('Solver terminated early (max_iter=%i).'\n"
     ]
    },
    {
     "name": "stdout",
     "output_type": "stream",
     "text": [
      "[CV 3/5] END imputer__strategy=median, svc__C=1, svc__class_weight=balanced, svc__kernel=linear, svc__max_iter=1000;, score=0.366 total time=   4.7s\n"
     ]
    },
    {
     "name": "stderr",
     "output_type": "stream",
     "text": [
      "/opt/conda/lib/python3.9/site-packages/sklearn/svm/_base.py:255: ConvergenceWarning: Solver terminated early (max_iter=1000).  Consider pre-processing your data with StandardScaler or MinMaxScaler.\n",
      "  warnings.warn('Solver terminated early (max_iter=%i).'\n"
     ]
    },
    {
     "name": "stdout",
     "output_type": "stream",
     "text": [
      "[CV 4/5] END imputer__strategy=median, svc__C=1, svc__class_weight=balanced, svc__kernel=linear, svc__max_iter=1000;, score=0.376 total time=   4.7s\n"
     ]
    },
    {
     "name": "stderr",
     "output_type": "stream",
     "text": [
      "/opt/conda/lib/python3.9/site-packages/sklearn/svm/_base.py:255: ConvergenceWarning: Solver terminated early (max_iter=1000).  Consider pre-processing your data with StandardScaler or MinMaxScaler.\n",
      "  warnings.warn('Solver terminated early (max_iter=%i).'\n"
     ]
    },
    {
     "name": "stdout",
     "output_type": "stream",
     "text": [
      "[CV 5/5] END imputer__strategy=median, svc__C=1, svc__class_weight=balanced, svc__kernel=linear, svc__max_iter=1000;, score=0.386 total time=   4.9s\n"
     ]
    },
    {
     "name": "stderr",
     "output_type": "stream",
     "text": [
      "/opt/conda/lib/python3.9/site-packages/sklearn/svm/_base.py:255: ConvergenceWarning: Solver terminated early (max_iter=10000).  Consider pre-processing your data with StandardScaler or MinMaxScaler.\n",
      "  warnings.warn('Solver terminated early (max_iter=%i).'\n"
     ]
    },
    {
     "name": "stdout",
     "output_type": "stream",
     "text": [
      "[CV 1/5] END imputer__strategy=median, svc__C=1, svc__class_weight=balanced, svc__kernel=linear, svc__max_iter=10000;, score=0.439 total time=  10.7s\n"
     ]
    },
    {
     "name": "stderr",
     "output_type": "stream",
     "text": [
      "/opt/conda/lib/python3.9/site-packages/sklearn/svm/_base.py:255: ConvergenceWarning: Solver terminated early (max_iter=10000).  Consider pre-processing your data with StandardScaler or MinMaxScaler.\n",
      "  warnings.warn('Solver terminated early (max_iter=%i).'\n"
     ]
    },
    {
     "name": "stdout",
     "output_type": "stream",
     "text": [
      "[CV 2/5] END imputer__strategy=median, svc__C=1, svc__class_weight=balanced, svc__kernel=linear, svc__max_iter=10000;, score=0.445 total time=   9.2s\n"
     ]
    },
    {
     "name": "stderr",
     "output_type": "stream",
     "text": [
      "/opt/conda/lib/python3.9/site-packages/sklearn/svm/_base.py:255: ConvergenceWarning: Solver terminated early (max_iter=10000).  Consider pre-processing your data with StandardScaler or MinMaxScaler.\n",
      "  warnings.warn('Solver terminated early (max_iter=%i).'\n"
     ]
    },
    {
     "name": "stdout",
     "output_type": "stream",
     "text": [
      "[CV 3/5] END imputer__strategy=median, svc__C=1, svc__class_weight=balanced, svc__kernel=linear, svc__max_iter=10000;, score=0.439 total time=  10.3s\n"
     ]
    },
    {
     "name": "stderr",
     "output_type": "stream",
     "text": [
      "/opt/conda/lib/python3.9/site-packages/sklearn/svm/_base.py:255: ConvergenceWarning: Solver terminated early (max_iter=10000).  Consider pre-processing your data with StandardScaler or MinMaxScaler.\n",
      "  warnings.warn('Solver terminated early (max_iter=%i).'\n"
     ]
    },
    {
     "name": "stdout",
     "output_type": "stream",
     "text": [
      "[CV 4/5] END imputer__strategy=median, svc__C=1, svc__class_weight=balanced, svc__kernel=linear, svc__max_iter=10000;, score=0.440 total time=  13.5s\n"
     ]
    },
    {
     "name": "stderr",
     "output_type": "stream",
     "text": [
      "/opt/conda/lib/python3.9/site-packages/sklearn/svm/_base.py:255: ConvergenceWarning: Solver terminated early (max_iter=10000).  Consider pre-processing your data with StandardScaler or MinMaxScaler.\n",
      "  warnings.warn('Solver terminated early (max_iter=%i).'\n"
     ]
    },
    {
     "name": "stdout",
     "output_type": "stream",
     "text": [
      "[CV 5/5] END imputer__strategy=median, svc__C=1, svc__class_weight=balanced, svc__kernel=linear, svc__max_iter=10000;, score=0.458 total time=  13.7s\n"
     ]
    },
    {
     "name": "stderr",
     "output_type": "stream",
     "text": [
      "/opt/conda/lib/python3.9/site-packages/sklearn/svm/_base.py:255: ConvergenceWarning: Solver terminated early (max_iter=1000).  Consider pre-processing your data with StandardScaler or MinMaxScaler.\n",
      "  warnings.warn('Solver terminated early (max_iter=%i).'\n"
     ]
    },
    {
     "name": "stdout",
     "output_type": "stream",
     "text": [
      "[CV 1/5] END imputer__strategy=median, svc__C=1, svc__class_weight=balanced, svc__kernel=rbf, svc__max_iter=1000;, score=0.364 total time=  11.4s\n"
     ]
    },
    {
     "name": "stderr",
     "output_type": "stream",
     "text": [
      "/opt/conda/lib/python3.9/site-packages/sklearn/svm/_base.py:255: ConvergenceWarning: Solver terminated early (max_iter=1000).  Consider pre-processing your data with StandardScaler or MinMaxScaler.\n",
      "  warnings.warn('Solver terminated early (max_iter=%i).'\n"
     ]
    },
    {
     "name": "stdout",
     "output_type": "stream",
     "text": [
      "[CV 2/5] END imputer__strategy=median, svc__C=1, svc__class_weight=balanced, svc__kernel=rbf, svc__max_iter=1000;, score=0.381 total time=   9.9s\n"
     ]
    },
    {
     "name": "stderr",
     "output_type": "stream",
     "text": [
      "/opt/conda/lib/python3.9/site-packages/sklearn/svm/_base.py:255: ConvergenceWarning: Solver terminated early (max_iter=1000).  Consider pre-processing your data with StandardScaler or MinMaxScaler.\n",
      "  warnings.warn('Solver terminated early (max_iter=%i).'\n"
     ]
    },
    {
     "name": "stdout",
     "output_type": "stream",
     "text": [
      "[CV 3/5] END imputer__strategy=median, svc__C=1, svc__class_weight=balanced, svc__kernel=rbf, svc__max_iter=1000;, score=0.372 total time=  11.6s\n"
     ]
    },
    {
     "name": "stderr",
     "output_type": "stream",
     "text": [
      "/opt/conda/lib/python3.9/site-packages/sklearn/svm/_base.py:255: ConvergenceWarning: Solver terminated early (max_iter=1000).  Consider pre-processing your data with StandardScaler or MinMaxScaler.\n",
      "  warnings.warn('Solver terminated early (max_iter=%i).'\n"
     ]
    },
    {
     "name": "stdout",
     "output_type": "stream",
     "text": [
      "[CV 4/5] END imputer__strategy=median, svc__C=1, svc__class_weight=balanced, svc__kernel=rbf, svc__max_iter=1000;, score=0.374 total time=  11.0s\n"
     ]
    },
    {
     "name": "stderr",
     "output_type": "stream",
     "text": [
      "/opt/conda/lib/python3.9/site-packages/sklearn/svm/_base.py:255: ConvergenceWarning: Solver terminated early (max_iter=1000).  Consider pre-processing your data with StandardScaler or MinMaxScaler.\n",
      "  warnings.warn('Solver terminated early (max_iter=%i).'\n"
     ]
    },
    {
     "name": "stdout",
     "output_type": "stream",
     "text": [
      "[CV 5/5] END imputer__strategy=median, svc__C=1, svc__class_weight=balanced, svc__kernel=rbf, svc__max_iter=1000;, score=0.364 total time=  11.1s\n",
      "[CV 1/5] END imputer__strategy=median, svc__C=1, svc__class_weight=balanced, svc__kernel=rbf, svc__max_iter=10000;, score=0.455 total time=  16.7s\n",
      "[CV 2/5] END imputer__strategy=median, svc__C=1, svc__class_weight=balanced, svc__kernel=rbf, svc__max_iter=10000;, score=0.466 total time=  16.4s\n",
      "[CV 3/5] END imputer__strategy=median, svc__C=1, svc__class_weight=balanced, svc__kernel=rbf, svc__max_iter=10000;, score=0.474 total time=  11.8s\n",
      "[CV 4/5] END imputer__strategy=median, svc__C=1, svc__class_weight=balanced, svc__kernel=rbf, svc__max_iter=10000;, score=0.457 total time=  15.8s\n",
      "[CV 5/5] END imputer__strategy=median, svc__C=1, svc__class_weight=balanced, svc__kernel=rbf, svc__max_iter=10000;, score=0.484 total time=  14.5s\n"
     ]
    },
    {
     "name": "stderr",
     "output_type": "stream",
     "text": [
      "/opt/conda/lib/python3.9/site-packages/sklearn/svm/_base.py:255: ConvergenceWarning: Solver terminated early (max_iter=1000).  Consider pre-processing your data with StandardScaler or MinMaxScaler.\n",
      "  warnings.warn('Solver terminated early (max_iter=%i).'\n"
     ]
    },
    {
     "name": "stdout",
     "output_type": "stream",
     "text": [
      "[CV 1/5] END imputer__strategy=median, svc__C=1, svc__class_weight=balanced, svc__kernel=poly, svc__max_iter=1000;, score=0.359 total time=   7.3s\n"
     ]
    },
    {
     "name": "stderr",
     "output_type": "stream",
     "text": [
      "/opt/conda/lib/python3.9/site-packages/sklearn/svm/_base.py:255: ConvergenceWarning: Solver terminated early (max_iter=1000).  Consider pre-processing your data with StandardScaler or MinMaxScaler.\n",
      "  warnings.warn('Solver terminated early (max_iter=%i).'\n"
     ]
    },
    {
     "name": "stdout",
     "output_type": "stream",
     "text": [
      "[CV 2/5] END imputer__strategy=median, svc__C=1, svc__class_weight=balanced, svc__kernel=poly, svc__max_iter=1000;, score=0.373 total time=   7.3s\n"
     ]
    },
    {
     "name": "stderr",
     "output_type": "stream",
     "text": [
      "/opt/conda/lib/python3.9/site-packages/sklearn/svm/_base.py:255: ConvergenceWarning: Solver terminated early (max_iter=1000).  Consider pre-processing your data with StandardScaler or MinMaxScaler.\n",
      "  warnings.warn('Solver terminated early (max_iter=%i).'\n"
     ]
    },
    {
     "name": "stdout",
     "output_type": "stream",
     "text": [
      "[CV 3/5] END imputer__strategy=median, svc__C=1, svc__class_weight=balanced, svc__kernel=poly, svc__max_iter=1000;, score=0.373 total time=   7.3s\n"
     ]
    },
    {
     "name": "stderr",
     "output_type": "stream",
     "text": [
      "/opt/conda/lib/python3.9/site-packages/sklearn/svm/_base.py:255: ConvergenceWarning: Solver terminated early (max_iter=1000).  Consider pre-processing your data with StandardScaler or MinMaxScaler.\n",
      "  warnings.warn('Solver terminated early (max_iter=%i).'\n"
     ]
    },
    {
     "name": "stdout",
     "output_type": "stream",
     "text": [
      "[CV 4/5] END imputer__strategy=median, svc__C=1, svc__class_weight=balanced, svc__kernel=poly, svc__max_iter=1000;, score=0.362 total time=   8.5s\n"
     ]
    },
    {
     "name": "stderr",
     "output_type": "stream",
     "text": [
      "/opt/conda/lib/python3.9/site-packages/sklearn/svm/_base.py:255: ConvergenceWarning: Solver terminated early (max_iter=1000).  Consider pre-processing your data with StandardScaler or MinMaxScaler.\n",
      "  warnings.warn('Solver terminated early (max_iter=%i).'\n"
     ]
    },
    {
     "name": "stdout",
     "output_type": "stream",
     "text": [
      "[CV 5/5] END imputer__strategy=median, svc__C=1, svc__class_weight=balanced, svc__kernel=poly, svc__max_iter=1000;, score=0.360 total time=   9.1s\n",
      "[CV 1/5] END imputer__strategy=median, svc__C=1, svc__class_weight=balanced, svc__kernel=poly, svc__max_iter=10000;, score=0.457 total time=  15.1s\n",
      "[CV 2/5] END imputer__strategy=median, svc__C=1, svc__class_weight=balanced, svc__kernel=poly, svc__max_iter=10000;, score=0.458 total time=  13.3s\n",
      "[CV 3/5] END imputer__strategy=median, svc__C=1, svc__class_weight=balanced, svc__kernel=poly, svc__max_iter=10000;, score=0.460 total time=  14.1s\n",
      "[CV 4/5] END imputer__strategy=median, svc__C=1, svc__class_weight=balanced, svc__kernel=poly, svc__max_iter=10000;, score=0.458 total time=  13.2s\n",
      "[CV 5/5] END imputer__strategy=median, svc__C=1, svc__class_weight=balanced, svc__kernel=poly, svc__max_iter=10000;, score=0.476 total time=  14.0s\n"
     ]
    },
    {
     "name": "stderr",
     "output_type": "stream",
     "text": [
      "/opt/conda/lib/python3.9/site-packages/sklearn/svm/_base.py:255: ConvergenceWarning: Solver terminated early (max_iter=1000).  Consider pre-processing your data with StandardScaler or MinMaxScaler.\n",
      "  warnings.warn('Solver terminated early (max_iter=%i).'\n"
     ]
    },
    {
     "name": "stdout",
     "output_type": "stream",
     "text": [
      "[CV 1/5] END imputer__strategy=median, svc__C=1, svc__class_weight=balanced, svc__kernel=sigmoid, svc__max_iter=1000;, score=0.342 total time=  11.2s\n"
     ]
    },
    {
     "name": "stderr",
     "output_type": "stream",
     "text": [
      "/opt/conda/lib/python3.9/site-packages/sklearn/svm/_base.py:255: ConvergenceWarning: Solver terminated early (max_iter=1000).  Consider pre-processing your data with StandardScaler or MinMaxScaler.\n",
      "  warnings.warn('Solver terminated early (max_iter=%i).'\n"
     ]
    },
    {
     "name": "stdout",
     "output_type": "stream",
     "text": [
      "[CV 2/5] END imputer__strategy=median, svc__C=1, svc__class_weight=balanced, svc__kernel=sigmoid, svc__max_iter=1000;, score=0.340 total time=  11.5s\n"
     ]
    },
    {
     "name": "stderr",
     "output_type": "stream",
     "text": [
      "/opt/conda/lib/python3.9/site-packages/sklearn/svm/_base.py:255: ConvergenceWarning: Solver terminated early (max_iter=1000).  Consider pre-processing your data with StandardScaler or MinMaxScaler.\n",
      "  warnings.warn('Solver terminated early (max_iter=%i).'\n"
     ]
    },
    {
     "name": "stdout",
     "output_type": "stream",
     "text": [
      "[CV 3/5] END imputer__strategy=median, svc__C=1, svc__class_weight=balanced, svc__kernel=sigmoid, svc__max_iter=1000;, score=0.334 total time=  11.8s\n"
     ]
    },
    {
     "name": "stderr",
     "output_type": "stream",
     "text": [
      "/opt/conda/lib/python3.9/site-packages/sklearn/svm/_base.py:255: ConvergenceWarning: Solver terminated early (max_iter=1000).  Consider pre-processing your data with StandardScaler or MinMaxScaler.\n",
      "  warnings.warn('Solver terminated early (max_iter=%i).'\n"
     ]
    },
    {
     "name": "stdout",
     "output_type": "stream",
     "text": [
      "[CV 4/5] END imputer__strategy=median, svc__C=1, svc__class_weight=balanced, svc__kernel=sigmoid, svc__max_iter=1000;, score=0.340 total time=  11.6s\n"
     ]
    },
    {
     "name": "stderr",
     "output_type": "stream",
     "text": [
      "/opt/conda/lib/python3.9/site-packages/sklearn/svm/_base.py:255: ConvergenceWarning: Solver terminated early (max_iter=1000).  Consider pre-processing your data with StandardScaler or MinMaxScaler.\n",
      "  warnings.warn('Solver terminated early (max_iter=%i).'\n"
     ]
    },
    {
     "name": "stdout",
     "output_type": "stream",
     "text": [
      "[CV 5/5] END imputer__strategy=median, svc__C=1, svc__class_weight=balanced, svc__kernel=sigmoid, svc__max_iter=1000;, score=0.342 total time=  11.6s\n",
      "[CV 1/5] END imputer__strategy=median, svc__C=1, svc__class_weight=balanced, svc__kernel=sigmoid, svc__max_iter=10000;, score=0.302 total time=  16.6s\n",
      "[CV 2/5] END imputer__strategy=median, svc__C=1, svc__class_weight=balanced, svc__kernel=sigmoid, svc__max_iter=10000;, score=0.319 total time=  16.6s\n",
      "[CV 3/5] END imputer__strategy=median, svc__C=1, svc__class_weight=balanced, svc__kernel=sigmoid, svc__max_iter=10000;, score=0.322 total time=  16.4s\n",
      "[CV 4/5] END imputer__strategy=median, svc__C=1, svc__class_weight=balanced, svc__kernel=sigmoid, svc__max_iter=10000;, score=0.311 total time=  16.6s\n",
      "[CV 5/5] END imputer__strategy=median, svc__C=1, svc__class_weight=balanced, svc__kernel=sigmoid, svc__max_iter=10000;, score=0.324 total time=  16.5s\n"
     ]
    },
    {
     "name": "stderr",
     "output_type": "stream",
     "text": [
      "/opt/conda/lib/python3.9/site-packages/sklearn/svm/_base.py:255: ConvergenceWarning: Solver terminated early (max_iter=1000).  Consider pre-processing your data with StandardScaler or MinMaxScaler.\n",
      "  warnings.warn('Solver terminated early (max_iter=%i).'\n"
     ]
    },
    {
     "name": "stdout",
     "output_type": "stream",
     "text": [
      "[CV 1/5] END imputer__strategy=median, svc__C=10, svc__class_weight=None, svc__kernel=linear, svc__max_iter=1000;, score=0.292 total time=   6.1s\n"
     ]
    },
    {
     "name": "stderr",
     "output_type": "stream",
     "text": [
      "/opt/conda/lib/python3.9/site-packages/sklearn/svm/_base.py:255: ConvergenceWarning: Solver terminated early (max_iter=1000).  Consider pre-processing your data with StandardScaler or MinMaxScaler.\n",
      "  warnings.warn('Solver terminated early (max_iter=%i).'\n"
     ]
    },
    {
     "name": "stdout",
     "output_type": "stream",
     "text": [
      "[CV 2/5] END imputer__strategy=median, svc__C=10, svc__class_weight=None, svc__kernel=linear, svc__max_iter=1000;, score=0.315 total time=   6.0s\n"
     ]
    },
    {
     "name": "stderr",
     "output_type": "stream",
     "text": [
      "/opt/conda/lib/python3.9/site-packages/sklearn/svm/_base.py:255: ConvergenceWarning: Solver terminated early (max_iter=1000).  Consider pre-processing your data with StandardScaler or MinMaxScaler.\n",
      "  warnings.warn('Solver terminated early (max_iter=%i).'\n"
     ]
    },
    {
     "name": "stdout",
     "output_type": "stream",
     "text": [
      "[CV 3/5] END imputer__strategy=median, svc__C=10, svc__class_weight=None, svc__kernel=linear, svc__max_iter=1000;, score=0.287 total time=   5.2s\n"
     ]
    },
    {
     "name": "stderr",
     "output_type": "stream",
     "text": [
      "/opt/conda/lib/python3.9/site-packages/sklearn/svm/_base.py:255: ConvergenceWarning: Solver terminated early (max_iter=1000).  Consider pre-processing your data with StandardScaler or MinMaxScaler.\n",
      "  warnings.warn('Solver terminated early (max_iter=%i).'\n"
     ]
    },
    {
     "name": "stdout",
     "output_type": "stream",
     "text": [
      "[CV 4/5] END imputer__strategy=median, svc__C=10, svc__class_weight=None, svc__kernel=linear, svc__max_iter=1000;, score=0.288 total time=   5.6s\n"
     ]
    },
    {
     "name": "stderr",
     "output_type": "stream",
     "text": [
      "/opt/conda/lib/python3.9/site-packages/sklearn/svm/_base.py:255: ConvergenceWarning: Solver terminated early (max_iter=1000).  Consider pre-processing your data with StandardScaler or MinMaxScaler.\n",
      "  warnings.warn('Solver terminated early (max_iter=%i).'\n"
     ]
    },
    {
     "name": "stdout",
     "output_type": "stream",
     "text": [
      "[CV 5/5] END imputer__strategy=median, svc__C=10, svc__class_weight=None, svc__kernel=linear, svc__max_iter=1000;, score=0.249 total time=   6.2s\n"
     ]
    },
    {
     "name": "stderr",
     "output_type": "stream",
     "text": [
      "/opt/conda/lib/python3.9/site-packages/sklearn/svm/_base.py:255: ConvergenceWarning: Solver terminated early (max_iter=10000).  Consider pre-processing your data with StandardScaler or MinMaxScaler.\n",
      "  warnings.warn('Solver terminated early (max_iter=%i).'\n"
     ]
    },
    {
     "name": "stdout",
     "output_type": "stream",
     "text": [
      "[CV 1/5] END imputer__strategy=median, svc__C=10, svc__class_weight=None, svc__kernel=linear, svc__max_iter=10000;, score=0.423 total time=  16.2s\n"
     ]
    },
    {
     "name": "stderr",
     "output_type": "stream",
     "text": [
      "/opt/conda/lib/python3.9/site-packages/sklearn/svm/_base.py:255: ConvergenceWarning: Solver terminated early (max_iter=10000).  Consider pre-processing your data with StandardScaler or MinMaxScaler.\n",
      "  warnings.warn('Solver terminated early (max_iter=%i).'\n"
     ]
    },
    {
     "name": "stdout",
     "output_type": "stream",
     "text": [
      "[CV 2/5] END imputer__strategy=median, svc__C=10, svc__class_weight=None, svc__kernel=linear, svc__max_iter=10000;, score=0.427 total time=  16.2s\n"
     ]
    },
    {
     "name": "stderr",
     "output_type": "stream",
     "text": [
      "/opt/conda/lib/python3.9/site-packages/sklearn/svm/_base.py:255: ConvergenceWarning: Solver terminated early (max_iter=10000).  Consider pre-processing your data with StandardScaler or MinMaxScaler.\n",
      "  warnings.warn('Solver terminated early (max_iter=%i).'\n"
     ]
    },
    {
     "name": "stdout",
     "output_type": "stream",
     "text": [
      "[CV 3/5] END imputer__strategy=median, svc__C=10, svc__class_weight=None, svc__kernel=linear, svc__max_iter=10000;, score=0.408 total time=  16.6s\n"
     ]
    },
    {
     "name": "stderr",
     "output_type": "stream",
     "text": [
      "/opt/conda/lib/python3.9/site-packages/sklearn/svm/_base.py:255: ConvergenceWarning: Solver terminated early (max_iter=10000).  Consider pre-processing your data with StandardScaler or MinMaxScaler.\n",
      "  warnings.warn('Solver terminated early (max_iter=%i).'\n"
     ]
    },
    {
     "name": "stdout",
     "output_type": "stream",
     "text": [
      "[CV 4/5] END imputer__strategy=median, svc__C=10, svc__class_weight=None, svc__kernel=linear, svc__max_iter=10000;, score=0.382 total time=  16.4s\n"
     ]
    },
    {
     "name": "stderr",
     "output_type": "stream",
     "text": [
      "/opt/conda/lib/python3.9/site-packages/sklearn/svm/_base.py:255: ConvergenceWarning: Solver terminated early (max_iter=10000).  Consider pre-processing your data with StandardScaler or MinMaxScaler.\n",
      "  warnings.warn('Solver terminated early (max_iter=%i).'\n"
     ]
    },
    {
     "name": "stdout",
     "output_type": "stream",
     "text": [
      "[CV 5/5] END imputer__strategy=median, svc__C=10, svc__class_weight=None, svc__kernel=linear, svc__max_iter=10000;, score=0.415 total time=  16.7s\n"
     ]
    },
    {
     "name": "stderr",
     "output_type": "stream",
     "text": [
      "/opt/conda/lib/python3.9/site-packages/sklearn/svm/_base.py:255: ConvergenceWarning: Solver terminated early (max_iter=1000).  Consider pre-processing your data with StandardScaler or MinMaxScaler.\n",
      "  warnings.warn('Solver terminated early (max_iter=%i).'\n"
     ]
    },
    {
     "name": "stdout",
     "output_type": "stream",
     "text": [
      "[CV 1/5] END imputer__strategy=median, svc__C=10, svc__class_weight=None, svc__kernel=rbf, svc__max_iter=1000;, score=0.458 total time=  11.5s\n"
     ]
    },
    {
     "name": "stderr",
     "output_type": "stream",
     "text": [
      "/opt/conda/lib/python3.9/site-packages/sklearn/svm/_base.py:255: ConvergenceWarning: Solver terminated early (max_iter=1000).  Consider pre-processing your data with StandardScaler or MinMaxScaler.\n",
      "  warnings.warn('Solver terminated early (max_iter=%i).'\n"
     ]
    },
    {
     "name": "stdout",
     "output_type": "stream",
     "text": [
      "[CV 2/5] END imputer__strategy=median, svc__C=10, svc__class_weight=None, svc__kernel=rbf, svc__max_iter=1000;, score=0.443 total time=  11.4s\n"
     ]
    },
    {
     "name": "stderr",
     "output_type": "stream",
     "text": [
      "/opt/conda/lib/python3.9/site-packages/sklearn/svm/_base.py:255: ConvergenceWarning: Solver terminated early (max_iter=1000).  Consider pre-processing your data with StandardScaler or MinMaxScaler.\n",
      "  warnings.warn('Solver terminated early (max_iter=%i).'\n"
     ]
    },
    {
     "name": "stdout",
     "output_type": "stream",
     "text": [
      "[CV 3/5] END imputer__strategy=median, svc__C=10, svc__class_weight=None, svc__kernel=rbf, svc__max_iter=1000;, score=0.446 total time=  10.1s\n"
     ]
    },
    {
     "name": "stderr",
     "output_type": "stream",
     "text": [
      "/opt/conda/lib/python3.9/site-packages/sklearn/svm/_base.py:255: ConvergenceWarning: Solver terminated early (max_iter=1000).  Consider pre-processing your data with StandardScaler or MinMaxScaler.\n",
      "  warnings.warn('Solver terminated early (max_iter=%i).'\n"
     ]
    },
    {
     "name": "stdout",
     "output_type": "stream",
     "text": [
      "[CV 4/5] END imputer__strategy=median, svc__C=10, svc__class_weight=None, svc__kernel=rbf, svc__max_iter=1000;, score=0.456 total time=  11.1s\n"
     ]
    },
    {
     "name": "stderr",
     "output_type": "stream",
     "text": [
      "/opt/conda/lib/python3.9/site-packages/sklearn/svm/_base.py:255: ConvergenceWarning: Solver terminated early (max_iter=1000).  Consider pre-processing your data with StandardScaler or MinMaxScaler.\n",
      "  warnings.warn('Solver terminated early (max_iter=%i).'\n"
     ]
    },
    {
     "name": "stdout",
     "output_type": "stream",
     "text": [
      "[CV 5/5] END imputer__strategy=median, svc__C=10, svc__class_weight=None, svc__kernel=rbf, svc__max_iter=1000;, score=0.466 total time=  11.0s\n"
     ]
    },
    {
     "name": "stderr",
     "output_type": "stream",
     "text": [
      "/opt/conda/lib/python3.9/site-packages/sklearn/svm/_base.py:255: ConvergenceWarning: Solver terminated early (max_iter=10000).  Consider pre-processing your data with StandardScaler or MinMaxScaler.\n",
      "  warnings.warn('Solver terminated early (max_iter=%i).'\n"
     ]
    },
    {
     "name": "stdout",
     "output_type": "stream",
     "text": [
      "[CV 1/5] END imputer__strategy=median, svc__C=10, svc__class_weight=None, svc__kernel=rbf, svc__max_iter=10000;, score=0.503 total time=  16.9s\n"
     ]
    },
    {
     "name": "stderr",
     "output_type": "stream",
     "text": [
      "/opt/conda/lib/python3.9/site-packages/sklearn/svm/_base.py:255: ConvergenceWarning: Solver terminated early (max_iter=10000).  Consider pre-processing your data with StandardScaler or MinMaxScaler.\n",
      "  warnings.warn('Solver terminated early (max_iter=%i).'\n"
     ]
    },
    {
     "name": "stdout",
     "output_type": "stream",
     "text": [
      "[CV 2/5] END imputer__strategy=median, svc__C=10, svc__class_weight=None, svc__kernel=rbf, svc__max_iter=10000;, score=0.502 total time=  16.8s\n"
     ]
    },
    {
     "name": "stderr",
     "output_type": "stream",
     "text": [
      "/opt/conda/lib/python3.9/site-packages/sklearn/svm/_base.py:255: ConvergenceWarning: Solver terminated early (max_iter=10000).  Consider pre-processing your data with StandardScaler or MinMaxScaler.\n",
      "  warnings.warn('Solver terminated early (max_iter=%i).'\n"
     ]
    },
    {
     "name": "stdout",
     "output_type": "stream",
     "text": [
      "[CV 3/5] END imputer__strategy=median, svc__C=10, svc__class_weight=None, svc__kernel=rbf, svc__max_iter=10000;, score=0.506 total time=  17.2s\n"
     ]
    },
    {
     "name": "stderr",
     "output_type": "stream",
     "text": [
      "/opt/conda/lib/python3.9/site-packages/sklearn/svm/_base.py:255: ConvergenceWarning: Solver terminated early (max_iter=10000).  Consider pre-processing your data with StandardScaler or MinMaxScaler.\n",
      "  warnings.warn('Solver terminated early (max_iter=%i).'\n"
     ]
    },
    {
     "name": "stdout",
     "output_type": "stream",
     "text": [
      "[CV 4/5] END imputer__strategy=median, svc__C=10, svc__class_weight=None, svc__kernel=rbf, svc__max_iter=10000;, score=0.509 total time=  16.9s\n"
     ]
    },
    {
     "name": "stderr",
     "output_type": "stream",
     "text": [
      "/opt/conda/lib/python3.9/site-packages/sklearn/svm/_base.py:255: ConvergenceWarning: Solver terminated early (max_iter=10000).  Consider pre-processing your data with StandardScaler or MinMaxScaler.\n",
      "  warnings.warn('Solver terminated early (max_iter=%i).'\n"
     ]
    },
    {
     "name": "stdout",
     "output_type": "stream",
     "text": [
      "[CV 5/5] END imputer__strategy=median, svc__C=10, svc__class_weight=None, svc__kernel=rbf, svc__max_iter=10000;, score=0.512 total time=  16.9s\n"
     ]
    },
    {
     "name": "stderr",
     "output_type": "stream",
     "text": [
      "/opt/conda/lib/python3.9/site-packages/sklearn/svm/_base.py:255: ConvergenceWarning: Solver terminated early (max_iter=1000).  Consider pre-processing your data with StandardScaler or MinMaxScaler.\n",
      "  warnings.warn('Solver terminated early (max_iter=%i).'\n"
     ]
    },
    {
     "name": "stdout",
     "output_type": "stream",
     "text": [
      "[CV 1/5] END imputer__strategy=median, svc__C=10, svc__class_weight=None, svc__kernel=poly, svc__max_iter=1000;, score=0.442 total time=   8.6s\n"
     ]
    },
    {
     "name": "stderr",
     "output_type": "stream",
     "text": [
      "/opt/conda/lib/python3.9/site-packages/sklearn/svm/_base.py:255: ConvergenceWarning: Solver terminated early (max_iter=1000).  Consider pre-processing your data with StandardScaler or MinMaxScaler.\n",
      "  warnings.warn('Solver terminated early (max_iter=%i).'\n"
     ]
    },
    {
     "name": "stdout",
     "output_type": "stream",
     "text": [
      "[CV 2/5] END imputer__strategy=median, svc__C=10, svc__class_weight=None, svc__kernel=poly, svc__max_iter=1000;, score=0.430 total time=   8.6s\n"
     ]
    },
    {
     "name": "stderr",
     "output_type": "stream",
     "text": [
      "/opt/conda/lib/python3.9/site-packages/sklearn/svm/_base.py:255: ConvergenceWarning: Solver terminated early (max_iter=1000).  Consider pre-processing your data with StandardScaler or MinMaxScaler.\n",
      "  warnings.warn('Solver terminated early (max_iter=%i).'\n"
     ]
    },
    {
     "name": "stdout",
     "output_type": "stream",
     "text": [
      "[CV 3/5] END imputer__strategy=median, svc__C=10, svc__class_weight=None, svc__kernel=poly, svc__max_iter=1000;, score=0.452 total time=   8.4s\n"
     ]
    },
    {
     "name": "stderr",
     "output_type": "stream",
     "text": [
      "/opt/conda/lib/python3.9/site-packages/sklearn/svm/_base.py:255: ConvergenceWarning: Solver terminated early (max_iter=1000).  Consider pre-processing your data with StandardScaler or MinMaxScaler.\n",
      "  warnings.warn('Solver terminated early (max_iter=%i).'\n"
     ]
    },
    {
     "name": "stdout",
     "output_type": "stream",
     "text": [
      "[CV 4/5] END imputer__strategy=median, svc__C=10, svc__class_weight=None, svc__kernel=poly, svc__max_iter=1000;, score=0.440 total time=   8.3s\n"
     ]
    },
    {
     "name": "stderr",
     "output_type": "stream",
     "text": [
      "/opt/conda/lib/python3.9/site-packages/sklearn/svm/_base.py:255: ConvergenceWarning: Solver terminated early (max_iter=1000).  Consider pre-processing your data with StandardScaler or MinMaxScaler.\n",
      "  warnings.warn('Solver terminated early (max_iter=%i).'\n"
     ]
    },
    {
     "name": "stdout",
     "output_type": "stream",
     "text": [
      "[CV 5/5] END imputer__strategy=median, svc__C=10, svc__class_weight=None, svc__kernel=poly, svc__max_iter=1000;, score=0.449 total time=   8.4s\n"
     ]
    },
    {
     "name": "stderr",
     "output_type": "stream",
     "text": [
      "/opt/conda/lib/python3.9/site-packages/sklearn/svm/_base.py:255: ConvergenceWarning: Solver terminated early (max_iter=10000).  Consider pre-processing your data with StandardScaler or MinMaxScaler.\n",
      "  warnings.warn('Solver terminated early (max_iter=%i).'\n"
     ]
    },
    {
     "name": "stdout",
     "output_type": "stream",
     "text": [
      "[CV 1/5] END imputer__strategy=median, svc__C=10, svc__class_weight=None, svc__kernel=poly, svc__max_iter=10000;, score=0.492 total time=  13.3s\n"
     ]
    },
    {
     "name": "stderr",
     "output_type": "stream",
     "text": [
      "/opt/conda/lib/python3.9/site-packages/sklearn/svm/_base.py:255: ConvergenceWarning: Solver terminated early (max_iter=10000).  Consider pre-processing your data with StandardScaler or MinMaxScaler.\n",
      "  warnings.warn('Solver terminated early (max_iter=%i).'\n"
     ]
    },
    {
     "name": "stdout",
     "output_type": "stream",
     "text": [
      "[CV 2/5] END imputer__strategy=median, svc__C=10, svc__class_weight=None, svc__kernel=poly, svc__max_iter=10000;, score=0.485 total time=  13.4s\n"
     ]
    },
    {
     "name": "stderr",
     "output_type": "stream",
     "text": [
      "/opt/conda/lib/python3.9/site-packages/sklearn/svm/_base.py:255: ConvergenceWarning: Solver terminated early (max_iter=10000).  Consider pre-processing your data with StandardScaler or MinMaxScaler.\n",
      "  warnings.warn('Solver terminated early (max_iter=%i).'\n"
     ]
    },
    {
     "name": "stdout",
     "output_type": "stream",
     "text": [
      "[CV 3/5] END imputer__strategy=median, svc__C=10, svc__class_weight=None, svc__kernel=poly, svc__max_iter=10000;, score=0.494 total time=  13.5s\n"
     ]
    },
    {
     "name": "stderr",
     "output_type": "stream",
     "text": [
      "/opt/conda/lib/python3.9/site-packages/sklearn/svm/_base.py:255: ConvergenceWarning: Solver terminated early (max_iter=10000).  Consider pre-processing your data with StandardScaler or MinMaxScaler.\n",
      "  warnings.warn('Solver terminated early (max_iter=%i).'\n"
     ]
    },
    {
     "name": "stdout",
     "output_type": "stream",
     "text": [
      "[CV 4/5] END imputer__strategy=median, svc__C=10, svc__class_weight=None, svc__kernel=poly, svc__max_iter=10000;, score=0.502 total time=  13.3s\n"
     ]
    },
    {
     "name": "stderr",
     "output_type": "stream",
     "text": [
      "/opt/conda/lib/python3.9/site-packages/sklearn/svm/_base.py:255: ConvergenceWarning: Solver terminated early (max_iter=10000).  Consider pre-processing your data with StandardScaler or MinMaxScaler.\n",
      "  warnings.warn('Solver terminated early (max_iter=%i).'\n"
     ]
    },
    {
     "name": "stdout",
     "output_type": "stream",
     "text": [
      "[CV 5/5] END imputer__strategy=median, svc__C=10, svc__class_weight=None, svc__kernel=poly, svc__max_iter=10000;, score=0.496 total time=  13.5s\n"
     ]
    },
    {
     "name": "stderr",
     "output_type": "stream",
     "text": [
      "/opt/conda/lib/python3.9/site-packages/sklearn/svm/_base.py:255: ConvergenceWarning: Solver terminated early (max_iter=1000).  Consider pre-processing your data with StandardScaler or MinMaxScaler.\n",
      "  warnings.warn('Solver terminated early (max_iter=%i).'\n"
     ]
    },
    {
     "name": "stdout",
     "output_type": "stream",
     "text": [
      "[CV 1/5] END imputer__strategy=median, svc__C=10, svc__class_weight=None, svc__kernel=sigmoid, svc__max_iter=1000;, score=0.340 total time=  11.9s\n"
     ]
    },
    {
     "name": "stderr",
     "output_type": "stream",
     "text": [
      "/opt/conda/lib/python3.9/site-packages/sklearn/svm/_base.py:255: ConvergenceWarning: Solver terminated early (max_iter=1000).  Consider pre-processing your data with StandardScaler or MinMaxScaler.\n",
      "  warnings.warn('Solver terminated early (max_iter=%i).'\n"
     ]
    },
    {
     "name": "stdout",
     "output_type": "stream",
     "text": [
      "[CV 2/5] END imputer__strategy=median, svc__C=10, svc__class_weight=None, svc__kernel=sigmoid, svc__max_iter=1000;, score=0.348 total time=  11.9s\n"
     ]
    },
    {
     "name": "stderr",
     "output_type": "stream",
     "text": [
      "/opt/conda/lib/python3.9/site-packages/sklearn/svm/_base.py:255: ConvergenceWarning: Solver terminated early (max_iter=1000).  Consider pre-processing your data with StandardScaler or MinMaxScaler.\n",
      "  warnings.warn('Solver terminated early (max_iter=%i).'\n"
     ]
    },
    {
     "name": "stdout",
     "output_type": "stream",
     "text": [
      "[CV 3/5] END imputer__strategy=median, svc__C=10, svc__class_weight=None, svc__kernel=sigmoid, svc__max_iter=1000;, score=0.312 total time=  12.1s\n"
     ]
    },
    {
     "name": "stderr",
     "output_type": "stream",
     "text": [
      "/opt/conda/lib/python3.9/site-packages/sklearn/svm/_base.py:255: ConvergenceWarning: Solver terminated early (max_iter=1000).  Consider pre-processing your data with StandardScaler or MinMaxScaler.\n",
      "  warnings.warn('Solver terminated early (max_iter=%i).'\n"
     ]
    },
    {
     "name": "stdout",
     "output_type": "stream",
     "text": [
      "[CV 4/5] END imputer__strategy=median, svc__C=10, svc__class_weight=None, svc__kernel=sigmoid, svc__max_iter=1000;, score=0.323 total time=  12.0s\n"
     ]
    },
    {
     "name": "stderr",
     "output_type": "stream",
     "text": [
      "/opt/conda/lib/python3.9/site-packages/sklearn/svm/_base.py:255: ConvergenceWarning: Solver terminated early (max_iter=10000).  Consider pre-processing your data with StandardScaler or MinMaxScaler.\n",
      "  warnings.warn('Solver terminated early (max_iter=%i).'\n"
     ]
    },
    {
     "name": "stdout",
     "output_type": "stream",
     "text": [
      "[CV 1/5] END imputer__strategy=median, svc__C=10, svc__class_weight=balanced, svc__kernel=linear, svc__max_iter=10000;, score=0.429 total time=  17.5s\n"
     ]
    },
    {
     "name": "stderr",
     "output_type": "stream",
     "text": [
      "/opt/conda/lib/python3.9/site-packages/sklearn/svm/_base.py:255: ConvergenceWarning: Solver terminated early (max_iter=10000).  Consider pre-processing your data with StandardScaler or MinMaxScaler.\n",
      "  warnings.warn('Solver terminated early (max_iter=%i).'\n"
     ]
    },
    {
     "name": "stdout",
     "output_type": "stream",
     "text": [
      "[CV 2/5] END imputer__strategy=median, svc__C=10, svc__class_weight=balanced, svc__kernel=linear, svc__max_iter=10000;, score=0.411 total time=  17.8s\n"
     ]
    },
    {
     "name": "stderr",
     "output_type": "stream",
     "text": [
      "/opt/conda/lib/python3.9/site-packages/sklearn/svm/_base.py:255: ConvergenceWarning: Solver terminated early (max_iter=10000).  Consider pre-processing your data with StandardScaler or MinMaxScaler.\n",
      "  warnings.warn('Solver terminated early (max_iter=%i).'\n"
     ]
    },
    {
     "name": "stdout",
     "output_type": "stream",
     "text": [
      "[CV 3/5] END imputer__strategy=median, svc__C=10, svc__class_weight=balanced, svc__kernel=linear, svc__max_iter=10000;, score=0.415 total time=  17.0s\n"
     ]
    },
    {
     "name": "stderr",
     "output_type": "stream",
     "text": [
      "/opt/conda/lib/python3.9/site-packages/sklearn/svm/_base.py:255: ConvergenceWarning: Solver terminated early (max_iter=10000).  Consider pre-processing your data with StandardScaler or MinMaxScaler.\n",
      "  warnings.warn('Solver terminated early (max_iter=%i).'\n"
     ]
    },
    {
     "name": "stdout",
     "output_type": "stream",
     "text": [
      "[CV 4/5] END imputer__strategy=median, svc__C=10, svc__class_weight=balanced, svc__kernel=linear, svc__max_iter=10000;, score=0.420 total time=  16.7s\n"
     ]
    },
    {
     "name": "stderr",
     "output_type": "stream",
     "text": [
      "/opt/conda/lib/python3.9/site-packages/sklearn/svm/_base.py:255: ConvergenceWarning: Solver terminated early (max_iter=10000).  Consider pre-processing your data with StandardScaler or MinMaxScaler.\n",
      "  warnings.warn('Solver terminated early (max_iter=%i).'\n"
     ]
    },
    {
     "name": "stdout",
     "output_type": "stream",
     "text": [
      "[CV 5/5] END imputer__strategy=median, svc__C=10, svc__class_weight=balanced, svc__kernel=linear, svc__max_iter=10000;, score=0.413 total time=  17.7s\n"
     ]
    },
    {
     "name": "stderr",
     "output_type": "stream",
     "text": [
      "/opt/conda/lib/python3.9/site-packages/sklearn/svm/_base.py:255: ConvergenceWarning: Solver terminated early (max_iter=1000).  Consider pre-processing your data with StandardScaler or MinMaxScaler.\n",
      "  warnings.warn('Solver terminated early (max_iter=%i).'\n"
     ]
    },
    {
     "name": "stdout",
     "output_type": "stream",
     "text": [
      "[CV 1/5] END imputer__strategy=median, svc__C=10, svc__class_weight=balanced, svc__kernel=rbf, svc__max_iter=1000;, score=0.380 total time=  11.5s\n"
     ]
    },
    {
     "name": "stderr",
     "output_type": "stream",
     "text": [
      "/opt/conda/lib/python3.9/site-packages/sklearn/svm/_base.py:255: ConvergenceWarning: Solver terminated early (max_iter=1000).  Consider pre-processing your data with StandardScaler or MinMaxScaler.\n",
      "  warnings.warn('Solver terminated early (max_iter=%i).'\n"
     ]
    },
    {
     "name": "stdout",
     "output_type": "stream",
     "text": [
      "[CV 2/5] END imputer__strategy=median, svc__C=10, svc__class_weight=balanced, svc__kernel=rbf, svc__max_iter=1000;, score=0.374 total time=  11.4s\n"
     ]
    },
    {
     "name": "stderr",
     "output_type": "stream",
     "text": [
      "/opt/conda/lib/python3.9/site-packages/sklearn/svm/_base.py:255: ConvergenceWarning: Solver terminated early (max_iter=1000).  Consider pre-processing your data with StandardScaler or MinMaxScaler.\n",
      "  warnings.warn('Solver terminated early (max_iter=%i).'\n"
     ]
    },
    {
     "name": "stdout",
     "output_type": "stream",
     "text": [
      "[CV 3/5] END imputer__strategy=median, svc__C=10, svc__class_weight=balanced, svc__kernel=rbf, svc__max_iter=1000;, score=0.373 total time=  11.1s\n"
     ]
    },
    {
     "name": "stderr",
     "output_type": "stream",
     "text": [
      "/opt/conda/lib/python3.9/site-packages/sklearn/svm/_base.py:255: ConvergenceWarning: Solver terminated early (max_iter=1000).  Consider pre-processing your data with StandardScaler or MinMaxScaler.\n",
      "  warnings.warn('Solver terminated early (max_iter=%i).'\n"
     ]
    },
    {
     "name": "stdout",
     "output_type": "stream",
     "text": [
      "[CV 4/5] END imputer__strategy=median, svc__C=10, svc__class_weight=balanced, svc__kernel=rbf, svc__max_iter=1000;, score=0.384 total time=  11.5s\n"
     ]
    },
    {
     "name": "stderr",
     "output_type": "stream",
     "text": [
      "/opt/conda/lib/python3.9/site-packages/sklearn/svm/_base.py:255: ConvergenceWarning: Solver terminated early (max_iter=1000).  Consider pre-processing your data with StandardScaler or MinMaxScaler.\n",
      "  warnings.warn('Solver terminated early (max_iter=%i).'\n"
     ]
    },
    {
     "name": "stdout",
     "output_type": "stream",
     "text": [
      "[CV 5/5] END imputer__strategy=median, svc__C=10, svc__class_weight=balanced, svc__kernel=rbf, svc__max_iter=1000;, score=0.389 total time=  11.5s\n"
     ]
    },
    {
     "name": "stderr",
     "output_type": "stream",
     "text": [
      "/opt/conda/lib/python3.9/site-packages/sklearn/svm/_base.py:255: ConvergenceWarning: Solver terminated early (max_iter=10000).  Consider pre-processing your data with StandardScaler or MinMaxScaler.\n",
      "  warnings.warn('Solver terminated early (max_iter=%i).'\n"
     ]
    },
    {
     "name": "stdout",
     "output_type": "stream",
     "text": [
      "[CV 1/5] END imputer__strategy=median, svc__C=10, svc__class_weight=balanced, svc__kernel=rbf, svc__max_iter=10000;, score=0.437 total time=  17.3s\n"
     ]
    },
    {
     "name": "stderr",
     "output_type": "stream",
     "text": [
      "/opt/conda/lib/python3.9/site-packages/sklearn/svm/_base.py:255: ConvergenceWarning: Solver terminated early (max_iter=10000).  Consider pre-processing your data with StandardScaler or MinMaxScaler.\n",
      "  warnings.warn('Solver terminated early (max_iter=%i).'\n"
     ]
    },
    {
     "name": "stdout",
     "output_type": "stream",
     "text": [
      "[CV 2/5] END imputer__strategy=median, svc__C=10, svc__class_weight=balanced, svc__kernel=rbf, svc__max_iter=10000;, score=0.452 total time=  17.5s\n"
     ]
    },
    {
     "name": "stderr",
     "output_type": "stream",
     "text": [
      "/opt/conda/lib/python3.9/site-packages/sklearn/svm/_base.py:255: ConvergenceWarning: Solver terminated early (max_iter=10000).  Consider pre-processing your data with StandardScaler or MinMaxScaler.\n",
      "  warnings.warn('Solver terminated early (max_iter=%i).'\n"
     ]
    },
    {
     "name": "stdout",
     "output_type": "stream",
     "text": [
      "[CV 3/5] END imputer__strategy=median, svc__C=10, svc__class_weight=balanced, svc__kernel=rbf, svc__max_iter=10000;, score=0.458 total time=  17.7s\n"
     ]
    },
    {
     "name": "stderr",
     "output_type": "stream",
     "text": [
      "/opt/conda/lib/python3.9/site-packages/sklearn/svm/_base.py:255: ConvergenceWarning: Solver terminated early (max_iter=10000).  Consider pre-processing your data with StandardScaler or MinMaxScaler.\n",
      "  warnings.warn('Solver terminated early (max_iter=%i).'\n"
     ]
    },
    {
     "name": "stdout",
     "output_type": "stream",
     "text": [
      "[CV 4/5] END imputer__strategy=median, svc__C=10, svc__class_weight=balanced, svc__kernel=rbf, svc__max_iter=10000;, score=0.453 total time=  17.5s\n"
     ]
    },
    {
     "name": "stderr",
     "output_type": "stream",
     "text": [
      "/opt/conda/lib/python3.9/site-packages/sklearn/svm/_base.py:255: ConvergenceWarning: Solver terminated early (max_iter=10000).  Consider pre-processing your data with StandardScaler or MinMaxScaler.\n",
      "  warnings.warn('Solver terminated early (max_iter=%i).'\n"
     ]
    },
    {
     "name": "stdout",
     "output_type": "stream",
     "text": [
      "[CV 5/5] END imputer__strategy=median, svc__C=10, svc__class_weight=balanced, svc__kernel=rbf, svc__max_iter=10000;, score=0.466 total time=  17.0s\n"
     ]
    },
    {
     "name": "stderr",
     "output_type": "stream",
     "text": [
      "/opt/conda/lib/python3.9/site-packages/sklearn/svm/_base.py:255: ConvergenceWarning: Solver terminated early (max_iter=1000).  Consider pre-processing your data with StandardScaler or MinMaxScaler.\n",
      "  warnings.warn('Solver terminated early (max_iter=%i).'\n"
     ]
    },
    {
     "name": "stdout",
     "output_type": "stream",
     "text": [
      "[CV 1/5] END imputer__strategy=median, svc__C=10, svc__class_weight=balanced, svc__kernel=poly, svc__max_iter=1000;, score=0.418 total time=   7.2s\n"
     ]
    },
    {
     "name": "stderr",
     "output_type": "stream",
     "text": [
      "/opt/conda/lib/python3.9/site-packages/sklearn/svm/_base.py:255: ConvergenceWarning: Solver terminated early (max_iter=1000).  Consider pre-processing your data with StandardScaler or MinMaxScaler.\n",
      "  warnings.warn('Solver terminated early (max_iter=%i).'\n"
     ]
    },
    {
     "name": "stdout",
     "output_type": "stream",
     "text": [
      "[CV 2/5] END imputer__strategy=median, svc__C=10, svc__class_weight=balanced, svc__kernel=poly, svc__max_iter=1000;, score=0.403 total time=   8.7s\n"
     ]
    },
    {
     "name": "stderr",
     "output_type": "stream",
     "text": [
      "/opt/conda/lib/python3.9/site-packages/sklearn/svm/_base.py:255: ConvergenceWarning: Solver terminated early (max_iter=1000).  Consider pre-processing your data with StandardScaler or MinMaxScaler.\n",
      "  warnings.warn('Solver terminated early (max_iter=%i).'\n"
     ]
    },
    {
     "name": "stdout",
     "output_type": "stream",
     "text": [
      "[CV 3/5] END imputer__strategy=median, svc__C=10, svc__class_weight=balanced, svc__kernel=poly, svc__max_iter=1000;, score=0.415 total time=   8.4s\n"
     ]
    },
    {
     "name": "stderr",
     "output_type": "stream",
     "text": [
      "/opt/conda/lib/python3.9/site-packages/sklearn/svm/_base.py:255: ConvergenceWarning: Solver terminated early (max_iter=1000).  Consider pre-processing your data with StandardScaler or MinMaxScaler.\n",
      "  warnings.warn('Solver terminated early (max_iter=%i).'\n"
     ]
    },
    {
     "name": "stdout",
     "output_type": "stream",
     "text": [
      "[CV 4/5] END imputer__strategy=median, svc__C=10, svc__class_weight=balanced, svc__kernel=poly, svc__max_iter=1000;, score=0.411 total time=   8.2s\n"
     ]
    },
    {
     "name": "stderr",
     "output_type": "stream",
     "text": [
      "/opt/conda/lib/python3.9/site-packages/sklearn/svm/_base.py:255: ConvergenceWarning: Solver terminated early (max_iter=1000).  Consider pre-processing your data with StandardScaler or MinMaxScaler.\n",
      "  warnings.warn('Solver terminated early (max_iter=%i).'\n"
     ]
    },
    {
     "name": "stdout",
     "output_type": "stream",
     "text": [
      "[CV 5/5] END imputer__strategy=median, svc__C=10, svc__class_weight=balanced, svc__kernel=poly, svc__max_iter=1000;, score=0.419 total time=   8.3s\n"
     ]
    },
    {
     "name": "stderr",
     "output_type": "stream",
     "text": [
      "/opt/conda/lib/python3.9/site-packages/sklearn/svm/_base.py:255: ConvergenceWarning: Solver terminated early (max_iter=10000).  Consider pre-processing your data with StandardScaler or MinMaxScaler.\n",
      "  warnings.warn('Solver terminated early (max_iter=%i).'\n"
     ]
    },
    {
     "name": "stdout",
     "output_type": "stream",
     "text": [
      "[CV 1/5] END imputer__strategy=median, svc__C=10, svc__class_weight=balanced, svc__kernel=poly, svc__max_iter=10000;, score=0.432 total time=  14.0s\n"
     ]
    },
    {
     "name": "stderr",
     "output_type": "stream",
     "text": [
      "/opt/conda/lib/python3.9/site-packages/sklearn/svm/_base.py:255: ConvergenceWarning: Solver terminated early (max_iter=10000).  Consider pre-processing your data with StandardScaler or MinMaxScaler.\n",
      "  warnings.warn('Solver terminated early (max_iter=%i).'\n"
     ]
    },
    {
     "name": "stdout",
     "output_type": "stream",
     "text": [
      "[CV 2/5] END imputer__strategy=median, svc__C=10, svc__class_weight=balanced, svc__kernel=poly, svc__max_iter=10000;, score=0.439 total time=  13.5s\n"
     ]
    },
    {
     "name": "stderr",
     "output_type": "stream",
     "text": [
      "/opt/conda/lib/python3.9/site-packages/sklearn/svm/_base.py:255: ConvergenceWarning: Solver terminated early (max_iter=10000).  Consider pre-processing your data with StandardScaler or MinMaxScaler.\n",
      "  warnings.warn('Solver terminated early (max_iter=%i).'\n"
     ]
    },
    {
     "name": "stdout",
     "output_type": "stream",
     "text": [
      "[CV 3/5] END imputer__strategy=median, svc__C=10, svc__class_weight=balanced, svc__kernel=poly, svc__max_iter=10000;, score=0.443 total time=  14.0s\n"
     ]
    },
    {
     "name": "stderr",
     "output_type": "stream",
     "text": [
      "/opt/conda/lib/python3.9/site-packages/sklearn/svm/_base.py:255: ConvergenceWarning: Solver terminated early (max_iter=10000).  Consider pre-processing your data with StandardScaler or MinMaxScaler.\n",
      "  warnings.warn('Solver terminated early (max_iter=%i).'\n"
     ]
    },
    {
     "name": "stdout",
     "output_type": "stream",
     "text": [
      "[CV 4/5] END imputer__strategy=median, svc__C=10, svc__class_weight=balanced, svc__kernel=poly, svc__max_iter=10000;, score=0.438 total time=  13.9s\n"
     ]
    },
    {
     "name": "stderr",
     "output_type": "stream",
     "text": [
      "/opt/conda/lib/python3.9/site-packages/sklearn/svm/_base.py:255: ConvergenceWarning: Solver terminated early (max_iter=10000).  Consider pre-processing your data with StandardScaler or MinMaxScaler.\n",
      "  warnings.warn('Solver terminated early (max_iter=%i).'\n"
     ]
    },
    {
     "name": "stdout",
     "output_type": "stream",
     "text": [
      "[CV 5/5] END imputer__strategy=median, svc__C=10, svc__class_weight=balanced, svc__kernel=poly, svc__max_iter=10000;, score=0.450 total time=  14.1s\n"
     ]
    },
    {
     "name": "stderr",
     "output_type": "stream",
     "text": [
      "/opt/conda/lib/python3.9/site-packages/sklearn/svm/_base.py:255: ConvergenceWarning: Solver terminated early (max_iter=1000).  Consider pre-processing your data with StandardScaler or MinMaxScaler.\n",
      "  warnings.warn('Solver terminated early (max_iter=%i).'\n"
     ]
    },
    {
     "name": "stdout",
     "output_type": "stream",
     "text": [
      "[CV 1/5] END imputer__strategy=median, svc__C=10, svc__class_weight=balanced, svc__kernel=sigmoid, svc__max_iter=1000;, score=0.306 total time=   9.7s\n"
     ]
    },
    {
     "name": "stderr",
     "output_type": "stream",
     "text": [
      "/opt/conda/lib/python3.9/site-packages/sklearn/svm/_base.py:255: ConvergenceWarning: Solver terminated early (max_iter=1000).  Consider pre-processing your data with StandardScaler or MinMaxScaler.\n",
      "  warnings.warn('Solver terminated early (max_iter=%i).'\n"
     ]
    },
    {
     "name": "stdout",
     "output_type": "stream",
     "text": [
      "[CV 2/5] END imputer__strategy=median, svc__C=10, svc__class_weight=balanced, svc__kernel=sigmoid, svc__max_iter=1000;, score=0.322 total time=  10.4s\n",
      "[CV 5/5] END imputer__strategy=median, svc__C=10, svc__class_weight=balanced, svc__kernel=sigmoid, svc__max_iter=10000;, score=0.314 total time=  14.1s\n"
     ]
    },
    {
     "name": "stderr",
     "output_type": "stream",
     "text": [
      "/opt/conda/lib/python3.9/site-packages/sklearn/svm/_base.py:255: ConvergenceWarning: Solver terminated early (max_iter=1000).  Consider pre-processing your data with StandardScaler or MinMaxScaler.\n",
      "  warnings.warn('Solver terminated early (max_iter=%i).'\n"
     ]
    },
    {
     "name": "stdout",
     "output_type": "stream",
     "text": [
      "[CV 1/5] END imputer__strategy=most_frequent, svc__C=0.1, svc__class_weight=None, svc__kernel=linear, svc__max_iter=1000;, score=0.459 total time=   8.7s\n"
     ]
    },
    {
     "name": "stderr",
     "output_type": "stream",
     "text": [
      "/opt/conda/lib/python3.9/site-packages/sklearn/svm/_base.py:255: ConvergenceWarning: Solver terminated early (max_iter=1000).  Consider pre-processing your data with StandardScaler or MinMaxScaler.\n",
      "  warnings.warn('Solver terminated early (max_iter=%i).'\n"
     ]
    },
    {
     "name": "stdout",
     "output_type": "stream",
     "text": [
      "[CV 2/5] END imputer__strategy=most_frequent, svc__C=0.1, svc__class_weight=None, svc__kernel=linear, svc__max_iter=1000;, score=0.482 total time=   8.6s\n"
     ]
    },
    {
     "name": "stderr",
     "output_type": "stream",
     "text": [
      "/opt/conda/lib/python3.9/site-packages/sklearn/svm/_base.py:255: ConvergenceWarning: Solver terminated early (max_iter=1000).  Consider pre-processing your data with StandardScaler or MinMaxScaler.\n",
      "  warnings.warn('Solver terminated early (max_iter=%i).'\n"
     ]
    },
    {
     "name": "stdout",
     "output_type": "stream",
     "text": [
      "[CV 3/5] END imputer__strategy=most_frequent, svc__C=0.1, svc__class_weight=None, svc__kernel=linear, svc__max_iter=1000;, score=0.476 total time=   8.9s\n"
     ]
    },
    {
     "name": "stderr",
     "output_type": "stream",
     "text": [
      "/opt/conda/lib/python3.9/site-packages/sklearn/svm/_base.py:255: ConvergenceWarning: Solver terminated early (max_iter=1000).  Consider pre-processing your data with StandardScaler or MinMaxScaler.\n",
      "  warnings.warn('Solver terminated early (max_iter=%i).'\n"
     ]
    },
    {
     "name": "stdout",
     "output_type": "stream",
     "text": [
      "[CV 4/5] END imputer__strategy=most_frequent, svc__C=0.1, svc__class_weight=None, svc__kernel=linear, svc__max_iter=1000;, score=0.475 total time=   8.7s\n"
     ]
    },
    {
     "name": "stderr",
     "output_type": "stream",
     "text": [
      "/opt/conda/lib/python3.9/site-packages/sklearn/svm/_base.py:255: ConvergenceWarning: Solver terminated early (max_iter=1000).  Consider pre-processing your data with StandardScaler or MinMaxScaler.\n",
      "  warnings.warn('Solver terminated early (max_iter=%i).'\n"
     ]
    },
    {
     "name": "stdout",
     "output_type": "stream",
     "text": [
      "[CV 5/5] END imputer__strategy=most_frequent, svc__C=0.1, svc__class_weight=None, svc__kernel=linear, svc__max_iter=1000;, score=0.479 total time=   8.6s\n",
      "[CV 1/5] END imputer__strategy=most_frequent, svc__C=0.1, svc__class_weight=None, svc__kernel=linear, svc__max_iter=10000;, score=0.493 total time=  10.2s\n",
      "[CV 2/5] END imputer__strategy=most_frequent, svc__C=0.1, svc__class_weight=None, svc__kernel=linear, svc__max_iter=10000;, score=0.500 total time=   9.2s\n",
      "[CV 3/5] END imputer__strategy=most_frequent, svc__C=0.1, svc__class_weight=None, svc__kernel=linear, svc__max_iter=10000;, score=0.480 total time=   9.4s\n",
      "[CV 4/5] END imputer__strategy=most_frequent, svc__C=0.1, svc__class_weight=None, svc__kernel=linear, svc__max_iter=10000;, score=0.515 total time=   7.6s\n",
      "[CV 5/5] END imputer__strategy=most_frequent, svc__C=0.1, svc__class_weight=None, svc__kernel=linear, svc__max_iter=10000;, score=0.490 total time=   8.5s\n"
     ]
    },
    {
     "name": "stderr",
     "output_type": "stream",
     "text": [
      "/opt/conda/lib/python3.9/site-packages/sklearn/svm/_base.py:255: ConvergenceWarning: Solver terminated early (max_iter=1000).  Consider pre-processing your data with StandardScaler or MinMaxScaler.\n",
      "  warnings.warn('Solver terminated early (max_iter=%i).'\n"
     ]
    },
    {
     "name": "stdout",
     "output_type": "stream",
     "text": [
      "[CV 1/5] END imputer__strategy=most_frequent, svc__C=0.1, svc__class_weight=None, svc__kernel=rbf, svc__max_iter=1000;, score=0.482 total time=  13.9s\n"
     ]
    },
    {
     "name": "stderr",
     "output_type": "stream",
     "text": [
      "/opt/conda/lib/python3.9/site-packages/sklearn/svm/_base.py:255: ConvergenceWarning: Solver terminated early (max_iter=1000).  Consider pre-processing your data with StandardScaler or MinMaxScaler.\n",
      "  warnings.warn('Solver terminated early (max_iter=%i).'\n"
     ]
    },
    {
     "name": "stdout",
     "output_type": "stream",
     "text": [
      "[CV 2/5] END imputer__strategy=most_frequent, svc__C=0.1, svc__class_weight=None, svc__kernel=rbf, svc__max_iter=1000;, score=0.490 total time=  12.5s\n"
     ]
    },
    {
     "name": "stderr",
     "output_type": "stream",
     "text": [
      "/opt/conda/lib/python3.9/site-packages/sklearn/svm/_base.py:255: ConvergenceWarning: Solver terminated early (max_iter=1000).  Consider pre-processing your data with StandardScaler or MinMaxScaler.\n",
      "  warnings.warn('Solver terminated early (max_iter=%i).'\n"
     ]
    },
    {
     "name": "stdout",
     "output_type": "stream",
     "text": [
      "[CV 3/5] END imputer__strategy=most_frequent, svc__C=0.1, svc__class_weight=None, svc__kernel=rbf, svc__max_iter=1000;, score=0.477 total time=  12.3s\n"
     ]
    },
    {
     "name": "stderr",
     "output_type": "stream",
     "text": [
      "/opt/conda/lib/python3.9/site-packages/sklearn/svm/_base.py:255: ConvergenceWarning: Solver terminated early (max_iter=1000).  Consider pre-processing your data with StandardScaler or MinMaxScaler.\n",
      "  warnings.warn('Solver terminated early (max_iter=%i).'\n"
     ]
    },
    {
     "name": "stdout",
     "output_type": "stream",
     "text": [
      "[CV 4/5] END imputer__strategy=most_frequent, svc__C=0.1, svc__class_weight=None, svc__kernel=rbf, svc__max_iter=1000;, score=0.485 total time=  11.3s\n"
     ]
    },
    {
     "name": "stderr",
     "output_type": "stream",
     "text": [
      "/opt/conda/lib/python3.9/site-packages/sklearn/svm/_base.py:255: ConvergenceWarning: Solver terminated early (max_iter=1000).  Consider pre-processing your data with StandardScaler or MinMaxScaler.\n",
      "  warnings.warn('Solver terminated early (max_iter=%i).'\n"
     ]
    },
    {
     "name": "stdout",
     "output_type": "stream",
     "text": [
      "[CV 5/5] END imputer__strategy=most_frequent, svc__C=0.1, svc__class_weight=None, svc__kernel=rbf, svc__max_iter=1000;, score=0.472 total time=  13.9s\n",
      "[CV 1/5] END imputer__strategy=most_frequent, svc__C=0.1, svc__class_weight=None, svc__kernel=rbf, svc__max_iter=10000;, score=0.501 total time=  15.7s\n",
      "[CV 2/5] END imputer__strategy=most_frequent, svc__C=0.1, svc__class_weight=None, svc__kernel=rbf, svc__max_iter=10000;, score=0.506 total time=  14.6s\n",
      "[CV 3/5] END imputer__strategy=most_frequent, svc__C=0.1, svc__class_weight=None, svc__kernel=rbf, svc__max_iter=10000;, score=0.489 total time=  16.9s\n",
      "[CV 4/5] END imputer__strategy=most_frequent, svc__C=0.1, svc__class_weight=None, svc__kernel=rbf, svc__max_iter=10000;, score=0.522 total time=  12.7s\n",
      "[CV 5/5] END imputer__strategy=most_frequent, svc__C=0.1, svc__class_weight=None, svc__kernel=rbf, svc__max_iter=10000;, score=0.490 total time=  16.5s\n"
     ]
    },
    {
     "name": "stderr",
     "output_type": "stream",
     "text": [
      "/opt/conda/lib/python3.9/site-packages/sklearn/svm/_base.py:255: ConvergenceWarning: Solver terminated early (max_iter=1000).  Consider pre-processing your data with StandardScaler or MinMaxScaler.\n",
      "  warnings.warn('Solver terminated early (max_iter=%i).'\n"
     ]
    },
    {
     "name": "stdout",
     "output_type": "stream",
     "text": [
      "[CV 1/5] END imputer__strategy=most_frequent, svc__C=0.1, svc__class_weight=None, svc__kernel=poly, svc__max_iter=1000;, score=0.417 total time=  11.1s\n"
     ]
    },
    {
     "name": "stderr",
     "output_type": "stream",
     "text": [
      "/opt/conda/lib/python3.9/site-packages/sklearn/svm/_base.py:255: ConvergenceWarning: Solver terminated early (max_iter=1000).  Consider pre-processing your data with StandardScaler or MinMaxScaler.\n",
      "  warnings.warn('Solver terminated early (max_iter=%i).'\n"
     ]
    },
    {
     "name": "stdout",
     "output_type": "stream",
     "text": [
      "[CV 2/5] END imputer__strategy=most_frequent, svc__C=0.1, svc__class_weight=None, svc__kernel=poly, svc__max_iter=1000;, score=0.421 total time=  11.0s\n"
     ]
    },
    {
     "name": "stderr",
     "output_type": "stream",
     "text": [
      "/opt/conda/lib/python3.9/site-packages/sklearn/svm/_base.py:255: ConvergenceWarning: Solver terminated early (max_iter=1000).  Consider pre-processing your data with StandardScaler or MinMaxScaler.\n",
      "  warnings.warn('Solver terminated early (max_iter=%i).'\n"
     ]
    },
    {
     "name": "stdout",
     "output_type": "stream",
     "text": [
      "[CV 3/5] END imputer__strategy=most_frequent, svc__C=0.1, svc__class_weight=None, svc__kernel=poly, svc__max_iter=1000;, score=0.432 total time=  10.9s\n"
     ]
    },
    {
     "name": "stderr",
     "output_type": "stream",
     "text": [
      "/opt/conda/lib/python3.9/site-packages/sklearn/svm/_base.py:255: ConvergenceWarning: Solver terminated early (max_iter=1000).  Consider pre-processing your data with StandardScaler or MinMaxScaler.\n",
      "  warnings.warn('Solver terminated early (max_iter=%i).'\n"
     ]
    },
    {
     "name": "stdout",
     "output_type": "stream",
     "text": [
      "[CV 4/5] END imputer__strategy=most_frequent, svc__C=0.1, svc__class_weight=None, svc__kernel=poly, svc__max_iter=1000;, score=0.422 total time=  10.5s\n"
     ]
    },
    {
     "name": "stderr",
     "output_type": "stream",
     "text": [
      "/opt/conda/lib/python3.9/site-packages/sklearn/svm/_base.py:255: ConvergenceWarning: Solver terminated early (max_iter=1000).  Consider pre-processing your data with StandardScaler or MinMaxScaler.\n",
      "  warnings.warn('Solver terminated early (max_iter=%i).'\n"
     ]
    },
    {
     "name": "stdout",
     "output_type": "stream",
     "text": [
      "[CV 5/5] END imputer__strategy=most_frequent, svc__C=0.1, svc__class_weight=None, svc__kernel=poly, svc__max_iter=1000;, score=0.412 total time=  11.2s\n",
      "[CV 1/5] END imputer__strategy=most_frequent, svc__C=0.1, svc__class_weight=None, svc__kernel=poly, svc__max_iter=10000;, score=0.479 total time=  13.3s\n",
      "[CV 2/5] END imputer__strategy=most_frequent, svc__C=0.1, svc__class_weight=None, svc__kernel=poly, svc__max_iter=10000;, score=0.472 total time=  10.7s\n",
      "[CV 3/5] END imputer__strategy=most_frequent, svc__C=0.1, svc__class_weight=None, svc__kernel=poly, svc__max_iter=10000;, score=0.475 total time=  10.6s\n",
      "[CV 4/5] END imputer__strategy=most_frequent, svc__C=0.1, svc__class_weight=None, svc__kernel=poly, svc__max_iter=10000;, score=0.485 total time=  10.8s\n",
      "[CV 5/5] END imputer__strategy=most_frequent, svc__C=0.1, svc__class_weight=None, svc__kernel=poly, svc__max_iter=10000;, score=0.460 total time=  13.2s\n"
     ]
    },
    {
     "name": "stderr",
     "output_type": "stream",
     "text": [
      "/opt/conda/lib/python3.9/site-packages/sklearn/svm/_base.py:255: ConvergenceWarning: Solver terminated early (max_iter=1000).  Consider pre-processing your data with StandardScaler or MinMaxScaler.\n",
      "  warnings.warn('Solver terminated early (max_iter=%i).'\n"
     ]
    },
    {
     "name": "stdout",
     "output_type": "stream",
     "text": [
      "[CV 1/5] END imputer__strategy=most_frequent, svc__C=0.1, svc__class_weight=None, svc__kernel=sigmoid, svc__max_iter=1000;, score=0.418 total time=  15.5s\n"
     ]
    },
    {
     "name": "stderr",
     "output_type": "stream",
     "text": [
      "/opt/conda/lib/python3.9/site-packages/sklearn/svm/_base.py:255: ConvergenceWarning: Solver terminated early (max_iter=1000).  Consider pre-processing your data with StandardScaler or MinMaxScaler.\n",
      "  warnings.warn('Solver terminated early (max_iter=%i).'\n"
     ]
    },
    {
     "name": "stdout",
     "output_type": "stream",
     "text": [
      "[CV 2/5] END imputer__strategy=most_frequent, svc__C=0.1, svc__class_weight=None, svc__kernel=sigmoid, svc__max_iter=1000;, score=0.408 total time=  14.2s\n"
     ]
    },
    {
     "name": "stderr",
     "output_type": "stream",
     "text": [
      "/opt/conda/lib/python3.9/site-packages/sklearn/svm/_base.py:255: ConvergenceWarning: Solver terminated early (max_iter=1000).  Consider pre-processing your data with StandardScaler or MinMaxScaler.\n",
      "  warnings.warn('Solver terminated early (max_iter=%i).'\n"
     ]
    },
    {
     "name": "stdout",
     "output_type": "stream",
     "text": [
      "[CV 3/5] END imputer__strategy=most_frequent, svc__C=0.1, svc__class_weight=None, svc__kernel=sigmoid, svc__max_iter=1000;, score=0.398 total time=  13.8s\n"
     ]
    },
    {
     "name": "stderr",
     "output_type": "stream",
     "text": [
      "/opt/conda/lib/python3.9/site-packages/sklearn/svm/_base.py:255: ConvergenceWarning: Solver terminated early (max_iter=1000).  Consider pre-processing your data with StandardScaler or MinMaxScaler.\n",
      "  warnings.warn('Solver terminated early (max_iter=%i).'\n"
     ]
    },
    {
     "name": "stdout",
     "output_type": "stream",
     "text": [
      "[CV 4/5] END imputer__strategy=most_frequent, svc__C=0.1, svc__class_weight=None, svc__kernel=sigmoid, svc__max_iter=1000;, score=0.405 total time=  13.5s\n"
     ]
    },
    {
     "name": "stderr",
     "output_type": "stream",
     "text": [
      "/opt/conda/lib/python3.9/site-packages/sklearn/svm/_base.py:255: ConvergenceWarning: Solver terminated early (max_iter=1000).  Consider pre-processing your data with StandardScaler or MinMaxScaler.\n",
      "  warnings.warn('Solver terminated early (max_iter=%i).'\n"
     ]
    },
    {
     "name": "stdout",
     "output_type": "stream",
     "text": [
      "[CV 5/5] END imputer__strategy=most_frequent, svc__C=0.1, svc__class_weight=None, svc__kernel=sigmoid, svc__max_iter=1000;, score=0.397 total time=  15.1s\n",
      "[CV 1/5] END imputer__strategy=most_frequent, svc__C=0.1, svc__class_weight=None, svc__kernel=sigmoid, svc__max_iter=10000;, score=0.435 total time=  18.4s\n",
      "[CV 2/5] END imputer__strategy=most_frequent, svc__C=0.1, svc__class_weight=None, svc__kernel=sigmoid, svc__max_iter=10000;, score=0.433 total time=  18.4s\n",
      "[CV 3/5] END imputer__strategy=most_frequent, svc__C=0.1, svc__class_weight=None, svc__kernel=sigmoid, svc__max_iter=10000;, score=0.407 total time=  18.9s\n",
      "[CV 4/5] END imputer__strategy=most_frequent, svc__C=0.1, svc__class_weight=None, svc__kernel=sigmoid, svc__max_iter=10000;, score=0.432 total time=  19.1s\n",
      "[CV 5/5] END imputer__strategy=most_frequent, svc__C=0.1, svc__class_weight=None, svc__kernel=sigmoid, svc__max_iter=10000;, score=0.427 total time=  19.6s\n"
     ]
    },
    {
     "name": "stderr",
     "output_type": "stream",
     "text": [
      "/opt/conda/lib/python3.9/site-packages/sklearn/svm/_base.py:255: ConvergenceWarning: Solver terminated early (max_iter=1000).  Consider pre-processing your data with StandardScaler or MinMaxScaler.\n",
      "  warnings.warn('Solver terminated early (max_iter=%i).'\n"
     ]
    },
    {
     "name": "stdout",
     "output_type": "stream",
     "text": [
      "[CV 1/5] END imputer__strategy=most_frequent, svc__C=0.1, svc__class_weight=balanced, svc__kernel=linear, svc__max_iter=1000;, score=0.346 total time=   7.5s\n"
     ]
    },
    {
     "name": "stderr",
     "output_type": "stream",
     "text": [
      "/opt/conda/lib/python3.9/site-packages/sklearn/svm/_base.py:255: ConvergenceWarning: Solver terminated early (max_iter=1000).  Consider pre-processing your data with StandardScaler or MinMaxScaler.\n",
      "  warnings.warn('Solver terminated early (max_iter=%i).'\n"
     ]
    },
    {
     "name": "stdout",
     "output_type": "stream",
     "text": [
      "[CV 2/5] END imputer__strategy=most_frequent, svc__C=0.1, svc__class_weight=balanced, svc__kernel=linear, svc__max_iter=1000;, score=0.373 total time=   7.4s\n"
     ]
    },
    {
     "name": "stderr",
     "output_type": "stream",
     "text": [
      "/opt/conda/lib/python3.9/site-packages/sklearn/svm/_base.py:255: ConvergenceWarning: Solver terminated early (max_iter=1000).  Consider pre-processing your data with StandardScaler or MinMaxScaler.\n",
      "  warnings.warn('Solver terminated early (max_iter=%i).'\n"
     ]
    },
    {
     "name": "stdout",
     "output_type": "stream",
     "text": [
      "[CV 3/5] END imputer__strategy=most_frequent, svc__C=0.1, svc__class_weight=balanced, svc__kernel=linear, svc__max_iter=1000;, score=0.368 total time=   7.5s\n"
     ]
    },
    {
     "name": "stderr",
     "output_type": "stream",
     "text": [
      "/opt/conda/lib/python3.9/site-packages/sklearn/svm/_base.py:255: ConvergenceWarning: Solver terminated early (max_iter=1000).  Consider pre-processing your data with StandardScaler or MinMaxScaler.\n",
      "  warnings.warn('Solver terminated early (max_iter=%i).'\n"
     ]
    },
    {
     "name": "stdout",
     "output_type": "stream",
     "text": [
      "[CV 4/5] END imputer__strategy=most_frequent, svc__C=0.1, svc__class_weight=balanced, svc__kernel=linear, svc__max_iter=1000;, score=0.352 total time=   7.2s\n"
     ]
    },
    {
     "name": "stderr",
     "output_type": "stream",
     "text": [
      "/opt/conda/lib/python3.9/site-packages/sklearn/svm/_base.py:255: ConvergenceWarning: Solver terminated early (max_iter=1000).  Consider pre-processing your data with StandardScaler or MinMaxScaler.\n",
      "  warnings.warn('Solver terminated early (max_iter=%i).'\n"
     ]
    },
    {
     "name": "stdout",
     "output_type": "stream",
     "text": [
      "[CV 5/5] END imputer__strategy=most_frequent, svc__C=0.1, svc__class_weight=balanced, svc__kernel=linear, svc__max_iter=1000;, score=0.354 total time=   7.4s\n",
      "[CV 1/5] END imputer__strategy=most_frequent, svc__C=0.1, svc__class_weight=balanced, svc__kernel=rbf, svc__max_iter=10000;, score=0.438 total time=  17.7s\n",
      "[CV 2/5] END imputer__strategy=most_frequent, svc__C=0.1, svc__class_weight=balanced, svc__kernel=rbf, svc__max_iter=10000;, score=0.454 total time=  19.2s\n",
      "[CV 3/5] END imputer__strategy=most_frequent, svc__C=0.1, svc__class_weight=balanced, svc__kernel=rbf, svc__max_iter=10000;, score=0.446 total time=  19.6s\n",
      "[CV 4/5] END imputer__strategy=most_frequent, svc__C=0.1, svc__class_weight=balanced, svc__kernel=rbf, svc__max_iter=10000;, score=0.453 total time=  19.3s\n",
      "[CV 5/5] END imputer__strategy=most_frequent, svc__C=0.1, svc__class_weight=balanced, svc__kernel=rbf, svc__max_iter=10000;, score=0.456 total time=  18.3s\n"
     ]
    },
    {
     "name": "stderr",
     "output_type": "stream",
     "text": [
      "/opt/conda/lib/python3.9/site-packages/sklearn/svm/_base.py:255: ConvergenceWarning: Solver terminated early (max_iter=1000).  Consider pre-processing your data with StandardScaler or MinMaxScaler.\n",
      "  warnings.warn('Solver terminated early (max_iter=%i).'\n"
     ]
    },
    {
     "name": "stdout",
     "output_type": "stream",
     "text": [
      "[CV 1/5] END imputer__strategy=most_frequent, svc__C=0.1, svc__class_weight=balanced, svc__kernel=poly, svc__max_iter=1000;, score=0.299 total time=   7.0s\n"
     ]
    },
    {
     "name": "stderr",
     "output_type": "stream",
     "text": [
      "/opt/conda/lib/python3.9/site-packages/sklearn/svm/_base.py:255: ConvergenceWarning: Solver terminated early (max_iter=1000).  Consider pre-processing your data with StandardScaler or MinMaxScaler.\n",
      "  warnings.warn('Solver terminated early (max_iter=%i).'\n"
     ]
    },
    {
     "name": "stdout",
     "output_type": "stream",
     "text": [
      "[CV 2/5] END imputer__strategy=most_frequent, svc__C=0.1, svc__class_weight=balanced, svc__kernel=poly, svc__max_iter=1000;, score=0.300 total time=   6.4s\n"
     ]
    },
    {
     "name": "stderr",
     "output_type": "stream",
     "text": [
      "/opt/conda/lib/python3.9/site-packages/sklearn/svm/_base.py:255: ConvergenceWarning: Solver terminated early (max_iter=1000).  Consider pre-processing your data with StandardScaler or MinMaxScaler.\n",
      "  warnings.warn('Solver terminated early (max_iter=%i).'\n"
     ]
    },
    {
     "name": "stdout",
     "output_type": "stream",
     "text": [
      "[CV 3/5] END imputer__strategy=most_frequent, svc__C=0.1, svc__class_weight=balanced, svc__kernel=poly, svc__max_iter=1000;, score=0.289 total time=   6.4s\n"
     ]
    },
    {
     "name": "stderr",
     "output_type": "stream",
     "text": [
      "/opt/conda/lib/python3.9/site-packages/sklearn/svm/_base.py:255: ConvergenceWarning: Solver terminated early (max_iter=1000).  Consider pre-processing your data with StandardScaler or MinMaxScaler.\n",
      "  warnings.warn('Solver terminated early (max_iter=%i).'\n"
     ]
    },
    {
     "name": "stdout",
     "output_type": "stream",
     "text": [
      "[CV 4/5] END imputer__strategy=most_frequent, svc__C=0.1, svc__class_weight=balanced, svc__kernel=poly, svc__max_iter=1000;, score=0.280 total time=   6.3s\n"
     ]
    },
    {
     "name": "stderr",
     "output_type": "stream",
     "text": [
      "/opt/conda/lib/python3.9/site-packages/sklearn/svm/_base.py:255: ConvergenceWarning: Solver terminated early (max_iter=1000).  Consider pre-processing your data with StandardScaler or MinMaxScaler.\n",
      "  warnings.warn('Solver terminated early (max_iter=%i).'\n"
     ]
    },
    {
     "name": "stdout",
     "output_type": "stream",
     "text": [
      "[CV 5/5] END imputer__strategy=most_frequent, svc__C=0.1, svc__class_weight=balanced, svc__kernel=poly, svc__max_iter=1000;, score=0.299 total time=   6.4s\n",
      "[CV 1/5] END imputer__strategy=most_frequent, svc__C=0.1, svc__class_weight=balanced, svc__kernel=poly, svc__max_iter=10000;, score=0.476 total time=  12.9s\n",
      "[CV 2/5] END imputer__strategy=most_frequent, svc__C=0.1, svc__class_weight=balanced, svc__kernel=poly, svc__max_iter=10000;, score=0.470 total time=  14.5s\n",
      "[CV 3/5] END imputer__strategy=most_frequent, svc__C=0.1, svc__class_weight=balanced, svc__kernel=poly, svc__max_iter=10000;, score=0.454 total time=  14.6s\n",
      "[CV 4/5] END imputer__strategy=most_frequent, svc__C=0.1, svc__class_weight=balanced, svc__kernel=poly, svc__max_iter=10000;, score=0.472 total time=  14.2s\n",
      "[CV 5/5] END imputer__strategy=most_frequent, svc__C=0.1, svc__class_weight=balanced, svc__kernel=poly, svc__max_iter=10000;, score=0.476 total time=  14.5s\n"
     ]
    },
    {
     "name": "stderr",
     "output_type": "stream",
     "text": [
      "/opt/conda/lib/python3.9/site-packages/sklearn/svm/_base.py:255: ConvergenceWarning: Solver terminated early (max_iter=1000).  Consider pre-processing your data with StandardScaler or MinMaxScaler.\n",
      "  warnings.warn('Solver terminated early (max_iter=%i).'\n"
     ]
    },
    {
     "name": "stdout",
     "output_type": "stream",
     "text": [
      "[CV 1/5] END imputer__strategy=most_frequent, svc__C=0.1, svc__class_weight=balanced, svc__kernel=sigmoid, svc__max_iter=1000;, score=0.358 total time=  10.6s\n"
     ]
    },
    {
     "name": "stderr",
     "output_type": "stream",
     "text": [
      "/opt/conda/lib/python3.9/site-packages/sklearn/svm/_base.py:255: ConvergenceWarning: Solver terminated early (max_iter=1000).  Consider pre-processing your data with StandardScaler or MinMaxScaler.\n",
      "  warnings.warn('Solver terminated early (max_iter=%i).'\n"
     ]
    },
    {
     "name": "stdout",
     "output_type": "stream",
     "text": [
      "[CV 2/5] END imputer__strategy=most_frequent, svc__C=0.1, svc__class_weight=balanced, svc__kernel=sigmoid, svc__max_iter=1000;, score=0.365 total time=   9.9s\n"
     ]
    },
    {
     "name": "stderr",
     "output_type": "stream",
     "text": [
      "/opt/conda/lib/python3.9/site-packages/sklearn/svm/_base.py:255: ConvergenceWarning: Solver terminated early (max_iter=1000).  Consider pre-processing your data with StandardScaler or MinMaxScaler.\n",
      "  warnings.warn('Solver terminated early (max_iter=%i).'\n"
     ]
    },
    {
     "name": "stdout",
     "output_type": "stream",
     "text": [
      "[CV 3/5] END imputer__strategy=most_frequent, svc__C=0.1, svc__class_weight=balanced, svc__kernel=sigmoid, svc__max_iter=1000;, score=0.351 total time=  10.0s\n"
     ]
    },
    {
     "name": "stderr",
     "output_type": "stream",
     "text": [
      "/opt/conda/lib/python3.9/site-packages/sklearn/svm/_base.py:255: ConvergenceWarning: Solver terminated early (max_iter=1000).  Consider pre-processing your data with StandardScaler or MinMaxScaler.\n",
      "  warnings.warn('Solver terminated early (max_iter=%i).'\n"
     ]
    },
    {
     "name": "stdout",
     "output_type": "stream",
     "text": [
      "[CV 4/5] END imputer__strategy=most_frequent, svc__C=0.1, svc__class_weight=balanced, svc__kernel=sigmoid, svc__max_iter=1000;, score=0.361 total time=   9.9s\n"
     ]
    },
    {
     "name": "stderr",
     "output_type": "stream",
     "text": [
      "/opt/conda/lib/python3.9/site-packages/sklearn/svm/_base.py:255: ConvergenceWarning: Solver terminated early (max_iter=1000).  Consider pre-processing your data with StandardScaler or MinMaxScaler.\n",
      "  warnings.warn('Solver terminated early (max_iter=%i).'\n"
     ]
    },
    {
     "name": "stdout",
     "output_type": "stream",
     "text": [
      "[CV 5/5] END imputer__strategy=most_frequent, svc__C=0.1, svc__class_weight=balanced, svc__kernel=sigmoid, svc__max_iter=1000;, score=0.349 total time=  10.0s\n",
      "[CV 1/5] END imputer__strategy=most_frequent, svc__C=0.1, svc__class_weight=balanced, svc__kernel=sigmoid, svc__max_iter=10000;, score=0.369 total time=  16.5s\n",
      "[CV 2/5] END imputer__strategy=most_frequent, svc__C=0.1, svc__class_weight=balanced, svc__kernel=sigmoid, svc__max_iter=10000;, score=0.383 total time=  16.3s\n",
      "[CV 3/5] END imputer__strategy=most_frequent, svc__C=0.1, svc__class_weight=balanced, svc__kernel=sigmoid, svc__max_iter=10000;, score=0.364 total time=  16.5s\n",
      "[CV 4/5] END imputer__strategy=most_frequent, svc__C=0.1, svc__class_weight=balanced, svc__kernel=sigmoid, svc__max_iter=10000;, score=0.380 total time=  15.9s\n",
      "[CV 5/5] END imputer__strategy=most_frequent, svc__C=0.1, svc__class_weight=balanced, svc__kernel=sigmoid, svc__max_iter=10000;, score=0.386 total time=  16.6s\n"
     ]
    },
    {
     "name": "stderr",
     "output_type": "stream",
     "text": [
      "/opt/conda/lib/python3.9/site-packages/sklearn/svm/_base.py:255: ConvergenceWarning: Solver terminated early (max_iter=1000).  Consider pre-processing your data with StandardScaler or MinMaxScaler.\n",
      "  warnings.warn('Solver terminated early (max_iter=%i).'\n"
     ]
    },
    {
     "name": "stdout",
     "output_type": "stream",
     "text": [
      "[CV 1/5] END imputer__strategy=most_frequent, svc__C=1, svc__class_weight=None, svc__kernel=linear, svc__max_iter=1000;, score=0.412 total time=   4.6s\n"
     ]
    },
    {
     "name": "stderr",
     "output_type": "stream",
     "text": [
      "/opt/conda/lib/python3.9/site-packages/sklearn/svm/_base.py:255: ConvergenceWarning: Solver terminated early (max_iter=1000).  Consider pre-processing your data with StandardScaler or MinMaxScaler.\n",
      "  warnings.warn('Solver terminated early (max_iter=%i).'\n"
     ]
    },
    {
     "name": "stdout",
     "output_type": "stream",
     "text": [
      "[CV 2/5] END imputer__strategy=most_frequent, svc__C=1, svc__class_weight=None, svc__kernel=linear, svc__max_iter=1000;, score=0.382 total time=   4.6s\n"
     ]
    },
    {
     "name": "stderr",
     "output_type": "stream",
     "text": [
      "/opt/conda/lib/python3.9/site-packages/sklearn/svm/_base.py:255: ConvergenceWarning: Solver terminated early (max_iter=1000).  Consider pre-processing your data with StandardScaler or MinMaxScaler.\n",
      "  warnings.warn('Solver terminated early (max_iter=%i).'\n"
     ]
    },
    {
     "name": "stdout",
     "output_type": "stream",
     "text": [
      "[CV 3/5] END imputer__strategy=most_frequent, svc__C=1, svc__class_weight=None, svc__kernel=linear, svc__max_iter=1000;, score=0.415 total time=   4.6s\n"
     ]
    },
    {
     "name": "stderr",
     "output_type": "stream",
     "text": [
      "/opt/conda/lib/python3.9/site-packages/sklearn/svm/_base.py:255: ConvergenceWarning: Solver terminated early (max_iter=1000).  Consider pre-processing your data with StandardScaler or MinMaxScaler.\n",
      "  warnings.warn('Solver terminated early (max_iter=%i).'\n"
     ]
    },
    {
     "name": "stdout",
     "output_type": "stream",
     "text": [
      "[CV 4/5] END imputer__strategy=most_frequent, svc__C=1, svc__class_weight=None, svc__kernel=linear, svc__max_iter=1000;, score=0.398 total time=   4.5s\n"
     ]
    },
    {
     "name": "stderr",
     "output_type": "stream",
     "text": [
      "/opt/conda/lib/python3.9/site-packages/sklearn/svm/_base.py:255: ConvergenceWarning: Solver terminated early (max_iter=1000).  Consider pre-processing your data with StandardScaler or MinMaxScaler.\n",
      "  warnings.warn('Solver terminated early (max_iter=%i).'\n"
     ]
    },
    {
     "name": "stdout",
     "output_type": "stream",
     "text": [
      "[CV 5/5] END imputer__strategy=most_frequent, svc__C=1, svc__class_weight=None, svc__kernel=linear, svc__max_iter=1000;, score=0.401 total time=   4.9s\n"
     ]
    },
    {
     "name": "stderr",
     "output_type": "stream",
     "text": [
      "/opt/conda/lib/python3.9/site-packages/sklearn/svm/_base.py:255: ConvergenceWarning: Solver terminated early (max_iter=10000).  Consider pre-processing your data with StandardScaler or MinMaxScaler.\n",
      "  warnings.warn('Solver terminated early (max_iter=%i).'\n"
     ]
    },
    {
     "name": "stdout",
     "output_type": "stream",
     "text": [
      "[CV 1/5] END imputer__strategy=most_frequent, svc__C=1, svc__class_weight=None, svc__kernel=linear, svc__max_iter=10000;, score=0.489 total time=  10.2s\n"
     ]
    },
    {
     "name": "stderr",
     "output_type": "stream",
     "text": [
      "/opt/conda/lib/python3.9/site-packages/sklearn/svm/_base.py:255: ConvergenceWarning: Solver terminated early (max_iter=10000).  Consider pre-processing your data with StandardScaler or MinMaxScaler.\n",
      "  warnings.warn('Solver terminated early (max_iter=%i).'\n"
     ]
    },
    {
     "name": "stdout",
     "output_type": "stream",
     "text": [
      "[CV 2/5] END imputer__strategy=most_frequent, svc__C=1, svc__class_weight=None, svc__kernel=linear, svc__max_iter=10000;, score=0.500 total time=   8.5s\n"
     ]
    },
    {
     "name": "stderr",
     "output_type": "stream",
     "text": [
      "/opt/conda/lib/python3.9/site-packages/sklearn/svm/_base.py:255: ConvergenceWarning: Solver terminated early (max_iter=10000).  Consider pre-processing your data with StandardScaler or MinMaxScaler.\n",
      "  warnings.warn('Solver terminated early (max_iter=%i).'\n"
     ]
    },
    {
     "name": "stdout",
     "output_type": "stream",
     "text": [
      "[CV 3/5] END imputer__strategy=most_frequent, svc__C=1, svc__class_weight=None, svc__kernel=linear, svc__max_iter=10000;, score=0.485 total time=   8.6s\n"
     ]
    },
    {
     "name": "stderr",
     "output_type": "stream",
     "text": [
      "/opt/conda/lib/python3.9/site-packages/sklearn/svm/_base.py:255: ConvergenceWarning: Solver terminated early (max_iter=10000).  Consider pre-processing your data with StandardScaler or MinMaxScaler.\n",
      "  warnings.warn('Solver terminated early (max_iter=%i).'\n"
     ]
    },
    {
     "name": "stdout",
     "output_type": "stream",
     "text": [
      "[CV 4/5] END imputer__strategy=most_frequent, svc__C=1, svc__class_weight=None, svc__kernel=linear, svc__max_iter=10000;, score=0.512 total time=   8.3s\n"
     ]
    },
    {
     "name": "stderr",
     "output_type": "stream",
     "text": [
      "/opt/conda/lib/python3.9/site-packages/sklearn/svm/_base.py:255: ConvergenceWarning: Solver terminated early (max_iter=10000).  Consider pre-processing your data with StandardScaler or MinMaxScaler.\n",
      "  warnings.warn('Solver terminated early (max_iter=%i).'\n"
     ]
    },
    {
     "name": "stdout",
     "output_type": "stream",
     "text": [
      "[CV 5/5] END imputer__strategy=most_frequent, svc__C=1, svc__class_weight=None, svc__kernel=linear, svc__max_iter=10000;, score=0.493 total time=   8.6s\n"
     ]
    },
    {
     "name": "stderr",
     "output_type": "stream",
     "text": [
      "/opt/conda/lib/python3.9/site-packages/sklearn/svm/_base.py:255: ConvergenceWarning: Solver terminated early (max_iter=1000).  Consider pre-processing your data with StandardScaler or MinMaxScaler.\n",
      "  warnings.warn('Solver terminated early (max_iter=%i).'\n"
     ]
    },
    {
     "name": "stdout",
     "output_type": "stream",
     "text": [
      "[CV 1/5] END imputer__strategy=most_frequent, svc__C=1, svc__class_weight=None, svc__kernel=rbf, svc__max_iter=1000;, score=0.525 total time=  11.2s\n"
     ]
    },
    {
     "name": "stderr",
     "output_type": "stream",
     "text": [
      "/opt/conda/lib/python3.9/site-packages/sklearn/svm/_base.py:255: ConvergenceWarning: Solver terminated early (max_iter=1000).  Consider pre-processing your data with StandardScaler or MinMaxScaler.\n",
      "  warnings.warn('Solver terminated early (max_iter=%i).'\n"
     ]
    },
    {
     "name": "stdout",
     "output_type": "stream",
     "text": [
      "[CV 2/5] END imputer__strategy=most_frequent, svc__C=1, svc__class_weight=None, svc__kernel=rbf, svc__max_iter=1000;, score=0.525 total time=   8.3s\n"
     ]
    },
    {
     "name": "stderr",
     "output_type": "stream",
     "text": [
      "/opt/conda/lib/python3.9/site-packages/sklearn/svm/_base.py:255: ConvergenceWarning: Solver terminated early (max_iter=1000).  Consider pre-processing your data with StandardScaler or MinMaxScaler.\n",
      "  warnings.warn('Solver terminated early (max_iter=%i).'\n"
     ]
    },
    {
     "name": "stdout",
     "output_type": "stream",
     "text": [
      "[CV 3/5] END imputer__strategy=most_frequent, svc__C=1, svc__class_weight=None, svc__kernel=rbf, svc__max_iter=1000;, score=0.519 total time=   8.3s\n"
     ]
    },
    {
     "name": "stderr",
     "output_type": "stream",
     "text": [
      "/opt/conda/lib/python3.9/site-packages/sklearn/svm/_base.py:255: ConvergenceWarning: Solver terminated early (max_iter=1000).  Consider pre-processing your data with StandardScaler or MinMaxScaler.\n",
      "  warnings.warn('Solver terminated early (max_iter=%i).'\n"
     ]
    },
    {
     "name": "stdout",
     "output_type": "stream",
     "text": [
      "[CV 4/5] END imputer__strategy=most_frequent, svc__C=1, svc__class_weight=None, svc__kernel=rbf, svc__max_iter=1000;, score=0.534 total time=   8.1s\n"
     ]
    },
    {
     "name": "stderr",
     "output_type": "stream",
     "text": [
      "/opt/conda/lib/python3.9/site-packages/sklearn/svm/_base.py:255: ConvergenceWarning: Solver terminated early (max_iter=1000).  Consider pre-processing your data with StandardScaler or MinMaxScaler.\n",
      "  warnings.warn('Solver terminated early (max_iter=%i).'\n"
     ]
    },
    {
     "name": "stdout",
     "output_type": "stream",
     "text": [
      "[CV 5/5] END imputer__strategy=most_frequent, svc__C=1, svc__class_weight=None, svc__kernel=rbf, svc__max_iter=1000;, score=0.496 total time=   8.3s\n",
      "[CV 1/5] END imputer__strategy=most_frequent, svc__C=1, svc__class_weight=None, svc__kernel=rbf, svc__max_iter=10000;, score=0.527 total time=  12.9s\n",
      "[CV 2/5] END imputer__strategy=most_frequent, svc__C=1, svc__class_weight=None, svc__kernel=rbf, svc__max_iter=10000;, score=0.524 total time=   9.9s\n",
      "[CV 3/5] END imputer__strategy=most_frequent, svc__C=1, svc__class_weight=None, svc__kernel=rbf, svc__max_iter=10000;, score=0.525 total time=   9.9s\n",
      "[CV 4/5] END imputer__strategy=most_frequent, svc__C=1, svc__class_weight=None, svc__kernel=rbf, svc__max_iter=10000;, score=0.541 total time=  10.1s\n",
      "[CV 5/5] END imputer__strategy=most_frequent, svc__C=1, svc__class_weight=None, svc__kernel=rbf, svc__max_iter=10000;, score=0.521 total time=  12.7s\n"
     ]
    },
    {
     "name": "stderr",
     "output_type": "stream",
     "text": [
      "/opt/conda/lib/python3.9/site-packages/sklearn/svm/_base.py:255: ConvergenceWarning: Solver terminated early (max_iter=1000).  Consider pre-processing your data with StandardScaler or MinMaxScaler.\n",
      "  warnings.warn('Solver terminated early (max_iter=%i).'\n"
     ]
    },
    {
     "name": "stdout",
     "output_type": "stream",
     "text": [
      "[CV 1/5] END imputer__strategy=most_frequent, svc__C=1, svc__class_weight=None, svc__kernel=poly, svc__max_iter=1000;, score=0.486 total time=   7.0s\n"
     ]
    },
    {
     "name": "stderr",
     "output_type": "stream",
     "text": [
      "/opt/conda/lib/python3.9/site-packages/sklearn/svm/_base.py:255: ConvergenceWarning: Solver terminated early (max_iter=1000).  Consider pre-processing your data with StandardScaler or MinMaxScaler.\n",
      "  warnings.warn('Solver terminated early (max_iter=%i).'\n"
     ]
    },
    {
     "name": "stdout",
     "output_type": "stream",
     "text": [
      "[CV 2/5] END imputer__strategy=most_frequent, svc__C=1, svc__class_weight=None, svc__kernel=poly, svc__max_iter=1000;, score=0.475 total time=   6.5s\n"
     ]
    },
    {
     "name": "stderr",
     "output_type": "stream",
     "text": [
      "/opt/conda/lib/python3.9/site-packages/sklearn/svm/_base.py:255: ConvergenceWarning: Solver terminated early (max_iter=1000).  Consider pre-processing your data with StandardScaler or MinMaxScaler.\n",
      "  warnings.warn('Solver terminated early (max_iter=%i).'\n"
     ]
    },
    {
     "name": "stdout",
     "output_type": "stream",
     "text": [
      "[CV 3/5] END imputer__strategy=most_frequent, svc__C=1, svc__class_weight=None, svc__kernel=poly, svc__max_iter=1000;, score=0.485 total time=   7.3s\n"
     ]
    },
    {
     "name": "stderr",
     "output_type": "stream",
     "text": [
      "/opt/conda/lib/python3.9/site-packages/sklearn/svm/_base.py:255: ConvergenceWarning: Solver terminated early (max_iter=1000).  Consider pre-processing your data with StandardScaler or MinMaxScaler.\n",
      "  warnings.warn('Solver terminated early (max_iter=%i).'\n"
     ]
    },
    {
     "name": "stdout",
     "output_type": "stream",
     "text": [
      "[CV 4/5] END imputer__strategy=most_frequent, svc__C=1, svc__class_weight=None, svc__kernel=poly, svc__max_iter=1000;, score=0.482 total time=   7.3s\n"
     ]
    },
    {
     "name": "stderr",
     "output_type": "stream",
     "text": [
      "/opt/conda/lib/python3.9/site-packages/sklearn/svm/_base.py:255: ConvergenceWarning: Solver terminated early (max_iter=1000).  Consider pre-processing your data with StandardScaler or MinMaxScaler.\n",
      "  warnings.warn('Solver terminated early (max_iter=%i).'\n"
     ]
    },
    {
     "name": "stdout",
     "output_type": "stream",
     "text": [
      "[CV 5/5] END imputer__strategy=most_frequent, svc__C=1, svc__class_weight=None, svc__kernel=poly, svc__max_iter=1000;, score=0.478 total time=   8.2s\n"
     ]
    },
    {
     "name": "stderr",
     "output_type": "stream",
     "text": [
      "/opt/conda/lib/python3.9/site-packages/sklearn/svm/_base.py:255: ConvergenceWarning: Solver terminated early (max_iter=10000).  Consider pre-processing your data with StandardScaler or MinMaxScaler.\n",
      "  warnings.warn('Solver terminated early (max_iter=%i).'\n"
     ]
    },
    {
     "name": "stdout",
     "output_type": "stream",
     "text": [
      "[CV 1/5] END imputer__strategy=most_frequent, svc__C=1, svc__class_weight=None, svc__kernel=poly, svc__max_iter=10000;, score=0.522 total time=   9.8s\n"
     ]
    },
    {
     "name": "stderr",
     "output_type": "stream",
     "text": [
      "/opt/conda/lib/python3.9/site-packages/sklearn/svm/_base.py:255: ConvergenceWarning: Solver terminated early (max_iter=10000).  Consider pre-processing your data with StandardScaler or MinMaxScaler.\n",
      "  warnings.warn('Solver terminated early (max_iter=%i).'\n"
     ]
    },
    {
     "name": "stdout",
     "output_type": "stream",
     "text": [
      "[CV 2/5] END imputer__strategy=most_frequent, svc__C=1, svc__class_weight=None, svc__kernel=poly, svc__max_iter=10000;, score=0.514 total time=   9.0s\n"
     ]
    },
    {
     "name": "stderr",
     "output_type": "stream",
     "text": [
      "/opt/conda/lib/python3.9/site-packages/sklearn/svm/_base.py:255: ConvergenceWarning: Solver terminated early (max_iter=10000).  Consider pre-processing your data with StandardScaler or MinMaxScaler.\n",
      "  warnings.warn('Solver terminated early (max_iter=%i).'\n"
     ]
    },
    {
     "name": "stdout",
     "output_type": "stream",
     "text": [
      "[CV 3/5] END imputer__strategy=most_frequent, svc__C=1, svc__class_weight=None, svc__kernel=poly, svc__max_iter=10000;, score=0.507 total time=   9.1s\n",
      "[CV 4/5] END imputer__strategy=most_frequent, svc__C=1, svc__class_weight=None, svc__kernel=poly, svc__max_iter=10000;, score=0.529 total time=   9.6s\n"
     ]
    },
    {
     "name": "stderr",
     "output_type": "stream",
     "text": [
      "/opt/conda/lib/python3.9/site-packages/sklearn/svm/_base.py:255: ConvergenceWarning: Solver terminated early (max_iter=10000).  Consider pre-processing your data with StandardScaler or MinMaxScaler.\n",
      "  warnings.warn('Solver terminated early (max_iter=%i).'\n"
     ]
    },
    {
     "name": "stdout",
     "output_type": "stream",
     "text": [
      "[CV 5/5] END imputer__strategy=most_frequent, svc__C=1, svc__class_weight=None, svc__kernel=poly, svc__max_iter=10000;, score=0.509 total time=   8.1s\n"
     ]
    },
    {
     "name": "stderr",
     "output_type": "stream",
     "text": [
      "/opt/conda/lib/python3.9/site-packages/sklearn/svm/_base.py:255: ConvergenceWarning: Solver terminated early (max_iter=1000).  Consider pre-processing your data with StandardScaler or MinMaxScaler.\n",
      "  warnings.warn('Solver terminated early (max_iter=%i).'\n"
     ]
    },
    {
     "name": "stdout",
     "output_type": "stream",
     "text": [
      "[CV 1/5] END imputer__strategy=most_frequent, svc__C=1, svc__class_weight=None, svc__kernel=sigmoid, svc__max_iter=1000;, score=0.345 total time=   9.1s\n"
     ]
    },
    {
     "name": "stderr",
     "output_type": "stream",
     "text": [
      "/opt/conda/lib/python3.9/site-packages/sklearn/svm/_base.py:255: ConvergenceWarning: Solver terminated early (max_iter=1000).  Consider pre-processing your data with StandardScaler or MinMaxScaler.\n",
      "  warnings.warn('Solver terminated early (max_iter=%i).'\n"
     ]
    },
    {
     "name": "stdout",
     "output_type": "stream",
     "text": [
      "[CV 2/5] END imputer__strategy=most_frequent, svc__C=1, svc__class_weight=None, svc__kernel=sigmoid, svc__max_iter=1000;, score=0.362 total time=   9.0s\n"
     ]
    },
    {
     "name": "stderr",
     "output_type": "stream",
     "text": [
      "/opt/conda/lib/python3.9/site-packages/sklearn/svm/_base.py:255: ConvergenceWarning: Solver terminated early (max_iter=1000).  Consider pre-processing your data with StandardScaler or MinMaxScaler.\n",
      "  warnings.warn('Solver terminated early (max_iter=%i).'\n"
     ]
    },
    {
     "name": "stdout",
     "output_type": "stream",
     "text": [
      "[CV 3/5] END imputer__strategy=most_frequent, svc__C=1, svc__class_weight=None, svc__kernel=sigmoid, svc__max_iter=1000;, score=0.322 total time=   9.6s\n"
     ]
    },
    {
     "name": "stderr",
     "output_type": "stream",
     "text": [
      "/opt/conda/lib/python3.9/site-packages/sklearn/svm/_base.py:255: ConvergenceWarning: Solver terminated early (max_iter=1000).  Consider pre-processing your data with StandardScaler or MinMaxScaler.\n",
      "  warnings.warn('Solver terminated early (max_iter=%i).'\n"
     ]
    },
    {
     "name": "stdout",
     "output_type": "stream",
     "text": [
      "[CV 4/5] END imputer__strategy=most_frequent, svc__C=1, svc__class_weight=None, svc__kernel=sigmoid, svc__max_iter=1000;, score=0.342 total time=  10.5s\n"
     ]
    },
    {
     "name": "stderr",
     "output_type": "stream",
     "text": [
      "/opt/conda/lib/python3.9/site-packages/sklearn/svm/_base.py:255: ConvergenceWarning: Solver terminated early (max_iter=1000).  Consider pre-processing your data with StandardScaler or MinMaxScaler.\n",
      "  warnings.warn('Solver terminated early (max_iter=%i).'\n"
     ]
    },
    {
     "name": "stdout",
     "output_type": "stream",
     "text": [
      "[CV 5/5] END imputer__strategy=most_frequent, svc__C=1, svc__class_weight=None, svc__kernel=sigmoid, svc__max_iter=1000;, score=0.342 total time=  10.2s\n",
      "[CV 1/5] END imputer__strategy=most_frequent, svc__C=1, svc__class_weight=None, svc__kernel=sigmoid, svc__max_iter=10000;, score=0.342 total time=   9.7s\n",
      "[CV 2/5] END imputer__strategy=most_frequent, svc__C=1, svc__class_weight=None, svc__kernel=sigmoid, svc__max_iter=10000;, score=0.355 total time=   9.4s\n",
      "[CV 3/5] END imputer__strategy=most_frequent, svc__C=1, svc__class_weight=None, svc__kernel=sigmoid, svc__max_iter=10000;, score=0.331 total time=  10.3s\n",
      "[CV 4/5] END imputer__strategy=most_frequent, svc__C=1, svc__class_weight=None, svc__kernel=sigmoid, svc__max_iter=10000;, score=0.345 total time=  11.3s\n",
      "[CV 5/5] END imputer__strategy=most_frequent, svc__C=1, svc__class_weight=None, svc__kernel=sigmoid, svc__max_iter=10000;, score=0.341 total time=  10.4s\n"
     ]
    },
    {
     "name": "stderr",
     "output_type": "stream",
     "text": [
      "/opt/conda/lib/python3.9/site-packages/sklearn/svm/_base.py:255: ConvergenceWarning: Solver terminated early (max_iter=1000).  Consider pre-processing your data with StandardScaler or MinMaxScaler.\n",
      "  warnings.warn('Solver terminated early (max_iter=%i).'\n"
     ]
    },
    {
     "name": "stdout",
     "output_type": "stream",
     "text": [
      "[CV 1/5] END imputer__strategy=most_frequent, svc__C=1, svc__class_weight=balanced, svc__kernel=linear, svc__max_iter=1000;, score=0.369 total time=   5.3s\n"
     ]
    },
    {
     "name": "stderr",
     "output_type": "stream",
     "text": [
      "/opt/conda/lib/python3.9/site-packages/sklearn/svm/_base.py:255: ConvergenceWarning: Solver terminated early (max_iter=1000).  Consider pre-processing your data with StandardScaler or MinMaxScaler.\n",
      "  warnings.warn('Solver terminated early (max_iter=%i).'\n"
     ]
    },
    {
     "name": "stdout",
     "output_type": "stream",
     "text": [
      "[CV 2/5] END imputer__strategy=most_frequent, svc__C=1, svc__class_weight=balanced, svc__kernel=linear, svc__max_iter=1000;, score=0.367 total time=   5.1s\n"
     ]
    },
    {
     "name": "stderr",
     "output_type": "stream",
     "text": [
      "/opt/conda/lib/python3.9/site-packages/sklearn/svm/_base.py:255: ConvergenceWarning: Solver terminated early (max_iter=1000).  Consider pre-processing your data with StandardScaler or MinMaxScaler.\n",
      "  warnings.warn('Solver terminated early (max_iter=%i).'\n"
     ]
    },
    {
     "name": "stdout",
     "output_type": "stream",
     "text": [
      "[CV 3/5] END imputer__strategy=most_frequent, svc__C=1, svc__class_weight=balanced, svc__kernel=linear, svc__max_iter=1000;, score=0.346 total time=   6.3s\n"
     ]
    },
    {
     "name": "stderr",
     "output_type": "stream",
     "text": [
      "/opt/conda/lib/python3.9/site-packages/sklearn/svm/_base.py:255: ConvergenceWarning: Solver terminated early (max_iter=1000).  Consider pre-processing your data with StandardScaler or MinMaxScaler.\n",
      "  warnings.warn('Solver terminated early (max_iter=%i).'\n"
     ]
    },
    {
     "name": "stdout",
     "output_type": "stream",
     "text": [
      "[CV 4/5] END imputer__strategy=most_frequent, svc__C=1, svc__class_weight=balanced, svc__kernel=linear, svc__max_iter=1000;, score=0.351 total time=   5.7s\n"
     ]
    },
    {
     "name": "stderr",
     "output_type": "stream",
     "text": [
      "/opt/conda/lib/python3.9/site-packages/sklearn/svm/_base.py:255: ConvergenceWarning: Solver terminated early (max_iter=1000).  Consider pre-processing your data with StandardScaler or MinMaxScaler.\n",
      "  warnings.warn('Solver terminated early (max_iter=%i).'\n"
     ]
    },
    {
     "name": "stdout",
     "output_type": "stream",
     "text": [
      "[CV 5/5] END imputer__strategy=most_frequent, svc__C=1, svc__class_weight=balanced, svc__kernel=linear, svc__max_iter=1000;, score=0.363 total time=   6.3s\n"
     ]
    },
    {
     "name": "stderr",
     "output_type": "stream",
     "text": [
      "/opt/conda/lib/python3.9/site-packages/sklearn/svm/_base.py:255: ConvergenceWarning: Solver terminated early (max_iter=10000).  Consider pre-processing your data with StandardScaler or MinMaxScaler.\n",
      "  warnings.warn('Solver terminated early (max_iter=%i).'\n"
     ]
    },
    {
     "name": "stdout",
     "output_type": "stream",
     "text": [
      "[CV 1/5] END imputer__strategy=most_frequent, svc__C=1, svc__class_weight=balanced, svc__kernel=linear, svc__max_iter=10000;, score=0.432 total time=   9.9s\n"
     ]
    },
    {
     "name": "stderr",
     "output_type": "stream",
     "text": [
      "/opt/conda/lib/python3.9/site-packages/sklearn/svm/_base.py:255: ConvergenceWarning: Solver terminated early (max_iter=10000).  Consider pre-processing your data with StandardScaler or MinMaxScaler.\n",
      "  warnings.warn('Solver terminated early (max_iter=%i).'\n"
     ]
    },
    {
     "name": "stdout",
     "output_type": "stream",
     "text": [
      "[CV 2/5] END imputer__strategy=most_frequent, svc__C=1, svc__class_weight=balanced, svc__kernel=linear, svc__max_iter=10000;, score=0.443 total time=   9.7s\n"
     ]
    },
    {
     "name": "stderr",
     "output_type": "stream",
     "text": [
      "/opt/conda/lib/python3.9/site-packages/sklearn/svm/_base.py:255: ConvergenceWarning: Solver terminated early (max_iter=10000).  Consider pre-processing your data with StandardScaler or MinMaxScaler.\n",
      "  warnings.warn('Solver terminated early (max_iter=%i).'\n"
     ]
    },
    {
     "name": "stdout",
     "output_type": "stream",
     "text": [
      "[CV 3/5] END imputer__strategy=most_frequent, svc__C=1, svc__class_weight=balanced, svc__kernel=linear, svc__max_iter=10000;, score=0.432 total time=  11.1s\n"
     ]
    },
    {
     "name": "stderr",
     "output_type": "stream",
     "text": [
      "/opt/conda/lib/python3.9/site-packages/sklearn/svm/_base.py:255: ConvergenceWarning: Solver terminated early (max_iter=10000).  Consider pre-processing your data with StandardScaler or MinMaxScaler.\n",
      "  warnings.warn('Solver terminated early (max_iter=%i).'\n"
     ]
    },
    {
     "name": "stdout",
     "output_type": "stream",
     "text": [
      "[CV 4/5] END imputer__strategy=most_frequent, svc__C=1, svc__class_weight=balanced, svc__kernel=linear, svc__max_iter=10000;, score=0.448 total time=  10.3s\n"
     ]
    },
    {
     "name": "stderr",
     "output_type": "stream",
     "text": [
      "/opt/conda/lib/python3.9/site-packages/sklearn/svm/_base.py:255: ConvergenceWarning: Solver terminated early (max_iter=10000).  Consider pre-processing your data with StandardScaler or MinMaxScaler.\n",
      "  warnings.warn('Solver terminated early (max_iter=%i).'\n"
     ]
    },
    {
     "name": "stdout",
     "output_type": "stream",
     "text": [
      "[CV 5/5] END imputer__strategy=most_frequent, svc__C=1, svc__class_weight=balanced, svc__kernel=linear, svc__max_iter=10000;, score=0.452 total time=  11.0s\n"
     ]
    },
    {
     "name": "stderr",
     "output_type": "stream",
     "text": [
      "/opt/conda/lib/python3.9/site-packages/sklearn/svm/_base.py:255: ConvergenceWarning: Solver terminated early (max_iter=1000).  Consider pre-processing your data with StandardScaler or MinMaxScaler.\n",
      "  warnings.warn('Solver terminated early (max_iter=%i).'\n"
     ]
    },
    {
     "name": "stdout",
     "output_type": "stream",
     "text": [
      "[CV 1/5] END imputer__strategy=most_frequent, svc__C=1, svc__class_weight=balanced, svc__kernel=rbf, svc__max_iter=1000;, score=0.365 total time=   7.9s\n"
     ]
    },
    {
     "name": "stderr",
     "output_type": "stream",
     "text": [
      "/opt/conda/lib/python3.9/site-packages/sklearn/svm/_base.py:255: ConvergenceWarning: Solver terminated early (max_iter=1000).  Consider pre-processing your data with StandardScaler or MinMaxScaler.\n",
      "  warnings.warn('Solver terminated early (max_iter=%i).'\n"
     ]
    },
    {
     "name": "stdout",
     "output_type": "stream",
     "text": [
      "[CV 2/5] END imputer__strategy=most_frequent, svc__C=1, svc__class_weight=balanced, svc__kernel=rbf, svc__max_iter=1000;, score=0.375 total time=   7.9s\n"
     ]
    },
    {
     "name": "stderr",
     "output_type": "stream",
     "text": [
      "/opt/conda/lib/python3.9/site-packages/sklearn/svm/_base.py:255: ConvergenceWarning: Solver terminated early (max_iter=1000).  Consider pre-processing your data with StandardScaler or MinMaxScaler.\n",
      "  warnings.warn('Solver terminated early (max_iter=%i).'\n"
     ]
    },
    {
     "name": "stdout",
     "output_type": "stream",
     "text": [
      "[CV 3/5] END imputer__strategy=most_frequent, svc__C=1, svc__class_weight=balanced, svc__kernel=rbf, svc__max_iter=1000;, score=0.386 total time=   8.2s\n"
     ]
    },
    {
     "name": "stderr",
     "output_type": "stream",
     "text": [
      "/opt/conda/lib/python3.9/site-packages/sklearn/svm/_base.py:255: ConvergenceWarning: Solver terminated early (max_iter=1000).  Consider pre-processing your data with StandardScaler or MinMaxScaler.\n",
      "  warnings.warn('Solver terminated early (max_iter=%i).'\n"
     ]
    },
    {
     "name": "stdout",
     "output_type": "stream",
     "text": [
      "[CV 4/5] END imputer__strategy=most_frequent, svc__C=1, svc__class_weight=balanced, svc__kernel=rbf, svc__max_iter=1000;, score=0.366 total time=   8.1s\n"
     ]
    },
    {
     "name": "stderr",
     "output_type": "stream",
     "text": [
      "/opt/conda/lib/python3.9/site-packages/sklearn/svm/_base.py:255: ConvergenceWarning: Solver terminated early (max_iter=1000).  Consider pre-processing your data with StandardScaler or MinMaxScaler.\n",
      "  warnings.warn('Solver terminated early (max_iter=%i).'\n"
     ]
    },
    {
     "name": "stdout",
     "output_type": "stream",
     "text": [
      "[CV 5/5] END imputer__strategy=most_frequent, svc__C=1, svc__class_weight=balanced, svc__kernel=rbf, svc__max_iter=1000;, score=0.378 total time=   7.9s\n",
      "[CV 1/5] END imputer__strategy=most_frequent, svc__C=1, svc__class_weight=balanced, svc__kernel=rbf, svc__max_iter=10000;, score=0.446 total time=  11.4s\n",
      "[CV 2/5] END imputer__strategy=most_frequent, svc__C=1, svc__class_weight=balanced, svc__kernel=rbf, svc__max_iter=10000;, score=0.471 total time=  11.2s\n",
      "[CV 3/5] END imputer__strategy=most_frequent, svc__C=1, svc__class_weight=balanced, svc__kernel=rbf, svc__max_iter=10000;, score=0.463 total time=  11.2s\n",
      "[CV 4/5] END imputer__strategy=most_frequent, svc__C=1, svc__class_weight=balanced, svc__kernel=rbf, svc__max_iter=10000;, score=0.466 total time=  10.9s\n",
      "[CV 5/5] END imputer__strategy=most_frequent, svc__C=1, svc__class_weight=balanced, svc__kernel=rbf, svc__max_iter=10000;, score=0.471 total time=  11.3s\n"
     ]
    },
    {
     "name": "stderr",
     "output_type": "stream",
     "text": [
      "/opt/conda/lib/python3.9/site-packages/sklearn/svm/_base.py:255: ConvergenceWarning: Solver terminated early (max_iter=1000).  Consider pre-processing your data with StandardScaler or MinMaxScaler.\n",
      "  warnings.warn('Solver terminated early (max_iter=%i).'\n"
     ]
    },
    {
     "name": "stdout",
     "output_type": "stream",
     "text": [
      "[CV 1/5] END imputer__strategy=most_frequent, svc__C=1, svc__class_weight=balanced, svc__kernel=poly, svc__max_iter=1000;, score=0.366 total time=   6.1s\n"
     ]
    },
    {
     "name": "stderr",
     "output_type": "stream",
     "text": [
      "/opt/conda/lib/python3.9/site-packages/sklearn/svm/_base.py:255: ConvergenceWarning: Solver terminated early (max_iter=1000).  Consider pre-processing your data with StandardScaler or MinMaxScaler.\n",
      "  warnings.warn('Solver terminated early (max_iter=%i).'\n"
     ]
    },
    {
     "name": "stdout",
     "output_type": "stream",
     "text": [
      "[CV 2/5] END imputer__strategy=most_frequent, svc__C=1, svc__class_weight=balanced, svc__kernel=poly, svc__max_iter=1000;, score=0.373 total time=   6.8s\n"
     ]
    },
    {
     "name": "stderr",
     "output_type": "stream",
     "text": [
      "/opt/conda/lib/python3.9/site-packages/sklearn/svm/_base.py:255: ConvergenceWarning: Solver terminated early (max_iter=1000).  Consider pre-processing your data with StandardScaler or MinMaxScaler.\n",
      "  warnings.warn('Solver terminated early (max_iter=%i).'\n"
     ]
    },
    {
     "name": "stdout",
     "output_type": "stream",
     "text": [
      "[CV 3/5] END imputer__strategy=most_frequent, svc__C=1, svc__class_weight=balanced, svc__kernel=poly, svc__max_iter=1000;, score=0.368 total time=   6.5s\n"
     ]
    },
    {
     "name": "stderr",
     "output_type": "stream",
     "text": [
      "/opt/conda/lib/python3.9/site-packages/sklearn/svm/_base.py:255: ConvergenceWarning: Solver terminated early (max_iter=1000).  Consider pre-processing your data with StandardScaler or MinMaxScaler.\n",
      "  warnings.warn('Solver terminated early (max_iter=%i).'\n"
     ]
    },
    {
     "name": "stdout",
     "output_type": "stream",
     "text": [
      "[CV 4/5] END imputer__strategy=most_frequent, svc__C=1, svc__class_weight=balanced, svc__kernel=poly, svc__max_iter=1000;, score=0.371 total time=   6.6s\n"
     ]
    },
    {
     "name": "stderr",
     "output_type": "stream",
     "text": [
      "/opt/conda/lib/python3.9/site-packages/sklearn/svm/_base.py:255: ConvergenceWarning: Solver terminated early (max_iter=1000).  Consider pre-processing your data with StandardScaler or MinMaxScaler.\n",
      "  warnings.warn('Solver terminated early (max_iter=%i).'\n"
     ]
    },
    {
     "name": "stdout",
     "output_type": "stream",
     "text": [
      "[CV 5/5] END imputer__strategy=most_frequent, svc__C=1, svc__class_weight=balanced, svc__kernel=poly, svc__max_iter=1000;, score=0.365 total time=   5.9s\n",
      "[CV 1/5] END imputer__strategy=most_frequent, svc__C=1, svc__class_weight=balanced, svc__kernel=poly, svc__max_iter=10000;, score=0.454 total time=  10.6s\n",
      "[CV 2/5] END imputer__strategy=most_frequent, svc__C=1, svc__class_weight=balanced, svc__kernel=poly, svc__max_iter=10000;, score=0.456 total time=   9.2s\n",
      "[CV 3/5] END imputer__strategy=most_frequent, svc__C=1, svc__class_weight=balanced, svc__kernel=poly, svc__max_iter=10000;, score=0.466 total time=   9.1s\n",
      "[CV 4/5] END imputer__strategy=most_frequent, svc__C=1, svc__class_weight=balanced, svc__kernel=poly, svc__max_iter=10000;, score=0.466 total time=   8.8s\n",
      "[CV 5/5] END imputer__strategy=most_frequent, svc__C=1, svc__class_weight=balanced, svc__kernel=poly, svc__max_iter=10000;, score=0.459 total time=   9.2s\n"
     ]
    },
    {
     "name": "stderr",
     "output_type": "stream",
     "text": [
      "/opt/conda/lib/python3.9/site-packages/sklearn/svm/_base.py:255: ConvergenceWarning: Solver terminated early (max_iter=1000).  Consider pre-processing your data with StandardScaler or MinMaxScaler.\n",
      "  warnings.warn('Solver terminated early (max_iter=%i).'\n"
     ]
    },
    {
     "name": "stdout",
     "output_type": "stream",
     "text": [
      "[CV 1/5] END imputer__strategy=most_frequent, svc__C=1, svc__class_weight=balanced, svc__kernel=sigmoid, svc__max_iter=1000;, score=0.340 total time=   8.8s\n"
     ]
    },
    {
     "name": "stderr",
     "output_type": "stream",
     "text": [
      "/opt/conda/lib/python3.9/site-packages/sklearn/svm/_base.py:255: ConvergenceWarning: Solver terminated early (max_iter=1000).  Consider pre-processing your data with StandardScaler or MinMaxScaler.\n",
      "  warnings.warn('Solver terminated early (max_iter=%i).'\n"
     ]
    },
    {
     "name": "stdout",
     "output_type": "stream",
     "text": [
      "[CV 2/5] END imputer__strategy=most_frequent, svc__C=1, svc__class_weight=balanced, svc__kernel=sigmoid, svc__max_iter=1000;, score=0.341 total time=   9.7s\n"
     ]
    },
    {
     "name": "stderr",
     "output_type": "stream",
     "text": [
      "/opt/conda/lib/python3.9/site-packages/sklearn/svm/_base.py:255: ConvergenceWarning: Solver terminated early (max_iter=1000).  Consider pre-processing your data with StandardScaler or MinMaxScaler.\n",
      "  warnings.warn('Solver terminated early (max_iter=%i).'\n"
     ]
    },
    {
     "name": "stdout",
     "output_type": "stream",
     "text": [
      "[CV 3/5] END imputer__strategy=most_frequent, svc__C=1, svc__class_weight=balanced, svc__kernel=sigmoid, svc__max_iter=1000;, score=0.319 total time=   9.9s\n"
     ]
    },
    {
     "name": "stderr",
     "output_type": "stream",
     "text": [
      "/opt/conda/lib/python3.9/site-packages/sklearn/svm/_base.py:255: ConvergenceWarning: Solver terminated early (max_iter=1000).  Consider pre-processing your data with StandardScaler or MinMaxScaler.\n",
      "  warnings.warn('Solver terminated early (max_iter=%i).'\n"
     ]
    },
    {
     "name": "stdout",
     "output_type": "stream",
     "text": [
      "[CV 4/5] END imputer__strategy=most_frequent, svc__C=1, svc__class_weight=balanced, svc__kernel=sigmoid, svc__max_iter=1000;, score=0.341 total time=   9.3s\n"
     ]
    },
    {
     "name": "stderr",
     "output_type": "stream",
     "text": [
      "/opt/conda/lib/python3.9/site-packages/sklearn/svm/_base.py:255: ConvergenceWarning: Solver terminated early (max_iter=1000).  Consider pre-processing your data with StandardScaler or MinMaxScaler.\n",
      "  warnings.warn('Solver terminated early (max_iter=%i).'\n"
     ]
    },
    {
     "name": "stdout",
     "output_type": "stream",
     "text": [
      "[CV 5/5] END imputer__strategy=most_frequent, svc__C=1, svc__class_weight=balanced, svc__kernel=sigmoid, svc__max_iter=1000;, score=0.330 total time=   8.8s\n",
      "[CV 1/5] END imputer__strategy=most_frequent, svc__C=1, svc__class_weight=balanced, svc__kernel=sigmoid, svc__max_iter=10000;, score=0.291 total time=  13.2s\n",
      "[CV 2/5] END imputer__strategy=most_frequent, svc__C=1, svc__class_weight=balanced, svc__kernel=sigmoid, svc__max_iter=10000;, score=0.316 total time=  11.7s\n",
      "[CV 3/5] END imputer__strategy=most_frequent, svc__C=1, svc__class_weight=balanced, svc__kernel=sigmoid, svc__max_iter=10000;, score=0.297 total time=  12.3s\n",
      "[CV 4/5] END imputer__strategy=most_frequent, svc__C=1, svc__class_weight=balanced, svc__kernel=sigmoid, svc__max_iter=10000;, score=0.314 total time=  11.4s\n",
      "[CV 5/5] END imputer__strategy=most_frequent, svc__C=1, svc__class_weight=balanced, svc__kernel=sigmoid, svc__max_iter=10000;, score=0.307 total time=  11.9s\n"
     ]
    },
    {
     "name": "stderr",
     "output_type": "stream",
     "text": [
      "/opt/conda/lib/python3.9/site-packages/sklearn/svm/_base.py:255: ConvergenceWarning: Solver terminated early (max_iter=1000).  Consider pre-processing your data with StandardScaler or MinMaxScaler.\n",
      "  warnings.warn('Solver terminated early (max_iter=%i).'\n"
     ]
    },
    {
     "name": "stdout",
     "output_type": "stream",
     "text": [
      "[CV 1/5] END imputer__strategy=most_frequent, svc__C=10, svc__class_weight=None, svc__kernel=linear, svc__max_iter=1000;, score=0.242 total time=   4.7s\n"
     ]
    },
    {
     "name": "stderr",
     "output_type": "stream",
     "text": [
      "/opt/conda/lib/python3.9/site-packages/sklearn/svm/_base.py:255: ConvergenceWarning: Solver terminated early (max_iter=1000).  Consider pre-processing your data with StandardScaler or MinMaxScaler.\n",
      "  warnings.warn('Solver terminated early (max_iter=%i).'\n"
     ]
    },
    {
     "name": "stdout",
     "output_type": "stream",
     "text": [
      "[CV 2/5] END imputer__strategy=most_frequent, svc__C=10, svc__class_weight=None, svc__kernel=linear, svc__max_iter=1000;, score=0.308 total time=   4.1s\n"
     ]
    },
    {
     "name": "stderr",
     "output_type": "stream",
     "text": [
      "/opt/conda/lib/python3.9/site-packages/sklearn/svm/_base.py:255: ConvergenceWarning: Solver terminated early (max_iter=1000).  Consider pre-processing your data with StandardScaler or MinMaxScaler.\n",
      "  warnings.warn('Solver terminated early (max_iter=%i).'\n"
     ]
    },
    {
     "name": "stdout",
     "output_type": "stream",
     "text": [
      "[CV 3/5] END imputer__strategy=most_frequent, svc__C=10, svc__class_weight=None, svc__kernel=linear, svc__max_iter=1000;, score=0.283 total time=   4.1s\n"
     ]
    },
    {
     "name": "stderr",
     "output_type": "stream",
     "text": [
      "/opt/conda/lib/python3.9/site-packages/sklearn/svm/_base.py:255: ConvergenceWarning: Solver terminated early (max_iter=1000).  Consider pre-processing your data with StandardScaler or MinMaxScaler.\n",
      "  warnings.warn('Solver terminated early (max_iter=%i).'\n"
     ]
    },
    {
     "name": "stdout",
     "output_type": "stream",
     "text": [
      "[CV 4/5] END imputer__strategy=most_frequent, svc__C=10, svc__class_weight=None, svc__kernel=linear, svc__max_iter=1000;, score=0.286 total time=   4.2s\n"
     ]
    },
    {
     "name": "stderr",
     "output_type": "stream",
     "text": [
      "/opt/conda/lib/python3.9/site-packages/sklearn/svm/_base.py:255: ConvergenceWarning: Solver terminated early (max_iter=1000).  Consider pre-processing your data with StandardScaler or MinMaxScaler.\n",
      "  warnings.warn('Solver terminated early (max_iter=%i).'\n"
     ]
    },
    {
     "name": "stdout",
     "output_type": "stream",
     "text": [
      "[CV 5/5] END imputer__strategy=most_frequent, svc__C=10, svc__class_weight=None, svc__kernel=linear, svc__max_iter=1000;, score=0.302 total time=   4.6s\n"
     ]
    },
    {
     "name": "stderr",
     "output_type": "stream",
     "text": [
      "/opt/conda/lib/python3.9/site-packages/sklearn/svm/_base.py:255: ConvergenceWarning: Solver terminated early (max_iter=10000).  Consider pre-processing your data with StandardScaler or MinMaxScaler.\n",
      "  warnings.warn('Solver terminated early (max_iter=%i).'\n"
     ]
    },
    {
     "name": "stdout",
     "output_type": "stream",
     "text": [
      "[CV 1/5] END imputer__strategy=most_frequent, svc__C=10, svc__class_weight=None, svc__kernel=linear, svc__max_iter=10000;, score=0.399 total time=  11.2s\n"
     ]
    },
    {
     "name": "stderr",
     "output_type": "stream",
     "text": [
      "/opt/conda/lib/python3.9/site-packages/sklearn/svm/_base.py:255: ConvergenceWarning: Solver terminated early (max_iter=10000).  Consider pre-processing your data with StandardScaler or MinMaxScaler.\n",
      "  warnings.warn('Solver terminated early (max_iter=%i).'\n"
     ]
    },
    {
     "name": "stdout",
     "output_type": "stream",
     "text": [
      "[CV 2/5] END imputer__strategy=most_frequent, svc__C=10, svc__class_weight=None, svc__kernel=linear, svc__max_iter=10000;, score=0.408 total time=  11.5s\n"
     ]
    },
    {
     "name": "stderr",
     "output_type": "stream",
     "text": [
      "/opt/conda/lib/python3.9/site-packages/sklearn/svm/_base.py:255: ConvergenceWarning: Solver terminated early (max_iter=1000).  Consider pre-processing your data with StandardScaler or MinMaxScaler.\n",
      "  warnings.warn('Solver terminated early (max_iter=%i).'\n"
     ]
    },
    {
     "name": "stdout",
     "output_type": "stream",
     "text": [
      "[CV 5/5] END imputer__strategy=most_frequent, svc__C=10, svc__class_weight=None, svc__kernel=rbf, svc__max_iter=1000;, score=0.443 total time=   8.5s\n"
     ]
    },
    {
     "name": "stderr",
     "output_type": "stream",
     "text": [
      "/opt/conda/lib/python3.9/site-packages/sklearn/svm/_base.py:255: ConvergenceWarning: Solver terminated early (max_iter=10000).  Consider pre-processing your data with StandardScaler or MinMaxScaler.\n",
      "  warnings.warn('Solver terminated early (max_iter=%i).'\n"
     ]
    },
    {
     "name": "stdout",
     "output_type": "stream",
     "text": [
      "[CV 1/5] END imputer__strategy=most_frequent, svc__C=10, svc__class_weight=None, svc__kernel=rbf, svc__max_iter=10000;, score=0.500 total time=  13.4s\n"
     ]
    },
    {
     "name": "stderr",
     "output_type": "stream",
     "text": [
      "/opt/conda/lib/python3.9/site-packages/sklearn/svm/_base.py:255: ConvergenceWarning: Solver terminated early (max_iter=10000).  Consider pre-processing your data with StandardScaler or MinMaxScaler.\n",
      "  warnings.warn('Solver terminated early (max_iter=%i).'\n"
     ]
    },
    {
     "name": "stdout",
     "output_type": "stream",
     "text": [
      "[CV 2/5] END imputer__strategy=most_frequent, svc__C=10, svc__class_weight=None, svc__kernel=rbf, svc__max_iter=10000;, score=0.505 total time=  11.0s\n"
     ]
    },
    {
     "name": "stderr",
     "output_type": "stream",
     "text": [
      "/opt/conda/lib/python3.9/site-packages/sklearn/svm/_base.py:255: ConvergenceWarning: Solver terminated early (max_iter=10000).  Consider pre-processing your data with StandardScaler or MinMaxScaler.\n",
      "  warnings.warn('Solver terminated early (max_iter=%i).'\n"
     ]
    },
    {
     "name": "stdout",
     "output_type": "stream",
     "text": [
      "[CV 3/5] END imputer__strategy=most_frequent, svc__C=10, svc__class_weight=None, svc__kernel=rbf, svc__max_iter=10000;, score=0.505 total time=  11.0s\n"
     ]
    },
    {
     "name": "stderr",
     "output_type": "stream",
     "text": [
      "/opt/conda/lib/python3.9/site-packages/sklearn/svm/_base.py:255: ConvergenceWarning: Solver terminated early (max_iter=10000).  Consider pre-processing your data with StandardScaler or MinMaxScaler.\n",
      "  warnings.warn('Solver terminated early (max_iter=%i).'\n"
     ]
    },
    {
     "name": "stdout",
     "output_type": "stream",
     "text": [
      "[CV 4/5] END imputer__strategy=most_frequent, svc__C=10, svc__class_weight=None, svc__kernel=rbf, svc__max_iter=10000;, score=0.523 total time=  11.5s\n"
     ]
    },
    {
     "name": "stderr",
     "output_type": "stream",
     "text": [
      "/opt/conda/lib/python3.9/site-packages/sklearn/svm/_base.py:255: ConvergenceWarning: Solver terminated early (max_iter=10000).  Consider pre-processing your data with StandardScaler or MinMaxScaler.\n",
      "  warnings.warn('Solver terminated early (max_iter=%i).'\n"
     ]
    },
    {
     "name": "stdout",
     "output_type": "stream",
     "text": [
      "[CV 5/5] END imputer__strategy=most_frequent, svc__C=10, svc__class_weight=None, svc__kernel=rbf, svc__max_iter=10000;, score=0.504 total time=  13.2s\n"
     ]
    },
    {
     "name": "stderr",
     "output_type": "stream",
     "text": [
      "/opt/conda/lib/python3.9/site-packages/sklearn/svm/_base.py:255: ConvergenceWarning: Solver terminated early (max_iter=1000).  Consider pre-processing your data with StandardScaler or MinMaxScaler.\n",
      "  warnings.warn('Solver terminated early (max_iter=%i).'\n"
     ]
    },
    {
     "name": "stdout",
     "output_type": "stream",
     "text": [
      "[CV 1/5] END imputer__strategy=most_frequent, svc__C=10, svc__class_weight=None, svc__kernel=poly, svc__max_iter=1000;, score=0.438 total time=   5.5s\n"
     ]
    },
    {
     "name": "stderr",
     "output_type": "stream",
     "text": [
      "/opt/conda/lib/python3.9/site-packages/sklearn/svm/_base.py:255: ConvergenceWarning: Solver terminated early (max_iter=1000).  Consider pre-processing your data with StandardScaler or MinMaxScaler.\n",
      "  warnings.warn('Solver terminated early (max_iter=%i).'\n"
     ]
    },
    {
     "name": "stdout",
     "output_type": "stream",
     "text": [
      "[CV 2/5] END imputer__strategy=most_frequent, svc__C=10, svc__class_weight=None, svc__kernel=poly, svc__max_iter=1000;, score=0.437 total time=   5.5s\n"
     ]
    },
    {
     "name": "stderr",
     "output_type": "stream",
     "text": [
      "/opt/conda/lib/python3.9/site-packages/sklearn/svm/_base.py:255: ConvergenceWarning: Solver terminated early (max_iter=1000).  Consider pre-processing your data with StandardScaler or MinMaxScaler.\n",
      "  warnings.warn('Solver terminated early (max_iter=%i).'\n"
     ]
    },
    {
     "name": "stdout",
     "output_type": "stream",
     "text": [
      "[CV 3/5] END imputer__strategy=most_frequent, svc__C=10, svc__class_weight=None, svc__kernel=poly, svc__max_iter=1000;, score=0.451 total time=   5.5s\n"
     ]
    },
    {
     "name": "stderr",
     "output_type": "stream",
     "text": [
      "/opt/conda/lib/python3.9/site-packages/sklearn/svm/_base.py:255: ConvergenceWarning: Solver terminated early (max_iter=1000).  Consider pre-processing your data with StandardScaler or MinMaxScaler.\n",
      "  warnings.warn('Solver terminated early (max_iter=%i).'\n"
     ]
    },
    {
     "name": "stdout",
     "output_type": "stream",
     "text": [
      "[CV 4/5] END imputer__strategy=most_frequent, svc__C=10, svc__class_weight=None, svc__kernel=poly, svc__max_iter=1000;, score=0.447 total time=   6.1s\n"
     ]
    },
    {
     "name": "stderr",
     "output_type": "stream",
     "text": [
      "/opt/conda/lib/python3.9/site-packages/sklearn/svm/_base.py:255: ConvergenceWarning: Solver terminated early (max_iter=1000).  Consider pre-processing your data with StandardScaler or MinMaxScaler.\n",
      "  warnings.warn('Solver terminated early (max_iter=%i).'\n"
     ]
    },
    {
     "name": "stdout",
     "output_type": "stream",
     "text": [
      "[CV 5/5] END imputer__strategy=most_frequent, svc__C=10, svc__class_weight=None, svc__kernel=poly, svc__max_iter=1000;, score=0.437 total time=   6.9s\n"
     ]
    },
    {
     "name": "stderr",
     "output_type": "stream",
     "text": [
      "/opt/conda/lib/python3.9/site-packages/sklearn/svm/_base.py:255: ConvergenceWarning: Solver terminated early (max_iter=10000).  Consider pre-processing your data with StandardScaler or MinMaxScaler.\n",
      "  warnings.warn('Solver terminated early (max_iter=%i).'\n"
     ]
    },
    {
     "name": "stdout",
     "output_type": "stream",
     "text": [
      "[CV 1/5] END imputer__strategy=most_frequent, svc__C=10, svc__class_weight=None, svc__kernel=poly, svc__max_iter=10000;, score=0.481 total time=  11.1s\n"
     ]
    },
    {
     "name": "stderr",
     "output_type": "stream",
     "text": [
      "/opt/conda/lib/python3.9/site-packages/sklearn/svm/_base.py:255: ConvergenceWarning: Solver terminated early (max_iter=10000).  Consider pre-processing your data with StandardScaler or MinMaxScaler.\n",
      "  warnings.warn('Solver terminated early (max_iter=%i).'\n"
     ]
    },
    {
     "name": "stdout",
     "output_type": "stream",
     "text": [
      "[CV 2/5] END imputer__strategy=most_frequent, svc__C=10, svc__class_weight=None, svc__kernel=poly, svc__max_iter=10000;, score=0.490 total time=  11.1s\n"
     ]
    },
    {
     "name": "stderr",
     "output_type": "stream",
     "text": [
      "/opt/conda/lib/python3.9/site-packages/sklearn/svm/_base.py:255: ConvergenceWarning: Solver terminated early (max_iter=10000).  Consider pre-processing your data with StandardScaler or MinMaxScaler.\n",
      "  warnings.warn('Solver terminated early (max_iter=%i).'\n"
     ]
    },
    {
     "name": "stdout",
     "output_type": "stream",
     "text": [
      "[CV 3/5] END imputer__strategy=most_frequent, svc__C=10, svc__class_weight=None, svc__kernel=poly, svc__max_iter=10000;, score=0.486 total time=  11.0s\n"
     ]
    },
    {
     "name": "stderr",
     "output_type": "stream",
     "text": [
      "/opt/conda/lib/python3.9/site-packages/sklearn/svm/_base.py:255: ConvergenceWarning: Solver terminated early (max_iter=10000).  Consider pre-processing your data with StandardScaler or MinMaxScaler.\n",
      "  warnings.warn('Solver terminated early (max_iter=%i).'\n"
     ]
    },
    {
     "name": "stdout",
     "output_type": "stream",
     "text": [
      "[CV 4/5] END imputer__strategy=most_frequent, svc__C=10, svc__class_weight=None, svc__kernel=poly, svc__max_iter=10000;, score=0.507 total time=   8.6s\n"
     ]
    },
    {
     "name": "stderr",
     "output_type": "stream",
     "text": [
      "/opt/conda/lib/python3.9/site-packages/sklearn/svm/_base.py:255: ConvergenceWarning: Solver terminated early (max_iter=10000).  Consider pre-processing your data with StandardScaler or MinMaxScaler.\n",
      "  warnings.warn('Solver terminated early (max_iter=%i).'\n"
     ]
    },
    {
     "name": "stdout",
     "output_type": "stream",
     "text": [
      "[CV 5/5] END imputer__strategy=most_frequent, svc__C=10, svc__class_weight=None, svc__kernel=poly, svc__max_iter=10000;, score=0.493 total time=  10.4s\n"
     ]
    },
    {
     "name": "stderr",
     "output_type": "stream",
     "text": [
      "/opt/conda/lib/python3.9/site-packages/sklearn/svm/_base.py:255: ConvergenceWarning: Solver terminated early (max_iter=1000).  Consider pre-processing your data with StandardScaler or MinMaxScaler.\n",
      "  warnings.warn('Solver terminated early (max_iter=%i).'\n"
     ]
    },
    {
     "name": "stdout",
     "output_type": "stream",
     "text": [
      "[CV 1/5] END imputer__strategy=most_frequent, svc__C=10, svc__class_weight=None, svc__kernel=sigmoid, svc__max_iter=1000;, score=0.325 total time=   8.6s\n"
     ]
    },
    {
     "name": "stderr",
     "output_type": "stream",
     "text": [
      "/opt/conda/lib/python3.9/site-packages/sklearn/svm/_base.py:255: ConvergenceWarning: Solver terminated early (max_iter=1000).  Consider pre-processing your data with StandardScaler or MinMaxScaler.\n",
      "  warnings.warn('Solver terminated early (max_iter=%i).'\n"
     ]
    },
    {
     "name": "stdout",
     "output_type": "stream",
     "text": [
      "[CV 2/5] END imputer__strategy=most_frequent, svc__C=10, svc__class_weight=None, svc__kernel=sigmoid, svc__max_iter=1000;, score=0.339 total time=   8.1s\n"
     ]
    },
    {
     "name": "stderr",
     "output_type": "stream",
     "text": [
      "/opt/conda/lib/python3.9/site-packages/sklearn/svm/_base.py:255: ConvergenceWarning: Solver terminated early (max_iter=1000).  Consider pre-processing your data with StandardScaler or MinMaxScaler.\n",
      "  warnings.warn('Solver terminated early (max_iter=%i).'\n"
     ]
    },
    {
     "name": "stdout",
     "output_type": "stream",
     "text": [
      "[CV 3/5] END imputer__strategy=most_frequent, svc__C=10, svc__class_weight=None, svc__kernel=sigmoid, svc__max_iter=1000;, score=0.292 total time=   8.2s\n"
     ]
    },
    {
     "name": "stderr",
     "output_type": "stream",
     "text": [
      "/opt/conda/lib/python3.9/site-packages/sklearn/svm/_base.py:255: ConvergenceWarning: Solver terminated early (max_iter=1000).  Consider pre-processing your data with StandardScaler or MinMaxScaler.\n",
      "  warnings.warn('Solver terminated early (max_iter=%i).'\n"
     ]
    },
    {
     "name": "stdout",
     "output_type": "stream",
     "text": [
      "[CV 4/5] END imputer__strategy=most_frequent, svc__C=10, svc__class_weight=None, svc__kernel=sigmoid, svc__max_iter=1000;, score=0.325 total time=   8.0s\n"
     ]
    },
    {
     "name": "stderr",
     "output_type": "stream",
     "text": [
      "/opt/conda/lib/python3.9/site-packages/sklearn/svm/_base.py:255: ConvergenceWarning: Solver terminated early (max_iter=1000).  Consider pre-processing your data with StandardScaler or MinMaxScaler.\n",
      "  warnings.warn('Solver terminated early (max_iter=%i).'\n"
     ]
    },
    {
     "name": "stdout",
     "output_type": "stream",
     "text": [
      "[CV 5/5] END imputer__strategy=most_frequent, svc__C=10, svc__class_weight=None, svc__kernel=sigmoid, svc__max_iter=1000;, score=0.325 total time=   8.1s\n",
      "[CV 1/5] END imputer__strategy=most_frequent, svc__C=10, svc__class_weight=None, svc__kernel=sigmoid, svc__max_iter=10000;, score=0.323 total time=   8.5s\n",
      "[CV 2/5] END imputer__strategy=most_frequent, svc__C=10, svc__class_weight=None, svc__kernel=sigmoid, svc__max_iter=10000;, score=0.343 total time=   8.5s\n",
      "[CV 3/5] END imputer__strategy=most_frequent, svc__C=10, svc__class_weight=None, svc__kernel=sigmoid, svc__max_iter=10000;, score=0.299 total time=   8.7s\n",
      "[CV 4/5] END imputer__strategy=most_frequent, svc__C=10, svc__class_weight=None, svc__kernel=sigmoid, svc__max_iter=10000;, score=0.329 total time=   8.3s\n",
      "[CV 5/5] END imputer__strategy=most_frequent, svc__C=10, svc__class_weight=None, svc__kernel=sigmoid, svc__max_iter=10000;, score=0.322 total time=   8.4s\n"
     ]
    },
    {
     "name": "stderr",
     "output_type": "stream",
     "text": [
      "/opt/conda/lib/python3.9/site-packages/sklearn/svm/_base.py:255: ConvergenceWarning: Solver terminated early (max_iter=1000).  Consider pre-processing your data with StandardScaler or MinMaxScaler.\n",
      "  warnings.warn('Solver terminated early (max_iter=%i).'\n"
     ]
    },
    {
     "name": "stdout",
     "output_type": "stream",
     "text": [
      "[CV 1/5] END imputer__strategy=most_frequent, svc__C=10, svc__class_weight=balanced, svc__kernel=linear, svc__max_iter=1000;, score=0.231 total time=   4.0s\n"
     ]
    },
    {
     "name": "stderr",
     "output_type": "stream",
     "text": [
      "/opt/conda/lib/python3.9/site-packages/sklearn/svm/_base.py:255: ConvergenceWarning: Solver terminated early (max_iter=1000).  Consider pre-processing your data with StandardScaler or MinMaxScaler.\n",
      "  warnings.warn('Solver terminated early (max_iter=%i).'\n"
     ]
    },
    {
     "name": "stdout",
     "output_type": "stream",
     "text": [
      "[CV 2/5] END imputer__strategy=most_frequent, svc__C=10, svc__class_weight=balanced, svc__kernel=linear, svc__max_iter=1000;, score=0.238 total time=   3.9s\n"
     ]
    },
    {
     "name": "stderr",
     "output_type": "stream",
     "text": [
      "/opt/conda/lib/python3.9/site-packages/sklearn/svm/_base.py:255: ConvergenceWarning: Solver terminated early (max_iter=1000).  Consider pre-processing your data with StandardScaler or MinMaxScaler.\n",
      "  warnings.warn('Solver terminated early (max_iter=%i).'\n"
     ]
    },
    {
     "name": "stdout",
     "output_type": "stream",
     "text": [
      "[CV 3/5] END imputer__strategy=most_frequent, svc__C=10, svc__class_weight=balanced, svc__kernel=linear, svc__max_iter=1000;, score=0.244 total time=   4.0s\n"
     ]
    },
    {
     "name": "stderr",
     "output_type": "stream",
     "text": [
      "/opt/conda/lib/python3.9/site-packages/sklearn/svm/_base.py:255: ConvergenceWarning: Solver terminated early (max_iter=1000).  Consider pre-processing your data with StandardScaler or MinMaxScaler.\n",
      "  warnings.warn('Solver terminated early (max_iter=%i).'\n"
     ]
    },
    {
     "name": "stdout",
     "output_type": "stream",
     "text": [
      "[CV 4/5] END imputer__strategy=most_frequent, svc__C=10, svc__class_weight=balanced, svc__kernel=linear, svc__max_iter=1000;, score=0.282 total time=   3.8s\n"
     ]
    },
    {
     "name": "stderr",
     "output_type": "stream",
     "text": [
      "/opt/conda/lib/python3.9/site-packages/sklearn/svm/_base.py:255: ConvergenceWarning: Solver terminated early (max_iter=1000).  Consider pre-processing your data with StandardScaler or MinMaxScaler.\n",
      "  warnings.warn('Solver terminated early (max_iter=%i).'\n"
     ]
    },
    {
     "name": "stdout",
     "output_type": "stream",
     "text": [
      "[CV 5/5] END imputer__strategy=most_frequent, svc__C=10, svc__class_weight=balanced, svc__kernel=linear, svc__max_iter=1000;, score=0.300 total time=   3.9s\n"
     ]
    },
    {
     "name": "stderr",
     "output_type": "stream",
     "text": [
      "/opt/conda/lib/python3.9/site-packages/sklearn/svm/_base.py:255: ConvergenceWarning: Solver terminated early (max_iter=10000).  Consider pre-processing your data with StandardScaler or MinMaxScaler.\n",
      "  warnings.warn('Solver terminated early (max_iter=%i).'\n"
     ]
    },
    {
     "name": "stdout",
     "output_type": "stream",
     "text": [
      "[CV 1/5] END imputer__strategy=most_frequent, svc__C=10, svc__class_weight=balanced, svc__kernel=linear, svc__max_iter=10000;, score=0.417 total time=  12.0s\n"
     ]
    },
    {
     "name": "stderr",
     "output_type": "stream",
     "text": [
      "/opt/conda/lib/python3.9/site-packages/sklearn/svm/_base.py:255: ConvergenceWarning: Solver terminated early (max_iter=10000).  Consider pre-processing your data with StandardScaler or MinMaxScaler.\n",
      "  warnings.warn('Solver terminated early (max_iter=%i).'\n"
     ]
    },
    {
     "name": "stdout",
     "output_type": "stream",
     "text": [
      "[CV 2/5] END imputer__strategy=most_frequent, svc__C=10, svc__class_weight=balanced, svc__kernel=linear, svc__max_iter=10000;, score=0.413 total time=  11.7s\n"
     ]
    },
    {
     "name": "stderr",
     "output_type": "stream",
     "text": [
      "/opt/conda/lib/python3.9/site-packages/sklearn/svm/_base.py:255: ConvergenceWarning: Solver terminated early (max_iter=10000).  Consider pre-processing your data with StandardScaler or MinMaxScaler.\n",
      "  warnings.warn('Solver terminated early (max_iter=%i).'\n"
     ]
    },
    {
     "name": "stdout",
     "output_type": "stream",
     "text": [
      "[CV 3/5] END imputer__strategy=most_frequent, svc__C=10, svc__class_weight=balanced, svc__kernel=linear, svc__max_iter=10000;, score=0.409 total time=  13.3s\n"
     ]
    },
    {
     "name": "stderr",
     "output_type": "stream",
     "text": [
      "/opt/conda/lib/python3.9/site-packages/sklearn/svm/_base.py:255: ConvergenceWarning: Solver terminated early (max_iter=10000).  Consider pre-processing your data with StandardScaler or MinMaxScaler.\n",
      "  warnings.warn('Solver terminated early (max_iter=%i).'\n"
     ]
    },
    {
     "name": "stdout",
     "output_type": "stream",
     "text": [
      "[CV 4/5] END imputer__strategy=most_frequent, svc__C=10, svc__class_weight=balanced, svc__kernel=linear, svc__max_iter=10000;, score=0.402 total time=  11.3s\n"
     ]
    },
    {
     "name": "stderr",
     "output_type": "stream",
     "text": [
      "/opt/conda/lib/python3.9/site-packages/sklearn/svm/_base.py:255: ConvergenceWarning: Solver terminated early (max_iter=10000).  Consider pre-processing your data with StandardScaler or MinMaxScaler.\n",
      "  warnings.warn('Solver terminated early (max_iter=%i).'\n"
     ]
    },
    {
     "name": "stdout",
     "output_type": "stream",
     "text": [
      "[CV 5/5] END imputer__strategy=most_frequent, svc__C=10, svc__class_weight=balanced, svc__kernel=linear, svc__max_iter=10000;, score=0.387 total time=  13.1s\n"
     ]
    },
    {
     "name": "stderr",
     "output_type": "stream",
     "text": [
      "/opt/conda/lib/python3.9/site-packages/sklearn/svm/_base.py:255: ConvergenceWarning: Solver terminated early (max_iter=1000).  Consider pre-processing your data with StandardScaler or MinMaxScaler.\n",
      "  warnings.warn('Solver terminated early (max_iter=%i).'\n"
     ]
    },
    {
     "name": "stdout",
     "output_type": "stream",
     "text": [
      "[CV 1/5] END imputer__strategy=most_frequent, svc__C=10, svc__class_weight=balanced, svc__kernel=rbf, svc__max_iter=1000;, score=0.381 total time=   8.0s\n"
     ]
    },
    {
     "name": "stderr",
     "output_type": "stream",
     "text": [
      "/opt/conda/lib/python3.9/site-packages/sklearn/svm/_base.py:255: ConvergenceWarning: Solver terminated early (max_iter=1000).  Consider pre-processing your data with StandardScaler or MinMaxScaler.\n",
      "  warnings.warn('Solver terminated early (max_iter=%i).'\n"
     ]
    },
    {
     "name": "stdout",
     "output_type": "stream",
     "text": [
      "[CV 2/5] END imputer__strategy=most_frequent, svc__C=10, svc__class_weight=balanced, svc__kernel=rbf, svc__max_iter=1000;, score=0.376 total time=   9.2s\n"
     ]
    },
    {
     "name": "stderr",
     "output_type": "stream",
     "text": [
      "/opt/conda/lib/python3.9/site-packages/sklearn/svm/_base.py:255: ConvergenceWarning: Solver terminated early (max_iter=1000).  Consider pre-processing your data with StandardScaler or MinMaxScaler.\n",
      "  warnings.warn('Solver terminated early (max_iter=%i).'\n"
     ]
    },
    {
     "name": "stdout",
     "output_type": "stream",
     "text": [
      "[CV 3/5] END imputer__strategy=most_frequent, svc__C=10, svc__class_weight=balanced, svc__kernel=rbf, svc__max_iter=1000;, score=0.382 total time=   9.5s\n"
     ]
    },
    {
     "name": "stderr",
     "output_type": "stream",
     "text": [
      "/opt/conda/lib/python3.9/site-packages/sklearn/svm/_base.py:255: ConvergenceWarning: Solver terminated early (max_iter=1000).  Consider pre-processing your data with StandardScaler or MinMaxScaler.\n",
      "  warnings.warn('Solver terminated early (max_iter=%i).'\n"
     ]
    },
    {
     "name": "stdout",
     "output_type": "stream",
     "text": [
      "[CV 4/5] END imputer__strategy=most_frequent, svc__C=10, svc__class_weight=balanced, svc__kernel=rbf, svc__max_iter=1000;, score=0.389 total time=   9.3s\n"
     ]
    },
    {
     "name": "stderr",
     "output_type": "stream",
     "text": [
      "/opt/conda/lib/python3.9/site-packages/sklearn/svm/_base.py:255: ConvergenceWarning: Solver terminated early (max_iter=1000).  Consider pre-processing your data with StandardScaler or MinMaxScaler.\n",
      "  warnings.warn('Solver terminated early (max_iter=%i).'\n"
     ]
    },
    {
     "name": "stdout",
     "output_type": "stream",
     "text": [
      "[CV 5/5] END imputer__strategy=most_frequent, svc__C=10, svc__class_weight=balanced, svc__kernel=rbf, svc__max_iter=1000;, score=0.381 total time=   9.6s\n"
     ]
    },
    {
     "name": "stderr",
     "output_type": "stream",
     "text": [
      "/opt/conda/lib/python3.9/site-packages/sklearn/svm/_base.py:255: ConvergenceWarning: Solver terminated early (max_iter=10000).  Consider pre-processing your data with StandardScaler or MinMaxScaler.\n",
      "  warnings.warn('Solver terminated early (max_iter=%i).'\n"
     ]
    },
    {
     "name": "stdout",
     "output_type": "stream",
     "text": [
      "[CV 1/5] END imputer__strategy=most_frequent, svc__C=10, svc__class_weight=balanced, svc__kernel=rbf, svc__max_iter=10000;, score=0.439 total time=  12.8s\n"
     ]
    },
    {
     "name": "stderr",
     "output_type": "stream",
     "text": [
      "/opt/conda/lib/python3.9/site-packages/sklearn/svm/_base.py:255: ConvergenceWarning: Solver terminated early (max_iter=10000).  Consider pre-processing your data with StandardScaler or MinMaxScaler.\n",
      "  warnings.warn('Solver terminated early (max_iter=%i).'\n"
     ]
    },
    {
     "name": "stdout",
     "output_type": "stream",
     "text": [
      "[CV 2/5] END imputer__strategy=most_frequent, svc__C=10, svc__class_weight=balanced, svc__kernel=rbf, svc__max_iter=10000;, score=0.454 total time=  12.7s\n"
     ]
    },
    {
     "name": "stderr",
     "output_type": "stream",
     "text": [
      "/opt/conda/lib/python3.9/site-packages/sklearn/svm/_base.py:255: ConvergenceWarning: Solver terminated early (max_iter=10000).  Consider pre-processing your data with StandardScaler or MinMaxScaler.\n",
      "  warnings.warn('Solver terminated early (max_iter=%i).'\n"
     ]
    },
    {
     "name": "stdout",
     "output_type": "stream",
     "text": [
      "[CV 3/5] END imputer__strategy=most_frequent, svc__C=10, svc__class_weight=balanced, svc__kernel=rbf, svc__max_iter=10000;, score=0.453 total time=  12.0s\n"
     ]
    },
    {
     "name": "stderr",
     "output_type": "stream",
     "text": [
      "/opt/conda/lib/python3.9/site-packages/sklearn/svm/_base.py:255: ConvergenceWarning: Solver terminated early (max_iter=10000).  Consider pre-processing your data with StandardScaler or MinMaxScaler.\n",
      "  warnings.warn('Solver terminated early (max_iter=%i).'\n"
     ]
    },
    {
     "name": "stdout",
     "output_type": "stream",
     "text": [
      "[CV 4/5] END imputer__strategy=most_frequent, svc__C=10, svc__class_weight=balanced, svc__kernel=rbf, svc__max_iter=10000;, score=0.458 total time=  15.6s\n"
     ]
    },
    {
     "name": "stderr",
     "output_type": "stream",
     "text": [
      "/opt/conda/lib/python3.9/site-packages/sklearn/svm/_base.py:255: ConvergenceWarning: Solver terminated early (max_iter=10000).  Consider pre-processing your data with StandardScaler or MinMaxScaler.\n",
      "  warnings.warn('Solver terminated early (max_iter=%i).'\n"
     ]
    },
    {
     "name": "stdout",
     "output_type": "stream",
     "text": [
      "[CV 5/5] END imputer__strategy=most_frequent, svc__C=10, svc__class_weight=balanced, svc__kernel=rbf, svc__max_iter=10000;, score=0.451 total time=  16.9s\n"
     ]
    },
    {
     "name": "stderr",
     "output_type": "stream",
     "text": [
      "/opt/conda/lib/python3.9/site-packages/sklearn/svm/_base.py:255: ConvergenceWarning: Solver terminated early (max_iter=1000).  Consider pre-processing your data with StandardScaler or MinMaxScaler.\n",
      "  warnings.warn('Solver terminated early (max_iter=%i).'\n"
     ]
    },
    {
     "name": "stdout",
     "output_type": "stream",
     "text": [
      "[CV 1/5] END imputer__strategy=most_frequent, svc__C=10, svc__class_weight=balanced, svc__kernel=poly, svc__max_iter=1000;, score=0.402 total time=   8.0s\n"
     ]
    },
    {
     "name": "stderr",
     "output_type": "stream",
     "text": [
      "/opt/conda/lib/python3.9/site-packages/sklearn/svm/_base.py:255: ConvergenceWarning: Solver terminated early (max_iter=1000).  Consider pre-processing your data with StandardScaler or MinMaxScaler.\n",
      "  warnings.warn('Solver terminated early (max_iter=%i).'\n"
     ]
    },
    {
     "name": "stdout",
     "output_type": "stream",
     "text": [
      "[CV 2/5] END imputer__strategy=most_frequent, svc__C=10, svc__class_weight=balanced, svc__kernel=poly, svc__max_iter=1000;, score=0.403 total time=   8.3s\n"
     ]
    },
    {
     "name": "stderr",
     "output_type": "stream",
     "text": [
      "/opt/conda/lib/python3.9/site-packages/sklearn/svm/_base.py:255: ConvergenceWarning: Solver terminated early (max_iter=1000).  Consider pre-processing your data with StandardScaler or MinMaxScaler.\n",
      "  warnings.warn('Solver terminated early (max_iter=%i).'\n"
     ]
    },
    {
     "name": "stdout",
     "output_type": "stream",
     "text": [
      "[CV 3/5] END imputer__strategy=most_frequent, svc__C=10, svc__class_weight=balanced, svc__kernel=poly, svc__max_iter=1000;, score=0.397 total time=   8.4s\n"
     ]
    },
    {
     "name": "stderr",
     "output_type": "stream",
     "text": [
      "/opt/conda/lib/python3.9/site-packages/sklearn/svm/_base.py:255: ConvergenceWarning: Solver terminated early (max_iter=1000).  Consider pre-processing your data with StandardScaler or MinMaxScaler.\n",
      "  warnings.warn('Solver terminated early (max_iter=%i).'\n"
     ]
    },
    {
     "name": "stdout",
     "output_type": "stream",
     "text": [
      "[CV 4/5] END imputer__strategy=most_frequent, svc__C=10, svc__class_weight=balanced, svc__kernel=poly, svc__max_iter=1000;, score=0.413 total time=   8.1s\n"
     ]
    },
    {
     "name": "stderr",
     "output_type": "stream",
     "text": [
      "/opt/conda/lib/python3.9/site-packages/sklearn/svm/_base.py:255: ConvergenceWarning: Solver terminated early (max_iter=1000).  Consider pre-processing your data with StandardScaler or MinMaxScaler.\n",
      "  warnings.warn('Solver terminated early (max_iter=%i).'\n"
     ]
    },
    {
     "name": "stdout",
     "output_type": "stream",
     "text": [
      "[CV 5/5] END imputer__strategy=most_frequent, svc__C=10, svc__class_weight=balanced, svc__kernel=poly, svc__max_iter=1000;, score=0.412 total time=   6.9s\n"
     ]
    },
    {
     "name": "stderr",
     "output_type": "stream",
     "text": [
      "/opt/conda/lib/python3.9/site-packages/sklearn/svm/_base.py:255: ConvergenceWarning: Solver terminated early (max_iter=10000).  Consider pre-processing your data with StandardScaler or MinMaxScaler.\n",
      "  warnings.warn('Solver terminated early (max_iter=%i).'\n"
     ]
    },
    {
     "name": "stdout",
     "output_type": "stream",
     "text": [
      "[CV 1/5] END imputer__strategy=most_frequent, svc__C=10, svc__class_weight=balanced, svc__kernel=poly, svc__max_iter=10000;, score=0.420 total time=  12.1s\n"
     ]
    },
    {
     "name": "stderr",
     "output_type": "stream",
     "text": [
      "/opt/conda/lib/python3.9/site-packages/sklearn/svm/_base.py:255: ConvergenceWarning: Solver terminated early (max_iter=10000).  Consider pre-processing your data with StandardScaler or MinMaxScaler.\n",
      "  warnings.warn('Solver terminated early (max_iter=%i).'\n"
     ]
    },
    {
     "name": "stdout",
     "output_type": "stream",
     "text": [
      "[CV 2/5] END imputer__strategy=most_frequent, svc__C=10, svc__class_weight=balanced, svc__kernel=poly, svc__max_iter=10000;, score=0.436 total time=  13.8s\n"
     ]
    },
    {
     "name": "stderr",
     "output_type": "stream",
     "text": [
      "/opt/conda/lib/python3.9/site-packages/sklearn/svm/_base.py:255: ConvergenceWarning: Solver terminated early (max_iter=10000).  Consider pre-processing your data with StandardScaler or MinMaxScaler.\n",
      "  warnings.warn('Solver terminated early (max_iter=%i).'\n"
     ]
    },
    {
     "name": "stdout",
     "output_type": "stream",
     "text": [
      "[CV 3/5] END imputer__strategy=most_frequent, svc__C=10, svc__class_weight=balanced, svc__kernel=poly, svc__max_iter=10000;, score=0.436 total time=  13.3s\n"
     ]
    },
    {
     "name": "stderr",
     "output_type": "stream",
     "text": [
      "/opt/conda/lib/python3.9/site-packages/sklearn/svm/_base.py:255: ConvergenceWarning: Solver terminated early (max_iter=10000).  Consider pre-processing your data with StandardScaler or MinMaxScaler.\n",
      "  warnings.warn('Solver terminated early (max_iter=%i).'\n"
     ]
    },
    {
     "name": "stdout",
     "output_type": "stream",
     "text": [
      "[CV 4/5] END imputer__strategy=most_frequent, svc__C=10, svc__class_weight=balanced, svc__kernel=poly, svc__max_iter=10000;, score=0.449 total time=  13.5s\n"
     ]
    },
    {
     "name": "stderr",
     "output_type": "stream",
     "text": [
      "/opt/conda/lib/python3.9/site-packages/sklearn/svm/_base.py:255: ConvergenceWarning: Solver terminated early (max_iter=10000).  Consider pre-processing your data with StandardScaler or MinMaxScaler.\n",
      "  warnings.warn('Solver terminated early (max_iter=%i).'\n"
     ]
    },
    {
     "name": "stdout",
     "output_type": "stream",
     "text": [
      "[CV 5/5] END imputer__strategy=most_frequent, svc__C=10, svc__class_weight=balanced, svc__kernel=poly, svc__max_iter=10000;, score=0.440 total time=  13.9s\n"
     ]
    },
    {
     "name": "stderr",
     "output_type": "stream",
     "text": [
      "/opt/conda/lib/python3.9/site-packages/sklearn/svm/_base.py:255: ConvergenceWarning: Solver terminated early (max_iter=1000).  Consider pre-processing your data with StandardScaler or MinMaxScaler.\n",
      "  warnings.warn('Solver terminated early (max_iter=%i).'\n"
     ]
    },
    {
     "name": "stdout",
     "output_type": "stream",
     "text": [
      "[CV 1/5] END imputer__strategy=most_frequent, svc__C=10, svc__class_weight=balanced, svc__kernel=sigmoid, svc__max_iter=1000;, score=0.293 total time=   8.5s\n"
     ]
    },
    {
     "name": "stderr",
     "output_type": "stream",
     "text": [
      "/opt/conda/lib/python3.9/site-packages/sklearn/svm/_base.py:255: ConvergenceWarning: Solver terminated early (max_iter=1000).  Consider pre-processing your data with StandardScaler or MinMaxScaler.\n",
      "  warnings.warn('Solver terminated early (max_iter=%i).'\n"
     ]
    },
    {
     "name": "stdout",
     "output_type": "stream",
     "text": [
      "[CV 2/5] END imputer__strategy=most_frequent, svc__C=10, svc__class_weight=balanced, svc__kernel=sigmoid, svc__max_iter=1000;, score=0.318 total time=   8.5s\n"
     ]
    },
    {
     "name": "stderr",
     "output_type": "stream",
     "text": [
      "/opt/conda/lib/python3.9/site-packages/sklearn/svm/_base.py:255: ConvergenceWarning: Solver terminated early (max_iter=1000).  Consider pre-processing your data with StandardScaler or MinMaxScaler.\n",
      "  warnings.warn('Solver terminated early (max_iter=%i).'\n"
     ]
    },
    {
     "name": "stdout",
     "output_type": "stream",
     "text": [
      "[CV 3/5] END imputer__strategy=most_frequent, svc__C=10, svc__class_weight=balanced, svc__kernel=sigmoid, svc__max_iter=1000;, score=0.304 total time=  10.2s\n"
     ]
    },
    {
     "name": "stderr",
     "output_type": "stream",
     "text": [
      "/opt/conda/lib/python3.9/site-packages/sklearn/svm/_base.py:255: ConvergenceWarning: Solver terminated early (max_iter=1000).  Consider pre-processing your data with StandardScaler or MinMaxScaler.\n",
      "  warnings.warn('Solver terminated early (max_iter=%i).'\n"
     ]
    },
    {
     "name": "stdout",
     "output_type": "stream",
     "text": [
      "[CV 4/5] END imputer__strategy=most_frequent, svc__C=10, svc__class_weight=balanced, svc__kernel=sigmoid, svc__max_iter=1000;, score=0.302 total time=   9.7s\n"
     ]
    },
    {
     "name": "stderr",
     "output_type": "stream",
     "text": [
      "/opt/conda/lib/python3.9/site-packages/sklearn/svm/_base.py:255: ConvergenceWarning: Solver terminated early (max_iter=1000).  Consider pre-processing your data with StandardScaler or MinMaxScaler.\n",
      "  warnings.warn('Solver terminated early (max_iter=%i).'\n"
     ]
    },
    {
     "name": "stdout",
     "output_type": "stream",
     "text": [
      "[CV 5/5] END imputer__strategy=most_frequent, svc__C=10, svc__class_weight=balanced, svc__kernel=sigmoid, svc__max_iter=1000;, score=0.328 total time=  10.1s\n",
      "[CV 1/5] END imputer__strategy=most_frequent, svc__C=10, svc__class_weight=balanced, svc__kernel=sigmoid, svc__max_iter=10000;, score=0.273 total time=  12.3s\n",
      "[CV 2/5] END imputer__strategy=most_frequent, svc__C=10, svc__class_weight=balanced, svc__kernel=sigmoid, svc__max_iter=10000;, score=0.305 total time=  11.0s\n",
      "[CV 3/5] END imputer__strategy=most_frequent, svc__C=10, svc__class_weight=balanced, svc__kernel=sigmoid, svc__max_iter=10000;, score=0.295 total time=  10.5s\n",
      "[CV 4/5] END imputer__strategy=most_frequent, svc__C=10, svc__class_weight=balanced, svc__kernel=sigmoid, svc__max_iter=10000;, score=0.288 total time=   9.8s\n",
      "[CV 5/5] END imputer__strategy=most_frequent, svc__C=10, svc__class_weight=balanced, svc__kernel=sigmoid, svc__max_iter=10000;, score=0.301 total time=  10.0s\n"
     ]
    },
    {
     "name": "stderr",
     "output_type": "stream",
     "text": [
      "/opt/conda/lib/python3.9/site-packages/sklearn/svm/_base.py:255: ConvergenceWarning: Solver terminated early (max_iter=10000).  Consider pre-processing your data with StandardScaler or MinMaxScaler.\n",
      "  warnings.warn('Solver terminated early (max_iter=%i).'\n"
     ]
    },
    {
     "data": {
      "text/plain": [
       "GridSearchCV(estimator=Pipeline(steps=[('imputer', SimpleImputer()),\n",
       "                                       ('svc', SVC())]),\n",
       "             param_grid={'imputer__strategy': ['mean', 'median',\n",
       "                                               'most_frequent'],\n",
       "                         'svc__C': [0.1, 1, 10],\n",
       "                         'svc__class_weight': [None, 'balanced'],\n",
       "                         'svc__kernel': ['linear', 'rbf', 'poly', 'sigmoid'],\n",
       "                         'svc__max_iter': [1000, 10000]},\n",
       "             verbose=3)"
      ]
     },
     "execution_count": 56,
     "metadata": {},
     "output_type": "execute_result"
    }
   ],
   "source": [
    "impute = SimpleImputer()\n",
    "svc = SVC()\n",
    "params = {'svc__C':[0.1, 1, 10],\n",
    "          'svc__kernel':['linear','rbf', 'poly','sigmoid'], \n",
    "          'svc__class_weight':[None,'balanced'],\n",
    "         'svc__max_iter':[1000,10000],\n",
    "         'imputer__strategy':['mean','median','most_frequent']}\n",
    "\n",
    "pipe = Pipeline(steps=[(\"imputer\", impute),(\"svc\", svc)])\n",
    "gs = GridSearchCV(pipe, param_grid = params, verbose = 3)\n",
    "gs.fit(X_train, y_train)"
   ]
  },
  {
   "cell_type": "code",
   "execution_count": 39,
   "id": "9245dbd1",
   "metadata": {},
   "outputs": [
    {
     "data": {
      "text/plain": [
       "dict_keys(['memory', 'steps', 'verbose', 'imputer', 'svc', 'imputer__add_indicator', 'imputer__copy', 'imputer__fill_value', 'imputer__missing_values', 'imputer__strategy', 'imputer__verbose', 'svc__C', 'svc__break_ties', 'svc__cache_size', 'svc__class_weight', 'svc__coef0', 'svc__decision_function_shape', 'svc__degree', 'svc__gamma', 'svc__kernel', 'svc__max_iter', 'svc__probability', 'svc__random_state', 'svc__shrinking', 'svc__tol', 'svc__verbose'])"
      ]
     },
     "execution_count": 39,
     "metadata": {},
     "output_type": "execute_result"
    }
   ],
   "source": [
    "pipe.get_params().keys()"
   ]
  },
  {
   "cell_type": "code",
   "execution_count": 57,
   "id": "7cebe489",
   "metadata": {},
   "outputs": [
    {
     "data": {
      "text/plain": [
       "{'imputer__strategy': 'mean',\n",
       " 'svc__C': 1,\n",
       " 'svc__class_weight': None,\n",
       " 'svc__kernel': 'rbf',\n",
       " 'svc__max_iter': 10000}"
      ]
     },
     "execution_count": 57,
     "metadata": {},
     "output_type": "execute_result"
    }
   ],
   "source": [
    "gs.best_params_"
   ]
  },
  {
   "cell_type": "code",
   "execution_count": 60,
   "id": "a8eed1df",
   "metadata": {},
   "outputs": [
    {
     "data": {
      "text/plain": [
       "{'mean_fit_time': array([ 6.69132223,  7.16528616,  8.39609385,  9.85753303,  7.49404831,\n",
       "         8.26010313, 11.37307105, 11.19217548,  4.32878261, 10.01980062,\n",
       "         9.32747955, 16.42494116,  7.7910933 , 15.45970054, 11.72566676,\n",
       "        21.81383238,  5.19254465, 10.89286675,  9.54411321, 12.09432549,\n",
       "         7.72902856,  9.92889266, 10.39648151, 11.10330791,  5.74291983,\n",
       "        12.68079705,  9.16629138, 14.8197763 ,  7.30301805, 12.6702147 ,\n",
       "         9.29218321, 14.30475106,  4.55680017, 14.87934504,  8.06858659,\n",
       "        13.4540946 ,  6.46462941, 11.38430247,  8.861409  ,  9.46999531,\n",
       "         4.40271749, 15.11758652,  8.20950637, 13.3766665 ,  6.14033637,\n",
       "        11.29496794,  7.17718668, 10.80822878,  5.78895979,  6.60356503,\n",
       "         8.04470539, 10.80353966,  7.43469725,  9.09756756, 11.27924972,\n",
       "        11.62431178,  4.31483679,  7.70802622,  7.16228623, 12.43616142,\n",
       "         5.44047561, 10.83474016,  9.49982538, 15.45726576,  3.80744433,\n",
       "         8.24768686,  8.40915961,  8.39406991,  5.35658441,  7.80393386,\n",
       "         6.89816766,  7.42687483,  3.58646593,  9.83176279,  7.88695383,\n",
       "        12.28619909,  6.13291397, 11.82002816,  8.76059027, 13.47610703,\n",
       "         4.24790387, 14.41836691,  7.87069712, 13.58952465,  6.44016013,\n",
       "        11.34892621,  9.10573831,  9.73959265,  4.50039897, 15.2661727 ,\n",
       "         8.25989337, 14.10773072,  6.2251719 , 11.8180078 ,  7.66205592,\n",
       "        11.06412868,  6.82017436,  7.29077897,  9.7110321 , 12.35093875,\n",
       "         8.88689914,  9.77643027, 11.39530568, 15.50664721,  5.65976868,\n",
       "         9.51281233,  7.21045451, 15.77268839,  5.2782146 , 12.30187325,\n",
       "         7.73159795, 13.83608241,  3.42583861,  7.52143178,  6.66805987,\n",
       "         8.60822721,  5.64190841,  7.42056689,  7.42299929,  8.02010856,\n",
       "         4.32552447,  9.06579518,  5.58022857,  9.02066116,  4.88090825,\n",
       "         8.00375872,  6.84799123,  9.74640341,  2.97953067, 10.552423  ,\n",
       "         5.5858099 ,  9.66625905,  4.47228613,  8.87856841,  6.20493221,\n",
       "         6.47774425,  2.86122665, 10.80810442,  6.66102862, 11.20279088,\n",
       "         6.08429523, 11.30748343,  7.01126885,  8.47799602]),\n",
       " 'std_fit_time': array([0.44807562, 0.94914938, 0.93868139, 0.69596901, 0.70799784,\n",
       "        0.61983802, 1.21200149, 0.26959806, 0.41743493, 0.34318002,\n",
       "        0.99128464, 0.40135821, 0.29050903, 0.33876724, 0.23208228,\n",
       "        0.26811205, 0.12998874, 0.16891777, 0.13417269, 0.5027324 ,\n",
       "        0.27995715, 0.21224539, 0.24272371, 0.08493448, 0.0378871 ,\n",
       "        0.09349987, 0.0854983 , 0.08667231, 0.06746845, 0.15032514,\n",
       "        0.0706502 , 0.31852328, 0.05930571, 0.20526286, 0.1373424 ,\n",
       "        0.07250392, 0.06200078, 0.1656928 , 0.13558955, 0.29701635,\n",
       "        0.13596386, 0.26797588, 0.16354677, 0.19067098, 0.24020024,\n",
       "        0.22782217, 0.14615744, 0.67447106, 0.51840715, 0.48984537,\n",
       "        0.60468714, 1.01733058, 0.47295312, 0.53492123, 1.57030631,\n",
       "        0.68374785, 0.42204396, 0.92571232, 0.85474623, 0.75570215,\n",
       "        0.3716354 , 0.62940708, 1.05137508, 1.61151994, 0.32401178,\n",
       "        1.4323313 , 1.25796348, 0.9213928 , 0.47839595, 0.57113021,\n",
       "        0.05951753, 0.18691571, 0.06174569, 1.61208136, 0.59229227,\n",
       "        1.51253052, 0.6618932 , 0.59478317, 0.10068739, 0.05384546,\n",
       "        0.35622564, 0.17618837, 0.43421555, 0.1322048 , 0.1132602 ,\n",
       "        0.10339044, 0.10852681, 0.28534436, 0.03818972, 0.44121718,\n",
       "        0.12601572, 0.13864847, 0.48453109, 0.21256482, 0.22759343,\n",
       "        0.35483352, 0.06072393, 0.81166308, 0.99721552, 1.39837748,\n",
       "        0.20208751, 1.09339555, 0.67396102, 0.40870497, 0.08453039,\n",
       "        0.63823558, 0.15407041, 0.65165836, 0.23627508, 0.65168746,\n",
       "        0.24131517, 0.23768643, 0.0282898 , 0.5581586 , 1.09521275,\n",
       "        1.19878713, 0.46886202, 0.43764002, 0.62874381, 0.64263948,\n",
       "        0.58919806, 0.57901531, 0.12884038, 0.17610263, 0.32744906,\n",
       "        0.63474452, 0.53800446, 0.45577286, 0.17352604, 0.64104899,\n",
       "        0.41653771, 1.09020445, 0.4466045 , 0.80803626, 0.20299524,\n",
       "        0.10036762, 0.04508371, 0.83169365, 0.39814705, 1.53523941,\n",
       "        0.36712351, 0.65734952, 0.5770989 , 0.80742425]),\n",
       " 'mean_score_time': array([1.92487617, 1.61371574, 3.03290019, 2.61809673, 1.75766001,\n",
       "        1.62190466, 3.12864857, 2.49843974, 1.39036427, 1.73660369,\n",
       "        3.01752048, 3.00944972, 1.67052794, 2.21246028, 3.50028687,\n",
       "        3.65613775, 1.68901501, 1.93706241, 3.02757859, 3.20954871,\n",
       "        1.98342915, 2.06800976, 2.9536849 , 3.04293914, 1.88421373,\n",
       "        2.00139637, 3.34724493, 3.56912794, 2.03153048, 2.27856059,\n",
       "        3.04026966, 3.24978752, 1.70751996, 2.01212902, 3.15477786,\n",
       "        3.28241539, 2.01056972, 2.12909923, 2.79606514, 2.83652258,\n",
       "        1.58066292, 2.08774643, 3.040661  , 3.12502456, 1.88320689,\n",
       "        2.04103751, 2.51705799, 2.87648506, 1.89746118, 1.46260071,\n",
       "        2.72968678, 2.80644217, 1.84074526, 1.78330727, 2.80765948,\n",
       "        3.09517617, 1.57806935, 1.36867056, 2.76128454, 2.3087471 ,\n",
       "        1.83229775, 1.43285174, 3.14899235, 2.59394898, 1.49226823,\n",
       "        1.64338164, 2.75326848, 2.41803513, 1.47943511, 1.67426515,\n",
       "        2.15083447, 2.15291557, 1.20395293, 1.63363461, 3.13187299,\n",
       "        2.77341766, 1.76635385, 2.13578849, 2.79212289, 3.05977354,\n",
       "        1.58557429, 2.02677236, 3.15023394, 3.34115963, 2.0229332 ,\n",
       "        2.07306633, 2.83284292, 2.80313721, 1.64738178, 2.0548048 ,\n",
       "        3.13950219, 3.26722851, 1.95123906, 2.06969028, 2.56323676,\n",
       "        2.85744333, 1.87863483, 1.69167323, 3.05673776, 2.93752785,\n",
       "        2.06288981, 1.95749178, 3.00045023, 3.36294928, 1.71652341,\n",
       "        1.73916521, 2.38158846, 3.0486052 , 1.23999424, 1.80649529,\n",
       "        2.36706061, 2.49002814, 1.19364781, 1.32023544, 2.18208532,\n",
       "        2.50899096, 1.59359055, 1.70900397, 2.24265575, 2.21104159,\n",
       "        1.41041107, 1.33517184, 2.40908785, 2.16237326, 1.48483415,\n",
       "        1.39449878, 2.44222341, 2.34734988, 1.35237808, 1.63183913,\n",
       "        2.15257335, 2.37135715, 1.4258213 , 1.56760817, 1.99497371,\n",
       "        2.01265464, 1.06360149, 1.47263656, 2.48158097, 2.82703319,\n",
       "        1.85015302, 2.01733952, 2.40540509, 2.23892422]),\n",
       " 'std_score_time': array([0.23801374, 0.31921674, 0.22903957, 0.25191757, 0.0947131 ,\n",
       "        0.17529088, 0.27194833, 0.00486762, 0.2184076 , 0.12400775,\n",
       "        0.11532233, 0.26713748, 0.081519  , 0.06804282, 0.09175678,\n",
       "        0.05711891, 0.07668397, 0.1656178 , 0.10332836, 0.12271857,\n",
       "        0.15561545, 0.08059027, 0.06379153, 0.04313128, 0.02394491,\n",
       "        0.02461866, 0.03749827, 0.03667579, 0.06783494, 0.04671382,\n",
       "        0.07190597, 0.08596899, 0.06352495, 0.08086672, 0.11617334,\n",
       "        0.08475198, 0.05257442, 0.05377412, 0.09532602, 0.14373023,\n",
       "        0.06611745, 0.03483007, 0.09921472, 0.08432688, 0.08764421,\n",
       "        0.17782088, 0.09637716, 0.30782645, 0.31776481, 0.15602067,\n",
       "        0.17954502, 0.19662693, 0.19531692, 0.11844533, 0.27981047,\n",
       "        0.51356478, 0.19551188, 0.15791483, 0.27638198, 0.14171622,\n",
       "        0.16301054, 0.00196736, 0.30538494, 0.15536589, 0.4087112 ,\n",
       "        0.22768164, 0.42779053, 0.270918  , 0.17061255, 0.14021127,\n",
       "        0.10880466, 0.04385318, 0.04650503, 0.29681115, 0.07751052,\n",
       "        0.38070708, 0.25744119, 0.10236784, 0.12254732, 0.06711144,\n",
       "        0.02451922, 0.05761973, 0.07317661, 0.04275596, 0.07636409,\n",
       "        0.0567581 , 0.02294208, 0.07988259, 0.05332599, 0.05586157,\n",
       "        0.04614758, 0.14888343, 0.05891103, 0.0236032 , 0.06342923,\n",
       "        0.05180568, 0.07537174, 0.18948478, 0.08959711, 0.20908675,\n",
       "        0.02954562, 0.22796062, 0.15750731, 0.18163512, 0.03190996,\n",
       "        0.06211895, 0.02286958, 0.11836629, 0.01544437, 0.01762908,\n",
       "        0.01145817, 0.01022887, 0.12205822, 0.13269076, 0.08991536,\n",
       "        0.2706039 , 0.13900439, 0.16216562, 0.21904621, 0.10108349,\n",
       "        0.1785059 , 0.0896722 , 0.23984889, 0.00800885, 0.1556372 ,\n",
       "        0.02121025, 0.25621072, 0.17306031, 0.22518642, 0.12160968,\n",
       "        0.06015201, 0.25563167, 0.15641785, 0.16684771, 0.02146247,\n",
       "        0.02230066, 0.00860529, 0.11220813, 0.20442744, 0.40747592,\n",
       "        0.17157602, 0.1454169 , 0.17511512, 0.12867856]),\n",
       " 'param_imputer__strategy': masked_array(data=['mean', 'mean', 'mean', 'mean', 'mean', 'mean', 'mean',\n",
       "                    'mean', 'mean', 'mean', 'mean', 'mean', 'mean', 'mean',\n",
       "                    'mean', 'mean', 'mean', 'mean', 'mean', 'mean', 'mean',\n",
       "                    'mean', 'mean', 'mean', 'mean', 'mean', 'mean', 'mean',\n",
       "                    'mean', 'mean', 'mean', 'mean', 'mean', 'mean', 'mean',\n",
       "                    'mean', 'mean', 'mean', 'mean', 'mean', 'mean', 'mean',\n",
       "                    'mean', 'mean', 'mean', 'mean', 'mean', 'mean',\n",
       "                    'median', 'median', 'median', 'median', 'median',\n",
       "                    'median', 'median', 'median', 'median', 'median',\n",
       "                    'median', 'median', 'median', 'median', 'median',\n",
       "                    'median', 'median', 'median', 'median', 'median',\n",
       "                    'median', 'median', 'median', 'median', 'median',\n",
       "                    'median', 'median', 'median', 'median', 'median',\n",
       "                    'median', 'median', 'median', 'median', 'median',\n",
       "                    'median', 'median', 'median', 'median', 'median',\n",
       "                    'median', 'median', 'median', 'median', 'median',\n",
       "                    'median', 'median', 'median', 'most_frequent',\n",
       "                    'most_frequent', 'most_frequent', 'most_frequent',\n",
       "                    'most_frequent', 'most_frequent', 'most_frequent',\n",
       "                    'most_frequent', 'most_frequent', 'most_frequent',\n",
       "                    'most_frequent', 'most_frequent', 'most_frequent',\n",
       "                    'most_frequent', 'most_frequent', 'most_frequent',\n",
       "                    'most_frequent', 'most_frequent', 'most_frequent',\n",
       "                    'most_frequent', 'most_frequent', 'most_frequent',\n",
       "                    'most_frequent', 'most_frequent', 'most_frequent',\n",
       "                    'most_frequent', 'most_frequent', 'most_frequent',\n",
       "                    'most_frequent', 'most_frequent', 'most_frequent',\n",
       "                    'most_frequent', 'most_frequent', 'most_frequent',\n",
       "                    'most_frequent', 'most_frequent', 'most_frequent',\n",
       "                    'most_frequent', 'most_frequent', 'most_frequent',\n",
       "                    'most_frequent', 'most_frequent', 'most_frequent',\n",
       "                    'most_frequent', 'most_frequent', 'most_frequent',\n",
       "                    'most_frequent', 'most_frequent'],\n",
       "              mask=[False, False, False, False, False, False, False, False,\n",
       "                    False, False, False, False, False, False, False, False,\n",
       "                    False, False, False, False, False, False, False, False,\n",
       "                    False, False, False, False, False, False, False, False,\n",
       "                    False, False, False, False, False, False, False, False,\n",
       "                    False, False, False, False, False, False, False, False,\n",
       "                    False, False, False, False, False, False, False, False,\n",
       "                    False, False, False, False, False, False, False, False,\n",
       "                    False, False, False, False, False, False, False, False,\n",
       "                    False, False, False, False, False, False, False, False,\n",
       "                    False, False, False, False, False, False, False, False,\n",
       "                    False, False, False, False, False, False, False, False,\n",
       "                    False, False, False, False, False, False, False, False,\n",
       "                    False, False, False, False, False, False, False, False,\n",
       "                    False, False, False, False, False, False, False, False,\n",
       "                    False, False, False, False, False, False, False, False,\n",
       "                    False, False, False, False, False, False, False, False,\n",
       "                    False, False, False, False, False, False, False, False],\n",
       "        fill_value='?',\n",
       "             dtype=object),\n",
       " 'param_svc__C': masked_array(data=[0.1, 0.1, 0.1, 0.1, 0.1, 0.1, 0.1, 0.1, 0.1, 0.1, 0.1,\n",
       "                    0.1, 0.1, 0.1, 0.1, 0.1, 1, 1, 1, 1, 1, 1, 1, 1, 1, 1,\n",
       "                    1, 1, 1, 1, 1, 1, 10, 10, 10, 10, 10, 10, 10, 10, 10,\n",
       "                    10, 10, 10, 10, 10, 10, 10, 0.1, 0.1, 0.1, 0.1, 0.1,\n",
       "                    0.1, 0.1, 0.1, 0.1, 0.1, 0.1, 0.1, 0.1, 0.1, 0.1, 0.1,\n",
       "                    1, 1, 1, 1, 1, 1, 1, 1, 1, 1, 1, 1, 1, 1, 1, 1, 10, 10,\n",
       "                    10, 10, 10, 10, 10, 10, 10, 10, 10, 10, 10, 10, 10, 10,\n",
       "                    0.1, 0.1, 0.1, 0.1, 0.1, 0.1, 0.1, 0.1, 0.1, 0.1, 0.1,\n",
       "                    0.1, 0.1, 0.1, 0.1, 0.1, 1, 1, 1, 1, 1, 1, 1, 1, 1, 1,\n",
       "                    1, 1, 1, 1, 1, 1, 10, 10, 10, 10, 10, 10, 10, 10, 10,\n",
       "                    10, 10, 10, 10, 10, 10, 10],\n",
       "              mask=[False, False, False, False, False, False, False, False,\n",
       "                    False, False, False, False, False, False, False, False,\n",
       "                    False, False, False, False, False, False, False, False,\n",
       "                    False, False, False, False, False, False, False, False,\n",
       "                    False, False, False, False, False, False, False, False,\n",
       "                    False, False, False, False, False, False, False, False,\n",
       "                    False, False, False, False, False, False, False, False,\n",
       "                    False, False, False, False, False, False, False, False,\n",
       "                    False, False, False, False, False, False, False, False,\n",
       "                    False, False, False, False, False, False, False, False,\n",
       "                    False, False, False, False, False, False, False, False,\n",
       "                    False, False, False, False, False, False, False, False,\n",
       "                    False, False, False, False, False, False, False, False,\n",
       "                    False, False, False, False, False, False, False, False,\n",
       "                    False, False, False, False, False, False, False, False,\n",
       "                    False, False, False, False, False, False, False, False,\n",
       "                    False, False, False, False, False, False, False, False,\n",
       "                    False, False, False, False, False, False, False, False],\n",
       "        fill_value='?',\n",
       "             dtype=object),\n",
       " 'param_svc__class_weight': masked_array(data=[None, None, None, None, None, None, None, None,\n",
       "                    'balanced', 'balanced', 'balanced', 'balanced',\n",
       "                    'balanced', 'balanced', 'balanced', 'balanced', None,\n",
       "                    None, None, None, None, None, None, None, 'balanced',\n",
       "                    'balanced', 'balanced', 'balanced', 'balanced',\n",
       "                    'balanced', 'balanced', 'balanced', None, None, None,\n",
       "                    None, None, None, None, None, 'balanced', 'balanced',\n",
       "                    'balanced', 'balanced', 'balanced', 'balanced',\n",
       "                    'balanced', 'balanced', None, None, None, None, None,\n",
       "                    None, None, None, 'balanced', 'balanced', 'balanced',\n",
       "                    'balanced', 'balanced', 'balanced', 'balanced',\n",
       "                    'balanced', None, None, None, None, None, None, None,\n",
       "                    None, 'balanced', 'balanced', 'balanced', 'balanced',\n",
       "                    'balanced', 'balanced', 'balanced', 'balanced', None,\n",
       "                    None, None, None, None, None, None, None, 'balanced',\n",
       "                    'balanced', 'balanced', 'balanced', 'balanced',\n",
       "                    'balanced', 'balanced', 'balanced', None, None, None,\n",
       "                    None, None, None, None, None, 'balanced', 'balanced',\n",
       "                    'balanced', 'balanced', 'balanced', 'balanced',\n",
       "                    'balanced', 'balanced', None, None, None, None, None,\n",
       "                    None, None, None, 'balanced', 'balanced', 'balanced',\n",
       "                    'balanced', 'balanced', 'balanced', 'balanced',\n",
       "                    'balanced', None, None, None, None, None, None, None,\n",
       "                    None, 'balanced', 'balanced', 'balanced', 'balanced',\n",
       "                    'balanced', 'balanced', 'balanced', 'balanced'],\n",
       "              mask=[False, False, False, False, False, False, False, False,\n",
       "                    False, False, False, False, False, False, False, False,\n",
       "                    False, False, False, False, False, False, False, False,\n",
       "                    False, False, False, False, False, False, False, False,\n",
       "                    False, False, False, False, False, False, False, False,\n",
       "                    False, False, False, False, False, False, False, False,\n",
       "                    False, False, False, False, False, False, False, False,\n",
       "                    False, False, False, False, False, False, False, False,\n",
       "                    False, False, False, False, False, False, False, False,\n",
       "                    False, False, False, False, False, False, False, False,\n",
       "                    False, False, False, False, False, False, False, False,\n",
       "                    False, False, False, False, False, False, False, False,\n",
       "                    False, False, False, False, False, False, False, False,\n",
       "                    False, False, False, False, False, False, False, False,\n",
       "                    False, False, False, False, False, False, False, False,\n",
       "                    False, False, False, False, False, False, False, False,\n",
       "                    False, False, False, False, False, False, False, False,\n",
       "                    False, False, False, False, False, False, False, False],\n",
       "        fill_value='?',\n",
       "             dtype=object),\n",
       " 'param_svc__kernel': masked_array(data=['linear', 'linear', 'rbf', 'rbf', 'poly', 'poly',\n",
       "                    'sigmoid', 'sigmoid', 'linear', 'linear', 'rbf', 'rbf',\n",
       "                    'poly', 'poly', 'sigmoid', 'sigmoid', 'linear',\n",
       "                    'linear', 'rbf', 'rbf', 'poly', 'poly', 'sigmoid',\n",
       "                    'sigmoid', 'linear', 'linear', 'rbf', 'rbf', 'poly',\n",
       "                    'poly', 'sigmoid', 'sigmoid', 'linear', 'linear',\n",
       "                    'rbf', 'rbf', 'poly', 'poly', 'sigmoid', 'sigmoid',\n",
       "                    'linear', 'linear', 'rbf', 'rbf', 'poly', 'poly',\n",
       "                    'sigmoid', 'sigmoid', 'linear', 'linear', 'rbf', 'rbf',\n",
       "                    'poly', 'poly', 'sigmoid', 'sigmoid', 'linear',\n",
       "                    'linear', 'rbf', 'rbf', 'poly', 'poly', 'sigmoid',\n",
       "                    'sigmoid', 'linear', 'linear', 'rbf', 'rbf', 'poly',\n",
       "                    'poly', 'sigmoid', 'sigmoid', 'linear', 'linear',\n",
       "                    'rbf', 'rbf', 'poly', 'poly', 'sigmoid', 'sigmoid',\n",
       "                    'linear', 'linear', 'rbf', 'rbf', 'poly', 'poly',\n",
       "                    'sigmoid', 'sigmoid', 'linear', 'linear', 'rbf', 'rbf',\n",
       "                    'poly', 'poly', 'sigmoid', 'sigmoid', 'linear',\n",
       "                    'linear', 'rbf', 'rbf', 'poly', 'poly', 'sigmoid',\n",
       "                    'sigmoid', 'linear', 'linear', 'rbf', 'rbf', 'poly',\n",
       "                    'poly', 'sigmoid', 'sigmoid', 'linear', 'linear',\n",
       "                    'rbf', 'rbf', 'poly', 'poly', 'sigmoid', 'sigmoid',\n",
       "                    'linear', 'linear', 'rbf', 'rbf', 'poly', 'poly',\n",
       "                    'sigmoid', 'sigmoid', 'linear', 'linear', 'rbf', 'rbf',\n",
       "                    'poly', 'poly', 'sigmoid', 'sigmoid', 'linear',\n",
       "                    'linear', 'rbf', 'rbf', 'poly', 'poly', 'sigmoid',\n",
       "                    'sigmoid'],\n",
       "              mask=[False, False, False, False, False, False, False, False,\n",
       "                    False, False, False, False, False, False, False, False,\n",
       "                    False, False, False, False, False, False, False, False,\n",
       "                    False, False, False, False, False, False, False, False,\n",
       "                    False, False, False, False, False, False, False, False,\n",
       "                    False, False, False, False, False, False, False, False,\n",
       "                    False, False, False, False, False, False, False, False,\n",
       "                    False, False, False, False, False, False, False, False,\n",
       "                    False, False, False, False, False, False, False, False,\n",
       "                    False, False, False, False, False, False, False, False,\n",
       "                    False, False, False, False, False, False, False, False,\n",
       "                    False, False, False, False, False, False, False, False,\n",
       "                    False, False, False, False, False, False, False, False,\n",
       "                    False, False, False, False, False, False, False, False,\n",
       "                    False, False, False, False, False, False, False, False,\n",
       "                    False, False, False, False, False, False, False, False,\n",
       "                    False, False, False, False, False, False, False, False,\n",
       "                    False, False, False, False, False, False, False, False],\n",
       "        fill_value='?',\n",
       "             dtype=object),\n",
       " 'param_svc__max_iter': masked_array(data=[1000, 10000, 1000, 10000, 1000, 10000, 1000, 10000,\n",
       "                    1000, 10000, 1000, 10000, 1000, 10000, 1000, 10000,\n",
       "                    1000, 10000, 1000, 10000, 1000, 10000, 1000, 10000,\n",
       "                    1000, 10000, 1000, 10000, 1000, 10000, 1000, 10000,\n",
       "                    1000, 10000, 1000, 10000, 1000, 10000, 1000, 10000,\n",
       "                    1000, 10000, 1000, 10000, 1000, 10000, 1000, 10000,\n",
       "                    1000, 10000, 1000, 10000, 1000, 10000, 1000, 10000,\n",
       "                    1000, 10000, 1000, 10000, 1000, 10000, 1000, 10000,\n",
       "                    1000, 10000, 1000, 10000, 1000, 10000, 1000, 10000,\n",
       "                    1000, 10000, 1000, 10000, 1000, 10000, 1000, 10000,\n",
       "                    1000, 10000, 1000, 10000, 1000, 10000, 1000, 10000,\n",
       "                    1000, 10000, 1000, 10000, 1000, 10000, 1000, 10000,\n",
       "                    1000, 10000, 1000, 10000, 1000, 10000, 1000, 10000,\n",
       "                    1000, 10000, 1000, 10000, 1000, 10000, 1000, 10000,\n",
       "                    1000, 10000, 1000, 10000, 1000, 10000, 1000, 10000,\n",
       "                    1000, 10000, 1000, 10000, 1000, 10000, 1000, 10000,\n",
       "                    1000, 10000, 1000, 10000, 1000, 10000, 1000, 10000,\n",
       "                    1000, 10000, 1000, 10000, 1000, 10000, 1000, 10000],\n",
       "              mask=[False, False, False, False, False, False, False, False,\n",
       "                    False, False, False, False, False, False, False, False,\n",
       "                    False, False, False, False, False, False, False, False,\n",
       "                    False, False, False, False, False, False, False, False,\n",
       "                    False, False, False, False, False, False, False, False,\n",
       "                    False, False, False, False, False, False, False, False,\n",
       "                    False, False, False, False, False, False, False, False,\n",
       "                    False, False, False, False, False, False, False, False,\n",
       "                    False, False, False, False, False, False, False, False,\n",
       "                    False, False, False, False, False, False, False, False,\n",
       "                    False, False, False, False, False, False, False, False,\n",
       "                    False, False, False, False, False, False, False, False,\n",
       "                    False, False, False, False, False, False, False, False,\n",
       "                    False, False, False, False, False, False, False, False,\n",
       "                    False, False, False, False, False, False, False, False,\n",
       "                    False, False, False, False, False, False, False, False,\n",
       "                    False, False, False, False, False, False, False, False,\n",
       "                    False, False, False, False, False, False, False, False],\n",
       "        fill_value='?',\n",
       "             dtype=object),\n",
       " 'params': [{'imputer__strategy': 'mean',\n",
       "   'svc__C': 0.1,\n",
       "   'svc__class_weight': None,\n",
       "   'svc__kernel': 'linear',\n",
       "   'svc__max_iter': 1000},\n",
       "  {'imputer__strategy': 'mean',\n",
       "   'svc__C': 0.1,\n",
       "   'svc__class_weight': None,\n",
       "   'svc__kernel': 'linear',\n",
       "   'svc__max_iter': 10000},\n",
       "  {'imputer__strategy': 'mean',\n",
       "   'svc__C': 0.1,\n",
       "   'svc__class_weight': None,\n",
       "   'svc__kernel': 'rbf',\n",
       "   'svc__max_iter': 1000},\n",
       "  {'imputer__strategy': 'mean',\n",
       "   'svc__C': 0.1,\n",
       "   'svc__class_weight': None,\n",
       "   'svc__kernel': 'rbf',\n",
       "   'svc__max_iter': 10000},\n",
       "  {'imputer__strategy': 'mean',\n",
       "   'svc__C': 0.1,\n",
       "   'svc__class_weight': None,\n",
       "   'svc__kernel': 'poly',\n",
       "   'svc__max_iter': 1000},\n",
       "  {'imputer__strategy': 'mean',\n",
       "   'svc__C': 0.1,\n",
       "   'svc__class_weight': None,\n",
       "   'svc__kernel': 'poly',\n",
       "   'svc__max_iter': 10000},\n",
       "  {'imputer__strategy': 'mean',\n",
       "   'svc__C': 0.1,\n",
       "   'svc__class_weight': None,\n",
       "   'svc__kernel': 'sigmoid',\n",
       "   'svc__max_iter': 1000},\n",
       "  {'imputer__strategy': 'mean',\n",
       "   'svc__C': 0.1,\n",
       "   'svc__class_weight': None,\n",
       "   'svc__kernel': 'sigmoid',\n",
       "   'svc__max_iter': 10000},\n",
       "  {'imputer__strategy': 'mean',\n",
       "   'svc__C': 0.1,\n",
       "   'svc__class_weight': 'balanced',\n",
       "   'svc__kernel': 'linear',\n",
       "   'svc__max_iter': 1000},\n",
       "  {'imputer__strategy': 'mean',\n",
       "   'svc__C': 0.1,\n",
       "   'svc__class_weight': 'balanced',\n",
       "   'svc__kernel': 'linear',\n",
       "   'svc__max_iter': 10000},\n",
       "  {'imputer__strategy': 'mean',\n",
       "   'svc__C': 0.1,\n",
       "   'svc__class_weight': 'balanced',\n",
       "   'svc__kernel': 'rbf',\n",
       "   'svc__max_iter': 1000},\n",
       "  {'imputer__strategy': 'mean',\n",
       "   'svc__C': 0.1,\n",
       "   'svc__class_weight': 'balanced',\n",
       "   'svc__kernel': 'rbf',\n",
       "   'svc__max_iter': 10000},\n",
       "  {'imputer__strategy': 'mean',\n",
       "   'svc__C': 0.1,\n",
       "   'svc__class_weight': 'balanced',\n",
       "   'svc__kernel': 'poly',\n",
       "   'svc__max_iter': 1000},\n",
       "  {'imputer__strategy': 'mean',\n",
       "   'svc__C': 0.1,\n",
       "   'svc__class_weight': 'balanced',\n",
       "   'svc__kernel': 'poly',\n",
       "   'svc__max_iter': 10000},\n",
       "  {'imputer__strategy': 'mean',\n",
       "   'svc__C': 0.1,\n",
       "   'svc__class_weight': 'balanced',\n",
       "   'svc__kernel': 'sigmoid',\n",
       "   'svc__max_iter': 1000},\n",
       "  {'imputer__strategy': 'mean',\n",
       "   'svc__C': 0.1,\n",
       "   'svc__class_weight': 'balanced',\n",
       "   'svc__kernel': 'sigmoid',\n",
       "   'svc__max_iter': 10000},\n",
       "  {'imputer__strategy': 'mean',\n",
       "   'svc__C': 1,\n",
       "   'svc__class_weight': None,\n",
       "   'svc__kernel': 'linear',\n",
       "   'svc__max_iter': 1000},\n",
       "  {'imputer__strategy': 'mean',\n",
       "   'svc__C': 1,\n",
       "   'svc__class_weight': None,\n",
       "   'svc__kernel': 'linear',\n",
       "   'svc__max_iter': 10000},\n",
       "  {'imputer__strategy': 'mean',\n",
       "   'svc__C': 1,\n",
       "   'svc__class_weight': None,\n",
       "   'svc__kernel': 'rbf',\n",
       "   'svc__max_iter': 1000},\n",
       "  {'imputer__strategy': 'mean',\n",
       "   'svc__C': 1,\n",
       "   'svc__class_weight': None,\n",
       "   'svc__kernel': 'rbf',\n",
       "   'svc__max_iter': 10000},\n",
       "  {'imputer__strategy': 'mean',\n",
       "   'svc__C': 1,\n",
       "   'svc__class_weight': None,\n",
       "   'svc__kernel': 'poly',\n",
       "   'svc__max_iter': 1000},\n",
       "  {'imputer__strategy': 'mean',\n",
       "   'svc__C': 1,\n",
       "   'svc__class_weight': None,\n",
       "   'svc__kernel': 'poly',\n",
       "   'svc__max_iter': 10000},\n",
       "  {'imputer__strategy': 'mean',\n",
       "   'svc__C': 1,\n",
       "   'svc__class_weight': None,\n",
       "   'svc__kernel': 'sigmoid',\n",
       "   'svc__max_iter': 1000},\n",
       "  {'imputer__strategy': 'mean',\n",
       "   'svc__C': 1,\n",
       "   'svc__class_weight': None,\n",
       "   'svc__kernel': 'sigmoid',\n",
       "   'svc__max_iter': 10000},\n",
       "  {'imputer__strategy': 'mean',\n",
       "   'svc__C': 1,\n",
       "   'svc__class_weight': 'balanced',\n",
       "   'svc__kernel': 'linear',\n",
       "   'svc__max_iter': 1000},\n",
       "  {'imputer__strategy': 'mean',\n",
       "   'svc__C': 1,\n",
       "   'svc__class_weight': 'balanced',\n",
       "   'svc__kernel': 'linear',\n",
       "   'svc__max_iter': 10000},\n",
       "  {'imputer__strategy': 'mean',\n",
       "   'svc__C': 1,\n",
       "   'svc__class_weight': 'balanced',\n",
       "   'svc__kernel': 'rbf',\n",
       "   'svc__max_iter': 1000},\n",
       "  {'imputer__strategy': 'mean',\n",
       "   'svc__C': 1,\n",
       "   'svc__class_weight': 'balanced',\n",
       "   'svc__kernel': 'rbf',\n",
       "   'svc__max_iter': 10000},\n",
       "  {'imputer__strategy': 'mean',\n",
       "   'svc__C': 1,\n",
       "   'svc__class_weight': 'balanced',\n",
       "   'svc__kernel': 'poly',\n",
       "   'svc__max_iter': 1000},\n",
       "  {'imputer__strategy': 'mean',\n",
       "   'svc__C': 1,\n",
       "   'svc__class_weight': 'balanced',\n",
       "   'svc__kernel': 'poly',\n",
       "   'svc__max_iter': 10000},\n",
       "  {'imputer__strategy': 'mean',\n",
       "   'svc__C': 1,\n",
       "   'svc__class_weight': 'balanced',\n",
       "   'svc__kernel': 'sigmoid',\n",
       "   'svc__max_iter': 1000},\n",
       "  {'imputer__strategy': 'mean',\n",
       "   'svc__C': 1,\n",
       "   'svc__class_weight': 'balanced',\n",
       "   'svc__kernel': 'sigmoid',\n",
       "   'svc__max_iter': 10000},\n",
       "  {'imputer__strategy': 'mean',\n",
       "   'svc__C': 10,\n",
       "   'svc__class_weight': None,\n",
       "   'svc__kernel': 'linear',\n",
       "   'svc__max_iter': 1000},\n",
       "  {'imputer__strategy': 'mean',\n",
       "   'svc__C': 10,\n",
       "   'svc__class_weight': None,\n",
       "   'svc__kernel': 'linear',\n",
       "   'svc__max_iter': 10000},\n",
       "  {'imputer__strategy': 'mean',\n",
       "   'svc__C': 10,\n",
       "   'svc__class_weight': None,\n",
       "   'svc__kernel': 'rbf',\n",
       "   'svc__max_iter': 1000},\n",
       "  {'imputer__strategy': 'mean',\n",
       "   'svc__C': 10,\n",
       "   'svc__class_weight': None,\n",
       "   'svc__kernel': 'rbf',\n",
       "   'svc__max_iter': 10000},\n",
       "  {'imputer__strategy': 'mean',\n",
       "   'svc__C': 10,\n",
       "   'svc__class_weight': None,\n",
       "   'svc__kernel': 'poly',\n",
       "   'svc__max_iter': 1000},\n",
       "  {'imputer__strategy': 'mean',\n",
       "   'svc__C': 10,\n",
       "   'svc__class_weight': None,\n",
       "   'svc__kernel': 'poly',\n",
       "   'svc__max_iter': 10000},\n",
       "  {'imputer__strategy': 'mean',\n",
       "   'svc__C': 10,\n",
       "   'svc__class_weight': None,\n",
       "   'svc__kernel': 'sigmoid',\n",
       "   'svc__max_iter': 1000},\n",
       "  {'imputer__strategy': 'mean',\n",
       "   'svc__C': 10,\n",
       "   'svc__class_weight': None,\n",
       "   'svc__kernel': 'sigmoid',\n",
       "   'svc__max_iter': 10000},\n",
       "  {'imputer__strategy': 'mean',\n",
       "   'svc__C': 10,\n",
       "   'svc__class_weight': 'balanced',\n",
       "   'svc__kernel': 'linear',\n",
       "   'svc__max_iter': 1000},\n",
       "  {'imputer__strategy': 'mean',\n",
       "   'svc__C': 10,\n",
       "   'svc__class_weight': 'balanced',\n",
       "   'svc__kernel': 'linear',\n",
       "   'svc__max_iter': 10000},\n",
       "  {'imputer__strategy': 'mean',\n",
       "   'svc__C': 10,\n",
       "   'svc__class_weight': 'balanced',\n",
       "   'svc__kernel': 'rbf',\n",
       "   'svc__max_iter': 1000},\n",
       "  {'imputer__strategy': 'mean',\n",
       "   'svc__C': 10,\n",
       "   'svc__class_weight': 'balanced',\n",
       "   'svc__kernel': 'rbf',\n",
       "   'svc__max_iter': 10000},\n",
       "  {'imputer__strategy': 'mean',\n",
       "   'svc__C': 10,\n",
       "   'svc__class_weight': 'balanced',\n",
       "   'svc__kernel': 'poly',\n",
       "   'svc__max_iter': 1000},\n",
       "  {'imputer__strategy': 'mean',\n",
       "   'svc__C': 10,\n",
       "   'svc__class_weight': 'balanced',\n",
       "   'svc__kernel': 'poly',\n",
       "   'svc__max_iter': 10000},\n",
       "  {'imputer__strategy': 'mean',\n",
       "   'svc__C': 10,\n",
       "   'svc__class_weight': 'balanced',\n",
       "   'svc__kernel': 'sigmoid',\n",
       "   'svc__max_iter': 1000},\n",
       "  {'imputer__strategy': 'mean',\n",
       "   'svc__C': 10,\n",
       "   'svc__class_weight': 'balanced',\n",
       "   'svc__kernel': 'sigmoid',\n",
       "   'svc__max_iter': 10000},\n",
       "  {'imputer__strategy': 'median',\n",
       "   'svc__C': 0.1,\n",
       "   'svc__class_weight': None,\n",
       "   'svc__kernel': 'linear',\n",
       "   'svc__max_iter': 1000},\n",
       "  {'imputer__strategy': 'median',\n",
       "   'svc__C': 0.1,\n",
       "   'svc__class_weight': None,\n",
       "   'svc__kernel': 'linear',\n",
       "   'svc__max_iter': 10000},\n",
       "  {'imputer__strategy': 'median',\n",
       "   'svc__C': 0.1,\n",
       "   'svc__class_weight': None,\n",
       "   'svc__kernel': 'rbf',\n",
       "   'svc__max_iter': 1000},\n",
       "  {'imputer__strategy': 'median',\n",
       "   'svc__C': 0.1,\n",
       "   'svc__class_weight': None,\n",
       "   'svc__kernel': 'rbf',\n",
       "   'svc__max_iter': 10000},\n",
       "  {'imputer__strategy': 'median',\n",
       "   'svc__C': 0.1,\n",
       "   'svc__class_weight': None,\n",
       "   'svc__kernel': 'poly',\n",
       "   'svc__max_iter': 1000},\n",
       "  {'imputer__strategy': 'median',\n",
       "   'svc__C': 0.1,\n",
       "   'svc__class_weight': None,\n",
       "   'svc__kernel': 'poly',\n",
       "   'svc__max_iter': 10000},\n",
       "  {'imputer__strategy': 'median',\n",
       "   'svc__C': 0.1,\n",
       "   'svc__class_weight': None,\n",
       "   'svc__kernel': 'sigmoid',\n",
       "   'svc__max_iter': 1000},\n",
       "  {'imputer__strategy': 'median',\n",
       "   'svc__C': 0.1,\n",
       "   'svc__class_weight': None,\n",
       "   'svc__kernel': 'sigmoid',\n",
       "   'svc__max_iter': 10000},\n",
       "  {'imputer__strategy': 'median',\n",
       "   'svc__C': 0.1,\n",
       "   'svc__class_weight': 'balanced',\n",
       "   'svc__kernel': 'linear',\n",
       "   'svc__max_iter': 1000},\n",
       "  {'imputer__strategy': 'median',\n",
       "   'svc__C': 0.1,\n",
       "   'svc__class_weight': 'balanced',\n",
       "   'svc__kernel': 'linear',\n",
       "   'svc__max_iter': 10000},\n",
       "  {'imputer__strategy': 'median',\n",
       "   'svc__C': 0.1,\n",
       "   'svc__class_weight': 'balanced',\n",
       "   'svc__kernel': 'rbf',\n",
       "   'svc__max_iter': 1000},\n",
       "  {'imputer__strategy': 'median',\n",
       "   'svc__C': 0.1,\n",
       "   'svc__class_weight': 'balanced',\n",
       "   'svc__kernel': 'rbf',\n",
       "   'svc__max_iter': 10000},\n",
       "  {'imputer__strategy': 'median',\n",
       "   'svc__C': 0.1,\n",
       "   'svc__class_weight': 'balanced',\n",
       "   'svc__kernel': 'poly',\n",
       "   'svc__max_iter': 1000},\n",
       "  {'imputer__strategy': 'median',\n",
       "   'svc__C': 0.1,\n",
       "   'svc__class_weight': 'balanced',\n",
       "   'svc__kernel': 'poly',\n",
       "   'svc__max_iter': 10000},\n",
       "  {'imputer__strategy': 'median',\n",
       "   'svc__C': 0.1,\n",
       "   'svc__class_weight': 'balanced',\n",
       "   'svc__kernel': 'sigmoid',\n",
       "   'svc__max_iter': 1000},\n",
       "  {'imputer__strategy': 'median',\n",
       "   'svc__C': 0.1,\n",
       "   'svc__class_weight': 'balanced',\n",
       "   'svc__kernel': 'sigmoid',\n",
       "   'svc__max_iter': 10000},\n",
       "  {'imputer__strategy': 'median',\n",
       "   'svc__C': 1,\n",
       "   'svc__class_weight': None,\n",
       "   'svc__kernel': 'linear',\n",
       "   'svc__max_iter': 1000},\n",
       "  {'imputer__strategy': 'median',\n",
       "   'svc__C': 1,\n",
       "   'svc__class_weight': None,\n",
       "   'svc__kernel': 'linear',\n",
       "   'svc__max_iter': 10000},\n",
       "  {'imputer__strategy': 'median',\n",
       "   'svc__C': 1,\n",
       "   'svc__class_weight': None,\n",
       "   'svc__kernel': 'rbf',\n",
       "   'svc__max_iter': 1000},\n",
       "  {'imputer__strategy': 'median',\n",
       "   'svc__C': 1,\n",
       "   'svc__class_weight': None,\n",
       "   'svc__kernel': 'rbf',\n",
       "   'svc__max_iter': 10000},\n",
       "  {'imputer__strategy': 'median',\n",
       "   'svc__C': 1,\n",
       "   'svc__class_weight': None,\n",
       "   'svc__kernel': 'poly',\n",
       "   'svc__max_iter': 1000},\n",
       "  {'imputer__strategy': 'median',\n",
       "   'svc__C': 1,\n",
       "   'svc__class_weight': None,\n",
       "   'svc__kernel': 'poly',\n",
       "   'svc__max_iter': 10000},\n",
       "  {'imputer__strategy': 'median',\n",
       "   'svc__C': 1,\n",
       "   'svc__class_weight': None,\n",
       "   'svc__kernel': 'sigmoid',\n",
       "   'svc__max_iter': 1000},\n",
       "  {'imputer__strategy': 'median',\n",
       "   'svc__C': 1,\n",
       "   'svc__class_weight': None,\n",
       "   'svc__kernel': 'sigmoid',\n",
       "   'svc__max_iter': 10000},\n",
       "  {'imputer__strategy': 'median',\n",
       "   'svc__C': 1,\n",
       "   'svc__class_weight': 'balanced',\n",
       "   'svc__kernel': 'linear',\n",
       "   'svc__max_iter': 1000},\n",
       "  {'imputer__strategy': 'median',\n",
       "   'svc__C': 1,\n",
       "   'svc__class_weight': 'balanced',\n",
       "   'svc__kernel': 'linear',\n",
       "   'svc__max_iter': 10000},\n",
       "  {'imputer__strategy': 'median',\n",
       "   'svc__C': 1,\n",
       "   'svc__class_weight': 'balanced',\n",
       "   'svc__kernel': 'rbf',\n",
       "   'svc__max_iter': 1000},\n",
       "  {'imputer__strategy': 'median',\n",
       "   'svc__C': 1,\n",
       "   'svc__class_weight': 'balanced',\n",
       "   'svc__kernel': 'rbf',\n",
       "   'svc__max_iter': 10000},\n",
       "  {'imputer__strategy': 'median',\n",
       "   'svc__C': 1,\n",
       "   'svc__class_weight': 'balanced',\n",
       "   'svc__kernel': 'poly',\n",
       "   'svc__max_iter': 1000},\n",
       "  {'imputer__strategy': 'median',\n",
       "   'svc__C': 1,\n",
       "   'svc__class_weight': 'balanced',\n",
       "   'svc__kernel': 'poly',\n",
       "   'svc__max_iter': 10000},\n",
       "  {'imputer__strategy': 'median',\n",
       "   'svc__C': 1,\n",
       "   'svc__class_weight': 'balanced',\n",
       "   'svc__kernel': 'sigmoid',\n",
       "   'svc__max_iter': 1000},\n",
       "  {'imputer__strategy': 'median',\n",
       "   'svc__C': 1,\n",
       "   'svc__class_weight': 'balanced',\n",
       "   'svc__kernel': 'sigmoid',\n",
       "   'svc__max_iter': 10000},\n",
       "  {'imputer__strategy': 'median',\n",
       "   'svc__C': 10,\n",
       "   'svc__class_weight': None,\n",
       "   'svc__kernel': 'linear',\n",
       "   'svc__max_iter': 1000},\n",
       "  {'imputer__strategy': 'median',\n",
       "   'svc__C': 10,\n",
       "   'svc__class_weight': None,\n",
       "   'svc__kernel': 'linear',\n",
       "   'svc__max_iter': 10000},\n",
       "  {'imputer__strategy': 'median',\n",
       "   'svc__C': 10,\n",
       "   'svc__class_weight': None,\n",
       "   'svc__kernel': 'rbf',\n",
       "   'svc__max_iter': 1000},\n",
       "  {'imputer__strategy': 'median',\n",
       "   'svc__C': 10,\n",
       "   'svc__class_weight': None,\n",
       "   'svc__kernel': 'rbf',\n",
       "   'svc__max_iter': 10000},\n",
       "  {'imputer__strategy': 'median',\n",
       "   'svc__C': 10,\n",
       "   'svc__class_weight': None,\n",
       "   'svc__kernel': 'poly',\n",
       "   'svc__max_iter': 1000},\n",
       "  {'imputer__strategy': 'median',\n",
       "   'svc__C': 10,\n",
       "   'svc__class_weight': None,\n",
       "   'svc__kernel': 'poly',\n",
       "   'svc__max_iter': 10000},\n",
       "  {'imputer__strategy': 'median',\n",
       "   'svc__C': 10,\n",
       "   'svc__class_weight': None,\n",
       "   'svc__kernel': 'sigmoid',\n",
       "   'svc__max_iter': 1000},\n",
       "  {'imputer__strategy': 'median',\n",
       "   'svc__C': 10,\n",
       "   'svc__class_weight': None,\n",
       "   'svc__kernel': 'sigmoid',\n",
       "   'svc__max_iter': 10000},\n",
       "  {'imputer__strategy': 'median',\n",
       "   'svc__C': 10,\n",
       "   'svc__class_weight': 'balanced',\n",
       "   'svc__kernel': 'linear',\n",
       "   'svc__max_iter': 1000},\n",
       "  {'imputer__strategy': 'median',\n",
       "   'svc__C': 10,\n",
       "   'svc__class_weight': 'balanced',\n",
       "   'svc__kernel': 'linear',\n",
       "   'svc__max_iter': 10000},\n",
       "  {'imputer__strategy': 'median',\n",
       "   'svc__C': 10,\n",
       "   'svc__class_weight': 'balanced',\n",
       "   'svc__kernel': 'rbf',\n",
       "   'svc__max_iter': 1000},\n",
       "  {'imputer__strategy': 'median',\n",
       "   'svc__C': 10,\n",
       "   'svc__class_weight': 'balanced',\n",
       "   'svc__kernel': 'rbf',\n",
       "   'svc__max_iter': 10000},\n",
       "  {'imputer__strategy': 'median',\n",
       "   'svc__C': 10,\n",
       "   'svc__class_weight': 'balanced',\n",
       "   'svc__kernel': 'poly',\n",
       "   'svc__max_iter': 1000},\n",
       "  {'imputer__strategy': 'median',\n",
       "   'svc__C': 10,\n",
       "   'svc__class_weight': 'balanced',\n",
       "   'svc__kernel': 'poly',\n",
       "   'svc__max_iter': 10000},\n",
       "  {'imputer__strategy': 'median',\n",
       "   'svc__C': 10,\n",
       "   'svc__class_weight': 'balanced',\n",
       "   'svc__kernel': 'sigmoid',\n",
       "   'svc__max_iter': 1000},\n",
       "  {'imputer__strategy': 'median',\n",
       "   'svc__C': 10,\n",
       "   'svc__class_weight': 'balanced',\n",
       "   'svc__kernel': 'sigmoid',\n",
       "   'svc__max_iter': 10000},\n",
       "  {'imputer__strategy': 'most_frequent',\n",
       "   'svc__C': 0.1,\n",
       "   'svc__class_weight': None,\n",
       "   'svc__kernel': 'linear',\n",
       "   'svc__max_iter': 1000},\n",
       "  {'imputer__strategy': 'most_frequent',\n",
       "   'svc__C': 0.1,\n",
       "   'svc__class_weight': None,\n",
       "   'svc__kernel': 'linear',\n",
       "   'svc__max_iter': 10000},\n",
       "  {'imputer__strategy': 'most_frequent',\n",
       "   'svc__C': 0.1,\n",
       "   'svc__class_weight': None,\n",
       "   'svc__kernel': 'rbf',\n",
       "   'svc__max_iter': 1000},\n",
       "  {'imputer__strategy': 'most_frequent',\n",
       "   'svc__C': 0.1,\n",
       "   'svc__class_weight': None,\n",
       "   'svc__kernel': 'rbf',\n",
       "   'svc__max_iter': 10000},\n",
       "  {'imputer__strategy': 'most_frequent',\n",
       "   'svc__C': 0.1,\n",
       "   'svc__class_weight': None,\n",
       "   'svc__kernel': 'poly',\n",
       "   'svc__max_iter': 1000},\n",
       "  {'imputer__strategy': 'most_frequent',\n",
       "   'svc__C': 0.1,\n",
       "   'svc__class_weight': None,\n",
       "   'svc__kernel': 'poly',\n",
       "   'svc__max_iter': 10000},\n",
       "  {'imputer__strategy': 'most_frequent',\n",
       "   'svc__C': 0.1,\n",
       "   'svc__class_weight': None,\n",
       "   'svc__kernel': 'sigmoid',\n",
       "   'svc__max_iter': 1000},\n",
       "  {'imputer__strategy': 'most_frequent',\n",
       "   'svc__C': 0.1,\n",
       "   'svc__class_weight': None,\n",
       "   'svc__kernel': 'sigmoid',\n",
       "   'svc__max_iter': 10000},\n",
       "  {'imputer__strategy': 'most_frequent',\n",
       "   'svc__C': 0.1,\n",
       "   'svc__class_weight': 'balanced',\n",
       "   'svc__kernel': 'linear',\n",
       "   'svc__max_iter': 1000},\n",
       "  {'imputer__strategy': 'most_frequent',\n",
       "   'svc__C': 0.1,\n",
       "   'svc__class_weight': 'balanced',\n",
       "   'svc__kernel': 'linear',\n",
       "   'svc__max_iter': 10000},\n",
       "  {'imputer__strategy': 'most_frequent',\n",
       "   'svc__C': 0.1,\n",
       "   'svc__class_weight': 'balanced',\n",
       "   'svc__kernel': 'rbf',\n",
       "   'svc__max_iter': 1000},\n",
       "  {'imputer__strategy': 'most_frequent',\n",
       "   'svc__C': 0.1,\n",
       "   'svc__class_weight': 'balanced',\n",
       "   'svc__kernel': 'rbf',\n",
       "   'svc__max_iter': 10000},\n",
       "  {'imputer__strategy': 'most_frequent',\n",
       "   'svc__C': 0.1,\n",
       "   'svc__class_weight': 'balanced',\n",
       "   'svc__kernel': 'poly',\n",
       "   'svc__max_iter': 1000},\n",
       "  {'imputer__strategy': 'most_frequent',\n",
       "   'svc__C': 0.1,\n",
       "   'svc__class_weight': 'balanced',\n",
       "   'svc__kernel': 'poly',\n",
       "   'svc__max_iter': 10000},\n",
       "  {'imputer__strategy': 'most_frequent',\n",
       "   'svc__C': 0.1,\n",
       "   'svc__class_weight': 'balanced',\n",
       "   'svc__kernel': 'sigmoid',\n",
       "   'svc__max_iter': 1000},\n",
       "  {'imputer__strategy': 'most_frequent',\n",
       "   'svc__C': 0.1,\n",
       "   'svc__class_weight': 'balanced',\n",
       "   'svc__kernel': 'sigmoid',\n",
       "   'svc__max_iter': 10000},\n",
       "  {'imputer__strategy': 'most_frequent',\n",
       "   'svc__C': 1,\n",
       "   'svc__class_weight': None,\n",
       "   'svc__kernel': 'linear',\n",
       "   'svc__max_iter': 1000},\n",
       "  {'imputer__strategy': 'most_frequent',\n",
       "   'svc__C': 1,\n",
       "   'svc__class_weight': None,\n",
       "   'svc__kernel': 'linear',\n",
       "   'svc__max_iter': 10000},\n",
       "  {'imputer__strategy': 'most_frequent',\n",
       "   'svc__C': 1,\n",
       "   'svc__class_weight': None,\n",
       "   'svc__kernel': 'rbf',\n",
       "   'svc__max_iter': 1000},\n",
       "  {'imputer__strategy': 'most_frequent',\n",
       "   'svc__C': 1,\n",
       "   'svc__class_weight': None,\n",
       "   'svc__kernel': 'rbf',\n",
       "   'svc__max_iter': 10000},\n",
       "  {'imputer__strategy': 'most_frequent',\n",
       "   'svc__C': 1,\n",
       "   'svc__class_weight': None,\n",
       "   'svc__kernel': 'poly',\n",
       "   'svc__max_iter': 1000},\n",
       "  {'imputer__strategy': 'most_frequent',\n",
       "   'svc__C': 1,\n",
       "   'svc__class_weight': None,\n",
       "   'svc__kernel': 'poly',\n",
       "   'svc__max_iter': 10000},\n",
       "  {'imputer__strategy': 'most_frequent',\n",
       "   'svc__C': 1,\n",
       "   'svc__class_weight': None,\n",
       "   'svc__kernel': 'sigmoid',\n",
       "   'svc__max_iter': 1000},\n",
       "  {'imputer__strategy': 'most_frequent',\n",
       "   'svc__C': 1,\n",
       "   'svc__class_weight': None,\n",
       "   'svc__kernel': 'sigmoid',\n",
       "   'svc__max_iter': 10000},\n",
       "  {'imputer__strategy': 'most_frequent',\n",
       "   'svc__C': 1,\n",
       "   'svc__class_weight': 'balanced',\n",
       "   'svc__kernel': 'linear',\n",
       "   'svc__max_iter': 1000},\n",
       "  {'imputer__strategy': 'most_frequent',\n",
       "   'svc__C': 1,\n",
       "   'svc__class_weight': 'balanced',\n",
       "   'svc__kernel': 'linear',\n",
       "   'svc__max_iter': 10000},\n",
       "  {'imputer__strategy': 'most_frequent',\n",
       "   'svc__C': 1,\n",
       "   'svc__class_weight': 'balanced',\n",
       "   'svc__kernel': 'rbf',\n",
       "   'svc__max_iter': 1000},\n",
       "  {'imputer__strategy': 'most_frequent',\n",
       "   'svc__C': 1,\n",
       "   'svc__class_weight': 'balanced',\n",
       "   'svc__kernel': 'rbf',\n",
       "   'svc__max_iter': 10000},\n",
       "  {'imputer__strategy': 'most_frequent',\n",
       "   'svc__C': 1,\n",
       "   'svc__class_weight': 'balanced',\n",
       "   'svc__kernel': 'poly',\n",
       "   'svc__max_iter': 1000},\n",
       "  {'imputer__strategy': 'most_frequent',\n",
       "   'svc__C': 1,\n",
       "   'svc__class_weight': 'balanced',\n",
       "   'svc__kernel': 'poly',\n",
       "   'svc__max_iter': 10000},\n",
       "  {'imputer__strategy': 'most_frequent',\n",
       "   'svc__C': 1,\n",
       "   'svc__class_weight': 'balanced',\n",
       "   'svc__kernel': 'sigmoid',\n",
       "   'svc__max_iter': 1000},\n",
       "  {'imputer__strategy': 'most_frequent',\n",
       "   'svc__C': 1,\n",
       "   'svc__class_weight': 'balanced',\n",
       "   'svc__kernel': 'sigmoid',\n",
       "   'svc__max_iter': 10000},\n",
       "  {'imputer__strategy': 'most_frequent',\n",
       "   'svc__C': 10,\n",
       "   'svc__class_weight': None,\n",
       "   'svc__kernel': 'linear',\n",
       "   'svc__max_iter': 1000},\n",
       "  {'imputer__strategy': 'most_frequent',\n",
       "   'svc__C': 10,\n",
       "   'svc__class_weight': None,\n",
       "   'svc__kernel': 'linear',\n",
       "   'svc__max_iter': 10000},\n",
       "  {'imputer__strategy': 'most_frequent',\n",
       "   'svc__C': 10,\n",
       "   'svc__class_weight': None,\n",
       "   'svc__kernel': 'rbf',\n",
       "   'svc__max_iter': 1000},\n",
       "  {'imputer__strategy': 'most_frequent',\n",
       "   'svc__C': 10,\n",
       "   'svc__class_weight': None,\n",
       "   'svc__kernel': 'rbf',\n",
       "   'svc__max_iter': 10000},\n",
       "  {'imputer__strategy': 'most_frequent',\n",
       "   'svc__C': 10,\n",
       "   'svc__class_weight': None,\n",
       "   'svc__kernel': 'poly',\n",
       "   'svc__max_iter': 1000},\n",
       "  {'imputer__strategy': 'most_frequent',\n",
       "   'svc__C': 10,\n",
       "   'svc__class_weight': None,\n",
       "   'svc__kernel': 'poly',\n",
       "   'svc__max_iter': 10000},\n",
       "  {'imputer__strategy': 'most_frequent',\n",
       "   'svc__C': 10,\n",
       "   'svc__class_weight': None,\n",
       "   'svc__kernel': 'sigmoid',\n",
       "   'svc__max_iter': 1000},\n",
       "  {'imputer__strategy': 'most_frequent',\n",
       "   'svc__C': 10,\n",
       "   'svc__class_weight': None,\n",
       "   'svc__kernel': 'sigmoid',\n",
       "   'svc__max_iter': 10000},\n",
       "  {'imputer__strategy': 'most_frequent',\n",
       "   'svc__C': 10,\n",
       "   'svc__class_weight': 'balanced',\n",
       "   'svc__kernel': 'linear',\n",
       "   'svc__max_iter': 1000},\n",
       "  {'imputer__strategy': 'most_frequent',\n",
       "   'svc__C': 10,\n",
       "   'svc__class_weight': 'balanced',\n",
       "   'svc__kernel': 'linear',\n",
       "   'svc__max_iter': 10000},\n",
       "  {'imputer__strategy': 'most_frequent',\n",
       "   'svc__C': 10,\n",
       "   'svc__class_weight': 'balanced',\n",
       "   'svc__kernel': 'rbf',\n",
       "   'svc__max_iter': 1000},\n",
       "  {'imputer__strategy': 'most_frequent',\n",
       "   'svc__C': 10,\n",
       "   'svc__class_weight': 'balanced',\n",
       "   'svc__kernel': 'rbf',\n",
       "   'svc__max_iter': 10000},\n",
       "  {'imputer__strategy': 'most_frequent',\n",
       "   'svc__C': 10,\n",
       "   'svc__class_weight': 'balanced',\n",
       "   'svc__kernel': 'poly',\n",
       "   'svc__max_iter': 1000},\n",
       "  {'imputer__strategy': 'most_frequent',\n",
       "   'svc__C': 10,\n",
       "   'svc__class_weight': 'balanced',\n",
       "   'svc__kernel': 'poly',\n",
       "   'svc__max_iter': 10000},\n",
       "  {'imputer__strategy': 'most_frequent',\n",
       "   'svc__C': 10,\n",
       "   'svc__class_weight': 'balanced',\n",
       "   'svc__kernel': 'sigmoid',\n",
       "   'svc__max_iter': 1000},\n",
       "  {'imputer__strategy': 'most_frequent',\n",
       "   'svc__C': 10,\n",
       "   'svc__class_weight': 'balanced',\n",
       "   'svc__kernel': 'sigmoid',\n",
       "   'svc__max_iter': 10000}],\n",
       " 'split0_test_score': array([0.47430556, 0.50520833, 0.48125   , 0.50590278, 0.44479167,\n",
       "        0.47256944, 0.42291667, 0.44409722, 0.35347222, 0.44131944,\n",
       "        0.37951389, 0.44895833, 0.27673611, 0.47986111, 0.36145833,\n",
       "        0.37916667, 0.37152778, 0.50520833, 0.52465278, 0.528125  ,\n",
       "        0.48020833, 0.52326389, 0.35451389, 0.353125  , 0.34618056,\n",
       "        0.43854167, 0.36805556, 0.45520833, 0.36875   , 0.45798611,\n",
       "        0.34131944, 0.30069444, 0.34270833, 0.42777778, 0.46145833,\n",
       "        0.503125  , 0.43506944, 0.490625  , 0.33888889, 0.33645833,\n",
       "        0.284375  , 0.40868056, 0.37743056, 0.4375    , 0.41284722,\n",
       "        0.43402778, 0.31701389, 0.28680556, 0.478125  , 0.50451389,\n",
       "        0.48229167, 0.50590278, 0.43715278, 0.47118056, 0.42326389,\n",
       "        0.44479167, 0.35868056, 0.43958333, 0.378125  , 0.44826389,\n",
       "        0.2875    , 0.48020833, 0.36215278, 0.378125  , 0.40034722,\n",
       "        0.5       , 0.52638889, 0.528125  , 0.47743056, 0.52465278,\n",
       "        0.35486111, 0.35381944, 0.36319444, 0.43923611, 0.36354167,\n",
       "        0.45451389, 0.359375  , 0.45729167, 0.34201389, 0.30173611,\n",
       "        0.29201389, 0.42256944, 0.45763889, 0.503125  , 0.44236111,\n",
       "        0.49166667, 0.34027778, 0.33854167, 0.26736111, 0.42881944,\n",
       "        0.37986111, 0.43715278, 0.41770833, 0.43159722, 0.30625   ,\n",
       "        0.28645833, 0.45868056, 0.49340278, 0.48229167, 0.50104167,\n",
       "        0.41701389, 0.47881944, 0.41840278, 0.43541667, 0.34618056,\n",
       "        0.43159722, 0.35416667, 0.43819444, 0.29930556, 0.47638889,\n",
       "        0.35763889, 0.36909722, 0.4125    , 0.48888889, 0.52534722,\n",
       "        0.52708333, 0.48611111, 0.52152778, 0.34479167, 0.34236111,\n",
       "        0.36909722, 0.43159722, 0.36527778, 0.44618056, 0.36597222,\n",
       "        0.45381944, 0.34027778, 0.290625  , 0.24201389, 0.39930556,\n",
       "        0.42777778, 0.50034722, 0.4375    , 0.48125   , 0.32465278,\n",
       "        0.32326389, 0.23125   , 0.41701389, 0.38090278, 0.43923611,\n",
       "        0.40208333, 0.42048611, 0.29305556, 0.27291667]),\n",
       " 'split1_test_score': array([0.47829107, 0.50225773, 0.48801667, 0.50573116, 0.44251476,\n",
       "        0.47377562, 0.41368531, 0.43522056, 0.36366794, 0.44841959,\n",
       "        0.3706148 , 0.4550191 , 0.29211532, 0.47308093, 0.36123654,\n",
       "        0.37895102, 0.41437999, 0.50434179, 0.51406738, 0.52865578,\n",
       "        0.48002779, 0.51893018, 0.3681834 , 0.36227857, 0.3584578 ,\n",
       "        0.44459882, 0.37408823, 0.46543939, 0.36853074, 0.45849253,\n",
       "        0.34525877, 0.32025009, 0.28968392, 0.39388677, 0.43626259,\n",
       "        0.50191039, 0.43765196, 0.4866273 , 0.34352206, 0.34213268,\n",
       "        0.28759986, 0.41160125, 0.37235151, 0.4525877 , 0.40743314,\n",
       "        0.43938868, 0.3219868 , 0.30427232, 0.47516499, 0.50052101,\n",
       "        0.4890587 , 0.50538381, 0.41854811, 0.47342827, 0.41264328,\n",
       "        0.43556791, 0.35880514, 0.44876693, 0.38728725, 0.45571379,\n",
       "        0.29142063, 0.47238625, 0.3608892 , 0.37999305, 0.37443557,\n",
       "        0.50468913, 0.5182355 , 0.52726641, 0.4817645 , 0.51893018,\n",
       "        0.36992011, 0.36540465, 0.37756165, 0.44494616, 0.38138242,\n",
       "        0.46613407, 0.37269885, 0.45849253, 0.34004863, 0.31920806,\n",
       "        0.31538729, 0.42653699, 0.44251476, 0.50225773, 0.43001042,\n",
       "        0.48523793, 0.34803751, 0.34803751, 0.27196943, 0.41090656,\n",
       "        0.37374088, 0.45189302, 0.40257034, 0.43869399, 0.32233414,\n",
       "        0.30566169, 0.48245919, 0.49982633, 0.48975339, 0.50642584,\n",
       "        0.42097951, 0.4720389 , 0.40812782, 0.43348385, 0.37269885,\n",
       "        0.44807225, 0.39353942, 0.45432442, 0.29975686, 0.47030219,\n",
       "        0.36505731, 0.3827718 , 0.38242445, 0.50017367, 0.52483501,\n",
       "        0.52379298, 0.47516499, 0.51406738, 0.36193123, 0.35533171,\n",
       "        0.36714137, 0.4428621 , 0.37478291, 0.47099687, 0.37269885,\n",
       "        0.45606113, 0.34109066, 0.31642932, 0.30809309, 0.40847516,\n",
       "        0.4501563 , 0.50538381, 0.43660993, 0.48975339, 0.33935394,\n",
       "        0.34317471, 0.23827718, 0.41264328, 0.37617228, 0.45397708,\n",
       "        0.40326502, 0.43556791, 0.31816603, 0.30531435]),\n",
       " 'split2_test_score': array([0.4696075 , 0.49079542, 0.47551233, 0.50156304, 0.42514762,\n",
       "        0.47308093, 0.40222299, 0.41820076, 0.35811046, 0.44355679,\n",
       "        0.36957277, 0.46370267, 0.27891629, 0.46509205, 0.35151094,\n",
       "        0.37756165, 0.38693991, 0.48940604, 0.51719347, 0.52518235,\n",
       "        0.4866273 , 0.5158041 , 0.33379646, 0.34213268, 0.34942688,\n",
       "        0.44112539, 0.36540465, 0.47551233, 0.37096214, 0.46092393,\n",
       "        0.33240709, 0.32059743, 0.23966655, 0.42549496, 0.43313651,\n",
       "        0.50781521, 0.45571379, 0.49010073, 0.31642932, 0.32476554,\n",
       "        0.28100035, 0.41576936, 0.38068774, 0.45849253, 0.42514762,\n",
       "        0.4452935 , 0.29871483, 0.29732546, 0.4793331 , 0.49079542,\n",
       "        0.47238625, 0.50052101, 0.42097951, 0.47273359, 0.40500174,\n",
       "        0.41715874, 0.36992011, 0.44251476, 0.36609934, 0.46370267,\n",
       "        0.28273706, 0.4647447 , 0.35012157, 0.37756165, 0.39805488,\n",
       "        0.49079542, 0.5206669 , 0.52448767, 0.4866273 , 0.51615144,\n",
       "        0.32858631, 0.33970129, 0.36609934, 0.43869399, 0.37165683,\n",
       "        0.47412296, 0.37339354, 0.46022925, 0.33449114, 0.3219868 ,\n",
       "        0.28655783, 0.40778048, 0.44564085, 0.5060785 , 0.45154568,\n",
       "        0.4939215 , 0.31191386, 0.32302883, 0.28273706, 0.41507468,\n",
       "        0.37339354, 0.45779785, 0.41542202, 0.4428621 , 0.30184092,\n",
       "        0.29628343, 0.47620702, 0.47968044, 0.4769017 , 0.48871136,\n",
       "        0.43209448, 0.47516499, 0.39840222, 0.40708579, 0.3681834 ,\n",
       "        0.43278916, 0.35081626, 0.44633553, 0.28864189, 0.45432442,\n",
       "        0.35081626, 0.36401528, 0.41542202, 0.48523793, 0.51927753,\n",
       "        0.52483501, 0.48489059, 0.50712053, 0.3219868 , 0.33067037,\n",
       "        0.34595346, 0.43244182, 0.38589788, 0.46266065, 0.3681834 ,\n",
       "        0.46648142, 0.31886072, 0.29697812, 0.2830844 , 0.41576936,\n",
       "        0.43278916, 0.50538381, 0.45119833, 0.48558527, 0.29211532,\n",
       "        0.29871483, 0.24418201, 0.40916985, 0.38172977, 0.45328239,\n",
       "        0.39736019, 0.43556791, 0.30392497, 0.29489406]),\n",
       " 'split3_test_score': array([0.48315387, 0.5036471 , 0.48211184, 0.51545676, 0.43001042,\n",
       "        0.47238625, 0.39770754, 0.42202154, 0.341438  , 0.44182008,\n",
       "        0.39770754, 0.43973602, 0.28100035, 0.47169156, 0.35255297,\n",
       "        0.37617228, 0.40916985, 0.50434179, 0.52935047, 0.53838138,\n",
       "        0.48801667, 0.52657173, 0.34977423, 0.34907954, 0.35081626,\n",
       "        0.44077805, 0.36540465, 0.4574505 , 0.36644668, 0.4598819 ,\n",
       "        0.33344911, 0.31538729, 0.25460229, 0.44390413, 0.4550191 ,\n",
       "        0.51059396, 0.43522056, 0.5036471 , 0.32511289, 0.32962834,\n",
       "        0.33205974, 0.41959014, 0.3876346 , 0.45397708, 0.41229594,\n",
       "        0.43765196, 0.31087183, 0.28968392, 0.47655436, 0.50468913,\n",
       "        0.47273359, 0.51476207, 0.43105245, 0.47238625, 0.39909691,\n",
       "        0.41993748, 0.34942688, 0.44077805, 0.3803404 , 0.43904133,\n",
       "        0.29419937, 0.47169156, 0.353595  , 0.37374088, 0.36193123,\n",
       "        0.50712053, 0.53247655, 0.53907607, 0.48315387, 0.52657173,\n",
       "        0.3438694 , 0.34491143, 0.37617228, 0.44043071, 0.37408823,\n",
       "        0.45710316, 0.36158388, 0.45779785, 0.34004863, 0.31121917,\n",
       "        0.28759986, 0.38207711, 0.45640848, 0.5085099 , 0.44008336,\n",
       "        0.50225773, 0.32302883, 0.3268496 , 0.22889892, 0.41993748,\n",
       "        0.38381382, 0.45328239, 0.41055922, 0.43765196, 0.31017714,\n",
       "        0.28968392, 0.47481765, 0.51476207, 0.48489059, 0.52205627,\n",
       "        0.42236888, 0.48454324, 0.40534908, 0.43209448, 0.35151094,\n",
       "        0.44911428, 0.37200417, 0.45328239, 0.27995832, 0.47238625,\n",
       "        0.36123654, 0.3803404 , 0.39805488, 0.51198333, 0.53351858,\n",
       "        0.54116013, 0.48211184, 0.52900313, 0.34178534, 0.34456408,\n",
       "        0.3511636 , 0.44841959, 0.36644668, 0.46578673, 0.3706148 ,\n",
       "        0.46578673, 0.341438  , 0.31365057, 0.28586315, 0.44043071,\n",
       "        0.44980896, 0.52275096, 0.44737756, 0.50712053, 0.32511289,\n",
       "        0.329281  , 0.28204238, 0.40222299, 0.38902397, 0.45779785,\n",
       "        0.41299062, 0.44946162, 0.30218826, 0.2879472 ]),\n",
       " 'split4_test_score': array([0.47551233, 0.50642584, 0.47516499, 0.50746787, 0.41021188,\n",
       "        0.46613407, 0.40569642, 0.43522056, 0.36470997, 0.46578673,\n",
       "        0.365752  , 0.47377562, 0.28655783, 0.47655436, 0.35776311,\n",
       "        0.40048628, 0.41993748, 0.50712053, 0.52622438, 0.53629733,\n",
       "        0.47794373, 0.51893018, 0.35151094, 0.34907954, 0.39458145,\n",
       "        0.45918722, 0.37130948, 0.4841959 , 0.36470997, 0.47759639,\n",
       "        0.34178534, 0.32268149, 0.29558875, 0.41611671, 0.44946162,\n",
       "        0.5133727 , 0.44876693, 0.49947899, 0.33865926, 0.3365752 ,\n",
       "        0.31191386, 0.40743314, 0.38416117, 0.46613407, 0.42236888,\n",
       "        0.45189302, 0.32962834, 0.31434526, 0.46266065, 0.5060785 ,\n",
       "        0.48002779, 0.50712053, 0.40916985, 0.46648142, 0.40465439,\n",
       "        0.43556791, 0.3681834 , 0.46405002, 0.3803404 , 0.47134422,\n",
       "        0.28621049, 0.47724904, 0.35706843, 0.39874957, 0.36401528,\n",
       "        0.50712053, 0.53351858, 0.53594998, 0.47655436, 0.51788816,\n",
       "        0.34942688, 0.34803751, 0.38589788, 0.45814519, 0.36366794,\n",
       "        0.48384856, 0.36019451, 0.47620702, 0.34248003, 0.32372352,\n",
       "        0.24904481, 0.41472734, 0.46578673, 0.51163598, 0.44946162,\n",
       "        0.49565821, 0.32893366, 0.33588051, 0.341438  , 0.41299062,\n",
       "        0.38937131, 0.46578673, 0.41924279, 0.4501563 , 0.33067037,\n",
       "        0.31365057, 0.47898576, 0.48975339, 0.4720389 , 0.49044807,\n",
       "        0.41160125, 0.4598819 , 0.39666551, 0.42653699, 0.353595  ,\n",
       "        0.45050365, 0.38207711, 0.45571379, 0.29906217, 0.47585967,\n",
       "        0.34942688, 0.38589788, 0.40083362, 0.49253213, 0.4963529 ,\n",
       "        0.5206669 , 0.47759639, 0.50885724, 0.34178534, 0.341438  ,\n",
       "        0.36262591, 0.45154568, 0.377909  , 0.47064953, 0.36505731,\n",
       "        0.45883987, 0.32962834, 0.3073984 , 0.30184092, 0.39145537,\n",
       "        0.44320945, 0.50399444, 0.43660993, 0.49287947, 0.32511289,\n",
       "        0.32233414, 0.30045155, 0.38659257, 0.38138242, 0.45050365,\n",
       "        0.41194859, 0.43973602, 0.32789163, 0.30079889]),\n",
       " 'mean_test_score': array([0.47617407, 0.50166688, 0.48041117, 0.50722432, 0.43053527,\n",
       "        0.47158926, 0.40844579, 0.43095213, 0.35627972, 0.44818053,\n",
       "        0.3766322 , 0.45623835, 0.28306518, 0.473256  , 0.35690438,\n",
       "        0.38246758, 0.400391  , 0.5020837 , 0.5222977 , 0.53132837,\n",
       "        0.48256476, 0.52070002, 0.35155578, 0.35113907, 0.35989259,\n",
       "        0.44484623, 0.36885251, 0.46756129, 0.36787991, 0.46297617,\n",
       "        0.33884395, 0.31592215, 0.28444997, 0.42143607, 0.44706763,\n",
       "        0.50736345, 0.44248454, 0.49409582, 0.33252248, 0.33391202,\n",
       "        0.29938976, 0.41261489, 0.38045311, 0.45373828, 0.41601856,\n",
       "        0.44165099, 0.31564314, 0.2984865 , 0.47436762, 0.50131959,\n",
       "        0.4792996 , 0.50673804, 0.42338054, 0.47124202, 0.40893204,\n",
       "        0.43060474, 0.36100322, 0.44713862, 0.37843848, 0.45561318,\n",
       "        0.28841351, 0.47325598, 0.35676539, 0.38163403, 0.37975684,\n",
       "        0.50194512, 0.52625728, 0.53098103, 0.48110612, 0.52083886,\n",
       "        0.34933276, 0.35037486, 0.37378512, 0.44429043, 0.37086742,\n",
       "        0.46714453, 0.36544916, 0.46200366, 0.33981646, 0.31557473,\n",
       "        0.28612074, 0.41073827, 0.45359794, 0.50632142, 0.44269244,\n",
       "        0.49374841, 0.33043833, 0.33446762, 0.27848091, 0.41754576,\n",
       "        0.38003613, 0.45318255, 0.41310054, 0.44019232, 0.31425452,\n",
       "        0.29834759, 0.47423003, 0.495485  , 0.48117525, 0.50173664,\n",
       "        0.4208116 , 0.4740897 , 0.40538948, 0.42692356, 0.35843375,\n",
       "        0.44241531, 0.37052072, 0.44957012, 0.29334496, 0.46985228,\n",
       "        0.35683518, 0.37642452, 0.401847  , 0.49576319, 0.51986625,\n",
       "        0.52750767, 0.48117498, 0.51611521, 0.34245608, 0.34287306,\n",
       "        0.35919631, 0.44137328, 0.37406285, 0.46325487, 0.36850532,\n",
       "        0.46019772, 0.3342591 , 0.30501628, 0.28417909, 0.41108723,\n",
       "        0.44074833, 0.50757205, 0.44185915, 0.49131773, 0.32126956,\n",
       "        0.32335372, 0.25924062, 0.40552852, 0.38184224, 0.45095941,\n",
       "        0.40552955, 0.43616391, 0.30904529, 0.29237423]),\n",
       " 'std_test_score': array([0.00447769, 0.00561514, 0.00475312, 0.0045576 , 0.01256261,\n",
       "        0.00276985, 0.00892694, 0.00950353, 0.00845181, 0.00915363,\n",
       "        0.01146209, 0.01174805, 0.0055792 , 0.00497262, 0.00420161,\n",
       "        0.00907342, 0.01826933, 0.00641956, 0.00573582, 0.00509143,\n",
       "        0.00398925, 0.00377585, 0.01098906, 0.00659743, 0.01780622,\n",
       "        0.00742789, 0.00340176, 0.01094765, 0.00213464, 0.00738296,\n",
       "        0.00502926, 0.00798056, 0.03589413, 0.01642416, 0.01083397,\n",
       "        0.0043463 , 0.00831366, 0.00638736, 0.0101299 , 0.0060525 ,\n",
       "        0.01963057, 0.00451579, 0.00529434, 0.00939491, 0.00665269,\n",
       "        0.00628316, 0.01045983, 0.01000254, 0.00602071, 0.00557854,\n",
       "        0.00625507, 0.00459814, 0.00979381, 0.00248921, 0.00836242,\n",
       "        0.01044146, 0.00742029, 0.00902847, 0.00689765, 0.01132743,\n",
       "        0.00401071, 0.00529009, 0.00447914, 0.00879584, 0.01644778,\n",
       "        0.0061514 , 0.00611596, 0.00555588, 0.00372394, 0.0040431 ,\n",
       "        0.01352534, 0.0087977 , 0.00822087, 0.0072684 , 0.00673886,\n",
       "        0.01085455, 0.00624689, 0.00717082, 0.00284219, 0.00813876,\n",
       "        0.02129913, 0.01572068, 0.00847286, 0.00345901, 0.00764136,\n",
       "        0.00552897, 0.01270328, 0.00885004, 0.03634868, 0.00638358,\n",
       "        0.00608607, 0.00936795, 0.00602813, 0.00614789, 0.01067291,\n",
       "        0.01008317, 0.00820214, 0.01163979, 0.00617042, 0.01210329,\n",
       "        0.00676771, 0.0082325 , 0.00776885, 0.01034983, 0.01019832,\n",
       "        0.00839038, 0.01625628, 0.00654213, 0.00788224, 0.00808151,\n",
       "        0.00597882, 0.00840292, 0.01175083, 0.0094976 , 0.01260429,\n",
       "        0.00713173, 0.00419464, 0.00816297, 0.01268564, 0.00786517,\n",
       "        0.00908638, 0.00813249, 0.00762316, 0.00908752, 0.0028441 ,\n",
       "        0.00510606, 0.0088655 , 0.00982043, 0.02309008, 0.01681667,\n",
       "        0.00903599, 0.00780991, 0.00619329, 0.00881856, 0.01560771,\n",
       "        0.01439532, 0.02708491, 0.01063287, 0.00411904, 0.0063073 ,\n",
       "        0.00601023, 0.00933909, 0.01238774, 0.0113399 ]),\n",
       " 'rank_test_score': array([ 31,  18,  29,  12,  69,  37,  81,  67, 111,  53,  94,  46, 142,\n",
       "         35, 108,  87,  86,  15,   5,   1,  25,   7, 112, 113, 105,  56,\n",
       "        100,  40, 102,  43, 119, 127, 140,  72,  55,  11,  59,  22, 123,\n",
       "        122, 133,  77,  90,  48,  75,  62, 128, 134,  32,  19,  30,  13,\n",
       "         71,  38,  80,  68, 104,  54,  93,  47, 138,  36, 110,  89,  92,\n",
       "         16,   4,   2,  28,   6, 115, 114,  97,  57,  98,  41, 103,  44,\n",
       "        118, 129, 139,  79,  49,  14,  58,  23, 124, 120, 143,  74,  91,\n",
       "         50,  76,  65, 130, 135,  33,  21,  26,  17,  73,  34,  84,  70,\n",
       "        107,  60,  99,  52, 136,  39, 109,  95,  85,  20,   8,   3,  27,\n",
       "          9, 117, 116, 106,  63,  96,  42, 101,  45, 121, 132, 141,  78,\n",
       "         64,  10,  61,  24, 126, 125, 144,  83,  88,  51,  82,  66, 131,\n",
       "        137], dtype=int32)}"
      ]
     },
     "execution_count": 60,
     "metadata": {},
     "output_type": "execute_result"
    }
   ],
   "source": [
    "gs.cv_results_"
   ]
  },
  {
   "cell_type": "code",
   "execution_count": 16,
   "id": "c08057a0",
   "metadata": {},
   "outputs": [],
   "source": [
    "svc = SVC()\n",
    "impute = SimpleImputer(strategy = 'mean')\n",
    "pipe = Pipeline(steps=[(\"imputer\", impute),(\"svc\", svc)]) ## best hyperparams from GS are all default\n",
    "pipe.fit(X_train,y_train)\n",
    "y_pred = pipe.predict(X_test)\n",
    "\n"
   ]
  },
  {
   "cell_type": "code",
   "execution_count": 21,
   "id": "daf25882",
   "metadata": {},
   "outputs": [
    {
     "ename": "AttributeError",
     "evalue": "'Pipeline' object has no attribute 'keys'",
     "output_type": "error",
     "traceback": [
      "\u001b[0;31m---------------------------------------------------------------------------\u001b[0m",
      "\u001b[0;31mAttributeError\u001b[0m                            Traceback (most recent call last)",
      "\u001b[0;32m/tmp/ipykernel_102/840216120.py\u001b[0m in \u001b[0;36m<module>\u001b[0;34m\u001b[0m\n\u001b[0;32m----> 1\u001b[0;31m \u001b[0mpipe\u001b[0m\u001b[0;34m.\u001b[0m\u001b[0mkeys\u001b[0m\u001b[0;34m\u001b[0m\u001b[0;34m\u001b[0m\u001b[0m\n\u001b[0m",
      "\u001b[0;31mAttributeError\u001b[0m: 'Pipeline' object has no attribute 'keys'"
     ]
    }
   ],
   "source": []
  },
  {
   "cell_type": "code",
   "execution_count": 22,
   "id": "97d3c9dc",
   "metadata": {},
   "outputs": [
    {
     "data": {
      "image/png": "[encoded data removed]",
      "text/plain": [
       "<Figure size 432x288 with 2 Axes>"
      ]
     },
     "metadata": {
      "needs_background": "light"
     },
     "output_type": "display_data"
    }
   ],
   "source": [
    "cm = confusion_matrix(y_test, y_pred)\n",
    "disp = ConfusionMatrixDisplay(cm)\n",
    "disp.plot();"
   ]
  },
  {
   "cell_type": "code",
   "execution_count": 32,
   "id": "7130e1f8",
   "metadata": {},
   "outputs": [
    {
     "name": "stdout",
     "output_type": "stream",
     "text": [
      "0.5578138805922357\n"
     ]
    }
   ],
   "source": [
    "accuracy = balanced_accuracy_score(y_test, y_pred, adjusted = False)\n",
    "print(accuracy)"
   ]
  },
  {
   "cell_type": "code",
   "execution_count": 24,
   "id": "c6ced5d7",
   "metadata": {},
   "outputs": [
    {
     "data": {
      "text/plain": [
       "0.5033677774303048"
      ]
     },
     "execution_count": 24,
     "metadata": {},
     "output_type": "execute_result"
    }
   ],
   "source": [
    "f1_score(y_test, y_pred, average = 'weighted')"
   ]
  },
  {
   "cell_type": "code",
   "execution_count": 25,
   "id": "ba290439",
   "metadata": {},
   "outputs": [
    {
     "name": "stdout",
     "output_type": "stream",
     "text": [
      "[[  0   1   2   3   4   5   6   7   8   9  10]\n",
      " [136 286 281  78  71 262 500 103 382 531 970]]\n"
     ]
    }
   ],
   "source": [
    "class_weights = np.asarray(np.unique(y_test, return_counts=True))\n",
    "print(class_weights)"
   ]
  },
  {
   "cell_type": "code",
   "execution_count": 27,
   "id": "32ce720b",
   "metadata": {},
   "outputs": [
    {
     "name": "stdout",
     "output_type": "stream",
     "text": [
      "[learning_curve] Training set sizes: [ 1151  2303  3454  4606  5758  6909  8061  9212 10364 11516]\n"
     ]
    },
    {
     "name": "stderr",
     "output_type": "stream",
     "text": [
      "[Parallel(n_jobs=1)]: Using backend SequentialBackend with 1 concurrent workers.\n"
     ]
    },
    {
     "name": "stdout",
     "output_type": "stream",
     "text": [
      "[CV] END ..................., score=(train=0.655, test=0.485) total time=   0.4s\n"
     ]
    },
    {
     "name": "stderr",
     "output_type": "stream",
     "text": [
      "[Parallel(n_jobs=1)]: Done   1 out of   1 | elapsed:    0.5s remaining:    0.0s\n"
     ]
    },
    {
     "name": "stdout",
     "output_type": "stream",
     "text": [
      "[CV] END ..................., score=(train=0.640, test=0.503) total time=   1.0s\n"
     ]
    },
    {
     "name": "stderr",
     "output_type": "stream",
     "text": [
      "[Parallel(n_jobs=1)]: Done   2 out of   2 | elapsed:    2.0s remaining:    0.0s\n"
     ]
    },
    {
     "name": "stdout",
     "output_type": "stream",
     "text": [
      "[CV] END ..................., score=(train=0.610, test=0.512) total time=   1.8s\n",
      "[CV] END ..................., score=(train=0.601, test=0.515) total time=   2.9s\n",
      "[CV] END ..................., score=(train=0.606, test=0.521) total time=   3.7s\n",
      "[CV] END ..................., score=(train=0.598, test=0.528) total time=   4.9s\n",
      "[CV] END ..................., score=(train=0.600, test=0.532) total time=   6.2s\n",
      "[CV] END ..................., score=(train=0.600, test=0.531) total time=   8.1s\n",
      "[CV] END ..................., score=(train=0.597, test=0.528) total time=  10.2s\n",
      "[CV] END ..................., score=(train=0.595, test=0.528) total time=  12.0s\n",
      "[CV] END ..................., score=(train=0.654, test=0.493) total time=   0.4s\n",
      "[CV] END ..................., score=(train=0.629, test=0.506) total time=   1.0s\n",
      "[CV] END ..................., score=(train=0.611, test=0.508) total time=   1.7s\n",
      "[CV] END ..................., score=(train=0.602, test=0.512) total time=   2.6s\n",
      "[CV] END ..................., score=(train=0.603, test=0.513) total time=   3.7s\n",
      "[CV] END ..................., score=(train=0.600, test=0.515) total time=   4.9s\n",
      "[CV] END ..................., score=(train=0.599, test=0.522) total time=   6.6s\n",
      "[CV] END ..................., score=(train=0.600, test=0.526) total time=   9.0s\n",
      "[CV] END ..................., score=(train=0.599, test=0.524) total time=   9.4s\n",
      "[CV] END ..................., score=(train=0.596, test=0.529) total time=  11.9s\n",
      "[CV] END ..................., score=(train=0.654, test=0.491) total time=   0.4s\n",
      "[CV] END ..................., score=(train=0.629, test=0.501) total time=   0.9s\n",
      "[CV] END ..................., score=(train=0.613, test=0.513) total time=   1.6s\n",
      "[CV] END ..................., score=(train=0.600, test=0.515) total time=   2.5s\n",
      "[CV] END ..................., score=(train=0.587, test=0.514) total time=   3.7s\n",
      "[CV] END ..................., score=(train=0.588, test=0.517) total time=   4.8s\n",
      "[CV] END ..................., score=(train=0.592, test=0.520) total time=   6.1s\n",
      "[CV] END ..................., score=(train=0.590, test=0.523) total time=   7.7s\n",
      "[CV] END ..................., score=(train=0.593, test=0.526) total time=   9.5s\n",
      "[CV] END ..................., score=(train=0.590, test=0.525) total time=  12.1s\n",
      "[CV] END ..................., score=(train=0.654, test=0.487) total time=   0.4s\n",
      "[CV] END ..................., score=(train=0.629, test=0.506) total time=   0.9s\n",
      "[CV] END ..................., score=(train=0.613, test=0.519) total time=   1.7s\n",
      "[CV] END ..................., score=(train=0.600, test=0.522) total time=   2.9s\n",
      "[CV] END ..................., score=(train=0.595, test=0.522) total time=   3.7s\n",
      "[CV] END ..................., score=(train=0.592, test=0.522) total time=   4.9s\n",
      "[CV] END ..................., score=(train=0.591, test=0.532) total time=   6.1s\n",
      "[CV] END ..................., score=(train=0.593, test=0.533) total time=   7.3s\n",
      "[CV] END ..................., score=(train=0.592, test=0.538) total time=  10.0s\n",
      "[CV] END ..................., score=(train=0.590, test=0.538) total time=  11.1s\n",
      "[CV] END ..................., score=(train=0.654, test=0.482) total time=   0.4s\n",
      "[CV] END ..................., score=(train=0.629, test=0.502) total time=   1.0s\n",
      "[CV] END ..................., score=(train=0.613, test=0.510) total time=   1.8s\n",
      "[CV] END ..................., score=(train=0.600, test=0.520) total time=   2.7s\n",
      "[CV] END ..................., score=(train=0.595, test=0.517) total time=   3.7s\n",
      "[CV] END ..................., score=(train=0.592, test=0.522) total time=   4.9s\n",
      "[CV] END ..................., score=(train=0.590, test=0.531) total time=   5.9s\n",
      "[CV] END ..................., score=(train=0.590, test=0.529) total time=   7.7s\n",
      "[CV] END ..................., score=(train=0.592, test=0.534) total time=   9.6s\n",
      "[CV] END ..................., score=(train=0.589, test=0.536) total time=  11.1s\n"
     ]
    },
    {
     "name": "stderr",
     "output_type": "stream",
     "text": [
      "[Parallel(n_jobs=1)]: Done  50 out of  50 | elapsed:  7.3min finished\n"
     ]
    }
   ],
   "source": [
    "from sklearn.model_selection import learning_curve\n",
    "train_size_abs, train_scores, test_scores = learning_curve(pipe, X_train, y_train, train_sizes = np.linspace(0.1, 1.0, 10), verbose = 3)"
   ]
  },
  {
   "cell_type": "code",
   "execution_count": 32,
   "id": "f22dd752",
   "metadata": {},
   "outputs": [],
   "source": [
    "train_list = []\n",
    "for x in train_size_abs:\n",
    "    train_list.append(str(x))"
   ]
  },
  {
   "cell_type": "code",
   "execution_count": 31,
   "id": "79effaa9",
   "metadata": {},
   "outputs": [
    {
     "data": {
      "image/png": "[encoded data removed]",
      "text/plain": [
       "<Figure size 432x288 with 1 Axes>"
      ]
     },
     "metadata": {
      "needs_background": "light"
     },
     "output_type": "display_data"
    }
   ],
   "source": [
    "plt.plot(train_size_abs, np.mean(test_scores, axis = 1))\n",
    "plt.xlabel('Train Sizes')\n",
    "plt.ylabel('Mean Test Score')\n",
    "plt.title('SVM Classifier Learning Curve');"
   ]
  },
  {
   "cell_type": "code",
   "execution_count": null,
   "id": "4d77322f",
   "metadata": {},
   "outputs": [],
   "source": []
  },
  {
   "cell_type": "code",
   "execution_count": null,
   "id": "4934b2e5",
   "metadata": {},
   "outputs": [],
   "source": [
    "import sklearn\n",
    "sklearn.__version__"
   ]
  },
  {
   "cell_type": "code",
   "execution_count": null,
   "id": "e6621f99",
   "metadata": {},
   "outputs": [],
   "source": []
  },
  {
   "cell_type": "code",
   "execution_count": null,
   "id": "2855fd77",
   "metadata": {},
   "outputs": [],
   "source": []
  }
 ],
 "metadata": {
  "kernelspec": {
   "display_name": "Python 3 (ipykernel)",
   "language": "python",
   "name": "python3"
  },
  "language_info": {
   "codemirror_mode": {
    "name": "ipython",
    "version": 3
   },
   "file_extension": ".py",
   "mimetype": "text/x-python",
   "name": "python",
   "nbconvert_exporter": "python",
   "pygments_lexer": "ipython3",
   "version": "3.9.5"
  }
 },
 "nbformat": 4,
 "nbformat_minor": 5
}
